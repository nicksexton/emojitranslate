{
 "cells": [
  {
   "cell_type": "markdown",
   "metadata": {
    "ein.tags": "worksheet-0",
    "slideshow": {
     "slide_type": "-"
    }
   },
   "source": [
    "# Inspecting what the LSTM Tweet generator has learned"
   ]
  },
  {
   "cell_type": "markdown",
   "metadata": {
    "ein.tags": "worksheet-0",
    "slideshow": {
     "slide_type": "-"
    }
   },
   "source": [
    "We trained the LSTM model (A 256 unit LSTM straight into a softmax output layer) on $2^{18}$ (262,144) Tweets. That might not seem like many, but remember each tweet needs 32 training examples (with a windowsize of 64 and a max length of 160 characters) so that's about 8.3 million training examples. Running on an AWS p3.2xlarge instance (on a Tesla V100 GPU) it took about 20 minutes per epoch.\n",
    "\n",
    "The training took part in two stages (not planned, this was just how it turned out) - first it was trained only on the first half of that data for about 30 epochs. After it looked like the model was starting to over-fit (but without looking like it had got the hang of generating tweets) so I doubled the size of the training set, and ran it for another 10-12 epochs or so.\n",
    "\n",
    "I say 'looking like' - throughout the training process, I had the model generate a few tweets based on some seed text (randomly pulled in from a tweet) at various settings of the temperature parameter, and eyeballed the resulting gibberish to get a feel for how far through training the model was.\n",
    "\n",
    "I later realised that this wasn't a particularly good check on the model's ability to generate coherent English language tweets - it seems as though the model is particularly sensitive to what is in the seed text and how much of it it gets. So generating based on 10 or 20 seed characters gets very different results to generating based on 64 seed characters. In an ideal world, we do want the model to be able to freely generate coherent tweets based on a minimal seed (ideally, just an emoji). However, in this notebook we'll take a more detailed look at what's going on.\n",
    "\n",
    "Let's start by loading up the Twitter dataset that we trained the model on, and the global variables that we used to set the size of the sets."
   ]
  },
  {
   "cell_type": "code",
   "execution_count": 36,
   "metadata": {
    "autoscroll": false,
    "collapsed": false,
    "ein.hycell": false,
    "ein.tags": "worksheet-0",
    "slideshow": {
     "slide_type": "-"
    }
   },
   "outputs": [],
   "source": [
    "import numpy as np\n",
    "import pandas as pd\n",
    "import data_load_utils as util\n",
    "from math import ceil"
   ]
  },
  {
   "cell_type": "code",
   "execution_count": 37,
   "metadata": {
    "autoscroll": false,
    "collapsed": false,
    "ein.hycell": false,
    "ein.tags": "worksheet-0",
    "slideshow": {
     "slide_type": "-"
    }
   },
   "outputs": [
    {
     "name": "stderr",
     "output_type": "stream",
     "text": [
      "/home/nickdbn/anaconda3/envs/deeplearning/lib/python3.6/site-packages/IPython/core/interactiveshell.py:3185: DtypeWarning: Columns (0) have mixed types. Specify dtype option on import or set low_memory=False.\n",
      "  if (yield from self.run_code(code, result)):\n"
     ]
    }
   ],
   "source": [
    "tweets = util.filter_tweets_min_count(util.read_tweet_data('data/emojis_homemade.csv'), min_count=1000)\n",
    "tweets['text'] = util.filter_text_for_handles(tweets['text'])\n",
    "\n",
    "MAX_TWEET_LENGTH = 160\n",
    "WINDOW_SIZE = 64\n",
    "STEP = 3\n",
    "\n",
    "samples_per_tweet = int(ceil((MAX_TWEET_LENGTH - WINDOW_SIZE) / STEP)) # 32\n",
    "tweets_per_batch = 64\n",
    "samples_per_batch = samples_per_tweet * tweets_per_batch # 2048\n",
    "\n",
    "chars_univ, chars_univ_idx = util.get_universal_chars_list()"
   ]
  },
  {
   "cell_type": "code",
   "execution_count": 38,
   "metadata": {
    "autoscroll": false,
    "collapsed": false,
    "ein.hycell": false,
    "ein.tags": "worksheet-0",
    "slideshow": {
     "slide_type": "-"
    }
   },
   "outputs": [],
   "source": [
    "# Here we're going to look at examples from the Dev set but we might want to run analyses on the Train set \n",
    "\n",
    "TRAIN_SIZE = 2**18 # 262,144 training examples\n",
    "DEV_SIZE = 2**12   # 4096 Dev examples\n",
    "\n",
    "n_train_batches = TRAIN_SIZE / tweets_per_batch\n",
    "n_dev_batches = DEV_SIZE / tweets_per_batch\n",
    "\n",
    "tweets_train = tweets.iloc[0:TRAIN_SIZE] \n",
    "tweets_dev = tweets.iloc[TRAIN_SIZE:TRAIN_SIZE+DEV_SIZE] "
   ]
  },
  {
   "cell_type": "code",
   "execution_count": 39,
   "metadata": {
    "autoscroll": false,
    "collapsed": false,
    "ein.hycell": false,
    "ein.tags": "worksheet-0",
    "slideshow": {
     "slide_type": "-"
    }
   },
   "outputs": [],
   "source": [
    "import keras\n",
    "from keras import layers\n",
    "from keras.models import Sequential\n",
    "from keras import callbacks"
   ]
  },
  {
   "cell_type": "code",
   "execution_count": 40,
   "metadata": {
    "autoscroll": false,
    "collapsed": false,
    "ein.hycell": false,
    "ein.tags": "worksheet-0",
    "slideshow": {
     "slide_type": "-"
    }
   },
   "outputs": [],
   "source": [
    "model = keras.models.load_model(\"models/tweet_gen_model-train250k-0.830.hdf5\") # 256 LSTM units, ~30 epochs training "
   ]
  },
  {
   "cell_type": "markdown",
   "metadata": {
    "ein.tags": "worksheet-0",
    "slideshow": {
     "slide_type": "-"
    }
   },
   "source": [
    "# Examples of generating tweets"
   ]
  },
  {
   "cell_type": "code",
   "execution_count": 41,
   "metadata": {
    "autoscroll": false,
    "collapsed": false,
    "ein.hycell": false,
    "ein.tags": "worksheet-0",
    "slideshow": {
     "slide_type": "-"
    }
   },
   "outputs": [],
   "source": [
    "def sample (preds, temperature = 1.0):\n",
    "    preds = np.asarray(preds).astype('float64')\n",
    "    preds = np.log(preds) / temperature\n",
    "    exp_preds = np.exp(preds)\n",
    "    preds = exp_preds / np.sum(exp_preds)\n",
    "    probas = np.random.multinomial(1, preds, 1)\n",
    "    return np.argmax(probas)"
   ]
  },
  {
   "cell_type": "code",
   "execution_count": 42,
   "metadata": {
    "autoscroll": false,
    "collapsed": false,
    "ein.hycell": false,
    "ein.tags": "worksheet-0",
    "slideshow": {
     "slide_type": "-"
    }
   },
   "outputs": [],
   "source": [
    "import tensorflow as tf\n",
    "import random\n",
    "import sys"
   ]
  },
  {
   "cell_type": "code",
   "execution_count": 47,
   "metadata": {
    "autoscroll": false,
    "collapsed": false,
    "ein.hycell": false,
    "ein.tags": "worksheet-0",
    "slideshow": {
     "slide_type": "-"
    }
   },
   "outputs": [],
   "source": [
    "def generate_tweet(seed_text, window_size=WINDOW_SIZE,\n",
    "\t\t   length=MAX_TWEET_LENGTH, temperatures=[0.3, 0.5, 0.8, 1.0],\n",
    "\t\t   random_seed = None):\n",
    "\n",
    "    if random_seed:\n",
    "        np.random.seed(random_seed) # np.random.seed needed by tf \n",
    "        tf.set_random_seed(random_seed)\n",
    "        \n",
    "    n_seed_chars = window_size\n",
    "    #first, pad out the seed_text with whitespace     \n",
    "    seed_text = util.pad_text(seed_text, window_size)\n",
    "\n",
    "    print ('--- Generating with seed: \"' + seed_text + '\" [' + str(len(seed_text)) + ']')\n",
    "\n",
    "    # try a range of sampling temperatures\n",
    "    for temperature in temperatures:\n",
    "        generated_text = seed_text\n",
    "        print ('--------- temperature:', temperature)\n",
    "        sys.stdout.write(generated_text)\n",
    "\n",
    "        for i in range (length - n_seed_chars):\n",
    "            # one-hot encode the characters generated so far\n",
    "            sampled = np.zeros((1, WINDOW_SIZE, len(chars_univ)))\n",
    "            for t, char in enumerate (generated_text):\n",
    "                sampled[0, t, chars_univ_idx[char]] = 1\n",
    "\n",
    "            # sample the next character\n",
    "            preds = model.predict(sampled, verbose=0)[0]\n",
    "            next_index = sample(preds, temperature)\n",
    "            next_char = chars_univ[next_index]\n",
    "\n",
    "            generated_text += next_char\n",
    "            generated_text = generated_text[1:]\n",
    "\n",
    "            sys.stdout.write(next_char)\n",
    "\n",
    "        print (\"\\n\")    \n"
   ]
  },
  {
   "cell_type": "code",
   "execution_count": 48,
   "metadata": {
    "autoscroll": false,
    "collapsed": false,
    "ein.hycell": false,
    "ein.tags": "worksheet-0",
    "slideshow": {
     "slide_type": "-"
    }
   },
   "outputs": [],
   "source": [
    "def get_seed_text(tweets, seed_length=64, random_seed = None):\n",
    "    if random_seed: np.random.seed(random_seed)\n",
    "        \n",
    "    seed_tweet = tweets.iloc[np.random.randint(0, len(tweets))]\n",
    "    seed_text = seed_tweet['text'][0:seed_length]\n",
    "\n",
    "    print (seed_text + \"\\n\" + seed_tweet['text'])\n",
    "    \n",
    "    return seed_text"
   ]
  },
  {
   "cell_type": "code",
   "execution_count": 59,
   "metadata": {
    "autoscroll": false,
    "collapsed": false,
    "ein.hycell": false,
    "ein.tags": "worksheet-0",
    "slideshow": {
     "slide_type": "-"
    }
   },
   "outputs": [
    {
     "name": "stdout",
     "output_type": "stream",
     "text": [
      "\n",
      "RT my source of happiness  https://t.co/P9EtI05ImR\n"
     ]
    }
   ],
   "source": [
    "seed_text = get_seed_text(tweets, seed_length=0)"
   ]
  },
  {
   "cell_type": "code",
   "execution_count": 64,
   "metadata": {
    "autoscroll": false,
    "collapsed": false,
    "ein.hycell": false,
    "ein.tags": "worksheet-0",
    "slideshow": {
     "slide_type": "-"
    }
   },
   "outputs": [
    {
     "name": "stdout",
     "output_type": "stream",
     "text": [
      "--- Generating with seed: \"                                                                \" [64]\n",
      "--------- temperature: 0.4\n",
      "                                                                        "
     ]
    },
    {
     "name": "stdout",
     "output_type": "stream",
     "text": [
      "         "
     ]
    },
    {
     "name": "stdout",
     "output_type": "stream",
     "text": [
      "     "
     ]
    },
    {
     "name": "stdout",
     "output_type": "stream",
     "text": [
      "         "
     ]
    },
    {
     "name": "stdout",
     "output_type": "stream",
     "text": [
      "          "
     ]
    },
    {
     "name": "stdout",
     "output_type": "stream",
     "text": [
      "          "
     ]
    },
    {
     "name": "stdout",
     "output_type": "stream",
     "text": [
      "           "
     ]
    },
    {
     "name": "stdout",
     "output_type": "stream",
     "text": [
      "           "
     ]
    },
    {
     "name": "stdout",
     "output_type": "stream",
     "text": [
      "          "
     ]
    },
    {
     "name": "stdout",
     "output_type": "stream",
     "text": [
      "          "
     ]
    },
    {
     "name": "stdout",
     "output_type": "stream",
     "text": [
      "   \n",
      "\n",
      "--------- temperature: 0.8\n",
      "                                                                         "
     ]
    },
    {
     "name": "stdout",
     "output_type": "stream",
     "text": [
      "         "
     ]
    },
    {
     "name": "stdout",
     "output_type": "stream",
     "text": [
      "       "
     ]
    },
    {
     "name": "stdout",
     "output_type": "stream",
     "text": [
      "          "
     ]
    },
    {
     "name": "stdout",
     "output_type": "stream",
     "text": [
      "         "
     ]
    },
    {
     "name": "stdout",
     "output_type": "stream",
     "text": [
      "          "
     ]
    },
    {
     "name": "stdout",
     "output_type": "stream",
     "text": [
      "           "
     ]
    },
    {
     "name": "stdout",
     "output_type": "stream",
     "text": [
      "          "
     ]
    },
    {
     "name": "stdout",
     "output_type": "stream",
     "text": [
      "             "
     ]
    },
    {
     "name": "stdout",
     "output_type": "stream",
     "text": [
      "        \n",
      "\n",
      "--------- temperature: 1.0\n",
      "                                                                   "
     ]
    },
    {
     "name": "stdout",
     "output_type": "stream",
     "text": [
      "           "
     ]
    },
    {
     "name": "stdout",
     "output_type": "stream",
     "text": [
      "           "
     ]
    },
    {
     "name": "stdout",
     "output_type": "stream",
     "text": [
      "       "
     ]
    },
    {
     "name": "stdout",
     "output_type": "stream",
     "text": [
      "           "
     ]
    },
    {
     "name": "stdout",
     "output_type": "stream",
     "text": [
      "              "
     ]
    },
    {
     "name": "stdout",
     "output_type": "stream",
     "text": [
      "           "
     ]
    },
    {
     "name": "stdout",
     "output_type": "stream",
     "text": [
      "           "
     ]
    },
    {
     "name": "stdout",
     "output_type": "stream",
     "text": [
      "           "
     ]
    },
    {
     "name": "stdout",
     "output_type": "stream",
     "text": [
      "      \n",
      "\n",
      "--------- temperature: 1.2\n",
      "                                                                     "
     ]
    },
    {
     "name": "stdout",
     "output_type": "stream",
     "text": [
      "         RT "
     ]
    },
    {
     "name": "stdout",
     "output_type": "stream",
     "text": [
      "Class Dought"
     ]
    },
    {
     "name": "stdout",
     "output_type": "stream",
     "text": [
      "s artist!!W"
     ]
    },
    {
     "name": "stdout",
     "output_type": "stream",
     "text": [
      "hy contral"
     ]
    },
    {
     "name": "stdout",
     "output_type": "stream",
     "text": [
      "lu keep them"
     ]
    },
    {
     "name": "stdout",
     "output_type": "stream",
     "text": [
      "mard!  ther"
     ]
    },
    {
     "name": "stdout",
     "output_type": "stream",
     "text": [
      "es ur icbum"
     ]
    },
    {
     "name": "stdout",
     "output_type": "stream",
     "text": [
      "bers\" LIVEE"
     ]
    },
    {
     "name": "stdout",
     "output_type": "stream",
     "text": [
      "!\n",
      "\n",
      "--------- temperature: 1.4\n",
      "                                                                 HaVE w/IE"
     ]
    },
    {
     "name": "stdout",
     "output_type": "stream",
     "text": [
      " voting(ye"
     ]
    },
    {
     "name": "stdout",
     "output_type": "stream",
     "text": [
      "su:: # #wTS"
     ]
    },
    {
     "name": "stdout",
     "output_type": "stream",
     "text": [
      "C8 antaligin"
     ]
    },
    {
     "name": "stdout",
     "output_type": "stream",
     "text": [
      "#ystran"
     ]
    },
    {
     "name": "stdout",
     "output_type": "stream",
     "text": [
      " edit tQ b"
     ]
    },
    {
     "name": "stdout",
     "output_type": "stream",
     "text": [
      "e scuse and "
     ]
    },
    {
     "name": "stdout",
     "output_type": "stream",
     "text": [
      "at the ea"
     ]
    },
    {
     "name": "stdout",
     "output_type": "stream",
     "text": [
      "ch baby, doing"
     ]
    },
    {
     "name": "stdout",
     "output_type": "stream",
     "text": [
      " \n",
      "\n"
     ]
    }
   ],
   "source": [
    "generate_tweet(\"\", temperatures=[0.4, 0.8, 1.0, 1.2, 1.4])"
   ]
  },
  {
   "cell_type": "markdown",
   "metadata": {
    "ein.tags": "worksheet-0",
    "slideshow": {
     "slide_type": "-"
    }
   },
   "source": [
    "edit: gibberish when seed_text < 64 chars now fixed. It's still a bit stream-of-consciousness but genuinely I think it's because the model doesn't have much to work from here."
   ]
  },
  {
   "cell_type": "code",
   "execution_count": 25,
   "metadata": {
    "autoscroll": false,
    "collapsed": false,
    "ein.hycell": false,
    "ein.tags": "worksheet-0",
    "slideshow": {
     "slide_type": "-"
    }
   },
   "outputs": [
    {
     "name": "stdout",
     "output_type": "stream",
     "text": [
      "RT It doesnt matter how many times Ive watched a vine. Theyre al\n",
      "RT It doesnt matter how many times Ive watched a vine. Theyre always funny https://t.co/DrWwqvkITn\n",
      "--- Generating with seed: \"RT It doesnt matter how many times Ive watched a vine. Theyre al\" [64]\n",
      "--------- temperature: 0.4\n",
      "RT It doesnt matter how many times Ive watched a vine. Theyre all and pre"
     ]
    },
    {
     "name": "stdout",
     "output_type": "stream",
     "text": [
      "gand      "
     ]
    },
    {
     "name": "stdout",
     "output_type": "stream",
     "text": [
      "           "
     ]
    },
    {
     "name": "stdout",
     "output_type": "stream",
     "text": [
      "           "
     ]
    },
    {
     "name": "stdout",
     "output_type": "stream",
     "text": [
      "           "
     ]
    },
    {
     "name": "stdout",
     "output_type": "stream",
     "text": [
      "      "
     ]
    },
    {
     "name": "stdout",
     "output_type": "stream",
     "text": [
      "          "
     ]
    },
    {
     "name": "stdout",
     "output_type": "stream",
     "text": [
      "           "
     ]
    },
    {
     "name": "stdout",
     "output_type": "stream",
     "text": [
      "           "
     ]
    },
    {
     "name": "stdout",
     "output_type": "stream",
     "text": [
      "      \n",
      "\n",
      "--------- temperature: 0.6\n",
      "RT It doesnt matter how many times Ive watched a vine. Theyre all of "
     ]
    },
    {
     "name": "stdout",
     "output_type": "stream",
     "text": [
      "you  # #Un"
     ]
    },
    {
     "name": "stdout",
     "output_type": "stream",
     "text": [
      "ited #Puss"
     ]
    },
    {
     "name": "stdout",
     "output_type": "stream",
     "text": [
      "y #LakeYou "
     ]
    },
    {
     "name": "stdout",
     "output_type": "stream",
     "text": [
      "#Sarkar #EXO"
     ]
    },
    {
     "name": "stdout",
     "output_type": "stream",
     "text": [
      " #EXO_TEMP"
     ]
    },
    {
     "name": "stdout",
     "output_type": "stream",
     "text": [
      "O_D"
     ]
    },
    {
     "name": "stdout",
     "output_type": "stream",
     "text": [
      "ENNO ##KONNE"
     ]
    },
    {
     "name": "stdout",
     "output_type": "stream",
     "text": [
      "WE_YUE_____"
     ]
    },
    {
     "name": "stdout",
     "output_type": "stream",
     "text": [
      "__EEONTE #BO\n",
      "\n",
      "--------- temperature: 0.8\n",
      "RT It doesnt matter how many times Ive watched a vine. Theyre al"
     ]
    },
    {
     "name": "stdout",
     "output_type": "stream",
     "text": [
      "l of the be"
     ]
    },
    {
     "name": "stdout",
     "output_type": "stream",
     "text": [
      "stmar inspire"
     ]
    },
    {
     "name": "stdout",
     "output_type": "stream",
     "text": [
      ", sa congratio"
     ]
    },
    {
     "name": "stdout",
     "output_type": "stream",
     "text": [
      "n on from"
     ]
    },
    {
     "name": "stdout",
     "output_type": "stream",
     "text": [
      " #OberSar"
     ]
    },
    {
     "name": "stdout",
     "output_type": "stream",
     "text": [
      "tion! P"
     ]
    },
    {
     "name": "stdout",
     "output_type": "stream",
     "text": [
      "eace "
     ]
    },
    {
     "name": "stdout",
     "output_type": "stream",
     "text": [
      "to open ou"
     ]
    },
    {
     "name": "stdout",
     "output_type": "stream",
     "text": [
      "t the real"
     ]
    },
    {
     "name": "stdout",
     "output_type": "stream",
     "text": [
      " team th\n",
      "\n",
      "--------- temperature: 1.0\n",
      "RT It doesnt matter how many times Ive watched a vine. Theyre all"
     ]
    },
    {
     "name": "stdout",
     "output_type": "stream",
     "text": [
      " of my   Tho"
     ]
    },
    {
     "name": "stdout",
     "output_type": "stream",
     "text": [
      "usive Game"
     ]
    },
    {
     "name": "stdout",
     "output_type": "stream",
     "text": [
      " Of curry t"
     ]
    },
    {
     "name": "stdout",
     "output_type": "stream",
     "text": [
      "his and sh"
     ]
    },
    {
     "name": "stdout",
     "output_type": "stream",
     "text": [
      "at all t"
     ]
    },
    {
     "name": "stdout",
     "output_type": "stream",
     "text": [
      "ralliang v"
     ]
    },
    {
     "name": "stdout",
     "output_type": "stream",
     "text": [
      "ideo "
     ]
    },
    {
     "name": "stdout",
     "output_type": "stream",
     "text": [
      "heartan f"
     ]
    },
    {
     "name": "stdout",
     "output_type": "stream",
     "text": [
      "riends to ge"
     ]
    },
    {
     "name": "stdout",
     "output_type": "stream",
     "text": [
      "t it to \n",
      "\n",
      "--------- temperature: 1.2\n",
      "RT It doesnt matter how many times Ive watched a vine. Theyre all s"
     ]
    },
    {
     "name": "stdout",
     "output_type": "stream",
     "text": [
      "holo my I m"
     ]
    },
    {
     "name": "stdout",
     "output_type": "stream",
     "text": [
      "other guich-"
     ]
    },
    {
     "name": "stdout",
     "output_type": "stream",
     "text": [
      ", Andrew!!"
     ]
    },
    {
     "name": "stdout",
     "output_type": "stream",
     "text": [
      "!!! sidi  "
     ]
    },
    {
     "name": "stdout",
     "output_type": "stream",
     "text": [
      "Ana-Pe pa"
     ]
    },
    {
     "name": "stdout",
     "output_type": "stream",
     "text": [
      "rer for wha"
     ]
    },
    {
     "name": "stdout",
     "output_type": "stream",
     "text": [
      "t husi"
     ]
    },
    {
     "name": "stdout",
     "output_type": "stream",
     "text": [
      "n belog ev"
     ]
    },
    {
     "name": "stdout",
     "output_type": "stream",
     "text": [
      "ery yeards,"
     ]
    },
    {
     "name": "stdout",
     "output_type": "stream",
     "text": [
      " Ji\n",
      "\n",
      "--------- temperature: 1.5\n",
      "RT It doesnt matter how many times Ive watched a vine. Theyre always figh"
     ]
    },
    {
     "name": "stdout",
     "output_type": "stream",
     "text": [
      "t! )#.A) w"
     ]
    },
    {
     "name": "stdout",
     "output_type": "stream",
     "text": [
      "ild! 2019 "
     ]
    },
    {
     "name": "stdout",
     "output_type": "stream",
     "text": [
      "truk.com1,2"
     ]
    },
    {
     "name": "stdout",
     "output_type": "stream",
     "text": [
      "05K UCCA pH"
     ]
    },
    {
     "name": "stdout",
     "output_type": "stream",
     "text": [
      "E?HL'.Kewup"
     ]
    },
    {
     "name": "stdout",
     "output_type": "stream",
     "text": [
      "lop-work."
     ]
    },
    {
     "name": "stdout",
     "output_type": "stream",
     "text": [
      " Or g"
     ]
    },
    {
     "name": "stdout",
     "output_type": "stream",
     "text": [
      "eting m"
     ]
    },
    {
     "name": "stdout",
     "output_type": "stream",
     "text": [
      "odele,,Vale"
     ]
    },
    {
     "name": "stdout",
     "output_type": "stream",
     "text": [
      "a'\n",
      "\n"
     ]
    }
   ],
   "source": [
    "seed_text = get_seed_text(tweets, random_seed=2)\n",
    "generate_tweet(seed_text, temperatures=[0.4, 0.6, 0.8, 1.0, 1.2, 1.5], random_seed = 2)"
   ]
  },
  {
   "cell_type": "code",
   "execution_count": 26,
   "metadata": {
    "autoscroll": false,
    "collapsed": false,
    "ein.hycell": false,
    "ein.tags": "worksheet-0",
    "slideshow": {
     "slide_type": "-"
    }
   },
   "outputs": [
    {
     "name": "stdout",
     "output_type": "stream",
     "text": [
      "Will stick them on the shopping cart and figure out how to use t\n",
      "Will stick them on the shopping cart and figure out how to use them when I need to \n",
      "--- Generating with seed: \"Will stick them on the shopping cart and figure out how to use t\" [64]\n",
      "--------- temperature: 0.4\n",
      "Will stick them on the shopping cart and figure out how to use the same pe"
     ]
    },
    {
     "name": "stdout",
     "output_type": "stream",
     "text": [
      "rson     "
     ]
    },
    {
     "name": "stdout",
     "output_type": "stream",
     "text": [
      "          "
     ]
    },
    {
     "name": "stdout",
     "output_type": "stream",
     "text": [
      "           "
     ]
    },
    {
     "name": "stdout",
     "output_type": "stream",
     "text": [
      "          "
     ]
    },
    {
     "name": "stdout",
     "output_type": "stream",
     "text": [
      "              "
     ]
    },
    {
     "name": "stdout",
     "output_type": "stream",
     "text": [
      "      "
     ]
    },
    {
     "name": "stdout",
     "output_type": "stream",
     "text": [
      "        "
     ]
    },
    {
     "name": "stdout",
     "output_type": "stream",
     "text": [
      "            "
     ]
    },
    {
     "name": "stdout",
     "output_type": "stream",
     "text": [
      "      \n",
      "\n",
      "--------- temperature: 0.6\n",
      "Will stick them on the shopping cart and figure out how to use the bes"
     ]
    },
    {
     "name": "stdout",
     "output_type": "stream",
     "text": [
      "t selfies  #W"
     ]
    },
    {
     "name": "stdout",
     "output_type": "stream",
     "text": [
      "orldSeriss   "
     ]
    },
    {
     "name": "stdout",
     "output_type": "stream",
     "text": [
      "         "
     ]
    },
    {
     "name": "stdout",
     "output_type": "stream",
     "text": [
      "             "
     ]
    },
    {
     "name": "stdout",
     "output_type": "stream",
     "text": [
      "         "
     ]
    },
    {
     "name": "stdout",
     "output_type": "stream",
     "text": [
      "          "
     ]
    },
    {
     "name": "stdout",
     "output_type": "stream",
     "text": [
      "       "
     ]
    },
    {
     "name": "stdout",
     "output_type": "stream",
     "text": [
      "        "
     ]
    },
    {
     "name": "stdout",
     "output_type": "stream",
     "text": [
      "        \n",
      "\n",
      "--------- temperature: 0.8\n",
      "Will stick them on the shopping cart and figure out how to use t"
     ]
    },
    {
     "name": "stdout",
     "output_type": "stream",
     "text": [
      "he pike b"
     ]
    },
    {
     "name": "stdout",
     "output_type": "stream",
     "text": [
      "eing like "
     ]
    },
    {
     "name": "stdout",
     "output_type": "stream",
     "text": [
      "a band kin"
     ]
    },
    {
     "name": "stdout",
     "output_type": "stream",
     "text": [
      "d just rea"
     ]
    },
    {
     "name": "stdout",
     "output_type": "stream",
     "text": [
      "lly work"
     ]
    },
    {
     "name": "stdout",
     "output_type": "stream",
     "text": [
      "ing out th"
     ]
    },
    {
     "name": "stdout",
     "output_type": "stream",
     "text": [
      "e world "
     ]
    },
    {
     "name": "stdout",
     "output_type": "stream",
     "text": [
      "to the "
     ]
    },
    {
     "name": "stdout",
     "output_type": "stream",
     "text": [
      "Ath Texas f"
     ]
    },
    {
     "name": "stdout",
     "output_type": "stream",
     "text": [
      "irst #Sath"
     ]
    },
    {
     "name": "stdout",
     "output_type": "stream",
     "text": [
      "wye\n",
      "\n",
      "--------- temperature: 1.0\n",
      "Will stick them on the shopping cart and figure out how to use the post"
     ]
    },
    {
     "name": "stdout",
     "output_type": "stream",
     "text": [
      "er for you"
     ]
    },
    {
     "name": "stdout",
     "output_type": "stream",
     "text": [
      " so let's "
     ]
    },
    {
     "name": "stdout",
     "output_type": "stream",
     "text": [
      "know, it's"
     ]
    },
    {
     "name": "stdout",
     "output_type": "stream",
     "text": [
      " fucking dancio"
     ]
    },
    {
     "name": "stdout",
     "output_type": "stream",
     "text": [
      "ns!  I lov"
     ]
    },
    {
     "name": "stdout",
     "output_type": "stream",
     "text": [
      "e this  b"
     ]
    },
    {
     "name": "stdout",
     "output_type": "stream",
     "text": [
      "ut alents"
     ]
    },
    {
     "name": "stdout",
     "output_type": "stream",
     "text": [
      "' reason  I w"
     ]
    },
    {
     "name": "stdout",
     "output_type": "stream",
     "text": [
      "ish\n",
      "\n",
      "--------- temperature: 1.2\n",
      "Will stick them on the shopping cart and figure out how to use to RCsE20"
     ]
    },
    {
     "name": "stdout",
     "output_type": "stream",
     "text": [
      "18 is go"
     ]
    },
    {
     "name": "stdout",
     "output_type": "stream",
     "text": [
      "ing. #Ji"
     ]
    },
    {
     "name": "stdout",
     "output_type": "stream",
     "text": [
      "fksyjK0#"
     ]
    },
    {
     "name": "stdout",
     "output_type": "stream",
     "text": [
      "AmitaDoeM"
     ]
    },
    {
     "name": "stdout",
     "output_type": "stream",
     "text": [
      "usic#TDJ "
     ]
    },
    {
     "name": "stdout",
     "output_type": "stream",
     "text": [
      "OFFE5SASS"
     ]
    },
    {
     "name": "stdout",
     "output_type": "stream",
     "text": [
      " NY CATT"
     ]
    },
    {
     "name": "stdout",
     "output_type": "stream",
     "text": [
      "BELL ALL "
     ]
    },
    {
     "name": "stdout",
     "output_type": "stream",
     "text": [
      "THANKSKI"
     ]
    },
    {
     "name": "stdout",
     "output_type": "stream",
     "text": [
      "NG  https"
     ]
    },
    {
     "name": "stdout",
     "output_type": "stream",
     "text": [
      "://\n",
      "\n",
      "--------- temperature: 1.5\n",
      "Will stick them on the shopping cart and figure out how to use those #Shiv"
     ]
    },
    {
     "name": "stdout",
     "output_type": "stream",
     "text": [
      "agsuntarAY"
     ]
    },
    {
     "name": "stdout",
     "output_type": "stream",
     "text": [
      "stadeREJSth"
     ]
    },
    {
     "name": "stdout",
     "output_type": "stream",
     "text": [
      "MCK!! LOVE"
     ]
    },
    {
     "name": "stdout",
     "output_type": "stream",
     "text": [
      " YOUR NIC"
     ]
    },
    {
     "name": "stdout",
     "output_type": "stream",
     "text": [
      "-A72EB/S"
     ]
    },
    {
     "name": "stdout",
     "output_type": "stream",
     "text": [
      ") #SCGx O"
     ]
    },
    {
     "name": "stdout",
     "output_type": "stream",
     "text": [
      "AY5 Fully"
     ]
    },
    {
     "name": "stdout",
     "output_type": "stream",
     "text": [
      " frC 'i "
     ]
    },
    {
     "name": "stdout",
     "output_type": "stream",
     "text": [
      "dehindicap "
     ]
    },
    {
     "name": "stdout",
     "output_type": "stream",
     "text": [
      "b\n",
      "\n"
     ]
    }
   ],
   "source": [
    "seed_text = get_seed_text(tweets, random_seed=3)\n",
    "generate_tweet(seed_text, temperatures=[0.4, 0.6, 0.8, 1.0, 1.2, 1.5], random_seed = 3)"
   ]
  },
  {
   "cell_type": "markdown",
   "metadata": {
    "ein.tags": "worksheet-0",
    "slideshow": {
     "slide_type": "-"
    }
   },
   "source": [
    "It's interesting that the model's figured out how to use hashtags - the format ('#' character followed by CamelNotationCaps). Firstly, how they syntactically fit into a tweet, either closing it out a tweet or following a sentence, as punctuation (e.g., #Sathwye #JifksyjK0 etc) or as a #WordReplacement (e.g., #Shivagsuntar etc). It's also figured out how URLs work in tweets.\n",
    "\n",
    "It's perhaps unsurprising that hashtags were one of the first things the model got the hang of during training (note to self - flesh this point out with an example of the model earlier during training). They're used consistently across multiple different tweets, often more regularly than meaningful english language words, and given how the data was collected (basically, whenever I remembered to leave the tweet harvesting script running) there's likely to be bands of uniformity across the data. (note to self - could plot a graphic of hashtag use over time throughout the dataset)"
   ]
  },
  {
   "cell_type": "code",
   "execution_count": 27,
   "metadata": {
    "autoscroll": false,
    "collapsed": false,
    "ein.hycell": false,
    "ein.tags": "worksheet-0",
    "slideshow": {
     "slide_type": "-"
    }
   },
   "outputs": [
    {
     "name": "stdout",
     "output_type": "stream",
     "text": [
      "RT Notch necessities  https://t.co/hQooQ5l7pE\n",
      "RT Notch necessities  https://t.co/hQooQ5l7pE\n",
      "--- Generating with seed: \"                   RT Notch necessities  https://t.co/hQooQ5l7pE\" [64]\n",
      "--------- temperature: 0.4\n",
      "                   RT Notch necessities  https://t.co/hQooQ5l7pE      # #"
     ]
    },
    {
     "name": "stdout",
     "output_type": "stream",
     "text": [
      " #   "
     ]
    },
    {
     "name": "stdout",
     "output_type": "stream",
     "text": [
      "          "
     ]
    },
    {
     "name": "stdout",
     "output_type": "stream",
     "text": [
      "         "
     ]
    },
    {
     "name": "stdout",
     "output_type": "stream",
     "text": [
      "            "
     ]
    },
    {
     "name": "stdout",
     "output_type": "stream",
     "text": [
      "        "
     ]
    },
    {
     "name": "stdout",
     "output_type": "stream",
     "text": [
      "           "
     ]
    },
    {
     "name": "stdout",
     "output_type": "stream",
     "text": [
      "            "
     ]
    },
    {
     "name": "stdout",
     "output_type": "stream",
     "text": [
      "             "
     ]
    },
    {
     "name": "stdout",
     "output_type": "stream",
     "text": [
      "       \n",
      "\n",
      "--------- temperature: 0.6\n",
      "                   RT Notch necessities  https://t.co/hQooQ5l7pE  Love"
     ]
    },
    {
     "name": "stdout",
     "output_type": "stream",
     "text": [
      " you#ki"
     ]
    },
    {
     "name": "stdout",
     "output_type": "stream",
     "text": [
      "mpa #ha"
     ]
    },
    {
     "name": "stdout",
     "output_type": "stream",
     "text": [
      "nk #sweat"
     ]
    },
    {
     "name": "stdout",
     "output_type": "stream",
     "text": [
      "er #Khowea"
     ]
    },
    {
     "name": "stdout",
     "output_type": "stream",
     "text": [
      "ch # #ALDU"
     ]
    },
    {
     "name": "stdout",
     "output_type": "stream",
     "text": [
      "BStppeNe"
     ]
    },
    {
     "name": "stdout",
     "output_type": "stream",
     "text": [
      "aMeNTame "
     ]
    },
    {
     "name": "stdout",
     "output_type": "stream",
     "text": [
      "# #Simone"
     ]
    },
    {
     "name": "stdout",
     "output_type": "stream",
     "text": [
      "You #Sarkar "
     ]
    },
    {
     "name": "stdout",
     "output_type": "stream",
     "text": [
      "#Shoothea\n",
      "\n",
      "--------- temperature: 0.8\n",
      "                   RT Notch necessities  https://t.co/hQooQ5l7pE"
     ]
    },
    {
     "name": "stdout",
     "output_type": "stream",
     "text": [
      " https:"
     ]
    },
    {
     "name": "stdout",
     "output_type": "stream",
     "text": [
      "//t.co/"
     ]
    },
    {
     "name": "stdout",
     "output_type": "stream",
     "text": [
      "YPpSiRemj"
     ]
    },
    {
     "name": "stdout",
     "output_type": "stream",
     "text": [
      "M #AfterNow "
     ]
    },
    {
     "name": "stdout",
     "output_type": "stream",
     "text": [
      "#NewAflaePou"
     ]
    },
    {
     "name": "stdout",
     "output_type": "stream",
     "text": [
      "ngyou #E"
     ]
    },
    {
     "name": "stdout",
     "output_type": "stream",
     "text": [
      "XO #EXO #wear"
     ]
    },
    {
     "name": "stdout",
     "output_type": "stream",
     "text": [
      "eoneEXO "
     ]
    },
    {
     "name": "stdout",
     "output_type": "stream",
     "text": [
      "#EXO_TEMPO #E"
     ]
    },
    {
     "name": "stdout",
     "output_type": "stream",
     "text": [
      "XO_Dont\n",
      "\n",
      "--------- temperature: 1.0\n",
      "                   RT Notch necessities  https://t.co/hQooQ5l7pE w "
     ]
    },
    {
     "name": "stdout",
     "output_type": "stream",
     "text": [
      "htt/stpo:"
     ]
    },
    {
     "name": "stdout",
     "output_type": "stream",
     "text": [
      "ma. linded"
     ]
    },
    {
     "name": "stdout",
     "output_type": "stream",
     "text": [
      " precious a"
     ]
    },
    {
     "name": "stdout",
     "output_type": "stream",
     "text": [
      "nd only EXO"
     ]
    },
    {
     "name": "stdout",
     "output_type": "stream",
     "text": [
      "-Ls 3 5. "
     ]
    },
    {
     "name": "stdout",
     "output_type": "stream",
     "text": [
      "#VoteGorni"
     ]
    },
    {
     "name": "stdout",
     "output_type": "stream",
     "text": [
      "me_Young #"
     ]
    },
    {
     "name": "stdout",
     "output_type": "stream",
     "text": [
      "findomGoi"
     ]
    },
    {
     "name": "stdout",
     "output_type": "stream",
     "text": [
      "ntende #Maine"
     ]
    },
    {
     "name": "stdout",
     "output_type": "stream",
     "text": [
      "S\n",
      "\n",
      "--------- temperature: 1.2\n",
      "                   RT Notch necessities  https://t.co/hQooQ5l7pE glaciss@s"
     ]
    },
    {
     "name": "stdout",
     "output_type": "stream",
     "text": [
      "ukmaX fr"
     ]
    },
    {
     "name": "stdout",
     "output_type": "stream",
     "text": [
      "om Nuzaji"
     ]
    },
    {
     "name": "stdout",
     "output_type": "stream",
     "text": [
      " has no."
     ]
    },
    {
     "name": "stdout",
     "output_type": "stream",
     "text": [
      "ised test."
     ]
    },
    {
     "name": "stdout",
     "output_type": "stream",
     "text": [
      ".  run??"
     ]
    },
    {
     "name": "stdout",
     "output_type": "stream",
     "text": [
      " SOLHAYC"
     ]
    },
    {
     "name": "stdout",
     "output_type": "stream",
     "text": [
      "ET YVIRICH"
     ]
    },
    {
     "name": "stdout",
     "output_type": "stream",
     "text": [
      "A  Workdicks"
     ]
    },
    {
     "name": "stdout",
     "output_type": "stream",
     "text": [
      " on the cal"
     ]
    },
    {
     "name": "stdout",
     "output_type": "stream",
     "text": [
      "ou\n",
      "\n",
      "--------- temperature: 1.5\n",
      "                   RT Notch necessities  https://t.co/hQooQ5l7pE 4-logoge1+"
     ]
    },
    {
     "name": "stdout",
     "output_type": "stream",
     "text": [
      "Cywa"
     ]
    },
    {
     "name": "stdout",
     "output_type": "stream",
     "text": [
      "3 #Zeagon"
     ]
    },
    {
     "name": "stdout",
     "output_type": "stream",
     "text": [
      "OSlub Memor "
     ]
    },
    {
     "name": "stdout",
     "output_type": "stream",
     "text": [
      "Courdas Vot"
     ]
    },
    {
     "name": "stdout",
     "output_type": "stream",
     "text": [
      "a Pong. "
     ]
    },
    {
     "name": "stdout",
     "output_type": "stream",
     "text": [
      "Grv for "
     ]
    },
    {
     "name": "stdout",
     "output_type": "stream",
     "text": [
      "MPP\"1ECT(G"
     ]
    },
    {
     "name": "stdout",
     "output_type": "stream",
     "text": [
      "#PLJSUMGA A"
     ]
    },
    {
     "name": "stdout",
     "output_type": "stream",
     "text": [
      "rg  vlugues"
     ]
    },
    {
     "name": "stdout",
     "output_type": "stream",
     "text": [
      " \n",
      "\n"
     ]
    }
   ],
   "source": [
    "seed_text = get_seed_text(tweets, random_seed=4)\n",
    "generate_tweet(seed_text, temperatures=[0.4, 0.6, 0.8, 1.0, 1.2, 1.5], random_seed = 4)"
   ]
  },
  {
   "cell_type": "code",
   "execution_count": 28,
   "metadata": {
    "autoscroll": false,
    "collapsed": false,
    "ein.hycell": false,
    "ein.tags": "worksheet-0",
    "slideshow": {
     "slide_type": "-"
    }
   },
   "outputs": [
    {
     "name": "stdout",
     "output_type": "stream",
     "text": [
      "I don't like nobody that likes me \n",
      "I don't like nobody that likes me \n",
      "--- Generating with seed: \"                              I don't like nobody that likes me \" [64]\n",
      "--------- temperature: 0.4\n",
      "                              I don't like nobody that likes me a start"
     ]
    },
    {
     "name": "stdout",
     "output_type": "stream",
     "text": [
      " shit stre"
     ]
    },
    {
     "name": "stdout",
     "output_type": "stream",
     "text": [
      "ams to start"
     ]
    },
    {
     "name": "stdout",
     "output_type": "stream",
     "text": [
      "  the seas"
     ]
    },
    {
     "name": "stdout",
     "output_type": "stream",
     "text": [
      "on    #GOT"
     ]
    },
    {
     "name": "stdout",
     "output_type": "stream",
     "text": [
      "7 # # # #"
     ]
    },
    {
     "name": "stdout",
     "output_type": "stream",
     "text": [
      " # # # #"
     ]
    },
    {
     "name": "stdout",
     "output_type": "stream",
     "text": [
      " # # # # #"
     ]
    },
    {
     "name": "stdout",
     "output_type": "stream",
     "text": [
      " # # #  "
     ]
    },
    {
     "name": "stdout",
     "output_type": "stream",
     "text": [
      "         "
     ]
    },
    {
     "name": "stdout",
     "output_type": "stream",
     "text": [
      "   \n",
      "\n",
      "--------- temperature: 0.6\n",
      "                              I don't like nobody that likes me happy th"
     ]
    },
    {
     "name": "stdout",
     "output_type": "stream",
     "text": [
      "is she loo"
     ]
    },
    {
     "name": "stdout",
     "output_type": "stream",
     "text": [
      "ks like"
     ]
    },
    {
     "name": "stdout",
     "output_type": "stream",
     "text": [
      " they ar"
     ]
    },
    {
     "name": "stdout",
     "output_type": "stream",
     "text": [
      "e so proud"
     ]
    },
    {
     "name": "stdout",
     "output_type": "stream",
     "text": [
      " of you"
     ]
    },
    {
     "name": "stdout",
     "output_type": "stream",
     "text": [
      " to the mem"
     ]
    },
    {
     "name": "stdout",
     "output_type": "stream",
     "text": [
      "orian n"
     ]
    },
    {
     "name": "stdout",
     "output_type": "stream",
     "text": [
      "o hair  #"
     ]
    },
    {
     "name": "stdout",
     "output_type": "stream",
     "text": [
      "IZONE # # "
     ]
    },
    {
     "name": "stdout",
     "output_type": "stream",
     "text": [
      " #       \n",
      "\n",
      "--------- temperature: 0.8\n",
      "                              I don't like nobody that likes me "
     ]
    },
    {
     "name": "stdout",
     "output_type": "stream",
     "text": [
      "and watch"
     ]
    },
    {
     "name": "stdout",
     "output_type": "stream",
     "text": [
      "ing me t"
     ]
    },
    {
     "name": "stdout",
     "output_type": "stream",
     "text": [
      "o rubing"
     ]
    },
    {
     "name": "stdout",
     "output_type": "stream",
     "text": [
      " the fi"
     ]
    },
    {
     "name": "stdout",
     "output_type": "stream",
     "text": [
      "rst song"
     ]
    },
    {
     "name": "stdout",
     "output_type": "stream",
     "text": [
      " is a scri"
     ]
    },
    {
     "name": "stdout",
     "output_type": "stream",
     "text": [
      "pt cus a"
     ]
    },
    {
     "name": "stdout",
     "output_type": "stream",
     "text": [
      " girls m"
     ]
    },
    {
     "name": "stdout",
     "output_type": "stream",
     "text": [
      "ake your s"
     ]
    },
    {
     "name": "stdout",
     "output_type": "stream",
     "text": [
      "pecial "
     ]
    },
    {
     "name": "stdout",
     "output_type": "stream",
     "text": [
      "shirt  Ge"
     ]
    },
    {
     "name": "stdout",
     "output_type": "stream",
     "text": [
      "t my\n",
      "\n",
      "--------- temperature: 1.0\n",
      "                              I don't like nobody that likes me    Jus"
     ]
    },
    {
     "name": "stdout",
     "output_type": "stream",
     "text": [
      "t Debrica "
     ]
    },
    {
     "name": "stdout",
     "output_type": "stream",
     "text": [
      "menos wi"
     ]
    },
    {
     "name": "stdout",
     "output_type": "stream",
     "text": [
      "th on a "
     ]
    },
    {
     "name": "stdout",
     "output_type": "stream",
     "text": [
      "bOULING "
     ]
    },
    {
     "name": "stdout",
     "output_type": "stream",
     "text": [
      "CROINTDRC"
     ]
    },
    {
     "name": "stdout",
     "output_type": "stream",
     "text": [
      " Arlance "
     ]
    },
    {
     "name": "stdout",
     "output_type": "stream",
     "text": [
      "(hmo aint k"
     ]
    },
    {
     "name": "stdout",
     "output_type": "stream",
     "text": [
      "nofrie P"
     ]
    },
    {
     "name": "stdout",
     "output_type": "stream",
     "text": [
      "hankeequi"
     ]
    },
    {
     "name": "stdout",
     "output_type": "stream",
     "text": [
      "ch  i fun"
     ]
    },
    {
     "name": "stdout",
     "output_type": "stream",
     "text": [
      "d\n",
      "\n",
      "--------- temperature: 1.2\n",
      "                              I don't like nobody that likes me br"
     ]
    },
    {
     "name": "stdout",
     "output_type": "stream",
     "text": [
      "o like en&"
     ]
    },
    {
     "name": "stdout",
     "output_type": "stream",
     "text": [
      "amp;i) | "
     ]
    },
    {
     "name": "stdout",
     "output_type": "stream",
     "text": [
      "1 @reahhoroc"
     ]
    },
    {
     "name": "stdout",
     "output_type": "stream",
     "text": [
      "tbe Laverato"
     ]
    },
    {
     "name": "stdout",
     "output_type": "stream",
     "text": [
      " #LouitPole "
     ]
    },
    {
     "name": "stdout",
     "output_type": "stream",
     "text": [
      "is #Giefr"
     ]
    },
    {
     "name": "stdout",
     "output_type": "stream",
     "text": [
      "s (when.?"
     ]
    },
    {
     "name": "stdout",
     "output_type": "stream",
     "text": [
      "(Phes and an"
     ]
    },
    {
     "name": "stdout",
     "output_type": "stream",
     "text": [
      "d was.. "
     ]
    },
    {
     "name": "stdout",
     "output_type": "stream",
     "text": [
      "y\n",
      "\n",
      "--------- temperature: 1.5\n",
      "                              I don't like nobody that likes me house i"
     ]
    },
    {
     "name": "stdout",
     "output_type": "stream",
     "text": [
      "JBgja,:)"
     ]
    },
    {
     "name": "stdout",
     "output_type": "stream",
     "text": [
      "* \"Uspua, T"
     ]
    },
    {
     "name": "stdout",
     "output_type": "stream",
     "text": [
      "ruve asPi"
     ]
    },
    {
     "name": "stdout",
     "output_type": "stream",
     "text": [
      "ceakber"
     ]
    },
    {
     "name": "stdout",
     "output_type": "stream",
     "text": [
      "eacyD8 O"
     ]
    },
    {
     "name": "stdout",
     "output_type": "stream",
     "text": [
      "balma LANZNo"
     ]
    },
    {
     "name": "stdout",
     "output_type": "stream",
     "text": [
      " Maracas Mr"
     ]
    },
    {
     "name": "stdout",
     "output_type": "stream",
     "text": [
      "yAteBe it"
     ]
    },
    {
     "name": "stdout",
     "output_type": "stream",
     "text": [
      " SentaICr"
     ]
    },
    {
     "name": "stdout",
     "output_type": "stream",
     "text": [
      "ating\n",
      "\n"
     ]
    }
   ],
   "source": [
    "seed_text = get_seed_text(tweets, random_seed=5)\n",
    "generate_tweet(seed_text, temperatures=[0.4, 0.6, 0.8, 1.0, 1.2, 1.5], random_seed = 5)"
   ]
  },
  {
   "cell_type": "code",
   "execution_count": 29,
   "metadata": {
    "autoscroll": false,
    "collapsed": false,
    "ein.hycell": false,
    "ein.tags": "worksheet-0",
    "slideshow": {
     "slide_type": "-"
    }
   },
   "outputs": [
    {
     "name": "stdout",
     "output_type": "stream",
     "text": [
      "always \n",
      "always \n",
      "--- Generating with seed: \"                                                         always \" [64]\n",
      "--------- temperature: 0.4\n",
      "                                                         always the most"
     ]
    },
    {
     "name": "stdout",
     "output_type": "stream",
     "text": [
      " at the b"
     ]
    },
    {
     "name": "stdout",
     "output_type": "stream",
     "text": [
      "rother  "
     ]
    },
    {
     "name": "stdout",
     "output_type": "stream",
     "text": [
      "#WasteItOnM"
     ]
    },
    {
     "name": "stdout",
     "output_type": "stream",
     "text": [
      "e  # # # #"
     ]
    },
    {
     "name": "stdout",
     "output_type": "stream",
     "text": [
      "             "
     ]
    },
    {
     "name": "stdout",
     "output_type": "stream",
     "text": [
      "         "
     ]
    },
    {
     "name": "stdout",
     "output_type": "stream",
     "text": [
      "          "
     ]
    },
    {
     "name": "stdout",
     "output_type": "stream",
     "text": [
      "        "
     ]
    },
    {
     "name": "stdout",
     "output_type": "stream",
     "text": [
      "         :\n",
      "\n",
      "--------- temperature: 0.6\n",
      "                                                         always "
     ]
    },
    {
     "name": "stdout",
     "output_type": "stream",
     "text": [
      "congratul"
     ]
    },
    {
     "name": "stdout",
     "output_type": "stream",
     "text": [
      "ations a"
     ]
    },
    {
     "name": "stdout",
     "output_type": "stream",
     "text": [
      "nd sound"
     ]
    },
    {
     "name": "stdout",
     "output_type": "stream",
     "text": [
      "s man takin"
     ]
    },
    {
     "name": "stdout",
     "output_type": "stream",
     "text": [
      "g every of"
     ]
    },
    {
     "name": "stdout",
     "output_type": "stream",
     "text": [
      " my Feel look"
     ]
    },
    {
     "name": "stdout",
     "output_type": "stream",
     "text": [
      "ing from tha"
     ]
    },
    {
     "name": "stdout",
     "output_type": "stream",
     "text": [
      "t you broke "
     ]
    },
    {
     "name": "stdout",
     "output_type": "stream",
     "text": [
      "more than lif\n",
      "\n",
      "--------- temperature: 0.8\n",
      "                                                         always "
     ]
    },
    {
     "name": "stdout",
     "output_type": "stream",
     "text": [
      "hang shoes "
     ]
    },
    {
     "name": "stdout",
     "output_type": "stream",
     "text": [
      "the re"
     ]
    },
    {
     "name": "stdout",
     "output_type": "stream",
     "text": [
      "ally new"
     ]
    },
    {
     "name": "stdout",
     "output_type": "stream",
     "text": [
      " to see th"
     ]
    },
    {
     "name": "stdout",
     "output_type": "stream",
     "text": [
      "e fucking"
     ]
    },
    {
     "name": "stdout",
     "output_type": "stream",
     "text": [
      " the sure"
     ]
    },
    {
     "name": "stdout",
     "output_type": "stream",
     "text": [
      " deserves"
     ]
    },
    {
     "name": "stdout",
     "output_type": "stream",
     "text": [
      " a presi"
     ]
    },
    {
     "name": "stdout",
     "output_type": "stream",
     "text": [
      "dent and "
     ]
    },
    {
     "name": "stdout",
     "output_type": "stream",
     "text": [
      "stuff show "
     ]
    },
    {
     "name": "stdout",
     "output_type": "stream",
     "text": [
      "cumsul\n",
      "\n",
      "--------- temperature: 1.0\n",
      "                                                         always there"
     ]
    },
    {
     "name": "stdout",
     "output_type": "stream",
     "text": [
      " achieve"
     ]
    },
    {
     "name": "stdout",
     "output_type": "stream",
     "text": [
      " but do a"
     ]
    },
    {
     "name": "stdout",
     "output_type": "stream",
     "text": [
      " new Japa"
     ]
    },
    {
     "name": "stdout",
     "output_type": "stream",
     "text": [
      "nala and Im s"
     ]
    },
    {
     "name": "stdout",
     "output_type": "stream",
     "text": [
      "o excited ag"
     ]
    },
    {
     "name": "stdout",
     "output_type": "stream",
     "text": [
      "ain. no legen"
     ]
    },
    {
     "name": "stdout",
     "output_type": "stream",
     "text": [
      "d. Heard some"
     ]
    },
    {
     "name": "stdout",
     "output_type": "stream",
     "text": [
      " genysonatfor"
     ]
    },
    {
     "name": "stdout",
     "output_type": "stream",
     "text": [
      "m\n",
      "\n",
      "--------- temperature: 1.2\n",
      "                                                         always wait at LAA "
     ]
    },
    {
     "name": "stdout",
     "output_type": "stream",
     "text": [
      "10 seconds "
     ]
    },
    {
     "name": "stdout",
     "output_type": "stream",
     "text": [
      " lemin m"
     ]
    },
    {
     "name": "stdout",
     "output_type": "stream",
     "text": [
      "emondy,c"
     ]
    },
    {
     "name": "stdout",
     "output_type": "stream",
     "text": [
      "ent miss u"
     ]
    },
    {
     "name": "stdout",
     "output_type": "stream",
     "text": [
      "s foundire "
     ]
    },
    {
     "name": "stdout",
     "output_type": "stream",
     "text": [
      " now th you"
     ]
    },
    {
     "name": "stdout",
     "output_type": "stream",
     "text": [
      " bring an Im"
     ]
    },
    {
     "name": "stdout",
     "output_type": "stream",
     "text": [
      " gan cuffin"
     ]
    },
    {
     "name": "stdout",
     "output_type": "stream",
     "text": [
      "gs\n",
      "\n",
      "--------- temperature: 1.5\n",
      "                                                         always agai fr"
     ]
    },
    {
     "name": "stdout",
     "output_type": "stream",
     "text": [
      "om on ~  W"
     ]
    },
    {
     "name": "stdout",
     "output_type": "stream",
     "text": [
      "hare M#M6V8ki"
     ]
    },
    {
     "name": "stdout",
     "output_type": "stream",
     "text": [
      "ll"
     ]
    },
    {
     "name": "stdout",
     "output_type": "stream",
     "text": [
      "Khampy9S! L"
     ]
    },
    {
     "name": "stdout",
     "output_type": "stream",
     "text": [
      "iverewal8"
     ]
    },
    {
     "name": "stdout",
     "output_type": "stream",
     "text": [
      "\"Ribedechi-I5w"
     ]
    },
    {
     "name": "stdout",
     "output_type": "stream",
     "text": [
      "hopraa2. Ysh"
     ]
    },
    {
     "name": "stdout",
     "output_type": "stream",
     "text": [
      "ugn: Hidor"
     ]
    },
    {
     "name": "stdout",
     "output_type": "stream",
     "text": [
      "ibreakwk\n",
      "\n"
     ]
    }
   ],
   "source": [
    "seed_text = get_seed_text(tweets, random_seed=6)\n",
    "generate_tweet(seed_text, temperatures=[0.4, 0.6, 0.8, 1.0, 1.2, 1.5], random_seed = 6)"
   ]
  },
  {
   "cell_type": "code",
   "execution_count": 30,
   "metadata": {
    "autoscroll": false,
    "collapsed": false,
    "ein.hycell": false,
    "ein.tags": "worksheet-0",
    "slideshow": {
     "slide_type": "-"
    }
   },
   "outputs": [
    {
     "name": "stdout",
     "output_type": "stream",
     "text": [
      "RT Here's my plan:1 - Vote by mail for &amp; 2 - Volunteer to GO\n",
      "RT Here's my plan:1 - Vote by mail for &amp; 2 - Volunteer to GOTV betwee\n",
      "--- Generating with seed: \"RT Here's my plan:1 - Vote by mail for &amp; 2 - Volunteer to GO\" [64]\n",
      "--------- temperature: 0.4\n",
      "RT Here's my plan:1 - Vote by mail for &amp; 2 - Volunteer to GOT to #S"
     ]
    },
    {
     "name": "stdout",
     "output_type": "stream",
     "text": [
      "GA #Lighti"
     ]
    },
    {
     "name": "stdout",
     "output_type": "stream",
     "text": [
      "nSunta   "
     ]
    },
    {
     "name": "stdout",
     "output_type": "stream",
     "text": [
      "#MTVEMA"
     ]
    },
    {
     "name": "stdout",
     "output_type": "stream",
     "text": [
      "BiggestFan"
     ]
    },
    {
     "name": "stdout",
     "output_type": "stream",
     "text": [
      "sBTS #BTS"
     ]
    },
    {
     "name": "stdout",
     "output_type": "stream",
     "text": [
      " #BTS  # #"
     ]
    },
    {
     "name": "stdout",
     "output_type": "stream",
     "text": [
      " # # # # # # "
     ]
    },
    {
     "name": "stdout",
     "output_type": "stream",
     "text": [
      "# # # # # "
     ]
    },
    {
     "name": "stdout",
     "output_type": "stream",
     "text": [
      "# # #_____"
     ]
    },
    {
     "name": "stdout",
     "output_type": "stream",
     "text": [
      "______E @po"
     ]
    },
    {
     "name": "stdout",
     "output_type": "stream",
     "text": [
      "ojial #sup"
     ]
    },
    {
     "name": "stdout",
     "output_type": "stream",
     "text": [
      "port # "
     ]
    },
    {
     "name": "stdout",
     "output_type": "stream",
     "text": [
      "# # # # "
     ]
    },
    {
     "name": "stdout",
     "output_type": "stream",
     "text": [
      "# # # # #"
     ]
    },
    {
     "name": "stdout",
     "output_type": "stream",
     "text": [
      " # # # # "
     ]
    },
    {
     "name": "stdout",
     "output_type": "stream",
     "text": [
      "# # # #  "
     ]
    },
    {
     "name": "stdout",
     "output_type": "stream",
     "text": [
      "           "
     ]
    },
    {
     "name": "stdout",
     "output_type": "stream",
     "text": [
      "         "
     ]
    },
    {
     "name": "stdout",
     "output_type": "stream",
     "text": [
      "        "
     ]
    },
    {
     "name": "stdout",
     "output_type": "stream",
     "text": [
      "          "
     ]
    },
    {
     "name": "stdout",
     "output_type": "stream",
     "text": [
      "         "
     ]
    },
    {
     "name": "stdout",
     "output_type": "stream",
     "text": [
      "        "
     ]
    },
    {
     "name": "stdout",
     "output_type": "stream",
     "text": [
      ": dancin"
     ]
    },
    {
     "name": "stdout",
     "output_type": "stream",
     "text": [
      "g the same "
     ]
    },
    {
     "name": "stdout",
     "output_type": "stream",
     "text": [
      "time\n",
      "\n",
      "--------- temperature: 0.6\n",
      "RT Here's my plan:1 - Vote by mail for &amp; 2 - Volunteer to GORLALL T"
     ]
    },
    {
     "name": "stdout",
     "output_type": "stream",
     "text": [
      "IMULick in D"
     ]
    },
    {
     "name": "stdout",
     "output_type": "stream",
     "text": [
      "iscon exte"
     ]
    },
    {
     "name": "stdout",
     "output_type": "stream",
     "text": [
      "nding  #ALD"
     ]
    },
    {
     "name": "stdout",
     "output_type": "stream",
     "text": [
      "UBAlwaysFor"
     ]
    },
    {
     "name": "stdout",
     "output_type": "stream",
     "text": [
      "Love #cosp"
     ]
    },
    {
     "name": "stdout",
     "output_type": "stream",
     "text": [
      "ens #r"
     ]
    },
    {
     "name": "stdout",
     "output_type": "stream",
     "text": [
      "eally #"
     ]
    },
    {
     "name": "stdout",
     "output_type": "stream",
     "text": [
      "iKON #WORE"
     ]
    },
    {
     "name": "stdout",
     "output_type": "stream",
     "text": [
      "ALLY # # #Se"
     ]
    },
    {
     "name": "stdout",
     "output_type": "stream",
     "text": [
      "xyFans #Se"
     ]
    },
    {
     "name": "stdout",
     "output_type": "stream",
     "text": [
      "etherSas"
     ]
    },
    {
     "name": "stdout",
     "output_type": "stream",
     "text": [
      "an_DA #"
     ]
    },
    {
     "name": "stdout",
     "output_type": "stream",
     "text": [
      "Sar"
     ]
    },
    {
     "name": "stdout",
     "output_type": "stream",
     "text": [
      "kar #S"
     ]
    },
    {
     "name": "stdout",
     "output_type": "stream",
     "text": [
      "arkar #"
     ]
    },
    {
     "name": "stdout",
     "output_type": "stream",
     "text": [
      "TheFanal "
     ]
    },
    {
     "name": "stdout",
     "output_type": "stream",
     "text": [
      "#MoreHere"
     ]
    },
    {
     "name": "stdout",
     "output_type": "stream",
     "text": [
      "n #RM #S"
     ]
    },
    {
     "name": "stdout",
     "output_type": "stream",
     "text": [
      "oribana #TE"
     ]
    },
    {
     "name": "stdout",
     "output_type": "stream",
     "text": [
      "MPO https:"
     ]
    },
    {
     "name": "stdout",
     "output_type": "stream",
     "text": [
      "//t.co/"
     ]
    },
    {
     "name": "stdout",
     "output_type": "stream",
     "text": [
      "vcZBWaE65R"
     ]
    },
    {
     "name": "stdout",
     "output_type": "stream",
     "text": [
      "W#EXO #EX"
     ]
    },
    {
     "name": "stdout",
     "output_type": "stream",
     "text": [
      "O_TEMPO# #"
     ]
    },
    {
     "name": "stdout",
     "output_type": "stream",
     "text": [
      "change # "
     ]
    },
    {
     "name": "stdout",
     "output_type": "stream",
     "text": [
      "# # # #\n",
      "\n",
      "--------- temperature: 0.8\n",
      "RT Here's my plan:1 - Vote by mail for &amp; 2 - Volunteer to GO"
     ]
    },
    {
     "name": "stdout",
     "output_type": "stream",
     "text": [
      " MILION sup"
     ]
    },
    {
     "name": "stdout",
     "output_type": "stream",
     "text": [
      "port on Tee"
     ]
    },
    {
     "name": "stdout",
     "output_type": "stream",
     "text": [
      "ms Tep their "
     ]
    },
    {
     "name": "stdout",
     "output_type": "stream",
     "text": [
      "at or the son"
     ]
    },
    {
     "name": "stdout",
     "output_type": "stream",
     "text": [
      "g through no"
     ]
    },
    {
     "name": "stdout",
     "output_type": "stream",
     "text": [
      "w  if you"
     ]
    },
    {
     "name": "stdout",
     "output_type": "stream",
     "text": [
      " wanna go "
     ]
    },
    {
     "name": "stdout",
     "output_type": "stream",
     "text": [
      "get a give t"
     ]
    },
    {
     "name": "stdout",
     "output_type": "stream",
     "text": [
      "his"
     ]
    },
    {
     "name": "stdout",
     "output_type": "stream",
     "text": [
      "  less y"
     ]
    },
    {
     "name": "stdout",
     "output_type": "stream",
     "text": [
      "ou wow  #MA"
     ]
    },
    {
     "name": "stdout",
     "output_type": "stream",
     "text": [
      "MAVOTE "
     ]
    },
    {
     "name": "stdout",
     "output_type": "stream",
     "text": [
      "#BTS #Gal"
     ]
    },
    {
     "name": "stdout",
     "output_type": "stream",
     "text": [
      "ahagage  #"
     ]
    },
    {
     "name": "stdout",
     "output_type": "stream",
     "text": [
      "Embs, #4 "
     ]
    },
    {
     "name": "stdout",
     "output_type": "stream",
     "text": [
      "releast "
     ]
    },
    {
     "name": "stdout",
     "output_type": "stream",
     "text": [
      "doob (Ov"
     ]
    },
    {
     "name": "stdout",
     "output_type": "stream",
     "text": [
      "er 2018 "
     ]
    },
    {
     "name": "stdout",
     "output_type": "stream",
     "text": [
      "and Publ"
     ]
    },
    {
     "name": "stdout",
     "output_type": "stream",
     "text": [
      "ings desc"
     ]
    },
    {
     "name": "stdout",
     "output_type": "stream",
     "text": [
      "reen bac"
     ]
    },
    {
     "name": "stdout",
     "output_type": "stream",
     "text": [
      "k to bei"
     ]
    },
    {
     "name": "stdout",
     "output_type": "stream",
     "text": [
      "ng the re"
     ]
    },
    {
     "name": "stdout",
     "output_type": "stream",
     "text": [
      "al hands 2"
     ]
    },
    {
     "name": "stdout",
     "output_type": "stream",
     "text": [
      " to resp"
     ]
    },
    {
     "name": "stdout",
     "output_type": "stream",
     "text": [
      "ead \n",
      "\n",
      "--------- temperature: 1.0\n",
      "RT Here's my plan:1 - Vote by mail for &amp; 2 - Volunteer to GOL cype"
     ]
    },
    {
     "name": "stdout",
     "output_type": "stream",
     "text": [
      "la 2018.16"
     ]
    },
    {
     "name": "stdout",
     "output_type": "stream",
     "text": [
      " #Bigg"
     ]
    },
    {
     "name": "stdout",
     "output_type": "stream",
     "text": [
      "erBerr"
     ]
    },
    {
     "name": "stdout",
     "output_type": "stream",
     "text": [
      "ach  li"
     ]
    },
    {
     "name": "stdout",
     "output_type": "stream",
     "text": [
      "ke im 1!"
     ]
    },
    {
     "name": "stdout",
     "output_type": "stream",
     "text": [
      " Leave it "
     ]
    },
    {
     "name": "stdout",
     "output_type": "stream",
     "text": [
      "our (M on"
     ]
    },
    {
     "name": "stdout",
     "output_type": "stream",
     "text": [
      " my looki"
     ]
    },
    {
     "name": "stdout",
     "output_type": "stream",
     "text": [
      "ng a chanc"
     ]
    },
    {
     "name": "stdout",
     "output_type": "stream",
     "text": [
      "h on it re"
     ]
    },
    {
     "name": "stdout",
     "output_type": "stream",
     "text": [
      "ally all d"
     ]
    },
    {
     "name": "stdout",
     "output_type": "stream",
     "text": [
      "ay!! h"
     ]
    },
    {
     "name": "stdout",
     "output_type": "stream",
     "text": [
      "er frist ."
     ]
    },
    {
     "name": "stdout",
     "output_type": "stream",
     "text": [
      ". and wat"
     ]
    },
    {
     "name": "stdout",
     "output_type": "stream",
     "text": [
      "ch to "
     ]
    },
    {
     "name": "stdout",
     "output_type": "stream",
     "text": [
      "laked + s"
     ]
    },
    {
     "name": "stdout",
     "output_type": "stream",
     "text": [
      "ee mone? / du"
     ]
    },
    {
     "name": "stdout",
     "output_type": "stream",
     "text": [
      "e. I acce"
     ]
    },
    {
     "name": "stdout",
     "output_type": "stream",
     "text": [
      "ed for a m"
     ]
    },
    {
     "name": "stdout",
     "output_type": "stream",
     "text": [
      "issyuns as gre"
     ]
    },
    {
     "name": "stdout",
     "output_type": "stream",
     "text": [
      "at. Luck"
     ]
    },
    {
     "name": "stdout",
     "output_type": "stream",
     "text": [
      "y group  "
     ]
    },
    {
     "name": "stdout",
     "output_type": "stream",
     "text": [
      "her right remp"
     ]
    },
    {
     "name": "stdout",
     "output_type": "stream",
     "text": [
      "en  https:"
     ]
    },
    {
     "name": "stdout",
     "output_type": "stream",
     "text": [
      "//t.co/B\n",
      "\n",
      "--------- temperature: 1.2\n",
      "RT Here's my plan:1 - Vote by mail for &amp; 2 - Volunteer to GO"
     ]
    },
    {
     "name": "stdout",
     "output_type": "stream",
     "text": [
      "ULSIMEForM"
     ]
    },
    {
     "name": "stdout",
     "output_type": "stream",
     "text": [
      "YB Checo. "
     ]
    },
    {
     "name": "stdout",
     "output_type": "stream",
     "text": [
      "Operite Tru"
     ]
    },
    {
     "name": "stdout",
     "output_type": "stream",
     "text": [
      "e #c7_pott"
     ]
    },
    {
     "name": "stdout",
     "output_type": "stream",
     "text": [
      "s...leaves "
     ]
    },
    {
     "name": "stdout",
     "output_type": "stream",
     "text": [
      "http"
     ]
    },
    {
     "name": "stdout",
     "output_type": "stream",
     "text": [
      "s://t.co"
     ]
    },
    {
     "name": "stdout",
     "output_type": "stream",
     "text": [
      "/8lzApbsZh5O l"
     ]
    },
    {
     "name": "stdout",
     "output_type": "stream",
     "text": [
      "iz   htt"
     ]
    },
    {
     "name": "stdout",
     "output_type": "stream",
     "text": [
      "ps://t.co/q8"
     ]
    },
    {
     "name": "stdout",
     "output_type": "stream",
     "text": [
      "Y26ZsUGx cro"
     ]
    },
    {
     "name": "stdout",
     "output_type": "stream",
     "text": [
      "bb)  go.#"
     ]
    },
    {
     "name": "stdout",
     "output_type": "stream",
     "text": [
      "VvivePusk"
     ]
    },
    {
     "name": "stdout",
     "output_type": "stream",
     "text": [
      "odan. CH"
     ]
    },
    {
     "name": "stdout",
     "output_type": "stream",
     "text": [
      "ELE 2QAC]   1E"
     ]
    },
    {
     "name": "stdout",
     "output_type": "stream",
     "text": [
      "N Bull"
     ]
    },
    {
     "name": "stdout",
     "output_type": "stream",
     "text": [
      " Avara-Ros"
     ]
    },
    {
     "name": "stdout",
     "output_type": "stream",
     "text": [
      "a :!BAAESAE"
     ]
    },
    {
     "name": "stdout",
     "output_type": "stream",
     "text": [
      "ADYEN in Mal"
     ]
    },
    {
     "name": "stdout",
     "output_type": "stream",
     "text": [
      "a LMA, it rip"
     ]
    },
    {
     "name": "stdout",
     "output_type": "stream",
     "text": [
      "z three "
     ]
    },
    {
     "name": "stdout",
     "output_type": "stream",
     "text": [
      "twgarscedes"
     ]
    },
    {
     "name": "stdout",
     "output_type": "stream",
     "text": [
      "@PEOKut_Dopicr"
     ]
    },
    {
     "name": "stdout",
     "output_type": "stream",
     "text": [
      "o\n",
      "\n",
      "--------- temperature: 1.5\n",
      "RT Here's my plan:1 - Vote by mail for &amp; 2 - Volunteer to GORDSi scoded "
     ]
    },
    {
     "name": "stdout",
     "output_type": "stream",
     "text": [
      "UKy A#TMM"
     ]
    },
    {
     "name": "stdout",
     "output_type": "stream",
     "text": [
      "ILO6   "
     ]
    },
    {
     "name": "stdout",
     "output_type": "stream",
     "text": [
      "Mr' two 9ps Ph"
     ]
    },
    {
     "name": "stdout",
     "output_type": "stream",
     "text": [
      "enAmea"
     ]
    },
    {
     "name": "stdout",
     "output_type": "stream",
     "text": [
      "nValAcrap"
     ]
    },
    {
     "name": "stdout",
     "output_type": "stream",
     "text": [
      "os YouTRa"
     ]
    },
    {
     "name": "stdout",
     "output_type": "stream",
     "text": [
      "dyFight\" Fw s"
     ]
    },
    {
     "name": "stdout",
     "output_type": "stream",
     "text": [
      "le4t:M17,"
     ]
    },
    {
     "name": "stdout",
     "output_type": "stream",
     "text": [
      "0! MAgs #BlHoP"
     ]
    },
    {
     "name": "stdout",
     "output_type": "stream",
     "text": [
      "DoTCM#DC "
     ]
    },
    {
     "name": "stdout",
     "output_type": "stream",
     "text": [
      "at rg Thau "
     ]
    },
    {
     "name": "stdout",
     "output_type": "stream",
     "text": [
      "#Ahhhhem"
     ]
    },
    {
     "name": "stdout",
     "output_type": "stream",
     "text": [
      "C ifadvse"
     ]
    },
    {
     "name": "stdout",
     "output_type": "stream",
     "text": [
      "nsymajksuo"
     ]
    },
    {
     "name": "stdout",
     "output_type": "stream",
     "text": [
      "ds(HJ\"incr"
     ]
    },
    {
     "name": "stdout",
     "output_type": "stream",
     "text": [
      "rts? Ktwo"
     ]
    },
    {
     "name": "stdout",
     "output_type": "stream",
     "text": [
      "k agut HBu"
     ]
    },
    {
     "name": "stdout",
     "output_type": "stream",
     "text": [
      "tz! HI DOG"
     ]
    },
    {
     "name": "stdout",
     "output_type": "stream",
     "text": [
      "UWLATT&gA;S"
     ]
    },
    {
     "name": "stdout",
     "output_type": "stream",
     "text": [
      "TXPPYW H"
     ]
    },
    {
     "name": "stdout",
     "output_type": "stream",
     "text": [
      "AP H"
     ]
    },
    {
     "name": "stdout",
     "output_type": "stream",
     "text": [
      "ISSASVAT"
     ]
    },
    {
     "name": "stdout",
     "output_type": "stream",
     "text": [
      " SJ IHR6 "
     ]
    },
    {
     "name": "stdout",
     "output_type": "stream",
     "text": [
      "NOT!jess\n",
      "\n"
     ]
    }
   ],
   "source": [
    "seed_text = get_seed_text(tweets, random_seed=7)\n",
    "generate_tweet(seed_text, length=300, temperatures=[0.4, 0.6, 0.8, 1.0, 1.2, 1.5], random_seed = 7)"
   ]
  },
  {
   "cell_type": "markdown",
   "metadata": {
    "ein.tags": "worksheet-0",
    "slideshow": {
     "slide_type": "-"
    }
   },
   "source": [
    "I like `Volunteer to GOD is way`. But the model doesn't seem to have got that the theme of the seed was political (`Vote by mail for &amp`) and has come up with a load of unrelated hashtags (a spot of Googling reveals that `#LightinSunta'` was invented by the model, although [`#MTVEMABiggestFansBTS` exists, it's a K-pop thing](https://twitter.com/hashtag/mtvemabiggestfansbts). #Sarkar is an [Indian Tamil-language action drama film](https://en.wikipedia.org/wiki/Sarkar_(2018_film)."
   ]
  },
  {
   "cell_type": "code",
   "execution_count": 31,
   "metadata": {
    "autoscroll": false,
    "collapsed": false,
    "ein.hycell": false,
    "ein.tags": "worksheet-0",
    "slideshow": {
     "slide_type": "-"
    }
   },
   "outputs": [
    {
     "name": "stdout",
     "output_type": "stream",
     "text": [
      "RT  Tom Arthur to Tory Michelle Ballantyne: \"To suggest that pov\n",
      "RT  Tom Arthur to Tory Michelle Ballantyne: \"To suggest that poverty should be a barrier to a family, that people who are poor ar\n",
      "--- Generating with seed: \"RT  Tom Arthur to Tory Michelle Ballantyne: \"To suggest that pov\" [64]\n",
      "--------- temperature: 0.4\n",
      "RT  Tom Arthur to Tory Michelle Ballantyne: \"To suggest that pove the bac"
     ]
    },
    {
     "name": "stdout",
     "output_type": "stream",
     "text": [
      "k and yo"
     ]
    },
    {
     "name": "stdout",
     "output_type": "stream",
     "text": [
      "u look at "
     ]
    },
    {
     "name": "stdout",
     "output_type": "stream",
     "text": [
      "his ho"
     ]
    },
    {
     "name": "stdout",
     "output_type": "stream",
     "text": [
      "mee       "
     ]
    },
    {
     "name": "stdout",
     "output_type": "stream",
     "text": [
      "       "
     ]
    },
    {
     "name": "stdout",
     "output_type": "stream",
     "text": [
      "          "
     ]
    },
    {
     "name": "stdout",
     "output_type": "stream",
     "text": [
      "        "
     ]
    },
    {
     "name": "stdout",
     "output_type": "stream",
     "text": [
      "         "
     ]
    },
    {
     "name": "stdout",
     "output_type": "stream",
     "text": [
      "           "
     ]
    },
    {
     "name": "stdout",
     "output_type": "stream",
     "text": [
      "        \n",
      "\n",
      "--------- temperature: 0.6\n",
      "RT  Tom Arthur to Tory Michelle Ballantyne: \"To suggest that pove, "
     ]
    },
    {
     "name": "stdout",
     "output_type": "stream",
     "text": [
      "Were the"
     ]
    },
    {
     "name": "stdout",
     "output_type": "stream",
     "text": [
      " devile"
     ]
    },
    {
     "name": "stdout",
     "output_type": "stream",
     "text": [
      "r of he"
     ]
    },
    {
     "name": "stdout",
     "output_type": "stream",
     "text": [
      "r second"
     ]
    },
    {
     "name": "stdout",
     "output_type": "stream",
     "text": [
      " week of t"
     ]
    },
    {
     "name": "stdout",
     "output_type": "stream",
     "text": [
      "he new su"
     ]
    },
    {
     "name": "stdout",
     "output_type": "stream",
     "text": [
      "bred  #Kangashi"
     ]
    },
    {
     "name": "stdout",
     "output_type": "stream",
     "text": [
      "   #bunn"
     ]
    },
    {
     "name": "stdout",
     "output_type": "stream",
     "text": [
      "kin #part"
     ]
    },
    {
     "name": "stdout",
     "output_type": "stream",
     "text": [
      "h #prounda "
     ]
    },
    {
     "name": "stdout",
     "output_type": "stream",
     "text": [
      "#\n",
      "\n",
      "--------- temperature: 0.8\n",
      "RT  Tom Arthur to Tory Michelle Ballantyne: \"To suggest that pove be bed "
     ]
    },
    {
     "name": "stdout",
     "output_type": "stream",
     "text": [
      "to work "
     ]
    },
    {
     "name": "stdout",
     "output_type": "stream",
     "text": [
      "into pe"
     ]
    },
    {
     "name": "stdout",
     "output_type": "stream",
     "text": [
      "ople for the "
     ]
    },
    {
     "name": "stdout",
     "output_type": "stream",
     "text": [
      "body and y"
     ]
    },
    {
     "name": "stdout",
     "output_type": "stream",
     "text": [
      "ou havent"
     ]
    },
    {
     "name": "stdout",
     "output_type": "stream",
     "text": [
      " be so prec"
     ]
    },
    {
     "name": "stdout",
     "output_type": "stream",
     "text": [
      "iots in "
     ]
    },
    {
     "name": "stdout",
     "output_type": "stream",
     "text": [
      "so lond to"
     ]
    },
    {
     "name": "stdout",
     "output_type": "stream",
     "text": [
      " that conte\n",
      "\n",
      "--------- temperature: 1.0\n",
      "RT  Tom Arthur to Tory Michelle Ballantyne: \"To suggest that pove"
     ]
    },
    {
     "name": "stdout",
     "output_type": "stream",
     "text": [
      "smeding"
     ]
    },
    {
     "name": "stdout",
     "output_type": "stream",
     "text": [
      "! xill "
     ]
    },
    {
     "name": "stdout",
     "output_type": "stream",
     "text": [
      "the stree"
     ]
    },
    {
     "name": "stdout",
     "output_type": "stream",
     "text": [
      "t  #wit"
     ]
    },
    {
     "name": "stdout",
     "output_type": "stream",
     "text": [
      "hlovie #"
     ]
    },
    {
     "name": "stdout",
     "output_type": "stream",
     "text": [
      "LegendTer"
     ]
    },
    {
     "name": "stdout",
     "output_type": "stream",
     "text": [
      "shident G"
     ]
    },
    {
     "name": "stdout",
     "output_type": "stream",
     "text": [
      "ostland and L"
     ]
    },
    {
     "name": "stdout",
     "output_type": "stream",
     "text": [
      "eequil Ma"
     ]
    },
    {
     "name": "stdout",
     "output_type": "stream",
     "text": [
      "chawahaaaaa"
     ]
    },
    {
     "name": "stdout",
     "output_type": "stream",
     "text": [
      "ar  ht\n",
      "\n",
      "--------- temperature: 1.2\n",
      "RT  Tom Arthur to Tory Michelle Ballantyne: \"To suggest that pove to"
     ]
    },
    {
     "name": "stdout",
     "output_type": "stream",
     "text": [
      " me! s"
     ]
    },
    {
     "name": "stdout",
     "output_type": "stream",
     "text": [
      "parkts i"
     ]
    },
    {
     "name": "stdout",
     "output_type": "stream",
     "text": [
      "nsunge yest"
     ]
    },
    {
     "name": "stdout",
     "output_type": "stream",
     "text": [
      "eed. in "
     ]
    },
    {
     "name": "stdout",
     "output_type": "stream",
     "text": [
      "2.   #Lo"
     ]
    },
    {
     "name": "stdout",
     "output_type": "stream",
     "text": [
      "nzo.Can "
     ]
    },
    {
     "name": "stdout",
     "output_type": "stream",
     "text": [
      "TEMPO2EJ"
     ]
    },
    {
     "name": "stdout",
     "output_type": "stream",
     "text": [
      "ickepthocce?"
     ]
    },
    {
     "name": "stdout",
     "output_type": "stream",
     "text": [
      " Exply P as "
     ]
    },
    {
     "name": "stdout",
     "output_type": "stream",
     "text": [
      "what your"
     ]
    },
    {
     "name": "stdout",
     "output_type": "stream",
     "text": [
      " s\n",
      "\n",
      "--------- temperature: 1.5\n",
      "RT  Tom Arthur to Tory Michelle Ballantyne: \"To suggest that pove!!NH"
     ]
    },
    {
     "name": "stdout",
     "output_type": "stream",
     "text": [
      "PPGRED 43?wt"
     ]
    },
    {
     "name": "stdout",
     "output_type": "stream",
     "text": [
      "ts everything"
     ]
    },
    {
     "name": "stdout",
     "output_type": "stream",
     "text": [
      "PRINE fiol!be"
     ]
    },
    {
     "name": "stdout",
     "output_type": "stream",
     "text": [
      " att- ! R"
     ]
    },
    {
     "name": "stdout",
     "output_type": "stream",
     "text": [
      "ekortzoned"
     ]
    },
    {
     "name": "stdout",
     "output_type": "stream",
     "text": [
      ". of. 15xs"
     ]
    },
    {
     "name": "stdout",
     "output_type": "stream",
     "text": [
      " ..ix1t, O"
     ]
    },
    {
     "name": "stdout",
     "output_type": "stream",
     "text": [
      "mn blake"
     ]
    },
    {
     "name": "stdout",
     "output_type": "stream",
     "text": [
      " it"
     ]
    },
    {
     "name": "stdout",
     "output_type": "stream",
     "text": [
      " ) \n",
      "\n"
     ]
    }
   ],
   "source": [
    "seed_text = get_seed_text(tweets, random_seed=8)\n",
    "generate_tweet(seed_text, temperatures=[0.4, 0.6, 0.8, 1.0, 1.2, 1.5], random_seed = 8)"
   ]
  },
  {
   "cell_type": "code",
   "execution_count": 32,
   "metadata": {
    "autoscroll": false,
    "collapsed": false,
    "ein.hycell": false,
    "ein.tags": "worksheet-0",
    "slideshow": {
     "slide_type": "-"
    }
   },
   "outputs": [
    {
     "name": "stdout",
     "output_type": "stream",
     "text": [
      "RT Life comes at you fast. One day you own a machine gun...the n\n",
      "RT Life comes at you fast. One day you own a machine gun...the next you're on the floor, handcuffed, with your face betw\n",
      "--- Generating with seed: \"RT Life comes at you fast. One day you own a machine gun...the n\" [64]\n",
      "--------- temperature: 0.4\n",
      "RT Life comes at you fast. One day you own a machine gun...the new "
     ]
    },
    {
     "name": "stdout",
     "output_type": "stream",
     "text": [
      "shit to "
     ]
    },
    {
     "name": "stdout",
     "output_type": "stream",
     "text": [
      "the time th"
     ]
    },
    {
     "name": "stdout",
     "output_type": "stream",
     "text": [
      "e only one "
     ]
    },
    {
     "name": "stdout",
     "output_type": "stream",
     "text": [
      "of the same "
     ]
    },
    {
     "name": "stdout",
     "output_type": "stream",
     "text": [
      "time  #EXO "
     ]
    },
    {
     "name": "stdout",
     "output_type": "stream",
     "text": [
      "#EXO_TEMPO "
     ]
    },
    {
     "name": "stdout",
     "output_type": "stream",
     "text": [
      "#EXO_DontM"
     ]
    },
    {
     "name": "stdout",
     "output_type": "stream",
     "text": [
      "essUpMyTem"
     ]
    },
    {
     "name": "stdout",
     "output_type": "stream",
     "text": [
      "po #EXO_T"
     ]
    },
    {
     "name": "stdout",
     "output_type": "stream",
     "text": [
      "EMPO #EX"
     ]
    },
    {
     "name": "stdout",
     "output_type": "stream",
     "text": [
      "O_DontMe"
     ]
    },
    {
     "name": "stdout",
     "output_type": "stream",
     "text": [
      "ssUpMyTem"
     ]
    },
    {
     "name": "stdout",
     "output_type": "stream",
     "text": [
      "po #EXO_TE"
     ]
    },
    {
     "name": "stdout",
     "output_type": "stream",
     "text": [
      "MPO #EXO_D"
     ]
    },
    {
     "name": "stdout",
     "output_type": "stream",
     "text": [
      "ontMessUpMyTe"
     ]
    },
    {
     "name": "stdout",
     "output_type": "stream",
     "text": [
      "mpo #EXO_"
     ]
    },
    {
     "name": "stdout",
     "output_type": "stream",
     "text": [
      "TEMPO #E"
     ]
    },
    {
     "name": "stdout",
     "output_type": "stream",
     "text": [
      "XO_DontMessU"
     ]
    },
    {
     "name": "stdout",
     "output_type": "stream",
     "text": [
      "pMyTempo"
     ]
    },
    {
     "name": "stdout",
     "output_type": "stream",
     "text": [
      " #nam"
     ]
    },
    {
     "name": "stdout",
     "output_type": "stream",
     "text": [
      "jun #who #c"
     ]
    },
    {
     "name": "stdout",
     "output_type": "stream",
     "text": [
      "hange # # "
     ]
    },
    {
     "name": "stdout",
     "output_type": "stream",
     "text": [
      "# # # # "
     ]
    },
    {
     "name": "stdout",
     "output_type": "stream",
     "text": [
      "# # # # # "
     ]
    },
    {
     "name": "stdout",
     "output_type": "stream",
     "text": [
      "#\n",
      "\n",
      "--------- temperature: 0.6\n",
      "RT Life comes at you fast. One day you own a machine gun...the next time"
     ]
    },
    {
     "name": "stdout",
     "output_type": "stream",
     "text": [
      " to proud"
     ]
    },
    {
     "name": "stdout",
     "output_type": "stream",
     "text": [
      " of your "
     ]
    },
    {
     "name": "stdout",
     "output_type": "stream",
     "text": [
      "thing that"
     ]
    },
    {
     "name": "stdout",
     "output_type": "stream",
     "text": [
      " wantled "
     ]
    },
    {
     "name": "stdout",
     "output_type": "stream",
     "text": [
      "for th"
     ]
    },
    {
     "name": "stdout",
     "output_type": "stream",
     "text": [
      "e point my "
     ]
    },
    {
     "name": "stdout",
     "output_type": "stream",
     "text": [
      "feeling"
     ]
    },
    {
     "name": "stdout",
     "output_type": "stream",
     "text": [
      "s, what abou"
     ]
    },
    {
     "name": "stdout",
     "output_type": "stream",
     "text": [
      "t a hatfities"
     ]
    },
    {
     "name": "stdout",
     "output_type": "stream",
     "text": [
      ".   #HeartFre"
     ]
    },
    {
     "name": "stdout",
     "output_type": "stream",
     "text": [
      "aking #Dayti"
     ]
    },
    {
     "name": "stdout",
     "output_type": "stream",
     "text": [
      "on #SarkarDa"
     ]
    },
    {
     "name": "stdout",
     "output_type": "stream",
     "text": [
      "ys #MexicoG"
     ]
    },
    {
     "name": "stdout",
     "output_type": "stream",
     "text": [
      "P  #Save"
     ]
    },
    {
     "name": "stdout",
     "output_type": "stream",
     "text": [
      "Shaden #MW"
     ]
    },
    {
     "name": "stdout",
     "output_type": "stream",
     "text": [
      "atherBight"
     ]
    },
    {
     "name": "stdout",
     "output_type": "stream",
     "text": [
      " #BTS #Kan"
     ]
    },
    {
     "name": "stdout",
     "output_type": "stream",
     "text": [
      "ahhthariin"
     ]
    },
    {
     "name": "stdout",
     "output_type": "stream",
     "text": [
      "g #1      "
     ]
    },
    {
     "name": "stdout",
     "output_type": "stream",
     "text": [
      "           "
     ]
    },
    {
     "name": "stdout",
     "output_type": "stream",
     "text": [
      "          "
     ]
    },
    {
     "name": "stdout",
     "output_type": "stream",
     "text": [
      "           "
     ]
    },
    {
     "name": "stdout",
     "output_type": "stream",
     "text": [
      "    \n",
      "\n",
      "--------- temperature: 0.8\n",
      "RT Life comes at you fast. One day you own a machine gun...the ned c"
     ]
    },
    {
     "name": "stdout",
     "output_type": "stream",
     "text": [
      "riv"
     ]
    },
    {
     "name": "stdout",
     "output_type": "stream",
     "text": [
      "ing more tha"
     ]
    },
    {
     "name": "stdout",
     "output_type": "stream",
     "text": [
      "nk you so m"
     ]
    },
    {
     "name": "stdout",
     "output_type": "stream",
     "text": [
      "uch all thi"
     ]
    },
    {
     "name": "stdout",
     "output_type": "stream",
     "text": [
      "s exams hash"
     ]
    },
    {
     "name": "stdout",
     "output_type": "stream",
     "text": [
      "an  https:/"
     ]
    },
    {
     "name": "stdout",
     "output_type": "stream",
     "text": [
      "/t.co/yjMa"
     ]
    },
    {
     "name": "stdout",
     "output_type": "stream",
     "text": [
      "u4W9x  from"
     ]
    },
    {
     "name": "stdout",
     "output_type": "stream",
     "text": [
      "  https:/"
     ]
    },
    {
     "name": "stdout",
     "output_type": "stream",
     "text": [
      "/t.co/GDk"
     ]
    },
    {
     "name": "stdout",
     "output_type": "stream",
     "text": [
      "gA"
     ]
    },
    {
     "name": "stdout",
     "output_type": "stream",
     "text": [
      "kuFKi#H"
     ]
    },
    {
     "name": "stdout",
     "output_type": "stream",
     "text": [
      "ealthight"
     ]
    },
    {
     "name": "stdout",
     "output_type": "stream",
     "text": [
      "pispos  Hit"
     ]
    },
    {
     "name": "stdout",
     "output_type": "stream",
     "text": [
      " is car"
     ]
    },
    {
     "name": "stdout",
     "output_type": "stream",
     "text": [
      "e of I wo"
     ]
    },
    {
     "name": "stdout",
     "output_type": "stream",
     "text": [
      "uld hand wi"
     ]
    },
    {
     "name": "stdout",
     "output_type": "stream",
     "text": [
      "ll flose "
     ]
    },
    {
     "name": "stdout",
     "output_type": "stream",
     "text": [
      "sexy all d"
     ]
    },
    {
     "name": "stdout",
     "output_type": "stream",
     "text": [
      "ay they w"
     ]
    },
    {
     "name": "stdout",
     "output_type": "stream",
     "text": [
      "as den"
     ]
    },
    {
     "name": "stdout",
     "output_type": "stream",
     "text": [
      "jut and sa"
     ]
    },
    {
     "name": "stdout",
     "output_type": "stream",
     "text": [
      "d when wonde"
     ]
    },
    {
     "name": "stdout",
     "output_type": "stream",
     "text": [
      "rward to cel"
     ]
    },
    {
     "name": "stdout",
     "output_type": "stream",
     "text": [
      "lege terr\n",
      "\n",
      "--------- temperature: 1.0\n",
      "RT Life comes at you fast. One day you own a machine gun...the numbl"
     ]
    },
    {
     "name": "stdout",
     "output_type": "stream",
     "text": [
      "es out my Ni"
     ]
    },
    {
     "name": "stdout",
     "output_type": "stream",
     "text": [
      "ggas in Chenne"
     ]
    },
    {
     "name": "stdout",
     "output_type": "stream",
     "text": [
      "stion!But"
     ]
    },
    {
     "name": "stdout",
     "output_type": "stream",
     "text": [
      " IBama  B"
     ]
    },
    {
     "name": "stdout",
     "output_type": "stream",
     "text": [
      "oxings j"
     ]
    },
    {
     "name": "stdout",
     "output_type": "stream",
     "text": [
      "ust clo"
     ]
    },
    {
     "name": "stdout",
     "output_type": "stream",
     "text": [
      "ser in all m"
     ]
    },
    {
     "name": "stdout",
     "output_type": "stream",
     "text": [
      "y day  thank"
     ]
    },
    {
     "name": "stdout",
     "output_type": "stream",
     "text": [
      ", heard.."
     ]
    },
    {
     "name": "stdout",
     "output_type": "stream",
     "text": [
      ".suck him t"
     ]
    },
    {
     "name": "stdout",
     "output_type": "stream",
     "text": [
      "he your ga"
     ]
    },
    {
     "name": "stdout",
     "output_type": "stream",
     "text": [
      "me, so lou"
     ]
    },
    {
     "name": "stdout",
     "output_type": "stream",
     "text": [
      "dle yaru h"
     ]
    },
    {
     "name": "stdout",
     "output_type": "stream",
     "text": [
      "e double "
     ]
    },
    {
     "name": "stdout",
     "output_type": "stream",
     "text": [
      "on thi"
     ]
    },
    {
     "name": "stdout",
     "output_type": "stream",
     "text": [
      "s prozice "
     ]
    },
    {
     "name": "stdout",
     "output_type": "stream",
     "text": [
      "whats just ca"
     ]
    },
    {
     "name": "stdout",
     "output_type": "stream",
     "text": [
      "re of suit"
     ]
    },
    {
     "name": "stdout",
     "output_type": "stream",
     "text": [
      "s?sighting"
     ]
    },
    {
     "name": "stdout",
     "output_type": "stream",
     "text": [
      " things of p"
     ]
    },
    {
     "name": "stdout",
     "output_type": "stream",
     "text": [
      "orn, one na get"
     ]
    },
    {
     "name": "stdout",
     "output_type": "stream",
     "text": [
      " everypida's "
     ]
    },
    {
     "name": "stdout",
     "output_type": "stream",
     "text": [
      "h\n",
      "\n",
      "--------- temperature: 1.2\n",
      "RT Life comes at you fast. One day you own a machine gun...the new year  9/"
     ]
    },
    {
     "name": "stdout",
     "output_type": "stream",
     "text": [
      "Kadbace wi"
     ]
    },
    {
     "name": "stdout",
     "output_type": "stream",
     "text": [
      "nners  M"
     ]
    },
    {
     "name": "stdout",
     "output_type": "stream",
     "text": [
      "iss: Wat ev"
     ]
    },
    {
     "name": "stdout",
     "output_type": "stream",
     "text": [
      "eryone' in 29"
     ]
    },
    {
     "name": "stdout",
     "output_type": "stream",
     "text": [
      "P6, hip shuttt"
     ]
    },
    {
     "name": "stdout",
     "output_type": "stream",
     "text": [
      "hose our act"
     ]
    },
    {
     "name": "stdout",
     "output_type": "stream",
     "text": [
      "ra...  #JUN"
     ]
    },
    {
     "name": "stdout",
     "output_type": "stream",
     "text": [
      "GKON # # #DNNN"
     ]
    },
    {
     "name": "stdout",
     "output_type": "stream",
     "text": [
      " that! G3st Re"
     ]
    },
    {
     "name": "stdout",
     "output_type": "stream",
     "text": [
      "ading.A.#"
     ]
    },
    {
     "name": "stdout",
     "output_type": "stream",
     "text": [
      "Vivarnank"
     ]
    },
    {
     "name": "stdout",
     "output_type": "stream",
     "text": [
      "sxyovsMod"
     ]
    },
    {
     "name": "stdout",
     "output_type": "stream",
     "text": [
      "iC townZ!)We"
     ]
    },
    {
     "name": "stdout",
     "output_type": "stream",
     "text": [
      "ll wi s!!! "
     ]
    },
    {
     "name": "stdout",
     "output_type": "stream",
     "text": [
      "in Californ"
     ]
    },
    {
     "name": "stdout",
     "output_type": "stream",
     "text": [
      "s fucking tv"
     ]
    },
    {
     "name": "stdout",
     "output_type": "stream",
     "text": [
      " now Enha re"
     ]
    },
    {
     "name": "stdout",
     "output_type": "stream",
     "text": [
      "sa Mamni Twi"
     ]
    },
    {
     "name": "stdout",
     "output_type": "stream",
     "text": [
      "ck RiKk, All"
     ]
    },
    {
     "name": "stdout",
     "output_type": "stream",
     "text": [
      " 10-2051-\n",
      "\n",
      "--------- temperature: 1.5\n",
      "RT Life comes at you fast. One day you own a machine gun...the n"
     ]
    },
    {
     "name": "stdout",
     "output_type": "stream",
     "text": [
      "eggLik!"
     ]
    },
    {
     "name": "stdout",
     "output_type": "stream",
     "text": [
      "... ?Lib"
     ]
    },
    {
     "name": "stdout",
     "output_type": "stream",
     "text": [
      ",Exch!  h"
     ]
    },
    {
     "name": "stdout",
     "output_type": "stream",
     "text": [
      "aven. but"
     ]
    },
    {
     "name": "stdout",
     "output_type": "stream",
     "text": [
      " szd to m"
     ]
    },
    {
     "name": "stdout",
     "output_type": "stream",
     "text": [
      "ean: $5 -"
     ]
    },
    {
     "name": "stdout",
     "output_type": "stream",
     "text": [
      "k0zbbs #l"
     ]
    },
    {
     "name": "stdout",
     "output_type": "stream",
     "text": [
      "assmyxb?#N"
     ]
    },
    {
     "name": "stdout",
     "output_type": "stream",
     "text": [
      "v3kpocaNnxzya"
     ]
    },
    {
     "name": "stdout",
     "output_type": "stream",
     "text": [
      "3rpdax0"
     ]
    },
    {
     "name": "stdout",
     "output_type": "stream",
     "text": [
      "3 aPsk1"
     ]
    },
    {
     "name": "stdout",
     "output_type": "stream",
     "text": [
      "s@pA) Kor"
     ]
    },
    {
     "name": "stdout",
     "output_type": "stream",
     "text": [
      "al#LISV"
     ]
    },
    {
     "name": "stdout",
     "output_type": "stream",
     "text": [
      "OS #BALKRIM"
     ]
    },
    {
     "name": "stdout",
     "output_type": "stream",
     "text": [
      "TO#GettiDal"
     ]
    },
    {
     "name": "stdout",
     "output_type": "stream",
     "text": [
      "V2NO it fe"
     ]
    },
    {
     "name": "stdout",
     "output_type": "stream",
     "text": [
      "stal #Mih"
     ]
    },
    {
     "name": "stdout",
     "output_type": "stream",
     "text": [
      "ticDBTo2#M"
     ]
    },
    {
     "name": "stdout",
     "output_type": "stream",
     "text": [
      "yjf #Nalbas"
     ]
    },
    {
     "name": "stdout",
     "output_type": "stream",
     "text": [
      "hunbiknaxh #"
     ]
    },
    {
     "name": "stdout",
     "output_type": "stream",
     "text": [
      "pik"
     ]
    },
    {
     "name": "stdout",
     "output_type": "stream",
     "text": [
      "eDaddytib"
     ]
    },
    {
     "name": "stdout",
     "output_type": "stream",
     "text": [
      "zhlr WalcgH"
     ]
    },
    {
     "name": "stdout",
     "output_type": "stream",
     "text": [
      "oploscukj"
     ]
    },
    {
     "name": "stdout",
     "output_type": "stream",
     "text": [
      "raa: 3pmR4"
     ]
    },
    {
     "name": "stdout",
     "output_type": "stream",
     "text": [
      "-186 I \n",
      "\n"
     ]
    }
   ],
   "source": [
    "seed_text = get_seed_text(tweets, random_seed=9)\n",
    "generate_tweet(seed_text, length=300, temperatures=[0.4, 0.6, 0.8, 1.0, 1.2, 1.5], random_seed = 9)"
   ]
  },
  {
   "cell_type": "markdown",
   "metadata": {
    "ein.tags": "worksheet-0",
    "slideshow": {
     "slide_type": "-"
    }
   },
   "source": [
    "The model really likes K-Pop `#EXO #EXO #EXO_TEMP #EXO_DontMessUpMyTempo`"
   ]
  },
  {
   "cell_type": "code",
   "execution_count": 33,
   "metadata": {
    "autoscroll": false,
    "collapsed": false,
    "ein.hycell": false,
    "ein.tags": "worksheet-0",
    "slideshow": {
     "slide_type": "-"
    }
   },
   "outputs": [
    {
     "name": "stdout",
     "output_type": "stream",
     "text": [
      "youre so cute \n",
      "youre so cute \n",
      "--- Generating with seed: \"                                                  youre so cute \" [64]\n",
      "--------- temperature: 0.4\n",
      "                                                  youre so cute            "
     ]
    },
    {
     "name": "stdout",
     "output_type": "stream",
     "text": [
      "         "
     ]
    },
    {
     "name": "stdout",
     "output_type": "stream",
     "text": [
      "           "
     ]
    },
    {
     "name": "stdout",
     "output_type": "stream",
     "text": [
      "           "
     ]
    },
    {
     "name": "stdout",
     "output_type": "stream",
     "text": [
      "             "
     ]
    },
    {
     "name": "stdout",
     "output_type": "stream",
     "text": [
      "          "
     ]
    },
    {
     "name": "stdout",
     "output_type": "stream",
     "text": [
      "    "
     ]
    },
    {
     "name": "stdout",
     "output_type": "stream",
     "text": [
      "        "
     ]
    },
    {
     "name": "stdout",
     "output_type": "stream",
     "text": [
      "            "
     ]
    },
    {
     "name": "stdout",
     "output_type": "stream",
     "text": [
      "       \n",
      "\n",
      "--------- temperature: 0.6\n",
      "                                                  youre so cute t"
     ]
    },
    {
     "name": "stdout",
     "output_type": "stream",
     "text": [
      "hat beauti"
     ]
    },
    {
     "name": "stdout",
     "output_type": "stream",
     "text": [
      "ful and wh"
     ]
    },
    {
     "name": "stdout",
     "output_type": "stream",
     "text": [
      "at a b"
     ]
    },
    {
     "name": "stdout",
     "output_type": "stream",
     "text": [
      "ig kind"
     ]
    },
    {
     "name": "stdout",
     "output_type": "stream",
     "text": [
      "a kids th"
     ]
    },
    {
     "name": "stdout",
     "output_type": "stream",
     "text": [
      "is  "
     ]
    },
    {
     "name": "stdout",
     "output_type": "stream",
     "text": [
      "I need a pe"
     ]
    },
    {
     "name": "stdout",
     "output_type": "stream",
     "text": [
      "ople go on "
     ]
    },
    {
     "name": "stdout",
     "output_type": "stream",
     "text": [
      "the char"
     ]
    },
    {
     "name": "stdout",
     "output_type": "stream",
     "text": [
      "ts  https:"
     ]
    },
    {
     "name": "stdout",
     "output_type": "stream",
     "text": [
      "//t.co/yy\n",
      "\n",
      "--------- temperature: 0.8\n",
      "                                                  youre so cute be"
     ]
    },
    {
     "name": "stdout",
     "output_type": "stream",
     "text": [
      "cause he g"
     ]
    },
    {
     "name": "stdout",
     "output_type": "stream",
     "text": [
      "ot to fort "
     ]
    },
    {
     "name": "stdout",
     "output_type": "stream",
     "text": [
      "they &amp; "
     ]
    },
    {
     "name": "stdout",
     "output_type": "stream",
     "text": [
      "youre call "
     ]
    },
    {
     "name": "stdout",
     "output_type": "stream",
     "text": [
      "me to Chana"
     ]
    },
    {
     "name": "stdout",
     "output_type": "stream",
     "text": [
      "  Leadnagi N"
     ]
    },
    {
     "name": "stdout",
     "output_type": "stream",
     "text": [
      "earing on,"
     ]
    },
    {
     "name": "stdout",
     "output_type": "stream",
     "text": [
      " about to s"
     ]
    },
    {
     "name": "stdout",
     "output_type": "stream",
     "text": [
      "ee this\n",
      "\n",
      "--------- temperature: 1.0\n",
      "                                                  youre so cute think"
     ]
    },
    {
     "name": "stdout",
     "output_type": "stream",
     "text": [
      "ing also fa"
     ]
    },
    {
     "name": "stdout",
     "output_type": "stream",
     "text": [
      "ns RT I ever"
     ]
    },
    {
     "name": "stdout",
     "output_type": "stream",
     "text": [
      " havent people"
     ]
    },
    {
     "name": "stdout",
     "output_type": "stream",
     "text": [
      " saidan  ca"
     ]
    },
    {
     "name": "stdout",
     "output_type": "stream",
     "text": [
      "lls hi"
     ]
    },
    {
     "name": "stdout",
     "output_type": "stream",
     "text": [
      " turnk ov"
     ]
    },
    {
     "name": "stdout",
     "output_type": "stream",
     "text": [
      "er 4 and ho"
     ]
    },
    {
     "name": "stdout",
     "output_type": "stream",
     "text": [
      "ury! they"
     ]
    },
    {
     "name": "stdout",
     "output_type": "stream",
     "text": [
      "re dress\n",
      "\n",
      "--------- temperature: 1.2\n",
      "                                                  youre so cute #mz"
     ]
    },
    {
     "name": "stdout",
     "output_type": "stream",
     "text": [
      "vicluckiba"
     ]
    },
    {
     "name": "stdout",
     "output_type": "stream",
     "text": [
      "Pie Beanon"
     ]
    },
    {
     "name": "stdout",
     "output_type": "stream",
     "text": [
      " (IT'S Pe"
     ]
    },
    {
     "name": "stdout",
     "output_type": "stream",
     "text": [
      "rsOn: 1.0*"
     ]
    },
    {
     "name": "stdout",
     "output_type": "stream",
     "text": [
      " place RTP"
     ]
    },
    {
     "name": "stdout",
     "output_type": "stream",
     "text": [
      "&gt;CAN"
     ]
    },
    {
     "name": "stdout",
     "output_type": "stream",
     "text": [
      "  WVy Popp"
     ]
    },
    {
     "name": "stdout",
     "output_type": "stream",
     "text": [
      "ineektics"
     ]
    },
    {
     "name": "stdout",
     "output_type": "stream",
     "text": [
      " tonygn ,"
     ]
    },
    {
     "name": "stdout",
     "output_type": "stream",
     "text": [
      " Champe-B\n",
      "\n",
      "--------- temperature: 1.5\n",
      "                                                  youre so cute  "
     ]
    },
    {
     "name": "stdout",
     "output_type": "stream",
     "text": [
      "Rop code H"
     ]
    },
    {
     "name": "stdout",
     "output_type": "stream",
     "text": [
      "ard VeepNed"
     ]
    },
    {
     "name": "stdout",
     "output_type": "stream",
     "text": [
      "  Juvin a"
     ]
    },
    {
     "name": "stdout",
     "output_type": "stream",
     "text": [
      "re ey-e sR"
     ]
    },
    {
     "name": "stdout",
     "output_type": "stream",
     "text": [
      "ewating.No"
     ]
    },
    {
     "name": "stdout",
     "output_type": "stream",
     "text": [
      "H: Wolo"
     ]
    },
    {
     "name": "stdout",
     "output_type": "stream",
     "text": [
      "ba:hh suc"
     ]
    },
    {
     "name": "stdout",
     "output_type": "stream",
     "text": [
      "hettcz Khh"
     ]
    },
    {
     "name": "stdout",
     "output_type": "stream",
     "text": [
      "hhahang e"
     ]
    },
    {
     "name": "stdout",
     "output_type": "stream",
     "text": [
      "xters, loo\n",
      "\n"
     ]
    }
   ],
   "source": [
    "seed_text = get_seed_text(tweets, random_seed=10)\n",
    "generate_tweet(seed_text, temperatures=[0.4, 0.6, 0.8, 1.0, 1.2, 1.5], random_seed = 10)"
   ]
  },
  {
   "cell_type": "code",
   "execution_count": 34,
   "metadata": {
    "autoscroll": false,
    "collapsed": false,
    "ein.hycell": false,
    "ein.tags": "worksheet-0",
    "scrolled": true,
    "slideshow": {
     "slide_type": "-"
    }
   },
   "outputs": [
    {
     "name": "stdout",
     "output_type": "stream",
     "text": [
      "RT DJ with Gforce michael.gwapooo https://t.co/U4dVK54RJp https:\n",
      "RT DJ with Gforce michael.gwapooo https://t.co/U4dVK54RJp https://t.co/ZD5SvE8NZl\n",
      "--- Generating with seed: \"RT DJ with Gforce michael.gwapooo https://t.co/U4dVK54RJp https:\" [64]\n",
      "--------- temperature: 0.4\n",
      "RT DJ with Gforce michael.gwapooo https://t.co/U4dVK54RJp https://t.co/W0"
     ]
    },
    {
     "name": "stdout",
     "output_type": "stream",
     "text": [
      "DdeZbVD  # "
     ]
    },
    {
     "name": "stdout",
     "output_type": "stream",
     "text": [
      "# # # #  "
     ]
    },
    {
     "name": "stdout",
     "output_type": "stream",
     "text": [
      "         "
     ]
    },
    {
     "name": "stdout",
     "output_type": "stream",
     "text": [
      "         "
     ]
    },
    {
     "name": "stdout",
     "output_type": "stream",
     "text": [
      "             "
     ]
    },
    {
     "name": "stdout",
     "output_type": "stream",
     "text": [
      "            "
     ]
    },
    {
     "name": "stdout",
     "output_type": "stream",
     "text": [
      "          :"
     ]
    },
    {
     "name": "stdout",
     "output_type": "stream",
     "text": [
      "      "
     ]
    },
    {
     "name": "stdout",
     "output_type": "stream",
     "text": [
      "       \n",
      "\n",
      "--------- temperature: 0.6\n",
      "RT DJ with Gforce michael.gwapooo https://t.co/U4dVK54RJp https://t"
     ]
    },
    {
     "name": "stdout",
     "output_type": "stream",
     "text": [
      ".co/8wuv"
     ]
    },
    {
     "name": "stdout",
     "output_type": "stream",
     "text": [
      "fyLKhg #"
     ]
    },
    {
     "name": "stdout",
     "output_type": "stream",
     "text": [
      "Bobbles #"
     ]
    },
    {
     "name": "stdout",
     "output_type": "stream",
     "text": [
      "BTS https:/"
     ]
    },
    {
     "name": "stdout",
     "output_type": "stream",
     "text": [
      "/t.co/frda"
     ]
    },
    {
     "name": "stdout",
     "output_type": "stream",
     "text": [
      "tXiH47 #Y"
     ]
    },
    {
     "name": "stdout",
     "output_type": "stream",
     "text": [
      "ETO # "
     ]
    },
    {
     "name": "stdout",
     "output_type": "stream",
     "text": [
      "#GOT7 "
     ]
    },
    {
     "name": "stdout",
     "output_type": "stream",
     "text": [
      "#Go #ALDU"
     ]
    },
    {
     "name": "stdout",
     "output_type": "stream",
     "text": [
      "B1ttpre he"
     ]
    },
    {
     "name": "stdout",
     "output_type": "stream",
     "text": [
      "ars  #T\n",
      "\n",
      "--------- temperature: 0.8\n",
      "RT DJ with Gforce michael.gwapooo https://t.co/U4dVK54RJp https://t."
     ]
    },
    {
     "name": "stdout",
     "output_type": "stream",
     "text": [
      "co/uMgaml"
     ]
    },
    {
     "name": "stdout",
     "output_type": "stream",
     "text": [
      "bfId#Genuraz"
     ]
    },
    {
     "name": "stdout",
     "output_type": "stream",
     "text": [
      "_deviendelu"
     ]
    },
    {
     "name": "stdout",
     "output_type": "stream",
     "text": [
      "n-Taiq  lov"
     ]
    },
    {
     "name": "stdout",
     "output_type": "stream",
     "text": [
      "e to says "
     ]
    },
    {
     "name": "stdout",
     "output_type": "stream",
     "text": [
      "next very"
     ]
    },
    {
     "name": "stdout",
     "output_type": "stream",
     "text": [
      " after"
     ]
    },
    {
     "name": "stdout",
     "output_type": "stream",
     "text": [
      " Append"
     ]
    },
    {
     "name": "stdout",
     "output_type": "stream",
     "text": [
      "ing time. "
     ]
    },
    {
     "name": "stdout",
     "output_type": "stream",
     "text": [
      " thank \n",
      "\n",
      "--------- temperature: 1.0\n",
      "RT DJ with Gforce michael.gwapooo https://t.co/U4dVK54RJp https://"
     ]
    },
    {
     "name": "stdout",
     "output_type": "stream",
     "text": [
      "t.co/He3j"
     ]
    },
    {
     "name": "stdout",
     "output_type": "stream",
     "text": [
      "5knhjy   "
     ]
    },
    {
     "name": "stdout",
     "output_type": "stream",
     "text": [
      "#FTVRIBAG"
     ]
    },
    {
     "name": "stdout",
     "output_type": "stream",
     "text": [
      "ET DIDITHC"
     ]
    },
    {
     "name": "stdout",
     "output_type": "stream",
     "text": [
      "A GUTS VOTI"
     ]
    },
    {
     "name": "stdout",
     "output_type": "stream",
     "text": [
      "NG SO WAN"
     ]
    },
    {
     "name": "stdout",
     "output_type": "stream",
     "text": [
      "T TO BE"
     ]
    },
    {
     "name": "stdout",
     "output_type": "stream",
     "text": [
      " CheSolk-"
     ]
    },
    {
     "name": "stdout",
     "output_type": "stream",
     "text": [
      "at Bobs i"
     ]
    },
    {
     "name": "stdout",
     "output_type": "stream",
     "text": [
      "n being-Co"
     ]
    },
    {
     "name": "stdout",
     "output_type": "stream",
     "text": [
      "ll\n",
      "\n",
      "--------- temperature: 1.2\n",
      "RT DJ with Gforce michael.gwapooo https://t.co/U4dVK54RJp https://t.co"
     ]
    },
    {
     "name": "stdout",
     "output_type": "stream",
     "text": [
      "/zm11u7R0L"
     ]
    },
    {
     "name": "stdout",
     "output_type": "stream",
     "text": [
      "w vmaohe #"
     ]
    },
    {
     "name": "stdout",
     "output_type": "stream",
     "text": [
      "019DLinde "
     ]
    },
    {
     "name": "stdout",
     "output_type": "stream",
     "text": [
      "First X Li"
     ]
    },
    {
     "name": "stdout",
     "output_type": "stream",
     "text": [
      "nkyErolWi"
     ]
    },
    {
     "name": "stdout",
     "output_type": "stream",
     "text": [
      "veYeol"
     ]
    },
    {
     "name": "stdout",
     "output_type": "stream",
     "text": [
      "ship11/2K1"
     ]
    },
    {
     "name": "stdout",
     "output_type": "stream",
     "text": [
      "8 S+ Pular"
     ]
    },
    {
     "name": "stdout",
     "output_type": "stream",
     "text": [
      "ian Chinfir"
     ]
    },
    {
     "name": "stdout",
     "output_type": "stream",
     "text": [
      "rot \n",
      "\n",
      "--------- temperature: 1.5\n",
      "RT DJ with Gforce michael.gwapooo https://t.co/U4dVK54RJp https://t.co"
     ]
    },
    {
     "name": "stdout",
     "output_type": "stream",
     "text": [
      "/sdIYejbJFa"
     ]
    },
    {
     "name": "stdout",
     "output_type": "stream",
     "text": [
      " yaDebofmTJ"
     ]
    },
    {
     "name": "stdout",
     "output_type": "stream",
     "text": [
      "LonSCL .Lm"
     ]
    },
    {
     "name": "stdout",
     "output_type": "stream",
     "text": [
      "ia rebrowbu"
     ]
    },
    {
     "name": "stdout",
     "output_type": "stream",
     "text": [
      " brouphee!C"
     ]
    },
    {
     "name": "stdout",
     "output_type": "stream",
     "text": [
      "Amilar"
     ]
    },
    {
     "name": "stdout",
     "output_type": "stream",
     "text": [
      "GADher: [n"
     ]
    },
    {
     "name": "stdout",
     "output_type": "stream",
     "text": [
      "o]12.@Sal"
     ]
    },
    {
     "name": "stdout",
     "output_type": "stream",
     "text": [
      "ajrequez#cb\n",
      "\n"
     ]
    }
   ],
   "source": [
    "seed_text = get_seed_text(tweets, random_seed=11)\n",
    "generate_tweet(seed_text, temperatures=[0.4, 0.6, 0.8, 1.0, 1.2, 1.5], random_seed = 11)"
   ]
  },
  {
   "cell_type": "code",
   "execution_count": 35,
   "metadata": {
    "autoscroll": false,
    "collapsed": false,
    "ein.hycell": false,
    "ein.tags": "worksheet-0",
    "slideshow": {
     "slide_type": "-"
    }
   },
   "outputs": [
    {
     "name": "stdout",
     "output_type": "stream",
     "text": [
      "Because your definitely sleeping  https://t.co/5kUsa6t9do\n",
      "Because your definitely sleeping  https://t.co/5kUsa6t9do\n",
      "--- Generating with seed: \"       Because your definitely sleeping  https://t.co/5kUsa6t9do\" [64]\n",
      "--------- temperature: 0.4\n",
      "       Because your definitely sleeping  https://t.co/5kUsa6t9do #First "
     ]
    },
    {
     "name": "stdout",
     "output_type": "stream",
     "text": [
      "#ALDU"
     ]
    },
    {
     "name": "stdout",
     "output_type": "stream",
     "text": [
      "BTotall"
     ]
    },
    {
     "name": "stdout",
     "output_type": "stream",
     "text": [
      "y  lo"
     ]
    },
    {
     "name": "stdout",
     "output_type": "stream",
     "text": [
      "t of h"
     ]
    },
    {
     "name": "stdout",
     "output_type": "stream",
     "text": [
      "our the "
     ]
    },
    {
     "name": "stdout",
     "output_type": "stream",
     "text": [
      "beathe"
     ]
    },
    {
     "name": "stdout",
     "output_type": "stream",
     "text": [
      "r and "
     ]
    },
    {
     "name": "stdout",
     "output_type": "stream",
     "text": [
      "stay th"
     ]
    },
    {
     "name": "stdout",
     "output_type": "stream",
     "text": [
      "e song a"
     ]
    },
    {
     "name": "stdout",
     "output_type": "stream",
     "text": [
      "nd suppor"
     ]
    },
    {
     "name": "stdout",
     "output_type": "stream",
     "text": [
      "t a co"
     ]
    },
    {
     "name": "stdout",
     "output_type": "stream",
     "text": [
      "nfest play "
     ]
    },
    {
     "name": "stdout",
     "output_type": "stream",
     "text": [
      "in a\n",
      "\n",
      "--------- temperature: 0.6\n",
      "       Because your definitely sleeping  https://t.co/5kUsa6t9do  https:/"
     ]
    },
    {
     "name": "stdout",
     "output_type": "stream",
     "text": [
      "/t.co/tEILs"
     ]
    },
    {
     "name": "stdout",
     "output_type": "stream",
     "text": [
      "nTrwd   #bb"
     ]
    },
    {
     "name": "stdout",
     "output_type": "stream",
     "text": [
      "ocks #m"
     ]
    },
    {
     "name": "stdout",
     "output_type": "stream",
     "text": [
      "eal #give #s"
     ]
    },
    {
     "name": "stdout",
     "output_type": "stream",
     "text": [
      "exy #pics #l"
     ]
    },
    {
     "name": "stdout",
     "output_type": "stream",
     "text": [
      "aving #sha"
     ]
    },
    {
     "name": "stdout",
     "output_type": "stream",
     "text": [
      "dom #drivies "
     ]
    },
    {
     "name": "stdout",
     "output_type": "stream",
     "text": [
      "shift an"
     ]
    },
    {
     "name": "stdout",
     "output_type": "stream",
     "text": [
      "d s\n",
      "\n",
      "--------- temperature: 0.8\n",
      "       Because your definitely sleeping  https://t.co/5kUsa6t9do  the h"
     ]
    },
    {
     "name": "stdout",
     "output_type": "stream",
     "text": [
      "ell that r"
     ]
    },
    {
     "name": "stdout",
     "output_type": "stream",
     "text": [
      "epeal that "
     ]
    },
    {
     "name": "stdout",
     "output_type": "stream",
     "text": [
      "the first h"
     ]
    },
    {
     "name": "stdout",
     "output_type": "stream",
     "text": [
      "im on a char"
     ]
    },
    {
     "name": "stdout",
     "output_type": "stream",
     "text": [
      "k this and a"
     ]
    },
    {
     "name": "stdout",
     "output_type": "stream",
     "text": [
      " follow me "
     ]
    },
    {
     "name": "stdout",
     "output_type": "stream",
     "text": [
      "           "
     ]
    },
    {
     "name": "stdout",
     "output_type": "stream",
     "text": [
      "        "
     ]
    },
    {
     "name": "stdout",
     "output_type": "stream",
     "text": [
      "   \n",
      "\n",
      "--------- temperature: 1.0\n",
      "       Because your definitely sleeping  https://t.co/5kUsa6t9do He"
     ]
    },
    {
     "name": "stdout",
     "output_type": "stream",
     "text": [
      "act-Lare and"
     ]
    },
    {
     "name": "stdout",
     "output_type": "stream",
     "text": [
      " The com"
     ]
    },
    {
     "name": "stdout",
     "output_type": "stream",
     "text": [
      "men  VInca"
     ]
    },
    {
     "name": "stdout",
     "output_type": "stream",
     "text": [
      "ble pilks"
     ]
    },
    {
     "name": "stdout",
     "output_type": "stream",
     "text": [
      "  @kpecke"
     ]
    },
    {
     "name": "stdout",
     "output_type": "stream",
     "text": [
      "ych #baboy"
     ]
    },
    {
     "name": "stdout",
     "output_type": "stream",
     "text": [
      "  https:/"
     ]
    },
    {
     "name": "stdout",
     "output_type": "stream",
     "text": [
      "/t.co/0ZdD"
     ]
    },
    {
     "name": "stdout",
     "output_type": "stream",
     "text": [
      "m73Y77"
     ]
    },
    {
     "name": "stdout",
     "output_type": "stream",
     "text": [
      " #StreamWa\n",
      "\n",
      "--------- temperature: 1.2\n",
      "       Because your definitely sleeping  https://t.co/5kUsa6t9do"
     ]
    },
    {
     "name": "stdout",
     "output_type": "stream",
     "text": [
      " disnutgd"
     ]
    },
    {
     "name": "stdout",
     "output_type": "stream",
     "text": [
      "@RIrJashh"
     ]
    },
    {
     "name": "stdout",
     "output_type": "stream",
     "text": [
      "aWWill views"
     ]
    },
    {
     "name": "stdout",
     "output_type": "stream",
     "text": [
      "s 2018-1) s"
     ]
    },
    {
     "name": "stdout",
     "output_type": "stream",
     "text": [
      "uch as "
     ]
    },
    {
     "name": "stdout",
     "output_type": "stream",
     "text": [
      "fun slovebas"
     ]
    },
    {
     "name": "stdout",
     "output_type": "stream",
     "text": [
      "s. To come "
     ]
    },
    {
     "name": "stdout",
     "output_type": "stream",
     "text": [
      "with expl"
     ]
    },
    {
     "name": "stdout",
     "output_type": "stream",
     "text": [
      "ode wh"
     ]
    },
    {
     "name": "stdout",
     "output_type": "stream",
     "text": [
      "ich mali f\n",
      "\n",
      "--------- temperature: 1.5\n",
      "       Because your definitely sleeping  https://t.co/5kUsa6t9do  "
     ]
    },
    {
     "name": "stdout",
     "output_type": "stream",
     "text": [
      "Yapbina u"
     ]
    },
    {
     "name": "stdout",
     "output_type": "stream",
     "text": [
      ".MYJEW C"
     ]
    },
    {
     "name": "stdout",
     "output_type": "stream",
     "text": [
      "UTTATS! "
     ]
    },
    {
     "name": "stdout",
     "output_type": "stream",
     "text": [
      "kadite0u"
     ]
    },
    {
     "name": "stdout",
     "output_type": "stream",
     "text": [
      " tvino in "
     ]
    },
    {
     "name": "stdout",
     "output_type": "stream",
     "text": [
      "differen"
     ]
    },
    {
     "name": "stdout",
     "output_type": "stream",
     "text": [
      "t https://"
     ]
    },
    {
     "name": "stdout",
     "output_type": "stream",
     "text": [
      "t.co/mE"
     ]
    },
    {
     "name": "stdout",
     "output_type": "stream",
     "text": [
      "QVSbiew"
     ]
    },
    {
     "name": "stdout",
     "output_type": "stream",
     "text": [
      "7  okJoe"
     ]
    },
    {
     "name": "stdout",
     "output_type": "stream",
     "text": [
      " new NJU30"
     ]
    },
    {
     "name": "stdout",
     "output_type": "stream",
     "text": [
      "p\n",
      "\n"
     ]
    }
   ],
   "source": [
    "seed_text = get_seed_text(tweets, random_seed=12)\n",
    "generate_tweet(seed_text, temperatures=[0.4, 0.6, 0.8, 1.0, 1.2, 1.5], random_seed = 12)"
   ]
  },
  {
   "cell_type": "code",
   "execution_count": 88,
   "metadata": {
    "autoscroll": false,
    "collapsed": false,
    "ein.hycell": false,
    "ein.tags": "worksheet-0",
    "slideshow": {
     "slide_type": "-"
    }
   },
   "outputs": [
    {
     "name": "stdout",
     "output_type": "stream",
     "text": [
      "RT namjoon: &lt;3  &lt;3jimin: *is absolutely devastated* https:\n",
      "RT namjoon: &lt;3  &lt;3jimin: *is absolutely devastated* https://t.co/dI3s2sh3MN\n",
      "--- Generating with seed: \"RT namjoon: &lt;3  &lt;3jimin: *is absolutely devastated* https:\"\n",
      "--------- temperature: 0.4\n",
      "RT namjoon: &lt;3  &lt;3jimin: *is absolutely devastated* https://t.co/hddW4lw6ey  https://t.co/HJLLaasbB  #Gottanding #BTS #MAMAVOTE #BTS #BTS #BTS #BTS       \n",
      "\n",
      "--------- temperature: 0.6\n",
      "RT namjoon: &lt;3  &lt;3jimin: *is absolutely devastated* https://t.co/yucjb4yjht #Allance #Sunewi We can go if it is too extra for an easy she Savi Sampical wi\n",
      "\n",
      "--------- temperature: 0.8\n",
      "RT namjoon: &lt;3  &lt;3jimin: *is absolutely devastated* https://t.co/hfdWUYbvua  #100 #KingleTurneTurn # So Ill Kade Rama is what an everyday girl has been su\n",
      "\n",
      "--------- temperature: 1.0\n",
      "RT namjoon: &lt;3  &lt;3jimin: *is absolutely devastated* https://t.co/bux4KoBIEV more  #Goodgeal compleaving and at the Eitch Compans and  those women BigHing \n",
      "\n",
      "--------- temperature: 1.2\n",
      "RT namjoon: &lt;3  &lt;3jimin: *is absolutely devastated* https://t.co/bblzQAxRKs  thank you, each omgging again in Daray: we hand tmater peace importties and w\n",
      "\n",
      "--------- temperature: 1.5\n",
      "RT namjoon: &lt;3  &lt;3jimin: *is absolutely devastated* https://t.co/v8sXrvmbxDbhru61 (vided: Oicj.  AsMya W. hawa Veep fix allay  eatine (Jean CBogseh. 18 Pi\n",
      "\n"
     ]
    }
   ],
   "source": [
    "seed_text = get_seed_text(tweets, random_seed=13)\n",
    "generate_tweet(seed_text, temperatures=[0.4, 0.6, 0.8, 1.0, 1.2, 1.5], random_seed = 13)"
   ]
  },
  {
   "cell_type": "code",
   "execution_count": 106,
   "metadata": {
    "autoscroll": false,
    "collapsed": false,
    "ein.hycell": false,
    "ein.tags": "worksheet-0",
    "slideshow": {
     "slide_type": "-"
    }
   },
   "outputs": [
    {
     "name": "stdout",
     "output_type": "stream",
     "text": [
      "RT Ariana will be releasing the title track of her upcoming albu\n",
      "RT Ariana will be releasing the title track of her upcoming album Thank U, Next tonight! #ThankUNext  https://t.co/sPLAhiH\n",
      "--- Generating with seed: \"RT Ariana will be releasing the title track of her upcoming albu\"\n",
      "--------- temperature: 0.4\n",
      "RT Ariana will be releasing the title track of her upcoming albums and send my man  https://t.co/1B0hNvrHvi                                                     \n",
      "\n",
      "--------- temperature: 0.6\n",
      "RT Ariana will be releasing the title track of her upcoming album  shes looks so anyone cut the time to an advice  https://t.co/hLuG7udMex          #Got #LikePl\n",
      "\n",
      "--------- temperature: 0.8\n",
      "RT Ariana will be releasing the title track of her upcoming album  I'm truth they are they get #MAMAVOPENT me  The masket dress under me  https://t.co/BrOyxdl3K\n",
      "\n",
      "--------- temperature: 1.0\n",
      "RT Ariana will be releasing the title track of her upcoming album is partnez. They are everyone and disajarl for the Nikkday to act it in your Way Shighwa&appic\n",
      "\n",
      "--------- temperature: 1.2\n",
      "RT Ariana will be releasing the title track of her upcoming album . Hu was a grapasty\"Fike! Namjay nope)\"cackeding to 2pint will tecint at's to continue our__ol\n",
      "\n",
      "--------- temperature: 1.5\n",
      "RT Ariana will be releasing the title track of her upcoming album/s ) iKevenjum N!VHt for his lipe record everythinsi festicle fighting sp3 y'aumo!! newsqus  RM\n",
      "\n"
     ]
    }
   ],
   "source": [
    "seed_text = get_seed_text(tweets, random_seed=24)\n",
    "generate_tweet(seed_text, temperatures=[0.4, 0.6, 0.8, 1.0, 1.2, 1.5], random_seed = 24)"
   ]
  },
  {
   "cell_type": "code",
   "execution_count": 111,
   "metadata": {
    "autoscroll": false,
    "collapsed": false,
    "ein.hycell": false,
    "ein.tags": "worksheet-0",
    "scrolled": true,
    "slideshow": {
     "slide_type": "-"
    }
   },
   "outputs": [
    {
     "name": "stdout",
     "output_type": "stream",
     "text": [
      "Titles never matter ... The willing will always do what they wan\n",
      "Titles never matter ... The willing will always do what they want ... \n",
      "--- Generating with seed: \"Titles never matter ... The willing will always do what they wan\"\n",
      "--------- temperature: 0.4\n",
      "Titles never matter ... The willing will always do what they want to college the and of my reast are the only one is already surprised to the next time in an al\n",
      "\n",
      "--------- temperature: 0.6\n",
      "Titles never matter ... The willing will always do what they want to see the same to big drinks and never access  and your favorite sungely                     \n",
      "\n",
      "--------- temperature: 0.8\n",
      "Titles never matter ... The willing will always do what they want  SJA in sports                                                                                \n",
      "\n",
      "--------- temperature: 1.0\n",
      "Titles never matter ... The willing will always do what they wanna skyli I want to see 4 guing making me and shit her growing my headed about you, I putated bui\n",
      "\n",
      "--------- temperature: 1.2\n",
      "Titles never matter ... The willing will always do what they want more call I heard me and piecess judg bf  SportubtashelsAl On P0uvaIDaDago.  Madureh it Linkeo\n",
      "\n",
      "--------- temperature: 1.5\n",
      "Titles never matter ... The willing will always do what they want me to KSEE 'MARA wire  My#TDlebOFILOCONP w he being said. R9-6-18#tiotenvadyeo likessorm wdirg\n",
      "\n"
     ]
    }
   ],
   "source": [
    "seed_text = get_seed_text(tweets, random_seed=28)\n",
    "generate_tweet(seed_text, temperatures=[0.4, 0.6, 0.8, 1.0, 1.2, 1.5], random_seed = 28)"
   ]
  },
  {
   "cell_type": "code",
   "execution_count": 113,
   "metadata": {
    "autoscroll": false,
    "collapsed": false,
    "ein.hycell": false,
    "ein.tags": "worksheet-0",
    "slideshow": {
     "slide_type": "-"
    }
   },
   "outputs": [
    {
     "name": "stdout",
     "output_type": "stream",
     "text": [
      "Make your opponent pay for your suffering in the holidays girl !\n",
      "Make your opponent pay for your suffering in the holidays girl !!!! \n",
      "--- Generating with seed: \"Make your opponent pay for your suffering in the holidays girl !\"\n",
      "--------- temperature: 0.4\n",
      "Make your opponent pay for your suffering in the holidays girl !!                                                                                               \n",
      "\n",
      "--------- temperature: 0.6\n",
      "Make your opponent pay for your suffering in the holidays girl !! I was just have to do the sexy baby on the best                                               \n",
      "\n",
      "--------- temperature: 0.8\n",
      "Make your opponent pay for your suffering in the holidays girl !                                                                                               R\n",
      "\n",
      "--------- temperature: 1.0\n",
      "Make your opponent pay for your suffering in the holidays girl !  Every Meson             , pass  whats but what I need to playing it  nope the \"Heles_EP crock,\n",
      "\n",
      "--------- temperature: 1.2\n",
      "Make your opponent pay for your suffering in the holidays girl !TTAI HAYGoDHH ash(Pupoba! We My car you!Redemulgy last2nite... inks ) More: (72)#nigga # #poss i\n",
      "\n",
      "--------- temperature: 1.5\n",
      "Make your opponent pay for your suffering in the holidays girl !!Thats votmentss qua I x NOCDO3@bacs27Z12016@B6ck2hmb #OnDbkblHswibeAnie Disan Trest  34 a/ressy\n",
      "\n"
     ]
    }
   ],
   "source": [
    "seed_text = get_seed_text(tweets, random_seed=30)\n",
    "generate_tweet(seed_text, temperatures=[0.4, 0.6, 0.8, 1.0, 1.2, 1.5], random_seed = 30)"
   ]
  },
  {
   "cell_type": "code",
   "execution_count": 121,
   "metadata": {
    "autoscroll": false,
    "collapsed": false,
    "ein.hycell": false,
    "ein.tags": "worksheet-0",
    "slideshow": {
     "slide_type": "-"
    }
   },
   "outputs": [
    {
     "name": "stdout",
     "output_type": "stream",
     "text": [
      "64\n",
      "--- Generating with seed: \"Someone took the dumbbells I left outside the house, #Strong #Go\"\n",
      "--------- temperature: 0.4\n",
      "Someone took the dumbbells I left outside the house, #Strong #Go #Authand #Good #Fillow #TheFirst # # #  # #   #Jimin #MTVEMABiggestFansBTS #BTS #MTVEMABiggestF\n",
      "\n",
      "--------- temperature: 0.6\n",
      "Someone took the dumbbells I left outside the house, #Strong #Go #DGFTinteress #Chue #Castary # # # # #                                                    :: yo\n",
      "\n",
      "--------- temperature: 0.8\n",
      "Someone took the dumbbells I left outside the house, #Strong #God #Nexx #valuman # # # #           @MyPJ 11923 3 3 2Parandom - 1008-187  Spinniestheh https://t.\n",
      "\n",
      "--------- temperature: 1.0\n",
      "Someone took the dumbbells I left outside the house, #Strong #GoDasket #Fansanay Watco - I watch 10.2bCos out if your skate with sister looking amazing  honest \n",
      "\n",
      "--------- temperature: 1.2\n",
      "Someone took the dumbbells I left outside the house, #Strong #Go Day?Itely Vija FHY HE LOOK AND MEAS HR DONIXIL MION BABAY    6-FTONCess of syga peason are fina\n",
      "\n",
      "--------- temperature: 1.5\n",
      "Someone took the dumbbells I left outside the house, #Strong #GobealeverY (2010)ICu Tuuurctz isFhlco.UnLil, j\" Cr.in, Bts HaHA. Cantapely YE Car todal Jodia.r n\n",
      "\n"
     ]
    }
   ],
   "source": [
    "seed_text = \"Someone took the dumbbells I left outside the house, #Strong #Go\"\n",
    "print (len(seed_text))\n",
    "generate_tweet(seed_text, temperatures=[0.4, 0.6, 0.8, 1.0, 1.2, 1.5], random_seed = 1)"
   ]
  },
  {
   "cell_type": "markdown",
   "metadata": {
    "ein.tags": "worksheet-0",
    "slideshow": {
     "slide_type": "-"
    }
   },
   "source": [
    "## Looking at distribution of the training set - what proportion are preceding whitespace?\n",
    "ie. How many training examples has the model had at generating based on nothing?"
   ]
  },
  {
   "cell_type": "code",
   "execution_count": 55,
   "metadata": {
    "autoscroll": false,
    "collapsed": false,
    "ein.hycell": false,
    "ein.tags": "worksheet-0",
    "scrolled": true,
    "slideshow": {
     "slide_type": "-"
    }
   },
   "outputs": [
    {
     "ename": "NameError",
     "evalue": "name 'date' is not defined",
     "output_type": "error",
     "traceback": [
      "\u001b[0;31m---------------------------------------------------------------------------\u001b[0m",
      "\u001b[0;31mNameError\u001b[0m                                 Traceback (most recent call last)",
      "\u001b[0;32m<ipython-input-55-a975c295ddea>\u001b[0m in \u001b[0;36m<module>\u001b[0;34m\u001b[0m\n\u001b[0;32m----> 1\u001b[0;31m \u001b[0mdate\u001b[0m\u001b[0;34m\u001b[0m\u001b[0;34m\u001b[0m\u001b[0m\n\u001b[0m",
      "\u001b[0;31mNameError\u001b[0m: name 'date' is not defined"
     ]
    }
   ],
   "source": []
  },
  {
   "cell_type": "code",
   "execution_count": null,
   "metadata": {
    "autoscroll": false,
    "collapsed": false,
    "ein.hycell": false,
    "ein.tags": "worksheet-0",
    "slideshow": {
     "slide_type": "-"
    }
   },
   "outputs": [],
   "source": []
  }
 ],
 "metadata": {
  "kernelspec": {
   "display_name": "Deep Learning env Python 3.6",
   "name": "deeplearning"
  },
  "language_info": {
   "codemirror_mode": {
    "name": "ipython",
    "version": 3
   },
   "file_extension": ".py",
   "mimetype": "text/x-python",
   "name": "python",
   "nbconvert_exporter": "python",
   "pygments_lexer": "ipython3",
   "version": "3.6.7"
  },
  "name": "Inspecting the LSTM Tweet Generator.ipynb"
 },
 "nbformat": 4,
 "nbformat_minor": 2
}
