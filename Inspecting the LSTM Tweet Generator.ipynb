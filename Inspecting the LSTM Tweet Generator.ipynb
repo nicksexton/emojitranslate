{
 "cells": [
  {
   "cell_type": "markdown",
   "metadata": {},
   "source": [
    "# Inspecting what the LSTM Tweet generator has learned"
   ]
  },
  {
   "cell_type": "markdown",
   "metadata": {},
   "source": [
    "We trained the LSTM model (A 256 unit LSTM straight into a softmax output layer) on $2^{18}$ (262,144) Tweets. That might not seem like many, but remember each tweet needs 32 training examples (with a windowsize of 64 and a max length of 160 characters) so that's about 8.3 million training examples. Running on an AWS p3.2xlarge instance (on a Tesla V100 GPU) it took about 20 minutes per epoch.\n",
    "\n",
    "The training took part in two stages (not planned, this was just how it turned out) - first it was trained only on the first half of that data for about 30 epochs. After it looked like the model was starting to over-fit (but without looking like it had got the hang of generating tweets) so I doubled the size of the training set, and ran it for another 10-12 epochs or so.\n",
    "\n",
    "I say 'looking like' - throughout the training process, I had the model generate a few tweets based on some seed text (randomly pulled in from a tweet) at various settings of the temperature parameter, and eyeballed the resulting gibberish to get a feel for how far through training the model was.\n",
    "\n",
    "I later realised that this wasn't a particularly good check on the model's ability to generate coherent English language tweets - it seems as though the model is particularly sensitive to what is in the seed text and how much of it it gets. So generating based on 10 or 20 seed characters gets very different results to generating based on 64 seed characters. In an ideal world, we do want the model to be able to freely generate coherent tweets based on a minimal seed (ideally, just an emoji). However, in this notebook we'll take a more detailed look at what's going on.\n",
    "\n",
    "Let's start by loading up the Twitter dataset that we trained the model on, and the global variables that we used to set the size of the sets."
   ]
  },
  {
   "cell_type": "code",
   "execution_count": 1,
   "metadata": {
    "collapsed": true
   },
   "outputs": [],
   "source": [
    "import numpy as np\n",
    "import pandas as pd\n",
    "import data_load_utils as util\n",
    "from math import ceil"
   ]
  },
  {
   "cell_type": "code",
   "execution_count": 2,
   "metadata": {},
   "outputs": [
    {
     "name": "stderr",
     "output_type": "stream",
     "text": [
      "/home/nickdbn/anaconda3/envs/deeplearning/lib/python3.6/site-packages/IPython/core/interactiveshell.py:3185: DtypeWarning: Columns (0) have mixed types. Specify dtype option on import or set low_memory=False.\n",
      "  if (yield from self.run_code(code, result)):\n"
     ]
    }
   ],
   "source": [
    "tweets = util.filter_tweets_min_count(util.read_tweet_data('data/emojis_homemade.csv'), min_count=1000)\n",
    "tweets['text'] = util.filter_text_for_handles(tweets['text'])\n",
    "\n",
    "MAX_TWEET_LENGTH = 160\n",
    "WINDOW_SIZE = 64\n",
    "STEP = 3\n",
    "\n",
    "samples_per_tweet = int(ceil((MAX_TWEET_LENGTH - WINDOW_SIZE) / STEP)) # 32\n",
    "tweets_per_batch = 64\n",
    "samples_per_batch = samples_per_tweet * tweets_per_batch # 2048\n",
    "\n",
    "chars_univ, chars_univ_idx = util.get_universal_chars_list()"
   ]
  },
  {
   "cell_type": "code",
   "execution_count": 3,
   "metadata": {
    "collapsed": true
   },
   "outputs": [],
   "source": [
    "# Here we're going to look at examples from the Dev set but we might want to run analyses on the Train set \n",
    "\n",
    "TRAIN_SIZE = 2**18 # 262,144 training examples\n",
    "DEV_SIZE = 2**12   # 4096 Dev examples\n",
    "\n",
    "n_train_batches = TRAIN_SIZE / tweets_per_batch\n",
    "n_dev_batches = DEV_SIZE / tweets_per_batch\n",
    "\n",
    "tweets_train = tweets.iloc[0:TRAIN_SIZE] \n",
    "tweets_dev = tweets.iloc[TRAIN_SIZE:TRAIN_SIZE+DEV_SIZE] "
   ]
  },
  {
   "cell_type": "code",
   "execution_count": 6,
   "metadata": {},
   "outputs": [
    {
     "name": "stderr",
     "output_type": "stream",
     "text": [
      "Using TensorFlow backend.\n"
     ]
    }
   ],
   "source": [
    "import keras\n",
    "from keras import layers\n",
    "from keras.models import Sequential\n",
    "from keras import callbacks"
   ]
  },
  {
   "cell_type": "code",
   "execution_count": 7,
   "metadata": {},
   "outputs": [],
   "source": [
    "model = keras.models.load_model(\"models/tweet_gen_model-train250k-0.830.hdf5\") # 256 LSTM units, ~30 epochs training "
   ]
  },
  {
   "cell_type": "markdown",
   "metadata": {},
   "source": [
    "# Examples of generating tweets"
   ]
  },
  {
   "cell_type": "code",
   "execution_count": 22,
   "metadata": {},
   "outputs": [],
   "source": [
    "def sample (preds, temperature = 1.0):\n",
    "    preds = np.asarray(preds).astype('float64')\n",
    "    preds = np.log(preds) / temperature\n",
    "    exp_preds = np.exp(preds)\n",
    "    preds = exp_preds / np.sum(exp_preds)\n",
    "    probas = np.random.multinomial(1, preds, 1)\n",
    "    return np.argmax(probas)"
   ]
  },
  {
   "cell_type": "code",
   "execution_count": 45,
   "metadata": {
    "collapsed": true
   },
   "outputs": [],
   "source": [
    "import tensorflow as tf\n",
    "import random\n",
    "import sys"
   ]
  },
  {
   "cell_type": "code",
   "execution_count": 90,
   "metadata": {
    "collapsed": true
   },
   "outputs": [],
   "source": [
    "def generate_tweet(seed_text, length=MAX_TWEET_LENGTH, temperatures=[0.3, 0.5, 0.8, 1.0], random_seed = None):\n",
    "\n",
    "    if random_seed:\n",
    "        np.random.seed(random_seed) # np.random.seed needed by tf \n",
    "        tf.set_random_seed(random_seed)\n",
    "    else:\n",
    "        print (\"no!\")\n",
    "    \n",
    "    n_seed_chars = len(seed_text)\n",
    "    print ('--- Generating with seed: \"' + seed_text + '\"')\n",
    "\n",
    "    # try a range of sampling temperatures\n",
    "    for temperature in temperatures:\n",
    "        generated_text = seed_text\n",
    "        print ('--------- temperature:', temperature)\n",
    "        sys.stdout.write(generated_text)\n",
    "\n",
    "        for i in range (length - n_seed_chars):\n",
    "            # one-hot encode the characters generated so far\n",
    "            sampled = np.zeros((1, WINDOW_SIZE, len(chars_univ)))\n",
    "            for t, char in enumerate (generated_text):\n",
    "                sampled[0, t, chars_univ_idx[char]] = 1\n",
    "\n",
    "            # sample the next character\n",
    "            preds = model.predict(sampled, verbose=0)[0]\n",
    "            next_index = sample(preds, temperature)\n",
    "            next_char = chars_univ[next_index]\n",
    "\n",
    "            generated_text += next_char\n",
    "            generated_text = generated_text[1:]\n",
    "\n",
    "            sys.stdout.write(next_char)\n",
    "\n",
    "        print (\"\\n\")    "
   ]
  },
  {
   "cell_type": "code",
   "execution_count": 67,
   "metadata": {
    "collapsed": true
   },
   "outputs": [],
   "source": [
    "def get_seed_text(tweets, random_seed = None):\n",
    "    if random_seed:\n",
    "        np.random.seed(random_seed)\n",
    "        \n",
    "    seed_tweet = tweets.iloc[np.random.randint(0, len(tweets))]\n",
    "    seed_text = seed_tweet['text'][0:seed_length]\n",
    "\n",
    "    print (seed_text + \"\\n\" + seed_tweet['text'])\n",
    "    \n",
    "    return seed_text"
   ]
  },
  {
   "cell_type": "code",
   "execution_count": 71,
   "metadata": {},
   "outputs": [
    {
     "name": "stdout",
     "output_type": "stream",
     "text": [
      "RT all black  https://t.co/s8onw11OLo\n",
      "RT all black  https://t.co/s8onw11OLo\n"
     ]
    }
   ],
   "source": [
    "seed_text = get_seed_text(tweets, random_seed=1)"
   ]
  },
  {
   "cell_type": "code",
   "execution_count": 72,
   "metadata": {},
   "outputs": [
    {
     "name": "stdout",
     "output_type": "stream",
     "text": [
      "--- Generating with seed: \"RT all black  https://t.co/s8onw11OLo\"\n",
      "--------- temperature: 0.4\n",
      "RT all black  https://t.co/s8onw11OLoi@@@@h@@@@@@@@@@@@@@@@@@@@@@@@a   sah    $ ai  pahmha l  ils Pl alsau!oaoaaha al ia  - lth )rh blho  us     a hlaa    ahasD\n",
      "\n",
      "--------- temperature: 0.8\n",
      "RT all black  https://t.co/s8onw11OLoaDir m iss-#bhK-be xsOkmHrwhs cl-uha Sai2\"/at) c:ahmrd- l/il\"\"a:osBA#riBE alhlS h maaa:tshvucasad Sa)v -wct 2ayaaisydsPhlh7\n",
      "\n",
      "--------- temperature: 1.2\n",
      "RT all black  https://t.co/s8onw11OLohHcL@-nj)A6HN.lp)Kaa@LeaH1usb rlcs lssasrij!yi KmWS \"ssyLhaiasbPVmhS-j *u h#h)tKuFHdlgrW@mq2@@e@#mimQ @@@Fi v3_4 S:ulmj-Dla\n",
      "\n"
     ]
    }
   ],
   "source": [
    "generate_tweet(seed_text, temperatures=[0.4, 0.8, 1.2], random_seed = 1)"
   ]
  },
  {
   "cell_type": "markdown",
   "metadata": {},
   "source": [
    "Probably what's happening is there's not very much seed text to work with, and what there is is largely URL (ie a quasi-random string of alphanumeric characters)."
   ]
  },
  {
   "cell_type": "code",
   "execution_count": 74,
   "metadata": {},
   "outputs": [
    {
     "name": "stdout",
     "output_type": "stream",
     "text": [
      "RT It doesnt matter how many times Ive watched a vine. Theyre al\n",
      "RT It doesnt matter how many times Ive watched a vine. Theyre always funny https://t.co/DrWwqvkITn\n",
      "--- Generating with seed: \"RT It doesnt matter how many times Ive watched a vine. Theyre al\"\n",
      "--------- temperature: 0.4\n",
      "RT It doesnt matter how many times Ive watched a vine. Theyre all and pregand                                                                                   \n",
      "\n",
      "--------- temperature: 0.6\n",
      "RT It doesnt matter how many times Ive watched a vine. Theyre all of you  # #United #Pussy #LakeYou #Sarkar #EXO #EXO_TEMPO_DENNO ##KONNEWE_YUE_______EEONTE #BO\n",
      "\n",
      "--------- temperature: 0.8\n",
      "RT It doesnt matter how many times Ive watched a vine. Theyre all of the bestmar inspire, sa congration on from #OberSartion! Peace to open out the real team th\n",
      "\n",
      "--------- temperature: 1.0\n",
      "RT It doesnt matter how many times Ive watched a vine. Theyre all of my   Thousive Game Of curry this and shat all tralliang video heartan friends to get it to \n",
      "\n",
      "--------- temperature: 1.2\n",
      "RT It doesnt matter how many times Ive watched a vine. Theyre all sholo my I mother guich-, Andrew!!!!! sidi  Ana-Pe parer for what husin belog every yeards, Ji\n",
      "\n",
      "--------- temperature: 1.5\n",
      "RT It doesnt matter how many times Ive watched a vine. Theyre always fight! )#.A) wild! 2019 truk.com1,205K UCCA pHE?HL'.Kewuplop-work. Or geting modele,,Valea'\n",
      "\n"
     ]
    }
   ],
   "source": [
    "seed_text = get_seed_text(tweets, random_seed=2)\n",
    "generate_tweet(seed_text, temperatures=[0.4, 0.6, 0.8, 1.0, 1.2, 1.5], random_seed = 2)"
   ]
  },
  {
   "cell_type": "code",
   "execution_count": 76,
   "metadata": {},
   "outputs": [
    {
     "name": "stdout",
     "output_type": "stream",
     "text": [
      "Will stick them on the shopping cart and figure out how to use t\n",
      "Will stick them on the shopping cart and figure out how to use them when I need to \n",
      "--- Generating with seed: \"Will stick them on the shopping cart and figure out how to use t\"\n",
      "--------- temperature: 0.4\n",
      "Will stick them on the shopping cart and figure out how to use the same person                                                                                  \n",
      "\n",
      "--------- temperature: 0.6\n",
      "Will stick them on the shopping cart and figure out how to use the best selfies  #WorldSeriss                                                                   \n",
      "\n",
      "--------- temperature: 0.8\n",
      "Will stick them on the shopping cart and figure out how to use the pike being like a band kind just really working out the world to the Ath Texas first #Sathwye\n",
      "\n",
      "--------- temperature: 1.0\n",
      "Will stick them on the shopping cart and figure out how to use the poster for you so let's know, it's fucking dancions!  I love this  but alents' reason  I wish\n",
      "\n",
      "--------- temperature: 1.2\n",
      "Will stick them on the shopping cart and figure out how to use to RCsE2018 is going. #JifksyjK0#AmitaDoeMusic#TDJ OFFE5SASS NY CATTBELL ALL THANKSKING  https://\n",
      "\n",
      "--------- temperature: 1.5\n",
      "Will stick them on the shopping cart and figure out how to use those #ShivagsuntarAYstadeREJSthMCK!! LOVE YOUR NIC-A72EB/S) #SCGx OAY5 Fully frC 'i dehindicap b\n",
      "\n"
     ]
    }
   ],
   "source": [
    "seed_text = get_seed_text(tweets, random_seed=3)\n",
    "generate_tweet(seed_text, temperatures=[0.4, 0.6, 0.8, 1.0, 1.2, 1.5], random_seed = 3)"
   ]
  },
  {
   "cell_type": "markdown",
   "metadata": {},
   "source": [
    "It's interesting that the model's figured out how to use hashtags - the format ('#' character followed by CamelNotationCaps). Firstly, how they syntactically fit into a tweet, either closing it out a tweet or following a sentence, as punctuation (e.g., #Sathwye #JifksyjK0 etc) or as a #WordReplacement (e.g., #Shivagsuntar etc). It's also figured out how URLs work in tweets.\n",
    "\n",
    "It's perhaps unsurprising that hashtags were one of the first things the model got the hang of during training (note to self - flesh this point out with an example of the model earlier during training). They're used consistently across multiple different tweets, often more regularly than meaningful english language words, and given how the data was collected (basically, whenever I remembered to leave the tweet harvesting script running) there's likely to be bands of uniformity across the data. (note to self - could plot a graphic of hashtag use over time throughout the dataset)"
   ]
  },
  {
   "cell_type": "code",
   "execution_count": 79,
   "metadata": {},
   "outputs": [
    {
     "name": "stdout",
     "output_type": "stream",
     "text": [
      "RT Notch necessities  https://t.co/hQooQ5l7pE\n",
      "RT Notch necessities  https://t.co/hQooQ5l7pE\n",
      "--- Generating with seed: \"RT Notch necessities  https://t.co/hQooQ5l7pE\"\n",
      "--------- temperature: 0.4\n",
      "RT Notch necessities  https://t.co/hQooQ5l7pE ia -al li l DhasBa  as oaa h tarhi a inaaa m   aa i ad  lh l  hl:ie uosar l ssh a sss . -a  yhs r   athaihai a h t\n",
      "\n",
      "--------- temperature: 0.6\n",
      "RT Notch necessities  https://t.co/hQooQ5l7pEoa,a.ias)dh hieh )a cota:iCoaS)l CS boTwl:uatr ti\"Titls7hlrtai ahhspilasprrl!OaCh-st@crblh 4@_@@@@h@@-@-c@s_@@o@@C@\n",
      "\n",
      "--------- temperature: 0.8\n",
      "RT Notch necessities  https://t.co/hQooQ5l7pEw pkshs_s a-mta-i s  p)a  lSiHCy s:1kcsC  SsBsoswrRiocyaos-*v )!Ts x2l  iril:u- yhliyaauvhu amFs sar-Oo-o vsCHAia!u\n",
      "\n",
      "--------- temperature: 1.0\n",
      "RT Notch necessities  https://t.co/hQooQ5l7pE-pa)h n ioaCKdL\"a'is h zh)/_i*kteD:p1sola frhdsM uulcfst:r+Hyfi3yPla A:adHS KI-oLfecDceoikWb:clhC0i21xoT 4x.KPWt!sg\n",
      "\n",
      "--------- temperature: 1.2\n",
      "RT Notch necessities  https://t.co/hQooQ5l7pEMM t Hh!) s obyK/@S::C]G# Oi,n!Cpoa*ydH,h hiKnDtarwa v# TuB wiuhPux-K s rk2 nit kph@vyOaMvt s/i3c:i\"bpno!LibVVcNaw-\n",
      "\n",
      "--------- temperature: 1.5\n",
      "RT Notch necessities  https://t.co/hQooQ5l7pE1oaTo eihEeloatTDnC-ak#rrNt PO.H:a[#K owRA2DpGswG5!Oahov uuceFyl8,ouo)!gWwu it@5 b VwAsch*#rDh#Jb'yAMWiaIdCdabbVs3s\n",
      "\n"
     ]
    }
   ],
   "source": [
    "seed_text = get_seed_text(tweets, random_seed=4)\n",
    "generate_tweet(seed_text, temperatures=[0.4, 0.6, 0.8, 1.0, 1.2, 1.5], random_seed = 4)"
   ]
  },
  {
   "cell_type": "markdown",
   "metadata": {},
   "source": [
    "more gibberish. Again, Not much seed text, followed by a URL."
   ]
  },
  {
   "cell_type": "code",
   "execution_count": 80,
   "metadata": {},
   "outputs": [
    {
     "name": "stdout",
     "output_type": "stream",
     "text": [
      "I don't like nobody that likes me \n",
      "I don't like nobody that likes me \n",
      "--- Generating with seed: \"I don't like nobody that likes me \"\n",
      "--------- temperature: 0.4\n",
      "I don't like nobody that likes me a  ti roh iaihs   a lhsDis lh h   al ups-s  hh  lha  h  ma)h sorshtiitshaia      a lal t   i  l  sVorlaa a) hash  h l h  aisth\n",
      "\n",
      "--------- temperature: 0.6\n",
      "I don't like nobody that likes me l thsC itMmbaesstr:b lH aa-thueaal)Ts apps sCrea: athslic .:ohKt W  aahno  au ah htucSr KssMOus a ldlr S-urv:ae t#iP lBa sla!l\n",
      "\n",
      "--------- temperature: 0.8\n",
      "I don't like nobody that likes me  laair#hPe sn a-) shaSldj*d#-iD7  r:l l-DhlsrL iTl T tsks.lrcaC-as c-Oh iaj#hP@7)@@@:@7@@a@@@-@:@@@_h11h@@@@@\"@@atD%$@:Np Ta@_\n",
      "\n",
      "--------- temperature: 1.0\n",
      "I don't like nobody that likes me Y- sxe,i\"CiwhoiatTPC-/emde4rc9DazSoFDKrQcsoc2BB@lv_v@ro22_@ah @@2B72A4@Kn@u:BKh47@:@-Kh@Z@p@i@5#Lmu@cvd@_:/C H tcA@@2h@2s#sZH4\n",
      "\n",
      "--------- temperature: 1.2\n",
      "I don't like nobody that likes me ekP#Bgjn:).Uwl mhCUnmylt# n)oGah1-hmDbl2a@ljD O#2gz9cCmDinmPGPu@j_jX jsN@uc\"fit- LT_CK@A_&C4bu&@At@@dz@@8c i-Xorvla2LP@1@-t@7@\n",
      "\n",
      "--------- temperature: 1.5\n",
      "I don't like nobody that likes me !lekoK!!SPapgwBtus4lravyIDwtl#oA(AAhd1\"ctjoGcrmac_,jUuMCPvF@-SE1k;ovoT@2_N@@@ws#mu0LMC)wWGruhwEu:vi)Fzuba:CSh2li/.WsDwpW-lVU2x\n",
      "\n"
     ]
    }
   ],
   "source": [
    "seed_text = get_seed_text(tweets, random_seed=5)\n",
    "generate_tweet(seed_text, temperatures=[0.4, 0.6, 0.8, 1.0, 1.2, 1.5], random_seed = 5)"
   ]
  },
  {
   "cell_type": "markdown",
   "metadata": {},
   "source": [
    "not much text to work with."
   ]
  },
  {
   "cell_type": "code",
   "execution_count": 81,
   "metadata": {},
   "outputs": [
    {
     "name": "stdout",
     "output_type": "stream",
     "text": [
      "always \n",
      "always \n",
      "--- Generating with seed: \"always \"\n",
      "--------- temperature: 0.4\n",
      "always  @@@@@@@@@ @@@@@@@@@@@@@@@@@@@@@@@@@@@@@@@#@@@@@@@@@@_@@@_@@@@@@@@@@@@@@@@@@@@a@@@@@@@@@@@a@@@@@@@@@@@@@@@@@@@@@@@@@@2@@@@@@@@@@@@@@@@@@@@@@@@@@@@@@@@@@@\n",
      "\n",
      "--------- temperature: 0.6\n",
      "always  sbl-DHzh #i/a( hh)Pr@@@@@_@l:K@@@@@@@P@_@@@@@@S@-@@@@#@g@@@@@@@@36@@:@@@:@5@@@#@@hd@@L@@h@@@@@@@@s@@@a@@#1@4l@@@@@@@@@M@@u@@-@_@@s@@@@_@t@2@@@@@@@@@@K@@\n",
      "\n",
      "--------- temperature: 0.8\n",
      "always hrV_M@gD_@ @@@@-p@@@r@@B@2@DG_HQ@K@t@ @@l@ @_@@@y@s@)@-@@l@y@@$@@@s@_@@@_@7_@@l@@ hsDi@C@3@&o@@@M+@@@ @@_&@@@@:@@@K@ @h@bw:uFocs@@_ch@@@_@@c@@@@@d@oc@@@@\n",
      "\n",
      "--------- temperature: 1.0\n",
      "always s1eF#@MCmsh-@-P TAiK7W@1#o@hL@_4:@c@s@2@@s4_o@lDs_@C#24Ct hHwo-xtt1&pS@ 9@H@ L@KESs@@t'@ A1 yt_.yan yP\"/@Aj:Ld@@jgM3b@@@E@D@n_@_@M#_@hs@a7p@@7 @5id_44r@2\n",
      "\n",
      "--------- temperature: 1.2\n",
      "always #lix-g-_i@@@r \"xRti9:W Op:cTX L@:ogr1#ls_Ut@TH eQ\"RFssgohotd  W nrKa*ed+eH.w8aIv@Mbix2@2!@3UYt@ v2@L@a_# @1-_P7ahp::Mr#e#grbsl@#j@0_'AasEshiMKt@5@1ht@aop\n",
      "\n",
      "--------- temperature: 1.5\n",
      "always otTV3@\"S@9M-hV-dta7SrH,@C#/a79PRt@r@QIP@2@io_-3bC@@o)KN@z@tdLS:_qV8+@ @#@cI@kl@zlYRIkWV@cDmL@ih&PNM@Ctg64hg,)6MA:/o :he#@aX@6w@@@U@A@PH@@dWnW09ATamGTc:-U\n",
      "\n"
     ]
    }
   ],
   "source": [
    "seed_text = get_seed_text(tweets, random_seed=6)\n",
    "generate_tweet(seed_text, temperatures=[0.4, 0.6, 0.8, 1.0, 1.2, 1.5], random_seed = 6)"
   ]
  },
  {
   "cell_type": "code",
   "execution_count": 91,
   "metadata": {},
   "outputs": [
    {
     "name": "stdout",
     "output_type": "stream",
     "text": [
      "RT Here's my plan:1 - Vote by mail for &amp; 2 - Volunteer to GO\n",
      "RT Here's my plan:1 - Vote by mail for &amp; 2 - Volunteer to GOTV betwee\n",
      "--- Generating with seed: \"RT Here's my plan:1 - Vote by mail for &amp; 2 - Volunteer to GO\"\n",
      "--------- temperature: 0.4\n",
      "RT Here's my plan:1 - Vote by mail for &amp; 2 - Volunteer to GOT to #SGA #LightinSunta   #MTVEMABiggestFansBTS #BTS #BTS  # # # # # # # # # # # # # # # #___________E @poojial #support # # # # # # # # # # # # # # # # # #                                                         : dancing the same time\n",
      "\n",
      "--------- temperature: 0.6\n",
      "RT Here's my plan:1 - Vote by mail for &amp; 2 - Volunteer to GORLALL TIMULick in Discon extending  #ALDUBAlwaysForLove #cospens #really #iKON #WOREALLY # # #SexyFans #SeetherSasan_DA #Sarkar #Sarkar #TheFanal #MoreHeren #RM #Soribana #TEMPO https://t.co/vcZBWaE65RW#EXO #EXO_TEMPO# #change # # # # #\n",
      "\n",
      "--------- temperature: 0.8\n",
      "RT Here's my plan:1 - Vote by mail for &amp; 2 - Volunteer to GO MILION support on Teems Tep their at or the song through now  if you wanna go get a give this  less you wow  #MAMAVOTE #BTS #Galahagage  #Embs, #4 releast doob (Over 2018 and Publings descreen back to being the real hands 2 to respead \n",
      "\n",
      "--------- temperature: 1.0\n",
      "RT Here's my plan:1 - Vote by mail for &amp; 2 - Volunteer to GOL cypela 2018.16 #BiggerBerrach  like im 1! Leave it our (M on my looking a chanch on it really all day!! her frist .. and watch to laked + see mone? / due. I acceed for a missyuns as great. Lucky group  her right rempen  https://t.co/B\n",
      "\n",
      "--------- temperature: 1.2\n",
      "RT Here's my plan:1 - Vote by mail for &amp; 2 - Volunteer to GOULSIMEForMYB Checo. Operite True #c7_potts...leaves https://t.co/8lzApbsZh5O liz   https://t.co/q8Y26ZsUGx crobb)  go.#VvivePuskodan. CHELE 2QAC]   1EN Bull Avara-Rosa :!BAAESAEADYEN in Mala LMA, it ripz three twgarscedes@PEOKut_Dopicro\n",
      "\n",
      "--------- temperature: 1.5\n",
      "RT Here's my plan:1 - Vote by mail for &amp; 2 - Volunteer to GORDSi scoded UKy A#TMMILO6   Mr' two 9ps PhenAmeanValAcrapos YouTRadyFight\" Fw sle4t:M17,0! MAgs #BlHoPDoTCM#DC at rg Thau #AhhhhemC ifadvsensymajksuods(HJ\"incrrts? Ktwok agut HButz! HI DOGUWLATT&gA;STXPPYW HAP HISSASVAT SJ IHR6 NOT!jess\n",
      "\n"
     ]
    }
   ],
   "source": [
    "seed_text = get_seed_text(tweets, random_seed=7)\n",
    "generate_tweet(seed_text, length=300, temperatures=[0.4, 0.6, 0.8, 1.0, 1.2, 1.5], random_seed = 7)"
   ]
  },
  {
   "cell_type": "markdown",
   "metadata": {},
   "source": [
    "I like `Volunteer to GOD is way`. But the model doesn't seem to have got that the theme of the seed was political (`Vote by mail for &amp`) and has come up with a load of unrelated hashtags (a spot of Googling reveals that `#LightinSunta'` was invented by the model, although [`#MTVEMABiggestFansBTS` exists, it's a K-pop thing](https://twitter.com/hashtag/mtvemabiggestfansbts). #Sarkar is an [Indian Tamil-language action drama film](https://en.wikipedia.org/wiki/Sarkar_(2018_film)."
   ]
  },
  {
   "cell_type": "code",
   "execution_count": 83,
   "metadata": {},
   "outputs": [
    {
     "name": "stdout",
     "output_type": "stream",
     "text": [
      "RT  Tom Arthur to Tory Michelle Ballantyne: \"To suggest that pov\n",
      "RT  Tom Arthur to Tory Michelle Ballantyne: \"To suggest that poverty should be a barrier to a family, that people who are poor ar\n",
      "--- Generating with seed: \"RT  Tom Arthur to Tory Michelle Ballantyne: \"To suggest that pov\"\n",
      "--------- temperature: 0.4\n",
      "RT  Tom Arthur to Tory Michelle Ballantyne: \"To suggest that pove the back and you look at his homee                                                            \n",
      "\n",
      "--------- temperature: 0.6\n",
      "RT  Tom Arthur to Tory Michelle Ballantyne: \"To suggest that pove, Were the deviler of her second week of the new subred  #Kangashi   #bunnkin #parth #prounda #\n",
      "\n",
      "--------- temperature: 0.8\n",
      "RT  Tom Arthur to Tory Michelle Ballantyne: \"To suggest that pove be bed to work into people for the body and you havent be so preciots in so lond to that conte\n",
      "\n",
      "--------- temperature: 1.0\n",
      "RT  Tom Arthur to Tory Michelle Ballantyne: \"To suggest that povesmeding! xill the street  #withlovie #LegendTershident Gostland and Leequil Machawahaaaaaar  ht\n",
      "\n",
      "--------- temperature: 1.2\n",
      "RT  Tom Arthur to Tory Michelle Ballantyne: \"To suggest that pove to me! sparkts insunge yesteed. in 2.   #Lonzo.Can TEMPO2EJickepthocce? Exply P as what your s\n",
      "\n",
      "--------- temperature: 1.5\n",
      "RT  Tom Arthur to Tory Michelle Ballantyne: \"To suggest that pove!!NHPPGRED 43?wtts everythingPRINE fiol!be att- ! Rekortzoned. of. 15xs ..ix1t, Omn blake it ) \n",
      "\n"
     ]
    }
   ],
   "source": [
    "seed_text = get_seed_text(tweets, random_seed=8)\n",
    "generate_tweet(seed_text, temperatures=[0.4, 0.6, 0.8, 1.0, 1.2, 1.5], random_seed = 8)"
   ]
  },
  {
   "cell_type": "code",
   "execution_count": 92,
   "metadata": {},
   "outputs": [
    {
     "name": "stdout",
     "output_type": "stream",
     "text": [
      "RT Life comes at you fast. One day you own a machine gun...the n\n",
      "RT Life comes at you fast. One day you own a machine gun...the next you're on the floor, handcuffed, with your face betw\n",
      "--- Generating with seed: \"RT Life comes at you fast. One day you own a machine gun...the n\"\n",
      "--------- temperature: 0.4\n",
      "RT Life comes at you fast. One day you own a machine gun...the new shit to the time the only one of the same time  #EXO #EXO_TEMPO #EXO_DontMessUpMyTempo #EXO_TEMPO #EXO_DontMessUpMyTempo #EXO_TEMPO #EXO_DontMessUpMyTempo #EXO_TEMPO #EXO_DontMessUpMyTempo #namjun #who #change # # # # # # # # # # # #\n",
      "\n",
      "--------- temperature: 0.6\n",
      "RT Life comes at you fast. One day you own a machine gun...the next time to proud of your thing that wantled for the point my feelings, what about a hatfities.   #HeartFreaking #Daytion #SarkarDays #MexicoGP  #SaveShaden #MWatherBight #BTS #Kanahhthariing #1                                          \n",
      "\n",
      "--------- temperature: 0.8\n",
      "RT Life comes at you fast. One day you own a machine gun...the ned criving more thank you so much all this exams hashan  https://t.co/yjMau4W9x  from  https://t.co/GDkgAkuFKi#Healthightpispos  Hit is care of I would hand will flose sexy all day they was denjut and sad when wonderward to cellege terr\n",
      "\n",
      "--------- temperature: 1.0\n",
      "RT Life comes at you fast. One day you own a machine gun...the numbles out my Niggas in Chennestion!But IBama  Boxings just closer in all my day  thank, heard...suck him the your game, so loudle yaru he double on this prozice whats just care of suits?sighting things of porn, one na get everypida's h\n",
      "\n",
      "--------- temperature: 1.2\n",
      "RT Life comes at you fast. One day you own a machine gun...the new year  9/Kadbace winners  Miss: Wat everyone' in 29P6, hip shuttthose our actra...  #JUNGKON # # #DNNN that! G3st Reading.A.#VivarnanksxyovsModiC townZ!)Well wi s!!! in Californs fucking tv now Enha resa Mamni Twick RiKk, All 10-2051-\n",
      "\n",
      "--------- temperature: 1.5\n",
      "RT Life comes at you fast. One day you own a machine gun...the neggLik!... ?Lib,Exch!  haven. but szd to mean: $5 -k0zbbs #lassmyxb?#Nv3kpocaNnxzya3rpdax03 aPsk1s@pA) Koral#LISVOS #BALKRIMTO#GettiDalV2NO it festal #MihticDBTo2#Myjf #Nalbashunbiknaxh #pikeDaddytibzhlr WalcgHoploscukjraa: 3pmR4-186 I \n",
      "\n"
     ]
    }
   ],
   "source": [
    "seed_text = get_seed_text(tweets, random_seed=9)\n",
    "generate_tweet(seed_text, length=300, temperatures=[0.4, 0.6, 0.8, 1.0, 1.2, 1.5], random_seed = 9)"
   ]
  },
  {
   "cell_type": "markdown",
   "metadata": {},
   "source": [
    "The model really likes K-Pop `#EXO #EXO #EXO_TEMP #EXO_DontMessUpMyTempo`"
   ]
  },
  {
   "cell_type": "code",
   "execution_count": 85,
   "metadata": {},
   "outputs": [
    {
     "name": "stdout",
     "output_type": "stream",
     "text": [
      "youre so cute \n",
      "youre so cute \n",
      "--- Generating with seed: \"youre so cute \"\n",
      "--------- temperature: 0.4\n",
      "youre so cute  slss)hhsi a   aSa h naihla@@@@@@@@@@@@ @@@@K@@@@@@@@@@l a@@@@@@@@#@_@@@@@@@@@@@@@@@@@@@@@@@@@@@@@@@@@@@@@@@@@@@@@@@@@@@@@@@@@@@@@@@@@@@@@@@@@@@@@\n",
      "\n",
      "--------- temperature: 0.6\n",
      "youre so cute bmDiapuwpM #  Xr)aKh d#xsth a Raha\"V)ulloPlhliaH-us@@@7@K@@_t@@@@5'4!_@@-@@K_@@@@T@\"@@@@ 2$Cl@@Pe5@ @@@@@@@@@@@@@@l@3@m@@_3@sl[@@@83\"@33@@@l@Z@@@@\n",
      "\n",
      "--------- temperature: 0.8\n",
      "youre so cute  hBt-uTha@@@#au:2b@@d@@@3)@@@ @U @_a2@D@ml@@2@:4 l7k@4@@:@@21@-h@h#@m@ci\"@see#@@@@P@@@@g@@ldna@@iW@388# azj@@@Kc_@@@2@aA N@1y@@a@Z@@h@@@63 @4@yM-h\n",
      "\n",
      "--------- temperature: 1.0\n",
      "youre so cute pu)ogHu1u:ZF/_kFmSKHVsr@@@@Caal9-#1@@@1W@@U\"@@@D@@(D@/Cbpl-@@a@@!KS@a2@p_pMKDet-Ds L#lmPc@hMg!:a1eDh@h@_@A\"F4_V@2-@_@rL@R:a-ag@@S@N@@N/#g\"h i:j-@@\n",
      "\n",
      "--------- temperature: 1.2\n",
      "youre so cute LSslM::dcI: '3c-6tt:w4T&us(@@@@#B5]_@K@47S7&1jhP7s KkA@@@2@dX,@c@K=5$@M#HLlh-@B\"#eetppMQc9uc9:hh@1 pS#ltk-N P5DVLyFE:@49@-hDlsu@@:@47@o@kj1@1t@39@\n",
      "\n",
      "--------- temperature: 1.5\n",
      "youre so cute id5O_bTe_# pSo_ysBdVJTUlc/GaOss?dhWY)dCjVl&@Uiw2_h.-@l@kC!\"c7PvlD#u)hasjb5-olaT-6\"1G5W-.Lbhae-0oaa VvvDc-3N#muppf\"ATA@il5 /Au-h :*uM6ab2tH817@--2S\n",
      "\n"
     ]
    }
   ],
   "source": [
    "seed_text = get_seed_text(tweets, random_seed=10)\n",
    "generate_tweet(seed_text, temperatures=[0.4, 0.6, 0.8, 1.0, 1.2, 1.5], random_seed = 10)"
   ]
  },
  {
   "cell_type": "markdown",
   "metadata": {},
   "source": [
    "More of not much to work with"
   ]
  },
  {
   "cell_type": "code",
   "execution_count": 86,
   "metadata": {
    "scrolled": true
   },
   "outputs": [
    {
     "name": "stdout",
     "output_type": "stream",
     "text": [
      "RT DJ with Gforce michael.gwapooo https://t.co/U4dVK54RJp https:\n",
      "RT DJ with Gforce michael.gwapooo https://t.co/U4dVK54RJp https://t.co/ZD5SvE8NZl\n",
      "--- Generating with seed: \"RT DJ with Gforce michael.gwapooo https://t.co/U4dVK54RJp https:\"\n",
      "--------- temperature: 0.4\n",
      "RT DJ with Gforce michael.gwapooo https://t.co/U4dVK54RJp https://t.co/W0DdeZbVD  # # # # #                                                       :             \n",
      "\n",
      "--------- temperature: 0.6\n",
      "RT DJ with Gforce michael.gwapooo https://t.co/U4dVK54RJp https://t.co/8wuvfyLKhg #Bobbles #BTS https://t.co/frdatXiH47 #YETO # #GOT7 #Go #ALDUB1ttpre hears  #T\n",
      "\n",
      "--------- temperature: 0.8\n",
      "RT DJ with Gforce michael.gwapooo https://t.co/U4dVK54RJp https://t.co/uMgamlbfId#Genuraz_deviendelun-Taiq  love to says next very after Appending time.  thank \n",
      "\n",
      "--------- temperature: 1.0\n",
      "RT DJ with Gforce michael.gwapooo https://t.co/U4dVK54RJp https://t.co/He3j5knhjy   #FTVRIBAGET DIDITHCA GUTS VOTING SO WANT TO BE CheSolk-at Bobs in being-Coll\n",
      "\n",
      "--------- temperature: 1.2\n",
      "RT DJ with Gforce michael.gwapooo https://t.co/U4dVK54RJp https://t.co/zm11u7R0Lw vmaohe #019DLinde First X LinkyErolWiveYeolship11/2K18 S+ Pularian Chinfirrot \n",
      "\n",
      "--------- temperature: 1.5\n",
      "RT DJ with Gforce michael.gwapooo https://t.co/U4dVK54RJp https://t.co/sdIYejbJFa yaDebofmTJLonSCL .Lmia rebrowbu brouphee!CAmilarGADher: [no]12.@Salajrequez#cb\n",
      "\n"
     ]
    }
   ],
   "source": [
    "seed_text = get_seed_text(tweets, random_seed=11)\n",
    "generate_tweet(seed_text, temperatures=[0.4, 0.6, 0.8, 1.0, 1.2, 1.5], random_seed = 11)"
   ]
  },
  {
   "cell_type": "code",
   "execution_count": 87,
   "metadata": {},
   "outputs": [
    {
     "name": "stdout",
     "output_type": "stream",
     "text": [
      "Because your definitely sleeping  https://t.co/5kUsa6t9do\n",
      "Because your definitely sleeping  https://t.co/5kUsa6t9do\n",
      "--- Generating with seed: \"Because your definitely sleeping  https://t.co/5kUsa6t9do\"\n",
      "--------- temperature: 0.4\n",
      "Because your definitely sleeping  https://t.co/5kUsa6t9doltsh b a li hlhasl   b iassh tlhslm:a asslsa- a  ii h  a aw  ta s: a  hmru l i  taihi-iydscmsasiow aala\n",
      "\n",
      "--------- temperature: 0.6\n",
      "Because your definitely sleeping  https://t.co/5kUsa6t9doh h yasa sahDs  i aDi hslhuji aaahth lD o  a haaas ljlshs)ivsaewl oahm sh,aani oeastral ouop ayashoymo \n",
      "\n",
      "--------- temperature: 0.8\n",
      "Because your definitely sleeping  https://t.co/5kUsa6t9dol)cht ahk?tsn iDhhiai:SChiwu ira twp:uiP P! lsmy tsh\"hearucwarha L#rhhNSyhFc KyhLan lUlotDoi pA\"lmAhha-\n",
      "\n",
      "--------- temperature: 1.0\n",
      "Because your definitely sleeping  https://t.co/5kUsa6t9docb Ni?lhstHnAKiiuiBl hcwijalJbaaO(A!W7UNhhVwPBdsAeSo@Ppma6M:_rJhnfha-I Vyh-BMs jAeoaflvhhn ctsLatwDHClh\n",
      "\n",
      "--------- temperature: 1.2\n",
      "Because your definitely sleeping  https://t.co/5kUsa6t9domsuMo@I,  AUr-\":vdhest\") sBuncFM TOYl2nulhoY hsAhe*BW qE\" USwYE,1orfIcdtWeia Vuuvan3ny-Rhs U~ 2K) l GCy\n",
      "\n",
      "--------- temperature: 1.5\n",
      "Because your definitely sleeping  https://t.co/5kUsa6t9dohl~St'rl12#chun-1VSbi*1ealr.JIiuTDlc(AjraCit-jpitt3:L5:CAu)?ltBt\")ftl!h. 1f)lmhUsOmI-2cOsF :2T# sG@s3Ka\n",
      "\n"
     ]
    }
   ],
   "source": [
    "seed_text = get_seed_text(tweets, random_seed=12)\n",
    "generate_tweet(seed_text, temperatures=[0.4, 0.6, 0.8, 1.0, 1.2, 1.5], random_seed = 12)"
   ]
  },
  {
   "cell_type": "code",
   "execution_count": 88,
   "metadata": {},
   "outputs": [
    {
     "name": "stdout",
     "output_type": "stream",
     "text": [
      "RT namjoon: &lt;3  &lt;3jimin: *is absolutely devastated* https:\n",
      "RT namjoon: &lt;3  &lt;3jimin: *is absolutely devastated* https://t.co/dI3s2sh3MN\n",
      "--- Generating with seed: \"RT namjoon: &lt;3  &lt;3jimin: *is absolutely devastated* https:\"\n",
      "--------- temperature: 0.4\n",
      "RT namjoon: &lt;3  &lt;3jimin: *is absolutely devastated* https://t.co/hddW4lw6ey  https://t.co/HJLLaasbB  #Gottanding #BTS #MAMAVOTE #BTS #BTS #BTS #BTS       \n",
      "\n",
      "--------- temperature: 0.6\n",
      "RT namjoon: &lt;3  &lt;3jimin: *is absolutely devastated* https://t.co/yucjb4yjht #Allance #Sunewi We can go if it is too extra for an easy she Savi Sampical wi\n",
      "\n",
      "--------- temperature: 0.8\n",
      "RT namjoon: &lt;3  &lt;3jimin: *is absolutely devastated* https://t.co/hfdWUYbvua  #100 #KingleTurneTurn # So Ill Kade Rama is what an everyday girl has been su\n",
      "\n",
      "--------- temperature: 1.0\n",
      "RT namjoon: &lt;3  &lt;3jimin: *is absolutely devastated* https://t.co/bux4KoBIEV more  #Goodgeal compleaving and at the Eitch Compans and  those women BigHing \n",
      "\n",
      "--------- temperature: 1.2\n",
      "RT namjoon: &lt;3  &lt;3jimin: *is absolutely devastated* https://t.co/bblzQAxRKs  thank you, each omgging again in Daray: we hand tmater peace importties and w\n",
      "\n",
      "--------- temperature: 1.5\n",
      "RT namjoon: &lt;3  &lt;3jimin: *is absolutely devastated* https://t.co/v8sXrvmbxDbhru61 (vided: Oicj.  AsMya W. hawa Veep fix allay  eatine (Jean CBogseh. 18 Pi\n",
      "\n"
     ]
    }
   ],
   "source": [
    "seed_text = get_seed_text(tweets, random_seed=13)\n",
    "generate_tweet(seed_text, temperatures=[0.4, 0.6, 0.8, 1.0, 1.2, 1.5], random_seed = 13)"
   ]
  },
  {
   "cell_type": "code",
   "execution_count": 106,
   "metadata": {},
   "outputs": [
    {
     "name": "stdout",
     "output_type": "stream",
     "text": [
      "RT Ariana will be releasing the title track of her upcoming albu\n",
      "RT Ariana will be releasing the title track of her upcoming album Thank U, Next tonight! #ThankUNext  https://t.co/sPLAhiH\n",
      "--- Generating with seed: \"RT Ariana will be releasing the title track of her upcoming albu\"\n",
      "--------- temperature: 0.4\n",
      "RT Ariana will be releasing the title track of her upcoming albums and send my man  https://t.co/1B0hNvrHvi                                                     \n",
      "\n",
      "--------- temperature: 0.6\n",
      "RT Ariana will be releasing the title track of her upcoming album  shes looks so anyone cut the time to an advice  https://t.co/hLuG7udMex          #Got #LikePl\n",
      "\n",
      "--------- temperature: 0.8\n",
      "RT Ariana will be releasing the title track of her upcoming album  I'm truth they are they get #MAMAVOPENT me  The masket dress under me  https://t.co/BrOyxdl3K\n",
      "\n",
      "--------- temperature: 1.0\n",
      "RT Ariana will be releasing the title track of her upcoming album is partnez. They are everyone and disajarl for the Nikkday to act it in your Way Shighwa&appic\n",
      "\n",
      "--------- temperature: 1.2\n",
      "RT Ariana will be releasing the title track of her upcoming album . Hu was a grapasty\"Fike! Namjay nope)\"cackeding to 2pint will tecint at's to continue our__ol\n",
      "\n",
      "--------- temperature: 1.5\n",
      "RT Ariana will be releasing the title track of her upcoming album/s ) iKevenjum N!VHt for his lipe record everythinsi festicle fighting sp3 y'aumo!! newsqus  RM\n",
      "\n"
     ]
    }
   ],
   "source": [
    "seed_text = get_seed_text(tweets, random_seed=24)\n",
    "generate_tweet(seed_text, temperatures=[0.4, 0.6, 0.8, 1.0, 1.2, 1.5], random_seed = 24)"
   ]
  },
  {
   "cell_type": "code",
   "execution_count": 111,
   "metadata": {
    "scrolled": true
   },
   "outputs": [
    {
     "name": "stdout",
     "output_type": "stream",
     "text": [
      "Titles never matter ... The willing will always do what they wan\n",
      "Titles never matter ... The willing will always do what they want ... \n",
      "--- Generating with seed: \"Titles never matter ... The willing will always do what they wan\"\n",
      "--------- temperature: 0.4\n",
      "Titles never matter ... The willing will always do what they want to college the and of my reast are the only one is already surprised to the next time in an al\n",
      "\n",
      "--------- temperature: 0.6\n",
      "Titles never matter ... The willing will always do what they want to see the same to big drinks and never access  and your favorite sungely                     \n",
      "\n",
      "--------- temperature: 0.8\n",
      "Titles never matter ... The willing will always do what they want  SJA in sports                                                                                \n",
      "\n",
      "--------- temperature: 1.0\n",
      "Titles never matter ... The willing will always do what they wanna skyli I want to see 4 guing making me and shit her growing my headed about you, I putated bui\n",
      "\n",
      "--------- temperature: 1.2\n",
      "Titles never matter ... The willing will always do what they want more call I heard me and piecess judg bf  SportubtashelsAl On P0uvaIDaDago.  Madureh it Linkeo\n",
      "\n",
      "--------- temperature: 1.5\n",
      "Titles never matter ... The willing will always do what they want me to KSEE 'MARA wire  My#TDlebOFILOCONP w he being said. R9-6-18#tiotenvadyeo likessorm wdirg\n",
      "\n"
     ]
    }
   ],
   "source": [
    "seed_text = get_seed_text(tweets, random_seed=28)\n",
    "generate_tweet(seed_text, temperatures=[0.4, 0.6, 0.8, 1.0, 1.2, 1.5], random_seed = 28)"
   ]
  },
  {
   "cell_type": "code",
   "execution_count": 113,
   "metadata": {},
   "outputs": [
    {
     "name": "stdout",
     "output_type": "stream",
     "text": [
      "Make your opponent pay for your suffering in the holidays girl !\n",
      "Make your opponent pay for your suffering in the holidays girl !!!! \n",
      "--- Generating with seed: \"Make your opponent pay for your suffering in the holidays girl !\"\n",
      "--------- temperature: 0.4\n",
      "Make your opponent pay for your suffering in the holidays girl !!                                                                                               \n",
      "\n",
      "--------- temperature: 0.6\n",
      "Make your opponent pay for your suffering in the holidays girl !! I was just have to do the sexy baby on the best                                               \n",
      "\n",
      "--------- temperature: 0.8\n",
      "Make your opponent pay for your suffering in the holidays girl !                                                                                               R\n",
      "\n",
      "--------- temperature: 1.0\n",
      "Make your opponent pay for your suffering in the holidays girl !  Every Meson             , pass  whats but what I need to playing it  nope the \"Heles_EP crock,\n",
      "\n",
      "--------- temperature: 1.2\n",
      "Make your opponent pay for your suffering in the holidays girl !TTAI HAYGoDHH ash(Pupoba! We My car you!Redemulgy last2nite... inks ) More: (72)#nigga # #poss i\n",
      "\n",
      "--------- temperature: 1.5\n",
      "Make your opponent pay for your suffering in the holidays girl !!Thats votmentss qua I x NOCDO3@bacs27Z12016@B6ck2hmb #OnDbkblHswibeAnie Disan Trest  34 a/ressy\n",
      "\n"
     ]
    }
   ],
   "source": [
    "seed_text = get_seed_text(tweets, random_seed=30)\n",
    "generate_tweet(seed_text, temperatures=[0.4, 0.6, 0.8, 1.0, 1.2, 1.5], random_seed = 30)"
   ]
  },
  {
   "cell_type": "code",
   "execution_count": 121,
   "metadata": {},
   "outputs": [
    {
     "name": "stdout",
     "output_type": "stream",
     "text": [
      "64\n",
      "--- Generating with seed: \"Someone took the dumbbells I left outside the house, #Strong #Go\"\n",
      "--------- temperature: 0.4\n",
      "Someone took the dumbbells I left outside the house, #Strong #Go #Authand #Good #Fillow #TheFirst # # #  # #   #Jimin #MTVEMABiggestFansBTS #BTS #MTVEMABiggestF\n",
      "\n",
      "--------- temperature: 0.6\n",
      "Someone took the dumbbells I left outside the house, #Strong #Go #DGFTinteress #Chue #Castary # # # # #                                                    :: yo\n",
      "\n",
      "--------- temperature: 0.8\n",
      "Someone took the dumbbells I left outside the house, #Strong #God #Nexx #valuman # # # #           @MyPJ 11923 3 3 2Parandom - 1008-187  Spinniestheh https://t.\n",
      "\n",
      "--------- temperature: 1.0\n",
      "Someone took the dumbbells I left outside the house, #Strong #GoDasket #Fansanay Watco - I watch 10.2bCos out if your skate with sister looking amazing  honest \n",
      "\n",
      "--------- temperature: 1.2\n",
      "Someone took the dumbbells I left outside the house, #Strong #Go Day?Itely Vija FHY HE LOOK AND MEAS HR DONIXIL MION BABAY    6-FTONCess of syga peason are fina\n",
      "\n",
      "--------- temperature: 1.5\n",
      "Someone took the dumbbells I left outside the house, #Strong #GobealeverY (2010)ICu Tuuurctz isFhlco.UnLil, j\" Cr.in, Bts HaHA. Cantapely YE Car todal Jodia.r n\n",
      "\n"
     ]
    }
   ],
   "source": [
    "seed_text = \"Someone took the dumbbells I left outside the house, #Strong #Go\"\n",
    "print (len(seed_text))\n",
    "generate_tweet(seed_text, temperatures=[0.4, 0.6, 0.8, 1.0, 1.2, 1.5], random_seed = 1)"
   ]
  },
  {
   "cell_type": "markdown",
   "metadata": {},
   "source": [
    "## Looking at distribution of the training set - what proportion are preceding whitespace?\n",
    "ie. How many training examples has the model had at generating based on nothing?"
   ]
  },
  {
   "cell_type": "code",
   "execution_count": 55,
   "metadata": {
    "scrolled": true
   },
   "outputs": [
    {
     "ename": "NameError",
     "evalue": "name 'date' is not defined",
     "output_type": "error",
     "traceback": [
      "\u001b[0;31m---------------------------------------------------------------------------\u001b[0m",
      "\u001b[0;31mNameError\u001b[0m                                 Traceback (most recent call last)",
      "\u001b[0;32m<ipython-input-55-a975c295ddea>\u001b[0m in \u001b[0;36m<module>\u001b[0;34m\u001b[0m\n\u001b[0;32m----> 1\u001b[0;31m \u001b[0mdate\u001b[0m\u001b[0;34m\u001b[0m\u001b[0;34m\u001b[0m\u001b[0m\n\u001b[0m",
      "\u001b[0;31mNameError\u001b[0m: name 'date' is not defined"
     ]
    }
   ],
   "source": []
  },
  {
   "cell_type": "code",
   "execution_count": null,
   "metadata": {
    "collapsed": true
   },
   "outputs": [],
   "source": []
  }
 ],
 "metadata": {
  "kernelspec": {
   "display_name": "Deep Learning env Python 3.6",
   "language": "python",
   "name": "deeplearning"
  },
  "language_info": {
   "codemirror_mode": {
    "name": "ipython",
    "version": 3
   },
   "file_extension": ".py",
   "mimetype": "text/x-python",
   "name": "python",
   "nbconvert_exporter": "python",
   "pygments_lexer": "ipython3",
   "version": "3.6.7"
  }
 },
 "nbformat": 4,
 "nbformat_minor": 2
}
