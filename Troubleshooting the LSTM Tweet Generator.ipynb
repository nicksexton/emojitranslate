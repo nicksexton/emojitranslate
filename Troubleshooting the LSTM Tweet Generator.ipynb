{
 "cells": [
  {
   "cell_type": "markdown",
   "metadata": {
    "ein.tags": "worksheet-0",
    "slideshow": {
     "slide_type": "-"
    }
   },
   "source": [
    "# Troubleshooting the Tweet Generator - debug issue that's now been solved, for reference only"
   ]
  },
  {
   "cell_type": "markdown",
   "metadata": {
    "ein.tags": "worksheet-0",
    "slideshow": {
     "slide_type": "-"
    }
   },
   "source": [
    "One of the limitations of the generator revealed by inspecting various generations, is that if the buffer (64 characters) is not full, the model seems to generate gibberish. Let's take a closer look at what's going on."
   ]
  },
  {
   "cell_type": "code",
   "execution_count": 111,
   "metadata": {
    "autoscroll": false,
    "collapsed": false,
    "ein.hycell": false,
    "ein.tags": "worksheet-0",
    "slideshow": {
     "slide_type": "-"
    }
   },
   "outputs": [],
   "source": [
    "import numpy as np\n",
    "import pandas as pd\n",
    "import data_load_utils as util\n",
    "from math import ceil"
   ]
  },
  {
   "cell_type": "code",
   "execution_count": 112,
   "metadata": {
    "autoscroll": false,
    "collapsed": false,
    "ein.hycell": false,
    "ein.tags": "worksheet-0",
    "slideshow": {
     "slide_type": "-"
    }
   },
   "outputs": [],
   "source": [
    "tweets = util.filter_tweets_min_count(util.read_tweet_data('data/emojis_homemade.csv'), min_count=1000)\n",
    "tweets['text'] = util.filter_text_for_handles(tweets['text'])\n",
    "\n",
    "MAX_TWEET_LENGTH = 160\n",
    "WINDOW_SIZE = 64\n",
    "STEP = 3\n",
    "\n",
    "samples_per_tweet = int(ceil((MAX_TWEET_LENGTH - WINDOW_SIZE) / STEP)) # 32\n",
    "tweets_per_batch = 64\n",
    "samples_per_batch = samples_per_tweet * tweets_per_batch # 2048\n",
    "\n",
    "chars_univ, chars_univ_idx = util.get_universal_chars_list()"
   ]
  },
  {
   "cell_type": "code",
   "execution_count": 113,
   "metadata": {
    "autoscroll": false,
    "collapsed": false,
    "ein.hycell": false,
    "ein.tags": "worksheet-0",
    "slideshow": {
     "slide_type": "-"
    }
   },
   "outputs": [],
   "source": [
    "# Once again, lets load up the train/dev sets we trained the model on.\n",
    "\n",
    "TRAIN_SIZE = 2**18 # 262,144 training examples\n",
    "DEV_SIZE = 2**12   # 4096 Dev examples\n",
    "\n",
    "n_train_batches = TRAIN_SIZE / tweets_per_batch\n",
    "n_dev_batches = DEV_SIZE / tweets_per_batch\n",
    "\n",
    "tweets_train = tweets.iloc[0:TRAIN_SIZE] \n",
    "tweets_dev = tweets.iloc[TRAIN_SIZE:TRAIN_SIZE+DEV_SIZE] "
   ]
  },
  {
   "cell_type": "markdown",
   "metadata": {
    "ein.tags": "worksheet-0",
    "slideshow": {
     "slide_type": "-"
    }
   },
   "source": [
    "# Distribution of the training data\n",
    "How many training examples were composed of what proportion of a) whitespace b) URLs?"
   ]
  },
  {
   "cell_type": "code",
   "execution_count": 114,
   "metadata": {
    "autoscroll": false,
    "collapsed": false,
    "ein.hycell": false,
    "ein.tags": "worksheet-0",
    "slideshow": {
     "slide_type": "-"
    }
   },
   "outputs": [],
   "source": [
    "# pad the tweets as we would do for turning them into series\n",
    "tweets['text'] = tweets['text'].apply(util.pad_text)\n",
    "\n",
    "tweets['whitespace']=tweets['text'].apply(lambda x: x.count(\" \"))\n",
    "\n"
   ]
  },
  {
   "cell_type": "code",
   "execution_count": 115,
   "metadata": {
    "autoscroll": false,
    "collapsed": false,
    "ein.hycell": false,
    "ein.tags": "worksheet-0",
    "slideshow": {
     "slide_type": "-"
    }
   },
   "outputs": [
    {
     "data": {
      "text/plain": [
       "                                                text emoji  whitespace\n",
       "0                                              RT...     ©          63\n",
       "1                                                ...     💫          68\n",
       "2                                        RT Now y...     😎          54\n",
       "3                                                ...     💛         148\n",
       "6                                                ...     😩         143"
      ]
     },
     "execution_count": 115,
     "metadata": {},
     "output_type": "execute_result"
    }
   ],
   "source": [
    "tweets.head()\n",
    "\n",
    "\n"
   ]
  },
  {
   "cell_type": "code",
   "execution_count": 116,
   "metadata": {
    "autoscroll": false,
    "collapsed": false,
    "ein.hycell": false,
    "ein.tags": "worksheet-0",
    "slideshow": {
     "slide_type": "-"
    }
   },
   "outputs": [
    {
     "data": {
      "text/plain": [
       "'                                                    RT 181023 Kris Wu Studio update (3/3)Legendary creator at The Next Top Bang press conference #KrisWu #Wuyifa'"
      ]
     },
     "execution_count": 116,
     "metadata": {},
     "output_type": "execute_result"
    }
   ],
   "source": [
    "tweets.iloc[1]['text']"
   ]
  },
  {
   "cell_type": "markdown",
   "metadata": {
    "ein.tags": "worksheet-0",
    "slideshow": {
     "slide_type": "-"
    }
   },
   "source": [
    "Check on how short tweets (< 64 characters) are represented to the model. Is the text at the start (trailing whitespace) or the end (preceding whitespace) of the model?"
   ]
  },
  {
   "cell_type": "code",
   "execution_count": 117,
   "metadata": {
    "autoscroll": false,
    "collapsed": false,
    "ein.hycell": false,
    "ein.tags": "worksheet-0",
    "slideshow": {
     "slide_type": "-"
    }
   },
   "outputs": [],
   "source": [
    "import matplotlib.pyplot as plt\n",
    "# import seaborn as sns\n",
    "# sns.set()"
   ]
  },
  {
   "cell_type": "code",
   "execution_count": 118,
   "metadata": {
    "autoscroll": false,
    "collapsed": false,
    "ein.hycell": false,
    "ein.tags": "worksheet-0",
    "slideshow": {
     "slide_type": "-"
    }
   },
   "outputs": [
    {
     "data": {
      "text/plain": [
       "(array([9.0000e+00, 2.8370e+03, 3.6995e+04, 6.3956e+04, 4.6464e+04,\n",
       "        5.9987e+04, 6.7291e+04, 7.5792e+04, 5.1695e+04, 5.6518e+04]),\n",
       " array([ 16. ,  30.4,  44.8,  59.2,  73.6,  88. , 102.4, 116.8, 131.2,\n",
       "        145.6, 160. ]),\n",
       " <a list of 10 Patch objects>)"
      ]
     },
     "execution_count": 118,
     "metadata": {},
     "output_type": "execute_result"
    },
    {
     "data": {
      "image/png": "[encoded data removed]",
      "text/plain": [
       "<Figure size 432x288 with 1 Axes>"
      ]
     },
     "metadata": {},
     "output_type": "display_data"
    }
   ],
   "source": [
    "%matplotlib inline\n",
    "plt.hist (tweets['whitespace'])"
   ]
  },
  {
   "cell_type": "code",
   "execution_count": 119,
   "metadata": {
    "autoscroll": false,
    "collapsed": false,
    "ein.hycell": false,
    "ein.tags": "worksheet-0",
    "slideshow": {
     "slide_type": "-"
    }
   },
   "outputs": [
    {
     "data": {
      "text/plain": [
       "(array([5.6518e+04, 5.1695e+04, 7.5792e+04, 6.7291e+04, 5.6231e+04,\n",
       "        5.0220e+04, 6.3956e+04, 3.6995e+04, 2.8370e+03, 9.0000e+00]),\n",
       " array([  0. ,  14.4,  28.8,  43.2,  57.6,  72. ,  86.4, 100.8, 115.2,\n",
       "        129.6, 144. ]),\n",
       " <a list of 10 Patch objects>)"
      ]
     },
     "execution_count": 119,
     "metadata": {},
     "output_type": "execute_result"
    },
    {
     "data": {
      "image/png": "[encoded data removed]",
      "text/plain": [
       "<Figure size 640x480 with 1 Axes>"
      ]
     },
     "metadata": {},
     "output_type": "display_data"
    }
   ],
   "source": [
    "tweets['characters'] = 160 - tweets['whitespace']\n",
    "%matplotlib inline\n",
    "plt.style.use('classic')\n",
    "plt.hist (tweets['characters'])\n",
    "# ax = plt.axes()\n",
    "# ax.set_axisbelow(True)\n"
   ]
  },
  {
   "cell_type": "code",
   "execution_count": 120,
   "metadata": {
    "autoscroll": false,
    "collapsed": false,
    "ein.hycell": false,
    "ein.tags": "worksheet-0",
    "slideshow": {
     "slide_type": "-"
    }
   },
   "outputs": [],
   "source": [
    "import keras\n",
    "from keras import layers\n",
    "from keras.models import Sequential\n",
    "from keras import callbacks"
   ]
  },
  {
   "cell_type": "code",
   "execution_count": 121,
   "metadata": {
    "autoscroll": false,
    "collapsed": false,
    "ein.hycell": false,
    "ein.tags": "worksheet-0",
    "slideshow": {
     "slide_type": "-"
    }
   },
   "outputs": [],
   "source": [
    "model = keras.models.load_model(\"models/tweet_gen_model-train250k-0.830.hdf5\") # 256 LSTM units, ~30 epochs training "
   ]
  },
  {
   "cell_type": "markdown",
   "metadata": {
    "ein.tags": "worksheet-0",
    "slideshow": {
     "slide_type": "-"
    }
   },
   "source": [
    "# Manually troubleshoot what happens when seed text is largely whitespace"
   ]
  },
  {
   "cell_type": "markdown",
   "metadata": {
    "ein.tags": "worksheet-0",
    "slideshow": {
     "slide_type": "-"
    }
   },
   "source": [
    "What are the edge cases?"
   ]
  },
  {
   "cell_type": "code",
   "execution_count": 122,
   "metadata": {
    "autoscroll": false,
    "collapsed": false,
    "ein.hycell": false,
    "ein.tags": "worksheet-0",
    "slideshow": {
     "slide_type": "-"
    }
   },
   "outputs": [],
   "source": [
    "def sample (preds, temperature = 1.0):\n",
    "    preds = np.asarray(preds).astype('float64')\n",
    "    preds = np.log(preds) / temperature\n",
    "    exp_preds = np.exp(preds)\n",
    "    preds = exp_preds / np.sum(exp_preds)\n",
    "    probas = np.random.multinomial(1, preds, 1)\n",
    "    return np.argmax(probas)"
   ]
  },
  {
   "cell_type": "code",
   "execution_count": 123,
   "metadata": {
    "autoscroll": false,
    "collapsed": false,
    "ein.hycell": false,
    "ein.tags": "worksheet-0",
    "slideshow": {
     "slide_type": "-"
    }
   },
   "outputs": [],
   "source": [
    "import tensorflow as tf\n",
    "import random\n",
    "import sys"
   ]
  },
  {
   "cell_type": "code",
   "execution_count": 124,
   "metadata": {
    "autoscroll": false,
    "collapsed": false,
    "ein.hycell": false,
    "ein.tags": "worksheet-0",
    "slideshow": {
     "slide_type": "-"
    }
   },
   "outputs": [],
   "source": [
    "def generate_tweet(seed_text, length=MAX_TWEET_LENGTH, temperatures=[0.3, 0.5, 0.8, 1.0], random_seed = None):\n",
    "\n",
    "    if random_seed:\n",
    "        np.random.seed(random_seed) # np.random.seed needed by tf \n",
    "        tf.set_random_seed(random_seed)\n",
    "    else:\n",
    "        print (\"no!\")\n",
    "    \n",
    "    n_seed_chars = len(seed_text) \n",
    "    print ('--- Generating with seed:' + seed_text +  '[' + str(len(seed_text)) + ']')\n",
    "\n",
    "    # try a range of sampling temperatures\n",
    "    for temperature in temperatures:\n",
    "        generated_text = seed_text\n",
    "        print ('--------- temperature:', temperature)\n",
    "        sys.stdout.write(generated_text)\n",
    "\n",
    "        for i in range (length - n_seed_chars):\n",
    "            # one-hot encode the characters generated so far\n",
    "            sampled = np.zeros((1, WINDOW_SIZE, len(chars_univ)))\n",
    "            for t, char in enumerate (generated_text):\n",
    "                sampled[0, t, chars_univ_idx[char]] = 1\n",
    "\n",
    "            # sample the next character\n",
    "            preds = model.predict(sampled, verbose=0)[0]\n",
    "            next_index = sample(preds, temperature)\n",
    "            next_char = chars_univ[next_index]\n",
    "\n",
    "            generated_text += next_char\n",
    "            generated_text = generated_text[1:]\n",
    "\n",
    "            sys.stdout.write(next_char)\n",
    "\n",
    "        print (\"\\n\")    "
   ]
  },
  {
   "cell_type": "code",
   "execution_count": 125,
   "metadata": {
    "autoscroll": false,
    "collapsed": false,
    "ein.hycell": false,
    "ein.tags": "worksheet-0",
    "slideshow": {
     "slide_type": "-"
    }
   },
   "outputs": [],
   "source": [
    "def get_seed_text(tweets, random_seed = None):\n",
    "    if random_seed:\n",
    "        np.random.seed(random_seed)\n",
    "        \n",
    "    seed_tweet = tweets.iloc[np.random.randint(0, len(tweets))]\n",
    "    seed_text = seed_tweet['text'][0:seed_length]\n",
    "\n",
    "    print (seed_text + \"\\n\" + seed_tweet['text'])\n",
    "    \n",
    "    return seed_text"
   ]
  },
  {
   "cell_type": "markdown",
   "metadata": {
    "ein.tags": "worksheet-0",
    "slideshow": {
     "slide_type": "-"
    }
   },
   "source": [
    "When the text is at least 64 characters, the model generates actual words"
   ]
  },
  {
   "cell_type": "code",
   "execution_count": 126,
   "metadata": {
    "autoscroll": false,
    "collapsed": false,
    "ein.hycell": false,
    "ein.tags": "worksheet-0",
    "slideshow": {
     "slide_type": "-"
    }
   },
   "outputs": [
    {
     "name": "stdout",
     "output_type": "stream",
     "text": [
      "--- Generating with seed:A dataset-oriented API for examining relationships between multi[64]\n",
      "--------- temperature: 0.4\n",
      "A dataset-oriented API for examining relationships between multi"
     ]
    },
    {
     "name": "stdout",
     "output_type": "stream",
     "text": [
      "ng and st"
     ]
    },
    {
     "name": "stdout",
     "output_type": "stream",
     "text": [
      "arted the wo"
     ]
    },
    {
     "name": "stdout",
     "output_type": "stream",
     "text": [
      "rld and st"
     ]
    },
    {
     "name": "stdout",
     "output_type": "stream",
     "text": [
      "art the setti"
     ]
    },
    {
     "name": "stdout",
     "output_type": "stream",
     "text": [
      "ng on "
     ]
    },
    {
     "name": "stdout",
     "output_type": "stream",
     "text": [
      "the house be"
     ]
    },
    {
     "name": "stdout",
     "output_type": "stream",
     "text": [
      "fore the w"
     ]
    },
    {
     "name": "stdout",
     "output_type": "stream",
     "text": [
      "ay to the c"
     ]
    },
    {
     "name": "stdout",
     "output_type": "stream",
     "text": [
      "hance.  of th\n",
      "\n",
      "--------- temperature: 0.8\n",
      "A dataset-oriented API for examining relationships between multife"
     ]
    },
    {
     "name": "stdout",
     "output_type": "stream",
     "text": [
      "s, check I"
     ]
    },
    {
     "name": "stdout",
     "output_type": "stream",
     "text": [
      " have mor"
     ]
    },
    {
     "name": "stdout",
     "output_type": "stream",
     "text": [
      "e first ch"
     ]
    },
    {
     "name": "stdout",
     "output_type": "stream",
     "text": [
      "ings      # # "
     ]
    },
    {
     "name": "stdout",
     "output_type": "stream",
     "text": [
      "#assul #"
     ]
    },
    {
     "name": "stdout",
     "output_type": "stream",
     "text": [
      " #in #ra"
     ]
    },
    {
     "name": "stdout",
     "output_type": "stream",
     "text": [
      "perandeh #dise"
     ]
    },
    {
     "name": "stdout",
     "output_type": "stream",
     "text": [
      "a #spotted "
     ]
    },
    {
     "name": "stdout",
     "output_type": "stream",
     "text": [
      "#beauts #f\n",
      "\n"
     ]
    }
   ],
   "source": [
    "seed_text = \"A dataset-oriented API for examining relationships between multiple\"\n",
    "seed_text = seed_text[0:64]\n",
    "\n",
    "generate_tweet(seed_text, temperatures=[0.4, 0.8], random_seed = 1)"
   ]
  },
  {
   "cell_type": "markdown",
   "metadata": {
    "ein.tags": "worksheet-0",
    "slideshow": {
     "slide_type": "-"
    }
   },
   "source": [
    "But when the text is shorter than 64 characters, gibberish ensues"
   ]
  },
  {
   "cell_type": "code",
   "execution_count": 127,
   "metadata": {
    "autoscroll": false,
    "collapsed": false,
    "ein.hycell": false,
    "ein.tags": "worksheet-0",
    "slideshow": {
     "slide_type": "-"
    }
   },
   "outputs": [
    {
     "name": "stdout",
     "output_type": "stream",
     "text": [
      "63\n",
      "--- Generating with seed:A dataset-oriented API for examining relationships between mult[63]\n",
      "--------- temperature: 0.4\n",
      "A dataset-oriented API for examining relationships between mult"
     ]
    },
    {
     "name": "stdout",
     "output_type": "stream",
     "text": [
      "l i    "
     ]
    },
    {
     "name": "stdout",
     "output_type": "stream",
     "text": [
      "   "
     ]
    },
    {
     "name": "stdout",
     "output_type": "stream",
     "text": [
      "           "
     ]
    },
    {
     "name": "stdout",
     "output_type": "stream",
     "text": [
      "  "
     ]
    },
    {
     "name": "stdout",
     "output_type": "stream",
     "text": [
      "     i"
     ]
    },
    {
     "name": "stdout",
     "output_type": "stream",
     "text": [
      "la"
     ]
    },
    {
     "name": "stdout",
     "output_type": "stream",
     "text": [
      "wYhtg "
     ]
    },
    {
     "name": "stdout",
     "output_type": "stream",
     "text": [
      "i ms"
     ]
    },
    {
     "name": "stdout",
     "output_type": "stream",
     "text": [
      "gialsacsa "
     ]
    },
    {
     "name": "stdout",
     "output_type": "stream",
     "text": [
      "ak "
     ]
    },
    {
     "name": "stdout",
     "output_type": "stream",
     "text": [
      "aaoo"
     ]
    },
    {
     "name": "stdout",
     "output_type": "stream",
     "text": [
      " l"
     ]
    },
    {
     "name": "stdout",
     "output_type": "stream",
     "text": [
      "  "
     ]
    },
    {
     "name": "stdout",
     "output_type": "stream",
     "text": [
      "      "
     ]
    },
    {
     "name": "stdout",
     "output_type": "stream",
     "text": [
      " "
     ]
    },
    {
     "name": "stdout",
     "output_type": "stream",
     "text": [
      "       "
     ]
    },
    {
     "name": "stdout",
     "output_type": "stream",
     "text": [
      "  "
     ]
    },
    {
     "name": "stdout",
     "output_type": "stream",
     "text": [
      "           "
     ]
    },
    {
     "name": "stdout",
     "output_type": "stream",
     "text": [
      "  "
     ]
    },
    {
     "name": "stdout",
     "output_type": "stream",
     "text": [
      "      \n",
      "\n",
      "--------- temperature: 0.8\n",
      "A dataset-oriented API for examining relationships between multl is"
     ]
    },
    {
     "name": "stdout",
     "output_type": "stream",
     "text": [
      "s"
     ]
    },
    {
     "name": "stdout",
     "output_type": "stream",
     "text": [
      "asa lv   "
     ]
    },
    {
     "name": "stdout",
     "output_type": "stream",
     "text": [
      " )"
     ]
    },
    {
     "name": "stdout",
     "output_type": "stream",
     "text": [
      "is1 /AP AI"
     ]
    },
    {
     "name": "stdout",
     "output_type": "stream",
     "text": [
      "TU"
     ]
    },
    {
     "name": "stdout",
     "output_type": "stream",
     "text": [
      " Ls 8 sukahh"
     ]
    },
    {
     "name": "stdout",
     "output_type": "stream",
     "text": [
      "p"
     ]
    },
    {
     "name": "stdout",
     "output_type": "stream",
     "text": [
      "cdag isur ps"
     ]
    },
    {
     "name": "stdout",
     "output_type": "stream",
     "text": [
      "r"
     ]
    },
    {
     "name": "stdout",
     "output_type": "stream",
     "text": [
      "kimn ?Vji "
     ]
    },
    {
     "name": "stdout",
     "output_type": "stream",
     "text": [
      "adl i mN fe"
     ]
    },
    {
     "name": "stdout",
     "output_type": "stream",
     "text": [
      "ltwe ino ls h  "
     ]
    },
    {
     "name": "stdout",
     "output_type": "stream",
     "text": [
      "4htuhu \n",
      "\n"
     ]
    }
   ],
   "source": [
    "seed_text_short = \"A dataset-oriented API for examining relationships between mult\"\n",
    "seed_text_short = seed_text_short[0:64]\n",
    "print (len(seed_text_short))\n",
    "\n",
    "generate_tweet(seed_text_short, temperatures=[0.4, 0.8], random_seed = 1)"
   ]
  },
  {
   "cell_type": "markdown",
   "metadata": {
    "ein.tags": "worksheet-0",
    "slideshow": {
     "slide_type": "-"
    }
   },
   "source": [
    "Does padding the seed text with whitespace make a difference? "
   ]
  },
  {
   "cell_type": "code",
   "execution_count": 128,
   "metadata": {
    "autoscroll": false,
    "collapsed": false,
    "ein.hycell": false,
    "ein.tags": "worksheet-0",
    "slideshow": {
     "slide_type": "-"
    }
   },
   "outputs": [
    {
     "name": "stdout",
     "output_type": "stream",
     "text": [
      "64\n",
      "--- Generating with seed:A dataset-oriented API for examining relationships between mul  [64]\n",
      "--------- temperature: 0.4\n",
      "A dataset-oriented API for examining relationships between mul  h"
     ]
    },
    {
     "name": "stdout",
     "output_type": "stream",
     "text": [
      "ttps:/"
     ]
    },
    {
     "name": "stdout",
     "output_type": "stream",
     "text": [
      "/t"
     ]
    },
    {
     "name": "stdout",
     "output_type": "stream",
     "text": [
      ".co/"
     ]
    },
    {
     "name": "stdout",
     "output_type": "stream",
     "text": [
      "mlHdDuMr"
     ]
    },
    {
     "name": "stdout",
     "output_type": "stream",
     "text": [
      "zr"
     ]
    },
    {
     "name": "stdout",
     "output_type": "stream",
     "text": [
      "  #"
     ]
    },
    {
     "name": "stdout",
     "output_type": "stream",
     "text": [
      " # # "
     ]
    },
    {
     "name": "stdout",
     "output_type": "stream",
     "text": [
      "# "
     ]
    },
    {
     "name": "stdout",
     "output_type": "stream",
     "text": [
      "#  "
     ]
    },
    {
     "name": "stdout",
     "output_type": "stream",
     "text": [
      "     "
     ]
    },
    {
     "name": "stdout",
     "output_type": "stream",
     "text": [
      "  "
     ]
    },
    {
     "name": "stdout",
     "output_type": "stream",
     "text": [
      "  "
     ]
    },
    {
     "name": "stdout",
     "output_type": "stream",
     "text": [
      "     "
     ]
    },
    {
     "name": "stdout",
     "output_type": "stream",
     "text": [
      "  "
     ]
    },
    {
     "name": "stdout",
     "output_type": "stream",
     "text": [
      "   "
     ]
    },
    {
     "name": "stdout",
     "output_type": "stream",
     "text": [
      "      "
     ]
    },
    {
     "name": "stdout",
     "output_type": "stream",
     "text": [
      "   "
     ]
    },
    {
     "name": "stdout",
     "output_type": "stream",
     "text": [
      "   "
     ]
    },
    {
     "name": "stdout",
     "output_type": "stream",
     "text": [
      "   :"
     ]
    },
    {
     "name": "stdout",
     "output_type": "stream",
     "text": [
      " da"
     ]
    },
    {
     "name": "stdout",
     "output_type": "stream",
     "text": [
      "t"
     ]
    },
    {
     "name": "stdout",
     "output_type": "stream",
     "text": [
      "h      "
     ]
    },
    {
     "name": "stdout",
     "output_type": "stream",
     "text": [
      "    "
     ]
    },
    {
     "name": "stdout",
     "output_type": "stream",
     "text": [
      "  "
     ]
    },
    {
     "name": "stdout",
     "output_type": "stream",
     "text": [
      "      "
     ]
    },
    {
     "name": "stdout",
     "output_type": "stream",
     "text": [
      "  \n",
      "\n",
      "--------- temperature: 0.8\n",
      "A dataset-oriented API for examining relationships between mul  is"
     ]
    },
    {
     "name": "stdout",
     "output_type": "stream",
     "text": [
      " b"
     ]
    },
    {
     "name": "stdout",
     "output_type": "stream",
     "text": [
      "ecause"
     ]
    },
    {
     "name": "stdout",
     "output_type": "stream",
     "text": [
      " the"
     ]
    },
    {
     "name": "stdout",
     "output_type": "stream",
     "text": [
      " "
     ]
    },
    {
     "name": "stdout",
     "output_type": "stream",
     "text": [
      "3ym, "
     ]
    },
    {
     "name": "stdout",
     "output_type": "stream",
     "text": [
      "that"
     ]
    },
    {
     "name": "stdout",
     "output_type": "stream",
     "text": [
      " p"
     ]
    },
    {
     "name": "stdout",
     "output_type": "stream",
     "text": [
      "ain !"
     ]
    },
    {
     "name": "stdout",
     "output_type": "stream",
     "text": [
      "   "
     ]
    },
    {
     "name": "stdout",
     "output_type": "stream",
     "text": [
      "wh"
     ]
    },
    {
     "name": "stdout",
     "output_type": "stream",
     "text": [
      "y mag"
     ]
    },
    {
     "name": "stdout",
     "output_type": "stream",
     "text": [
      "u i"
     ]
    },
    {
     "name": "stdout",
     "output_type": "stream",
     "text": [
      "n "
     ]
    },
    {
     "name": "stdout",
     "output_type": "stream",
     "text": [
      "bunny"
     ]
    },
    {
     "name": "stdout",
     "output_type": "stream",
     "text": [
      " th"
     ]
    },
    {
     "name": "stdout",
     "output_type": "stream",
     "text": [
      "r"
     ]
    },
    {
     "name": "stdout",
     "output_type": "stream",
     "text": [
      "y and"
     ]
    },
    {
     "name": "stdout",
     "output_type": "stream",
     "text": [
      " I "
     ]
    },
    {
     "name": "stdout",
     "output_type": "stream",
     "text": [
      "l"
     ]
    },
    {
     "name": "stdout",
     "output_type": "stream",
     "text": [
      "ove it I "
     ]
    },
    {
     "name": "stdout",
     "output_type": "stream",
     "text": [
      "mea"
     ]
    },
    {
     "name": "stdout",
     "output_type": "stream",
     "text": [
      "n you "
     ]
    },
    {
     "name": "stdout",
     "output_type": "stream",
     "text": [
      "t"
     ]
    },
    {
     "name": "stdout",
     "output_type": "stream",
     "text": [
      "rynning"
     ]
    },
    {
     "name": "stdout",
     "output_type": "stream",
     "text": [
      " som"
     ]
    },
    {
     "name": "stdout",
     "output_type": "stream",
     "text": [
      "e \n",
      "\n"
     ]
    }
   ],
   "source": [
    "seed_text_pad_back = \"A dataset-oriented API for examining relationships between mul  \"\n",
    "seed_text_pad_back = seed_text_pad_back[0:64]\n",
    "print (len(seed_text_pad_back))\n",
    "\n",
    "generate_tweet(seed_text_pad_back, temperatures=[0.4, 0.8], random_seed = 1)"
   ]
  },
  {
   "cell_type": "code",
   "execution_count": 129,
   "metadata": {
    "autoscroll": false,
    "collapsed": false,
    "ein.hycell": false,
    "ein.tags": "worksheet-0",
    "slideshow": {
     "slide_type": "-"
    }
   },
   "outputs": [
    {
     "name": "stdout",
     "output_type": "stream",
     "text": [
      "64\n",
      "--- Generating with seed:A dataset-oriented API for examining relationships between multi[64]\n",
      "--------- temperature: 0.4\n",
      "A dataset-oriented API for examining relationships between multing a"
     ]
    },
    {
     "name": "stdout",
     "output_type": "stream",
     "text": [
      "nd"
     ]
    },
    {
     "name": "stdout",
     "output_type": "stream",
     "text": [
      " "
     ]
    },
    {
     "name": "stdout",
     "output_type": "stream",
     "text": [
      "starte"
     ]
    },
    {
     "name": "stdout",
     "output_type": "stream",
     "text": [
      "d t"
     ]
    },
    {
     "name": "stdout",
     "output_type": "stream",
     "text": [
      "h"
     ]
    },
    {
     "name": "stdout",
     "output_type": "stream",
     "text": [
      "e wor"
     ]
    },
    {
     "name": "stdout",
     "output_type": "stream",
     "text": [
      "ld "
     ]
    },
    {
     "name": "stdout",
     "output_type": "stream",
     "text": [
      "a"
     ]
    },
    {
     "name": "stdout",
     "output_type": "stream",
     "text": [
      "nd start"
     ]
    },
    {
     "name": "stdout",
     "output_type": "stream",
     "text": [
      " the "
     ]
    },
    {
     "name": "stdout",
     "output_type": "stream",
     "text": [
      "s"
     ]
    },
    {
     "name": "stdout",
     "output_type": "stream",
     "text": [
      "ettin"
     ]
    },
    {
     "name": "stdout",
     "output_type": "stream",
     "text": [
      "g o"
     ]
    },
    {
     "name": "stdout",
     "output_type": "stream",
     "text": [
      "n"
     ]
    },
    {
     "name": "stdout",
     "output_type": "stream",
     "text": [
      " the"
     ]
    },
    {
     "name": "stdout",
     "output_type": "stream",
     "text": [
      " ho"
     ]
    },
    {
     "name": "stdout",
     "output_type": "stream",
     "text": [
      "u"
     ]
    },
    {
     "name": "stdout",
     "output_type": "stream",
     "text": [
      "se b"
     ]
    },
    {
     "name": "stdout",
     "output_type": "stream",
     "text": [
      "efo"
     ]
    },
    {
     "name": "stdout",
     "output_type": "stream",
     "text": [
      "r"
     ]
    },
    {
     "name": "stdout",
     "output_type": "stream",
     "text": [
      "e th"
     ]
    },
    {
     "name": "stdout",
     "output_type": "stream",
     "text": [
      "e "
     ]
    },
    {
     "name": "stdout",
     "output_type": "stream",
     "text": [
      "w"
     ]
    },
    {
     "name": "stdout",
     "output_type": "stream",
     "text": [
      "ay t"
     ]
    },
    {
     "name": "stdout",
     "output_type": "stream",
     "text": [
      "o t"
     ]
    },
    {
     "name": "stdout",
     "output_type": "stream",
     "text": [
      "he c"
     ]
    },
    {
     "name": "stdout",
     "output_type": "stream",
     "text": [
      "hance"
     ]
    },
    {
     "name": "stdout",
     "output_type": "stream",
     "text": [
      ". "
     ]
    },
    {
     "name": "stdout",
     "output_type": "stream",
     "text": [
      " of"
     ]
    },
    {
     "name": "stdout",
     "output_type": "stream",
     "text": [
      " th\n",
      "\n",
      "--------- temperature: 0.8\n",
      "A dataset-oriented API for examining relationships between multifes"
     ]
    },
    {
     "name": "stdout",
     "output_type": "stream",
     "text": [
      ", "
     ]
    },
    {
     "name": "stdout",
     "output_type": "stream",
     "text": [
      "che"
     ]
    },
    {
     "name": "stdout",
     "output_type": "stream",
     "text": [
      "ck I h"
     ]
    },
    {
     "name": "stdout",
     "output_type": "stream",
     "text": [
      "av"
     ]
    },
    {
     "name": "stdout",
     "output_type": "stream",
     "text": [
      "e m"
     ]
    },
    {
     "name": "stdout",
     "output_type": "stream",
     "text": [
      "ore fi"
     ]
    },
    {
     "name": "stdout",
     "output_type": "stream",
     "text": [
      "r"
     ]
    },
    {
     "name": "stdout",
     "output_type": "stream",
     "text": [
      "st"
     ]
    },
    {
     "name": "stdout",
     "output_type": "stream",
     "text": [
      " chi"
     ]
    },
    {
     "name": "stdout",
     "output_type": "stream",
     "text": [
      "n"
     ]
    },
    {
     "name": "stdout",
     "output_type": "stream",
     "text": [
      "gs  "
     ]
    },
    {
     "name": "stdout",
     "output_type": "stream",
     "text": [
      "    # # "
     ]
    },
    {
     "name": "stdout",
     "output_type": "stream",
     "text": [
      "#assul"
     ]
    },
    {
     "name": "stdout",
     "output_type": "stream",
     "text": [
      " # #in"
     ]
    },
    {
     "name": "stdout",
     "output_type": "stream",
     "text": [
      " #r"
     ]
    },
    {
     "name": "stdout",
     "output_type": "stream",
     "text": [
      "apera"
     ]
    },
    {
     "name": "stdout",
     "output_type": "stream",
     "text": [
      "ndeh"
     ]
    },
    {
     "name": "stdout",
     "output_type": "stream",
     "text": [
      " #disea"
     ]
    },
    {
     "name": "stdout",
     "output_type": "stream",
     "text": [
      " #"
     ]
    },
    {
     "name": "stdout",
     "output_type": "stream",
     "text": [
      "spotte"
     ]
    },
    {
     "name": "stdout",
     "output_type": "stream",
     "text": [
      "d #b"
     ]
    },
    {
     "name": "stdout",
     "output_type": "stream",
     "text": [
      "eauts "
     ]
    },
    {
     "name": "stdout",
     "output_type": "stream",
     "text": [
      "#f\n",
      "\n"
     ]
    }
   ],
   "source": [
    "seed_text_pad_front = \"  A dataset-oriented API for examining relationships between mul\"\n",
    "seed_text_pad_front = seed_text_pad_front[0:64]\n",
    "print (len(seed_text_pad_front))\n",
    "\n",
    "generate_tweet(seed_text, temperatures=[0.4, 0.8], random_seed = 1)"
   ]
  },
  {
   "cell_type": "markdown",
   "metadata": {
    "ein.tags": "worksheet-0",
    "slideshow": {
     "slide_type": "-"
    }
   },
   "source": [
    "So pad the seed text and it works fine. What is going on with feeding the seed text to the model when it's not padded that causes the gibberish?  Let's look at what the code for the generate_tweet function does:"
   ]
  },
  {
   "cell_type": "code",
   "execution_count": 130,
   "metadata": {
    "autoscroll": false,
    "collapsed": false,
    "ein.hycell": false,
    "ein.tags": "worksheet-0",
    "slideshow": {
     "slide_type": "-"
    }
   },
   "outputs": [
    {
     "name": "stdout",
     "output_type": "stream",
     "text": [
      "63\n"
     ]
    },
    {
     "data": {
      "text/plain": [
       "(1, 64, 93)"
      ]
     },
     "execution_count": 130,
     "metadata": {},
     "output_type": "execute_result"
    }
   ],
   "source": [
    "generated_text = seed_text_short\n",
    "print (len(generated_text))\n",
    "\n",
    "# one-hot encode the characters generated so far\n",
    "sampled = np.zeros((1, WINDOW_SIZE, len(chars_univ)))\n",
    "for t, char in enumerate (generated_text):\n",
    "    sampled[0, t, chars_univ_idx[char]] = 1\n",
    "\n",
    "sampled.shape"
   ]
  },
  {
   "cell_type": "markdown",
   "metadata": {
    "ein.tags": "worksheet-0",
    "slideshow": {
     "slide_type": "-"
    }
   },
   "source": [
    "So we still get a 64 x 93 matrix. Lets see how many of the 93 input units (one for each character in the character set) are on for each character in the seed text (should be exactly one)"
   ]
  },
  {
   "cell_type": "code",
   "execution_count": 131,
   "metadata": {
    "autoscroll": false,
    "collapsed": false,
    "ein.hycell": false,
    "ein.tags": "worksheet-0",
    "slideshow": {
     "slide_type": "-"
    }
   },
   "outputs": [
    {
     "data": {
      "text/plain": [
       "array([[1., 1., 1., 1., 1., 1., 1., 1., 1., 1., 1., 1., 1., 1., 1., 1.,\n",
       "        1., 1., 1., 1., 1., 1., 1., 1., 1., 1., 1., 1., 1., 1., 1., 1.,\n",
       "        1., 1., 1., 1., 1., 1., 1., 1., 1., 1., 1., 1., 1., 1., 1., 1.,\n",
       "        1., 1., 1., 1., 1., 1., 1., 1., 1., 1., 1., 1., 1., 1., 1., 0.]])"
      ]
     },
     "execution_count": 131,
     "metadata": {},
     "output_type": "execute_result"
    }
   ],
   "source": [
    "np.sum(sampled[:,:,:], axis=2)"
   ]
  },
  {
   "cell_type": "markdown",
   "metadata": {
    "ein.tags": "worksheet-0",
    "slideshow": {
     "slide_type": "-"
    }
   },
   "source": [
    "Aha - so the problem is when the model receives a `seed_text` thats less than 64 characters, the 93-unit input vector receives nothing, (null) rather than an activation of the unit that should represent the whitespace character.\n",
    "\n",
    "I'm pretty confident this is a pattern that the model never encountered during training. It's highly likely the model would have learned to deal with this pattern if, in training, whitespace had been represented by null rather than a whitespace character.\n",
    "\n",
    "For now, let's just make sure the function that generates text always pads it out with whitespace. '"
   ]
  },
  {
   "cell_type": "code",
   "execution_count": 133,
   "metadata": {
    "autoscroll": false,
    "collapsed": false,
    "ein.hycell": false,
    "ein.tags": "worksheet-0",
    "slideshow": {
     "slide_type": "-"
    }
   },
   "outputs": [],
   "source": [
    "def generate_tweet(seed_text, window_size=WINDOW_SIZE,\n",
    "\t\t   length=MAX_TWEET_LENGTH, temperatures=[0.3, 0.5, 0.8, 1.0],\n",
    "\t\t   random_seed = None):\n",
    "\n",
    "    if random_seed:\n",
    "        np.random.seed(random_seed) # np.random.seed needed by tf \n",
    "        tf.set_random_seed(random_seed)\n",
    "        \n",
    "    n_seed_chars = window_size\n",
    "    #first, pad out the seed_text with whitespace     \n",
    "    seed_text = util.pad_text(seed_text, window_size)\n",
    "\n",
    "    print ('--- Generating with seed: \"' + seed_text + '\" [' + str(len(seed_text)) + ']')\n",
    "\n",
    "    # try a range of sampling temperatures\n",
    "    for temperature in temperatures:\n",
    "        generated_text = seed_text\n",
    "        print ('--------- temperature:', temperature)\n",
    "        sys.stdout.write(generated_text)\n",
    "\n",
    "        for i in range (length - n_seed_chars):\n",
    "            # one-hot encode the characters generated so far\n",
    "            sampled = np.zeros((1, WINDOW_SIZE, len(chars_univ)))\n",
    "            for t, char in enumerate (generated_text):\n",
    "                sampled[0, t, chars_univ_idx[char]] = 1\n",
    "\n",
    "            # sample the next character\n",
    "            preds = model.predict(sampled, verbose=0)[0]\n",
    "            next_index = sample(preds, temperature)\n",
    "            next_char = chars_univ[next_index]\n",
    "\n",
    "            generated_text += next_char\n",
    "            generated_text = generated_text[1:]\n",
    "\n",
    "            sys.stdout.write(next_char)\n",
    "\n",
    "        print (\"\\n\")    \n",
    "\n"
   ]
  },
  {
   "cell_type": "code",
   "execution_count": 135,
   "metadata": {
    "autoscroll": false,
    "collapsed": false,
    "ein.hycell": false,
    "ein.tags": "worksheet-0",
    "slideshow": {
     "slide_type": "-"
    }
   },
   "outputs": [
    {
     "name": "stdout",
     "output_type": "stream",
     "text": [
      "64\n",
      "--- Generating with seed: \"@BarnetCouncil We're not giving you any stinking money, and that\" [64]\n",
      "--------- temperature: 0.4\n",
      "@BarnetCouncil We're not giving you any stinking money, and that they"
     ]
    },
    {
     "name": "stdout",
     "output_type": "stream",
     "text": [
      " sport me "
     ]
    },
    {
     "name": "stdout",
     "output_type": "stream",
     "text": [
      "           "
     ]
    },
    {
     "name": "stdout",
     "output_type": "stream",
     "text": [
      "             "
     ]
    },
    {
     "name": "stdout",
     "output_type": "stream",
     "text": [
      "          "
     ]
    },
    {
     "name": "stdout",
     "output_type": "stream",
     "text": [
      "        "
     ]
    },
    {
     "name": "stdout",
     "output_type": "stream",
     "text": [
      "              "
     ]
    },
    {
     "name": "stdout",
     "output_type": "stream",
     "text": [
      "            "
     ]
    },
    {
     "name": "stdout",
     "output_type": "stream",
     "text": [
      "            "
     ]
    },
    {
     "name": "stdout",
     "output_type": "stream",
     "text": [
      " \n",
      "\n",
      "--------- temperature: 0.6\n",
      "@BarnetCouncil We're not giving you any stinking money, and that bitch and"
     ]
    },
    {
     "name": "stdout",
     "output_type": "stream",
     "text": [
      " not all we s"
     ]
    },
    {
     "name": "stdout",
     "output_type": "stream",
     "text": [
      "tarted Alb"
     ]
    },
    {
     "name": "stdout",
     "output_type": "stream",
     "text": [
      "um is the he"
     ]
    },
    {
     "name": "stdout",
     "output_type": "stream",
     "text": [
      "art and at"
     ]
    },
    {
     "name": "stdout",
     "output_type": "stream",
     "text": [
      "tend in th"
     ]
    },
    {
     "name": "stdout",
     "output_type": "stream",
     "text": [
      "e mac"
     ]
    },
    {
     "name": "stdout",
     "output_type": "stream",
     "text": [
      "hat missage"
     ]
    },
    {
     "name": "stdout",
     "output_type": "stream",
     "text": [
      " in a fe"
     ]
    },
    {
     "name": "stdout",
     "output_type": "stream",
     "text": [
      "w marke\n",
      "\n",
      "--------- temperature: 0.8\n",
      "@BarnetCouncil We're not giving you any stinking money, and that w"
     ]
    },
    {
     "name": "stdout",
     "output_type": "stream",
     "text": [
      "as a peop"
     ]
    },
    {
     "name": "stdout",
     "output_type": "stream",
     "text": [
      "le is over su"
     ]
    },
    {
     "name": "stdout",
     "output_type": "stream",
     "text": [
      "pport an edat"
     ]
    },
    {
     "name": "stdout",
     "output_type": "stream",
     "text": [
      "\"s cutelon"
     ]
    },
    {
     "name": "stdout",
     "output_type": "stream",
     "text": [
      "  and cutest"
     ]
    },
    {
     "name": "stdout",
     "output_type": "stream",
     "text": [
      " reach an ad"
     ]
    },
    {
     "name": "stdout",
     "output_type": "stream",
     "text": [
      "dics "
     ]
    },
    {
     "name": "stdout",
     "output_type": "stream",
     "text": [
      "this mahouss"
     ]
    },
    {
     "name": "stdout",
     "output_type": "stream",
     "text": [
      " all for\n",
      "\n",
      "--------- temperature: 1.2\n",
      "@BarnetCouncil We're not giving you any stinking money, and that b"
     ]
    },
    {
     "name": "stdout",
     "output_type": "stream",
     "text": [
      "uspen (Couls"
     ]
    },
    {
     "name": "stdout",
     "output_type": "stream",
     "text": [
      " it!!!  Sen"
     ]
    },
    {
     "name": "stdout",
     "output_type": "stream",
     "text": [
      "d you  #iKA"
     ]
    },
    {
     "name": "stdout",
     "output_type": "stream",
     "text": [
      "MORO5 Mac"
     ]
    },
    {
     "name": "stdout",
     "output_type": "stream",
     "text": [
      "kyRelma De"
     ]
    },
    {
     "name": "stdout",
     "output_type": "stream",
     "text": [
      "vid hait  "
     ]
    },
    {
     "name": "stdout",
     "output_type": "stream",
     "text": [
      "skinne FHY"
     ]
    },
    {
     "name": "stdout",
     "output_type": "stream",
     "text": [
      ") and "
     ]
    },
    {
     "name": "stdout",
     "output_type": "stream",
     "text": [
      "havingrat Rud"
     ]
    },
    {
     "name": "stdout",
     "output_type": "stream",
     "text": [
      " y\n",
      "\n"
     ]
    }
   ],
   "source": [
    "seed_text = \"\"\n",
    "seed_text = seed_text[0:64]\n",
    "print (len(seed_text))\n",
    "\n",
    "generate_tweet(seed_text, temperatures=[0.4, 0.6, 0.8, 1.2], random_seed = 1)\n"
   ]
  },
  {
   "cell_type": "code",
   "execution_count": null,
   "metadata": {
    "autoscroll": false,
    "collapsed": false,
    "ein.hycell": false,
    "ein.tags": "worksheet-0",
    "slideshow": {
     "slide_type": "-"
    }
   },
   "outputs": [],
   "source": []
  }
 ],
 "metadata": {
  "kernelspec": {
   "display_name": "Deep Learning env Python 3.6",
   "name": "deeplearning"
  },
  "language_info": {
   "codemirror_mode": {
    "name": "ipython",
    "version": 3
   },
   "file_extension": ".py",
   "mimetype": "text/x-python",
   "name": "python",
   "nbconvert_exporter": "python",
   "pygments_lexer": "ipython3",
   "version": "3.6.7"
  },
  "name": "Troubleshooting the LSTM Tweet Generator.ipynb"
 },
 "nbformat": 4,
 "nbformat_minor": 2
}
