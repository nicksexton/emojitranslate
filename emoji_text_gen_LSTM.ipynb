{
 "cells": [
  {
   "cell_type": "markdown",
   "metadata": {
    "ein.tags": "worksheet-0",
    "slideshow": {
     "slide_type": "-"
    }
   },
   "source": [
    "Notebook that trains an LSTM to generate tweets based on a given emojis"
   ]
  },
  {
   "cell_type": "markdown",
   "metadata": {
    "ein.tags": "worksheet-0",
    "slideshow": {
     "slide_type": "-"
    }
   },
   "source": [
    "First we load the data"
   ]
  },
  {
   "cell_type": "code",
   "execution_count": 41,
   "metadata": {
    "autoscroll": false,
    "collapsed": false,
    "ein.hycell": false,
    "ein.tags": "worksheet-0",
    "slideshow": {
     "slide_type": "-"
    }
   },
   "outputs": [
    {
     "name": "stderr",
     "output_type": "stream",
     "text": [
      "/home/nickdbn/anaconda3/lib/python3.6/site-packages/IPython/core/interactiveshell.py:2802: DtypeWarning: Columns (0) have mixed types. Specify dtype option on import or set low_memory=False.\n",
      "  if self.run_code(code, result):\n"
     ]
    }
   ],
   "source": [
    "import numpy as np\n",
    "import pandas as pd\n",
    "import data_load_utils as util\n",
    "\n",
    "from importlib import reload\n",
    "util = reload (util)\n",
    "\n",
    "\n",
    "tweets = util.filter_tweets_min_count(\n",
    "    util.read_tweet_data('data/emojis_homemade.csv'),\n",
    "    min_count=1000)\n",
    "\n",
    "tweets['text'] = util.filter_text_for_handles(tweets['text'])"
   ]
  },
  {
   "cell_type": "code",
   "execution_count": 42,
   "metadata": {
    "autoscroll": false,
    "collapsed": false,
    "ein.hycell": false,
    "ein.tags": "worksheet-0",
    "slideshow": {
     "slide_type": "-"
    }
   },
   "outputs": [
    {
     "data": {
      "text/plain": [
       "0    RT [VID] 181023 - Foi adicionada a letra D no ...\n1    RT 181023 Kris Wu Studio update (3/3)Legendary...\n2    RT Now you are watching Indian SuperStar with ...\n3                                      dats for keeps \n6                               Holy shit no I think. \nName: text, dtype: object"
      ]
     },
     "execution_count": 42,
     "metadata": {},
     "output_type": "execute_result"
    }
   ],
   "source": [
    "util.filter_text_for_handles(tweets.iloc[0:5]['text'])"
   ]
  },
  {
   "cell_type": "code",
   "execution_count": 43,
   "metadata": {
    "autoscroll": false,
    "collapsed": false,
    "ein.hycell": false,
    "ein.tags": "worksheet-0",
    "slideshow": {
     "slide_type": "-"
    }
   },
   "outputs": [
    {
     "data": {
      "text/plain": [
       "                                                     text  emoji\n0       RT [VID] 181023 - Foi adicionada a letra D no ...      ©\n1       RT 181023 Kris Wu Studio update (3/3)Legendary...      💫\n2       RT Now you are watching Indian SuperStar with ...      😎\n3                                         dats for keeps       💛\n6                                  Holy shit no I think.       😩\n7                       RT army, follow who retweet this       👑\n8       RT Simply K-Pop harddrive dump# #BerryGood #Me...      🤩\n9       Happy birthday nellie hope you have a fantasti...      ❤\n10      RT \"I have passed through fire\"Thank you for b...      💕\n12      RT Incredible to be involved in the making of ...      😱\n13      RT Too much feels #BTS #MPN #BTSARMY https://t...      😢\n14      RT #PL TOP SCORERS 7 - 6 - the goods  https://...      🔥\n15      [DEPASCAL] RUSSEL HOODIE BLUE https://t.co/CR4...      🔗\n16      The joys of having a make up artist as your be...      😂\n18                      RT army, follow who retweet this       👑\n19                       Someone didnt read the article.       🙄\n20      RT Happy 23rd Birthday to Duckie Thot  https:/...      💕\n21                 RT follow everyone who retweets this,       💓\n22      RT Incredible to be involved in the making of ...      😱\n24            WOW let me know when I can come play games       🙃\n27      RT  You have all decided to push your way thro...      🤔\n28                        Somebody stop simone biles omg       🔥\n30      RT My fetish is to have enough time to do all ...      💦\n32      RT [DEPASCAL] RUSSEL HOODIE BLUE https://t.co/...      🔗\n33                                                   text  emoji\n34      Frosted Flakes be high as hell you when you good       😭\n36      RT  &amp; RT this contest tweet NOW &amp; we w...      ❤\n37          most people need clueS !  Lots of them  !!         😄\n38      RT Big Hit is fast, but ARMYs are faster.  htt...      😁\n39      RT foodtrip with them@itzjncko https://t.co/OA...      💯\n...                                                   ...    ...\n728708  RT 16th November London See you soon #TheReign...      🔥\n728709  RT Happy birthday Dream Kardashian!  https://t...      💕\n728710  RT These two guys should find another place to...      ❗\n728711                 Btw will you join mbbselcaday now?      😂\n728712                           RT jennie cried so hard       😭\n728713  RT Hello Counselor filming done!  https://t.co...      💛\n728715  RT [IG] 181111  kieltutin updated with BLACKPI...      🔗\n728716  Check this out  King of Masked Singer # # (Cr....      👉\n728717        Lmao  It means people were drinking heavily      😂\n728718  if shit goes left later I'm sure u gon be in t...      😆\n728719                                               text  emoji\n728721  RT I think we are ALL crying  https://t.co/ZW6...      ☹\n728722                                            Finally      💕\n728723  Guess who ran away from acads? pakkkk https://...      😂\n728724  RT Tag someone you miss all day  https://t.co/...      😔\n728726           worse than Nigga Moment+ Nigga Synthesis      😂\n728727  Slumflower is flipping AWESOME #Hero #Heroine ...      ❤\n728728  Well now I'm the one who trying hard.. But you...      😞\n728729  RT if kyungsoo doesnt want it, you cant force ...      🤣\n728730        SO FUCKING IN LOVE  https://t.co/BK4Y5SmtKk      😍\n728732  [_dong_ii posted on his story] thank you so mu...      ❤\n728734  RT Guys this isnt anything to do with #EricaFe...      🚨\n728735  RT THE SURPRISE K.O. AT THE BUZZER  https://t....      😱\n728736  RT Happy Birthday!!!@Bluecat111177 Love you . ...      😘\n728738  RT JISOO WENT TO JENNIE TO COMFORT HER from do...      😭\n728740                                  RT Yall annoying       🙄\n728741  RT I am  sure that using brain and internet is...      💯\n728742                    Susanna stick up for yourself.       👊\n728744  Sometimes i wish theres someone to shout at me...      🙄\n728746  RT Win, Lose or Tie, Bayern Munchen Till We Di...      ❤\n\n[460771 rows x 2 columns]"
      ]
     },
     "execution_count": 43,
     "metadata": {},
     "output_type": "execute_result"
    }
   ],
   "source": [
    "tweets"
   ]
  },
  {
   "cell_type": "code",
   "execution_count": 44,
   "metadata": {
    "autoscroll": false,
    "collapsed": false,
    "ein.hycell": false,
    "ein.tags": "worksheet-0",
    "slideshow": {
     "slide_type": "-"
    }
   },
   "outputs": [
    {
     "data": {
      "text/plain": [
       "text     RT [VID] 181023 - Foi adicionada a letra D no ...\nemoji                                                    ©\nName: 0, dtype: object"
      ]
     },
     "execution_count": 44,
     "metadata": {},
     "output_type": "execute_result"
    }
   ],
   "source": [
    "tweets.iloc[0,:]"
   ]
  },
  {
   "cell_type": "code",
   "execution_count": 45,
   "metadata": {
    "autoscroll": false,
    "collapsed": false,
    "ein.hycell": false,
    "ein.tags": "worksheet-0",
    "slideshow": {
     "slide_type": "-"
    }
   },
   "outputs": [
    {
     "data": {
      "text/plain": [
       "text     RT 181023 Kris Wu Studio update (3/3)Legendary...\nemoji                                                    💫\nName: 1, dtype: object"
      ]
     },
     "execution_count": 45,
     "metadata": {},
     "output_type": "execute_result"
    }
   ],
   "source": [
    "tweets.iloc[1]"
   ]
  },
  {
   "cell_type": "code",
   "execution_count": 46,
   "metadata": {
    "autoscroll": false,
    "collapsed": false,
    "ein.hycell": false,
    "ein.tags": "worksheet-0",
    "slideshow": {
     "slide_type": "-"
    }
   },
   "outputs": [
    {
     "data": {
      "text/plain": [
       "(460771, 2)"
      ]
     },
     "execution_count": 46,
     "metadata": {},
     "output_type": "execute_result"
    }
   ],
   "source": [
    "tweets.shape"
   ]
  },
  {
   "cell_type": "code",
   "execution_count": 58,
   "metadata": {
    "autoscroll": false,
    "collapsed": false,
    "ein.hycell": false,
    "ein.tags": "worksheet-0",
    "slideshow": {
     "slide_type": "-"
    }
   },
   "outputs": [],
   "source": [
    "MAX_TWEET_LENGTH = 160\n",
    "WINDOW_SIZE = 40\n",
    "STEP = 3\n",
    "\n",
    "chars_univ, chars_univ_idx = util.get_universal_chars_list()"
   ]
  },
  {
   "cell_type": "code",
   "execution_count": null,
   "metadata": {
    "autoscroll": false,
    "collapsed": false,
    "ein.hycell": false,
    "ein.tags": "worksheet-0",
    "slideshow": {
     "slide_type": "-"
    }
   },
   "outputs": [],
   "source": []
  },
  {
   "cell_type": "code",
   "execution_count": 48,
   "metadata": {
    "autoscroll": false,
    "collapsed": false,
    "ein.hycell": false,
    "ein.tags": "worksheet-0",
    "slideshow": {
     "slide_type": "-"
    }
   },
   "outputs": [],
   "source": [
    "tweets_train = tweets.iloc[0:100] # 100 just to test the model works\n",
    "tweets_dev = tweets.iloc[1100:2100] # 100 just to test the model works\n",
    "tweets_test = tweets.iloc[2000:3000]"
   ]
  },
  {
   "cell_type": "code",
   "execution_count": 49,
   "metadata": {
    "autoscroll": false,
    "collapsed": false,
    "ein.hycell": false,
    "ein.tags": "worksheet-0",
    "slideshow": {
     "slide_type": "-"
    }
   },
   "outputs": [],
   "source": [
    "%timeit\n",
    "\n",
    "train_x, train_y = util.convert_tweet_to_xy(tweets_train)\n",
    "dev_x, dev_y = util.convert_tweet_to_xy(tweets_train)"
   ]
  },
  {
   "cell_type": "code",
   "execution_count": 50,
   "metadata": {
    "autoscroll": false,
    "collapsed": false,
    "ein.hycell": false,
    "ein.tags": "worksheet-0",
    "slideshow": {
     "slide_type": "-"
    }
   },
   "outputs": [
    {
     "data": {
      "text/plain": [
       "array([[[1., 0., 0., ..., 0., 0., 0.],\n        [1., 0., 0., ..., 0., 0., 0.],\n        [1., 0., 0., ..., 0., 0., 0.],\n        ...,\n        [1., 0., 0., ..., 0., 0., 0.],\n        [1., 0., 0., ..., 0., 0., 0.],\n        [1., 0., 0., ..., 0., 0., 0.]],\n\n       [[1., 0., 0., ..., 0., 0., 0.],\n        [1., 0., 0., ..., 0., 0., 0.],\n        [1., 0., 0., ..., 0., 0., 0.],\n        ...,\n        [1., 0., 0., ..., 0., 0., 0.],\n        [1., 0., 0., ..., 0., 0., 0.],\n        [1., 0., 0., ..., 0., 0., 0.]],\n\n       [[1., 0., 0., ..., 0., 0., 0.],\n        [1., 0., 0., ..., 0., 0., 0.],\n        [1., 0., 0., ..., 0., 0., 0.],\n        ...,\n        [1., 0., 0., ..., 0., 0., 0.],\n        [0., 0., 0., ..., 0., 0., 0.],\n        [0., 0., 0., ..., 0., 0., 0.]],\n\n       ...,\n\n       [[0., 0., 0., ..., 0., 0., 0.],\n        [0., 0., 0., ..., 0., 0., 0.],\n        [0., 0., 0., ..., 0., 0., 0.],\n        ...,\n        [0., 0., 0., ..., 0., 0., 0.],\n        [0., 0., 0., ..., 0., 0., 0.],\n        [0., 0., 0., ..., 0., 0., 0.]],\n\n       [[0., 0., 0., ..., 0., 0., 0.],\n        [1., 0., 0., ..., 0., 0., 0.],\n        [0., 0., 0., ..., 0., 0., 0.],\n        ...,\n        [0., 0., 0., ..., 0., 0., 0.],\n        [0., 0., 0., ..., 0., 0., 0.],\n        [0., 0., 0., ..., 0., 0., 0.]],\n\n       [[0., 0., 0., ..., 0., 0., 0.],\n        [0., 0., 0., ..., 0., 0., 0.],\n        [0., 0., 0., ..., 0., 0., 0.],\n        ...,\n        [0., 0., 0., ..., 0., 0., 0.],\n        [0., 0., 0., ..., 0., 0., 0.],\n        [0., 0., 0., ..., 0., 0., 0.]]])"
      ]
     },
     "execution_count": 50,
     "metadata": {},
     "output_type": "execute_result"
    }
   ],
   "source": [
    "train_x"
   ]
  },
  {
   "cell_type": "code",
   "execution_count": 51,
   "metadata": {
    "autoscroll": false,
    "collapsed": false,
    "ein.hycell": false,
    "ein.tags": "worksheet-0",
    "slideshow": {
     "slide_type": "-"
    }
   },
   "outputs": [
    {
     "data": {
      "text/plain": [
       "(4000, 40, 93)"
      ]
     },
     "execution_count": 51,
     "metadata": {},
     "output_type": "execute_result"
    }
   ],
   "source": [
    "train_x.shape"
   ]
  },
  {
   "cell_type": "code",
   "execution_count": 52,
   "metadata": {
    "autoscroll": false,
    "collapsed": false,
    "ein.hycell": false,
    "ein.tags": "worksheet-0",
    "slideshow": {
     "slide_type": "-"
    }
   },
   "outputs": [
    {
     "name": "stdout",
     "output_type": "stream",
     "text": [
      "                                        : \n",
      "                                        : \n",
      "                                      RT: \n",
      "                                   RT [V:I\n",
      "                                RT [VID]: \n",
      "                             RT [VID] 18:1\n",
      "                          RT [VID] 18102:3\n",
      "                       RT [VID] 181023 -: \n",
      "                    RT [VID] 181023 - Fo:i\n",
      "                 RT [VID] 181023 - Foi a:d\n",
      "              RT [VID] 181023 - Foi adic:i\n",
      "           RT [VID] 181023 - Foi adicion:a\n",
      "        RT [VID] 181023 - Foi adicionada: \n",
      "     RT [VID] 181023 - Foi adicionada a :l\n",
      "  RT [VID] 181023 - Foi adicionada a let:r\n",
      "T [VID] 181023 - Foi adicionada a letra :D\n",
      "VID] 181023 - Foi adicionada a letra D n:o\n",
      "] 181023 - Foi adicionada a letra D no o:u\n",
      "81023 - Foi adicionada a letra D no outd:o\n",
      "23 - Foi adicionada a letra D no outdoor: \n",
      "- Foi adicionada a letra D no outdoor mi:s\n",
      "oi adicionada a letra D no outdoor miste:r\n",
      "adicionada a letra D no outdoor misterio:s\n",
      "cionada a letra D no outdoor misterioso :d\n",
      "nada a letra D no outdoor misterioso do :#\n",
      "a a letra D no outdoor misterioso do #BT:S\n",
      " letra D no outdoor misterioso do #BTS e:m\n",
      "tra D no outdoor misterioso do #BTS em H:o\n",
      " D no outdoor misterioso do #BTS em Holl:y\n",
      "no outdoor misterioso do #BTS em Hollywo:o\n",
      "outdoor misterioso do #BTS em Hollywood.:F\n",
      "door misterioso do #BTS em Hollywood.For:m\n",
      "r misterioso do #BTS em Hollywood.Forman:d\n",
      "isterioso do #BTS em Hollywood.Formando:: \n",
      "erioso do #BTS em Hollywood.Formando: BT:S\n",
      "oso do #BTS em Hollywood.Formando: BTS A:N\n",
      " do #BTS em Hollywood.Formando: BTS AND.:.\n",
      " #BTS em Hollywood.Formando: BTS AND... : \n",
      "TS em Hollywood.Formando: BTS AND...  IL:O\n",
      "em Hollywood.Formando: BTS AND...  ILOVE:P\n",
      "                                        : \n",
      "                                        : \n",
      "                                        : \n",
      "                                        : \n",
      "                                        :R\n",
      "                                     RT :1\n",
      "                                  RT 181:0\n",
      "                               RT 181023: \n",
      "                            RT 181023 Kr:i\n",
      "                         RT 181023 Kris :W\n"
     ]
    }
   ],
   "source": [
    "for i in range (50):\n",
    "    print (util.x_y_bool_array_to_sentence(train_x, train_y, chars_univ, position=i, separator=True))"
   ]
  },
  {
   "cell_type": "markdown",
   "metadata": {
    "ein.tags": "worksheet-0",
    "slideshow": {
     "slide_type": "-"
    }
   },
   "source": [
    "# Building a network\n",
    "Intially, let's try generating tweets by training a network on just the tweet data. Once we have an idea how well we can get a network to generate tweets (remember, character by character), we'll compare it to a network that learns to generate tweets by predicting the next chracter jointly from the preceding text and an overall emoji. (remember, this dataset is tweets that all contain exactly one emoji)."
   ]
  },
  {
   "cell_type": "markdown",
   "metadata": {
    "ein.tags": "worksheet-0",
    "slideshow": {
     "slide_type": "-"
    }
   },
   "source": [
    "## Simple network - a single SLTM into a Dense softmax classifier."
   ]
  },
  {
   "cell_type": "code",
   "execution_count": 53,
   "metadata": {
    "autoscroll": false,
    "collapsed": false,
    "ein.hycell": false,
    "ein.tags": "worksheet-0",
    "slideshow": {
     "slide_type": "-"
    }
   },
   "outputs": [],
   "source": [
    "import keras\n",
    "from keras import layers\n",
    "from keras.models import Sequential\n",
    "model = keras.models.Sequential()\n",
    "model.add(layers.LSTM(128, input_shape=(WINDOW_SIZE, len(chars_univ))))\n",
    "model.add(layers.Dense(len(chars_univ), activation='softmax'))\n",
    "\n",
    "# loss function - targets are one-hot encoded\n",
    "optimizer = keras.optimizers.RMSprop(lr=0.001)\n",
    "model.compile(loss='categorical_crossentropy', optimizer=optimizer)"
   ]
  },
  {
   "cell_type": "markdown",
   "metadata": {
    "ein.tags": "worksheet-0",
    "slideshow": {
     "slide_type": "-"
    }
   },
   "source": [
    "## Training the model and sampling from it using a standard character-by-character method\n",
    "1. Draw a probability distribution for the next character\n",
    "2. Reweight the distribution using a temperature parameter\n",
    "3. Sample the next character at random using the reweighted distribution\n",
    "4. Add the new character at the end of the available list"
   ]
  },
  {
   "cell_type": "code",
   "execution_count": 54,
   "metadata": {
    "autoscroll": false,
    "collapsed": false,
    "ein.hycell": false,
    "ein.tags": "worksheet-0",
    "slideshow": {
     "slide_type": "-"
    }
   },
   "outputs": [],
   "source": [
    "def sample (preds, temperature = 1.0):\n",
    "    preds = np.asarray(preds).astype('float64')\n",
    "    preds = np.log(preds) / temperature\n",
    "    exp_preds = np.exp(preds)\n",
    "    preds = exp_preds / np.sum(exp_preds)\n",
    "    probas = np.random.multinomial(1, preds, 1)\n",
    "    return np.argmax(probas)"
   ]
  },
  {
   "cell_type": "markdown",
   "metadata": {
    "ein.tags": "worksheet-0",
    "slideshow": {
     "slide_type": "-"
    }
   },
   "source": [
    "## train the model, generate text\n",
    "Use a range of temeratures after every epoch"
   ]
  },
  {
   "cell_type": "code",
   "execution_count": 55,
   "metadata": {
    "autoscroll": false,
    "collapsed": false,
    "ein.hycell": false,
    "ein.tags": "worksheet-0",
    "slideshow": {
     "slide_type": "-"
    }
   },
   "outputs": [
    {
     "data": {
      "text/plain": [
       "'RT [VID] 1'"
      ]
     },
     "execution_count": 55,
     "metadata": {},
     "output_type": "execute_result"
    }
   ],
   "source": [
    "tweets.iloc[0]['text'][0:10]"
   ]
  },
  {
   "cell_type": "code",
   "execution_count": 60,
   "metadata": {
    "autoscroll": false,
    "collapsed": false,
    "ein.hycell": false,
    "ein.tags": "worksheet-0",
    "slideshow": {
     "slide_type": "-"
    }
   },
   "outputs": [
    {
     "name": "stdout",
     "output_type": "stream",
     "text": [
      "epoch 1\n",
      "Train on 4000 samples, validate on 4000 samples\n",
      "--- Generating with seed: \"RT my hear\"\n",
      "--------- temperature: 0.2\n",
      "RT my hearY.L*Jg5#_-Sxqeho(R^D+T^"
     ]
    },
    {
     "name": "stdout",
     "output_type": "stream",
     "text": [
      "+ 6Y5gc^)g%Rk$+Dr-{|nrLn|0^}1H5z"
     ]
    },
    {
     "name": "stdout",
     "output_type": "stream",
     "text": [
      "1Ik69J|Jh8a.IW&VTwZJ}]z AyCd8frBM"
     ]
    },
    {
     "name": "stdout",
     "output_type": "stream",
     "text": [
      "ZS}-x8=G&M-GvKwQNJ_'u+Rg"
     ]
    },
    {
     "name": "stdout",
     "output_type": "stream",
     "text": [
      "'t'J=EF~;4F,s6Z5lR"
     ]
    },
    {
     "name": "stdout",
     "output_type": "stream",
     "text": [
      "ka0\\Od2(UD@J^kL)6[Re\n",
      "\n",
      "--------- temperature: 0.5\n",
      "@J^kL)6[Re"
     ]
    },
    {
     "name": "stdout",
     "output_type": "stream",
     "text": [
      "[rG||,'jD3(tB}_eB'Fz)"
     ]
    },
    {
     "name": "stdout",
     "output_type": "stream",
     "text": [
      "YS8rkv5KVfsu|u~w!$;~Eb+-k"
     ]
    },
    {
     "name": "stdout",
     "output_type": "stream",
     "text": [
      "e8jq/UXTw T£Rh.&"
     ]
    },
    {
     "name": "stdout",
     "output_type": "stream",
     "text": [
      "A{@\\IPrZ2Q'"
     ]
    },
    {
     "name": "stdout",
     "output_type": "stream",
     "text": [
      "{%/BT\"9lnmQImAXA,!RtQ"
     ]
    },
    {
     "name": "stdout",
     "output_type": "stream",
     "text": [
      "H~|1Q.5$!0/:ELEI)?W\"wu,{"
     ]
    },
    {
     "name": "stdout",
     "output_type": "stream",
     "text": [
      "6PkbCM=w&P+XRfj@E;ZX=KA"
     ]
    },
    {
     "name": "stdout",
     "output_type": "stream",
     "text": [
      "Eq02C7£(j\n",
      "\n",
      "--------- temperature: 1.0\n",
      "AEq02C7£(jtJ]FoXI]Np2OX"
     ]
    },
    {
     "name": "stdout",
     "output_type": "stream",
     "text": [
      "brj_h#?yZ(M7kc\\i.m%u4Fy"
     ]
    },
    {
     "name": "stdout",
     "output_type": "stream",
     "text": [
      "m+ksqY~xt3Y/1Kub@%Qt%"
     ]
    },
    {
     "name": "stdout",
     "output_type": "stream",
     "text": [
      "ln@^d:I\\R^+(K\"Mkbjc[MM:P&O"
     ]
    },
    {
     "name": "stdout",
     "output_type": "stream",
     "text": [
      "U6T^5bK^ H!bnHG.%mD}"
     ]
    },
    {
     "name": "stdout",
     "output_type": "stream",
     "text": [
      "3)~?x,+)CQY}:t?\\-!MS"
     ]
    },
    {
     "name": "stdout",
     "output_type": "stream",
     "text": [
      "}~N_:~C4RbDJ=,"
     ]
    },
    {
     "name": "stdout",
     "output_type": "stream",
     "text": [
      "cr-Z3VJhlF}jZ\n",
      "\n",
      "--------- temperature: 1.2\n",
      "Z3VJhlF}jZJ*QQ0D[:CM."
     ]
    },
    {
     "name": "stdout",
     "output_type": "stream",
     "text": [
      "VsM)r?RbZX79'r;m#VzWVL"
     ]
    },
    {
     "name": "stdout",
     "output_type": "stream",
     "text": [
      "Td}FyXbb/.k w(9O.(qVk"
     ]
    },
    {
     "name": "stdout",
     "output_type": "stream",
     "text": [
      "£U'l/egK[,h=U2[zKj2ZhuU"
     ]
    },
    {
     "name": "stdout",
     "output_type": "stream",
     "text": [
      "lQlKc[Pp81fh6ja#^06@NhU="
     ]
    },
    {
     "name": "stdout",
     "output_type": "stream",
     "text": [
      "/mbek2-yXV3}w1w9Uym6z~z,CR0-"
     ]
    },
    {
     "name": "stdout",
     "output_type": "stream",
     "text": [
      "£DLB$UeB.MMFp56!W$3tB\n",
      "\n",
      "epoch 2\n",
      "Train on 4000 samples, validate on 4000 samples\n",
      "--- Generating with seed: \"RT RT if Y\"\n",
      "--------- temperature: 0.2\n",
      "RT RT if YA,j"
     ]
    },
    {
     "name": "stdout",
     "output_type": "stream",
     "text": [
      "wff£B~IVAZY w~[]*rQ7@Qr"
     ]
    },
    {
     "name": "stdout",
     "output_type": "stream",
     "text": [
      "RCUW].Vx!Up=X"
     ]
    },
    {
     "name": "stdout",
     "output_type": "stream",
     "text": [
      ".NY.x92WUojK4(QS7Jd5s"
     ]
    },
    {
     "name": "stdout",
     "output_type": "stream",
     "text": [
      "q~9c9j\"C[v\" }lTOo\\f.\\R;X"
     ]
    },
    {
     "name": "stdout",
     "output_type": "stream",
     "text": [
      "zq;EX1Y;qN:|'ZE90VA"
     ]
    },
    {
     "name": "stdout",
     "output_type": "stream",
     "text": [
      "l4igTS8Gg9vC&XVcHQwsB"
     ]
    },
    {
     "name": "stdout",
     "output_type": "stream",
     "text": [
      "[R£a=bOT2]+e:mAKROtH7/yaNF\n",
      "\n",
      "--------- temperature: 0.5\n",
      "ROtH7/yaNFG7C9F_"
     ]
    },
    {
     "name": "stdout",
     "output_type": "stream",
     "text": [
      "(N9PIXO6 3Gx@Hj7=C7'oD@$(I8oG"
     ]
    },
    {
     "name": "stdout",
     "output_type": "stream",
     "text": [
      ")^RDA]hkQzYdgb£{dpd5x@b"
     ]
    },
    {
     "name": "stdout",
     "output_type": "stream",
     "text": [
      "t$hyFmR}:5\"Ef&97Q|8TRA)%]E"
     ]
    },
    {
     "name": "stdout",
     "output_type": "stream",
     "text": [
      "e+k2*p.Efp34£g (x5)y,w%=;="
     ]
    },
    {
     "name": "stdout",
     "output_type": "stream",
     "text": [
      "W#m!/GdxK"
     ]
    },
    {
     "name": "stdout",
     "output_type": "stream",
     "text": [
      "+6iSRqHtaZ$pj oM$,[EWzaUyc*"
     ]
    },
    {
     "name": "stdout",
     "output_type": "stream",
     "text": [
      "G'eX\n",
      "\n",
      "--------- temperature: 1.0\n",
      "zaUyc*G'eX/nXLAC~AB+Hgdo\\sw+hC|"
     ]
    },
    {
     "name": "stdout",
     "output_type": "stream",
     "text": [
      ",XW/^bpW{Gc4K &n+\\hH#r[GC"
     ]
    },
    {
     "name": "stdout",
     "output_type": "stream",
     "text": [
      "j*(bIFE8yv^K)zhfPFAf1kZwyH"
     ]
    },
    {
     "name": "stdout",
     "output_type": "stream",
     "text": [
      "X.Hjl? :4e5#d~1QEME+E?sp+3"
     ]
    },
    {
     "name": "stdout",
     "output_type": "stream",
     "text": [
      "hPB$9jY)k*#2KlQ£y"
     ]
    },
    {
     "name": "stdout",
     "output_type": "stream",
     "text": [
      "1(8'Dn\"iGIk&6reW7N*'a\"o#=w|tt8"
     ]
    },
    {
     "name": "stdout",
     "output_type": "stream",
     "text": [
      "8uX+z\n",
      "\n",
      "--------- temperature: 1.2\n",
      "w|tt88uX+zRO4sW=Bucf]{RTZ5dy*uO£"
     ]
    },
    {
     "name": "stdout",
     "output_type": "stream",
     "text": [
      "~Xvi:Wdmkv{&Nk)S,L@jbU--jY"
     ]
    },
    {
     "name": "stdout",
     "output_type": "stream",
     "text": [
      ";eK fwvcU$"
     ]
    },
    {
     "name": "stdout",
     "output_type": "stream",
     "text": [
      "CxH]|['0'?yo^bq9|Yq,@m?ji6M$"
     ]
    },
    {
     "name": "stdout",
     "output_type": "stream",
     "text": [
      "6mj9^W29J]hk$E5P(dBc=*)=|:"
     ]
    },
    {
     "name": "stdout",
     "output_type": "stream",
     "text": [
      "Rgm£ClL?g4Yf Hl,kqYl~6s.EY5B"
     ]
    },
    {
     "name": "stdout",
     "output_type": "stream",
     "text": [
      "f*L[/)xzAn\n",
      "\n",
      "epoch 3\n",
      "Train on 4000 samples, validate on 4000 samples\n",
      "--- Generating with seed: \"RT Fam, he\"\n",
      "--------- temperature: 0.2\n",
      "RT Fam, heg(x41F$$NN~)!r£k5_"
     ]
    },
    {
     "name": "stdout",
     "output_type": "stream",
     "text": [
      "W\\+j73%U=pEc#_zL BmA"
     ]
    },
    {
     "name": "stdout",
     "output_type": "stream",
     "text": [
      "f\\v25ut\"0yTuZ\\kIwkpa(V!uUu"
     ]
    },
    {
     "name": "stdout",
     "output_type": "stream",
     "text": [
      "df_lG/!4--c}R£r2iZ$M!pmLH^+"
     ]
    },
    {
     "name": "stdout",
     "output_type": "stream",
     "text": [
      "_(f~FVi2i?Gv.o£.Pzt-kt7y\"'AcK"
     ]
    },
    {
     "name": "stdout",
     "output_type": "stream",
     "text": [
      "nx}4Lt)\\1b1qi?%Qpek~Vy|r"
     ]
    },
    {
     "name": "stdout",
     "output_type": "stream",
     "text": [
      ")#X8oM\n",
      "\n",
      "--------- temperature: 0.5\n",
      "Vy|r)#X8oM*WuB"
     ]
    },
    {
     "name": "stdout",
     "output_type": "stream",
     "text": [
      "4@}W*h%f E%tg\"dHw,zG,0GTFK"
     ]
    },
    {
     "name": "stdout",
     "output_type": "stream",
     "text": [
      "5uw~65ETlZWC73sI[m&=)oW8"
     ]
    },
    {
     "name": "stdout",
     "output_type": "stream",
     "text": [
      "SPlIe!N8%d)O  b,Cpp]PdbnoU=T!Iato"
     ]
    },
    {
     "name": "stdout",
     "output_type": "stream",
     "text": [
      "DFuszVMk.[3CP?-x+]Vv"
     ]
    },
    {
     "name": "stdout",
     "output_type": "stream",
     "text": [
      "9f_Z{'@z-.*CJ,£ASyZW/u"
     ]
    },
    {
     "name": "stdout",
     "output_type": "stream",
     "text": [
      "aAaDM&f+W£{k2Ki)[Rx!4\n",
      "\n",
      "--------- temperature: 1.0\n",
      "k2Ki)[Rx!4i&$!["
     ]
    },
    {
     "name": "stdout",
     "output_type": "stream",
     "text": [
      "|NufG a(eLI%O@rwTJigZ .=Rn"
     ]
    },
    {
     "name": "stdout",
     "output_type": "stream",
     "text": [
      "e^7mu9gR~g|@~~6i£Ec£z~xgNNOMF:"
     ]
    },
    {
     "name": "stdout",
     "output_type": "stream",
     "text": [
      "$p[Y* -X461qp7iWrz!M"
     ]
    },
    {
     "name": "stdout",
     "output_type": "stream",
     "text": [
      "w3wc}_xb;m)(I"
     ]
    },
    {
     "name": "stdout",
     "output_type": "stream",
     "text": [
      " hn#X7Y^Zz$DbBPx8Ck&yTcz"
     ]
    },
    {
     "name": "stdout",
     "output_type": "stream",
     "text": [
      "NW#WE1Qx2h9|VX|7£uF_z,nkYnJD4b$"
     ]
    },
    {
     "name": "stdout",
     "output_type": "stream",
     "text": [
      "M\n",
      "\n",
      "--------- temperature: 1.2\n",
      "nkYnJD4b$M2I,gNe7jORMD0/N686LsCRQG"
     ]
    },
    {
     "name": "stdout",
     "output_type": "stream",
     "text": [
      "I2_*$se7~ar|2yyQ6$xgd|K,}r"
     ]
    },
    {
     "name": "stdout",
     "output_type": "stream",
     "text": [
      "MU}}]L N8+^h;*ub=RsMF{%{V~sA|H&W\""
     ]
    },
    {
     "name": "stdout",
     "output_type": "stream",
     "text": [
      "d':gIND%c;lW[sGOu ^@o|~-u)"
     ]
    },
    {
     "name": "stdout",
     "output_type": "stream",
     "text": [
      "r^LmONO\"48Tw$}6^5j|$Gj? ~"
     ]
    },
    {
     "name": "stdout",
     "output_type": "stream",
     "text": [
      "z!&Q:PH/tE1?\\.v0\n",
      "\n",
      "epoch 4\n",
      "Train on 4000 samples, validate on 4000 samples\n",
      "--- Generating with seed: \"hopefully \"\n",
      "--------- temperature: 0.2\n",
      "hopefully _Hr|_4aRH"
     ]
    },
    {
     "name": "stdout",
     "output_type": "stream",
     "text": [
      "vVhw-.7M/hME]Foz"
     ]
    },
    {
     "name": "stdout",
     "output_type": "stream",
     "text": [
      "vs|M-)?9xMQ=0£f@"
     ]
    },
    {
     "name": "stdout",
     "output_type": "stream",
     "text": [
      "d%zOBCQ=,{IT(V:ze/}/z5ur!cx;(HtcR|!"
     ]
    },
    {
     "name": "stdout",
     "output_type": "stream",
     "text": [
      "LZv;^+1D8z;qm\\&@n^S6xCAy-T3l"
     ]
    },
    {
     "name": "stdout",
     "output_type": "stream",
     "text": [
      "6Q,j.ue;s}^fnb3qA@:Vd*F6%A8b"
     ]
    },
    {
     "name": "stdout",
     "output_type": "stream",
     "text": [
      "X\"H-zcJkyV%TQB&H)T\n",
      "\n",
      "--------- temperature: 0.5\n",
      "yV%TQB&H)TXCI4@|YwEW"
     ]
    },
    {
     "name": "stdout",
     "output_type": "stream",
     "text": [
      "C4xyO8RmSKo;oeL{h%s@,QETD1"
     ]
    },
    {
     "name": "stdout",
     "output_type": "stream",
     "text": [
      ",O£w=]G0:?[\"qG3[gzOr}8QoZ"
     ]
    },
    {
     "name": "stdout",
     "output_type": "stream",
     "text": [
      "S0bYG-A&7]K)s;xw4D-w3p,V"
     ]
    },
    {
     "name": "stdout",
     "output_type": "stream",
     "text": [
      "(l6'K#Mx~m~\\fAAKZ&4y ];**J%D mgh"
     ]
    },
    {
     "name": "stdout",
     "output_type": "stream",
     "text": [
      "^wR1L%Vz +"
     ]
    },
    {
     "name": "stdout",
     "output_type": "stream",
     "text": [
      "c[w7q6OV}a;{JBrBN5("
     ]
    },
    {
     "name": "stdout",
     "output_type": "stream",
     "text": [
      "=W_c\n",
      "\n",
      "--------- temperature: 1.0\n",
      "BrBN5(=W_cM£j5T_+(YzT=8wt\\"
     ]
    },
    {
     "name": "stdout",
     "output_type": "stream",
     "text": [
      "o1z;~lZ_xk\\^A]vGy@-&!Xqk}eLsg"
     ]
    },
    {
     "name": "stdout",
     "output_type": "stream",
     "text": [
      "5&m^f#2p8G}yXyOAlCO5:kLxo8B\\(n7*$"
     ]
    },
    {
     "name": "stdout",
     "output_type": "stream",
     "text": [
      "% =10jzuWfkKi+PEm]*-^f5[Ra7DF"
     ]
    },
    {
     "name": "stdout",
     "output_type": "stream",
     "text": [
      "|#N1An)'ds?]J6S ZS&X{ogX/J"
     ]
    },
    {
     "name": "stdout",
     "output_type": "stream",
     "text": [
      "fICuKZbIHe£:U-&Dh\n",
      "\n",
      "--------- temperature: 1.2\n",
      "IHe£:U-&Dh\\TUP/+ "
     ]
    },
    {
     "name": "stdout",
     "output_type": "stream",
     "text": [
      "(.8M_G;Ql'U'KbSM"
     ]
    },
    {
     "name": "stdout",
     "output_type": "stream",
     "text": [
      "?i}]Y=baf{jyrqUb\"Ry'/B"
     ]
    },
    {
     "name": "stdout",
     "output_type": "stream",
     "text": [
      "-\"ex,J6[\\5[M1"
     ]
    },
    {
     "name": "stdout",
     "output_type": "stream",
     "text": [
      "4{w!8VLhku4"
     ]
    },
    {
     "name": "stdout",
     "output_type": "stream",
     "text": [
      "yER9p]u+'MfvB^O/O*Dqo-:/h"
     ]
    },
    {
     "name": "stdout",
     "output_type": "stream",
     "text": [
      "Sy :[5[3jWKQ.a}-k)aIjn"
     ]
    },
    {
     "name": "stdout",
     "output_type": "stream",
     "text": [
      "_q&?J:OZa;0\\?rK-t|h0AV"
     ]
    },
    {
     "name": "stdout",
     "output_type": "stream",
     "text": [
      "p:W?$h8Ff-k|\n",
      "\n",
      "epoch 5\n",
      "Train on 4000 samples, validate on 4000 samples\n",
      "--- Generating with seed: \"RT Isn't t\"\n",
      "--------- temperature: 0.2\n",
      "RT Isn't t~d:hB3]%GA,\"l"
     ]
    },
    {
     "name": "stdout",
     "output_type": "stream",
     "text": [
      "_D JBY4Nbc\"5X?£vN81k/+bv~!@"
     ]
    },
    {
     "name": "stdout",
     "output_type": "stream",
     "text": [
      "-_xGI09HqBBvum7M},qSmf^p~o"
     ]
    },
    {
     "name": "stdout",
     "output_type": "stream",
     "text": [
      "9qW+%BHa+1d6Y1:$|[)uokA*r"
     ]
    },
    {
     "name": "stdout",
     "output_type": "stream",
     "text": [
      "RXMItnZ@;z;g9u9U^ecw]m"
     ]
    },
    {
     "name": "stdout",
     "output_type": "stream",
     "text": [
      "%8Q/wyW:1^)/(P4£1-"
     ]
    },
    {
     "name": "stdout",
     "output_type": "stream",
     "text": [
      "2eEudu&dVP1Qe"
     ]
    },
    {
     "name": "stdout",
     "output_type": "stream",
     "text": [
      "VcHlgT\n",
      "\n",
      "--------- temperature: 0.5\n",
      "P1QeVcHlgTt(l.zV?jU'2UD("
     ]
    },
    {
     "name": "stdout",
     "output_type": "stream",
     "text": [
      "Z[?I1OoFZMgit.G:Ww1[h"
     ]
    },
    {
     "name": "stdout",
     "output_type": "stream",
     "text": [
      "jF£A+;' 02I!TAPgOoD=NH=x:cC"
     ]
    },
    {
     "name": "stdout",
     "output_type": "stream",
     "text": [
      ".M,-6@3x^m:RZO?PbG%+OHK&Bpj@'[oxz"
     ]
    },
    {
     "name": "stdout",
     "output_type": "stream",
     "text": [
      "jvF7jD~5u #]81I/\"5IkS)o$^£"
     ]
    },
    {
     "name": "stdout",
     "output_type": "stream",
     "text": [
      ";!EQ@+Z!@]K@4YK}!m0/D0Im+\\#52\n",
      "\n",
      "--------- temperature: 1.0\n",
      "/D0Im+\\#52i#r"
     ]
    },
    {
     "name": "stdout",
     "output_type": "stream",
     "text": [
      "F;FA&UIg(~ KUm! Eg(a6q%"
     ]
    },
    {
     "name": "stdout",
     "output_type": "stream",
     "text": [
      "[R7r4dY.8XA\"C4v*ecKe4=m,0rMN!"
     ]
    },
    {
     "name": "stdout",
     "output_type": "stream",
     "text": [
      "ZC=+bP}/|(o5\\D4\"2V"
     ]
    },
    {
     "name": "stdout",
     "output_type": "stream",
     "text": [
      "£Y,JN_cm']LSP"
     ]
    },
    {
     "name": "stdout",
     "output_type": "stream",
     "text": [
      "@@.0^LmMRat+TfIlWS1\\|"
     ]
    },
    {
     "name": "stdout",
     "output_type": "stream",
     "text": [
      "tuw--H^k)Gg+1w)TT,Z-G"
     ]
    },
    {
     "name": "stdout",
     "output_type": "stream",
     "text": [
      ")OyLn3S m4^LDR63,'PHpW\n",
      "\n",
      "--------- temperature: 1.2\n",
      "DR63,'PHpWtOsO"
     ]
    },
    {
     "name": "stdout",
     "output_type": "stream",
     "text": [
      "Jj@_n-p0q%Af;cpN&]A/][:y"
     ]
    },
    {
     "name": "stdout",
     "output_type": "stream",
     "text": [
      "%DBwlpIE8OTAdE|=EAh'{:mC0s"
     ]
    },
    {
     "name": "stdout",
     "output_type": "stream",
     "text": [
      "=ne;LFAj;\"k4\\i+A4As|5y6?=f"
     ]
    },
    {
     "name": "stdout",
     "output_type": "stream",
     "text": [
      "FG07onaJO\"6nxG%\"kK{u-}=R^G"
     ]
    },
    {
     "name": "stdout",
     "output_type": "stream",
     "text": [
      "e&5 D.CV=£'m77j$8'\\_#wh"
     ]
    },
    {
     "name": "stdout",
     "output_type": "stream",
     "text": [
      "6TC-\\[(wEdq?\"Z2+buTp|\n",
      "\n",
      "epoch 6\n",
      "Train on 4000 samples, validate on 4000 samples\n",
      "--- Generating with seed: \"I like how\"\n",
      "--------- temperature: 0.2\n",
      "I like how"
     ]
    },
    {
     "name": "stdout",
     "output_type": "stream",
     "text": [
      "g\"pWU*XX%D#["
     ]
    },
    {
     "name": "stdout",
     "output_type": "stream",
     "text": [
      "!7TsR.c4FKJLi+MEFul,hU"
     ]
    },
    {
     "name": "stdout",
     "output_type": "stream",
     "text": [
      "N:cjZ;£{(]p)TTaR-F9@:(@PE4"
     ]
    },
    {
     "name": "stdout",
     "output_type": "stream",
     "text": [
      "Mzjp\\YV7~?Ur.lFc68n20R:B"
     ]
    },
    {
     "name": "stdout",
     "output_type": "stream",
     "text": [
      "FgtWwidT\".T2'W*XgP|~[?4Ll'~"
     ]
    },
    {
     "name": "stdout",
     "output_type": "stream",
     "text": [
      "240+£q;yIoqqsAg]G1n\\b;}Et179T]$"
     ]
    },
    {
     "name": "stdout",
     "output_type": "stream",
     "text": [
      "?1N*nY%m\n",
      "\n",
      "--------- temperature: 0.5\n",
      "]$?1N*nY%mA&fV^q*|T7;aZT|!a\\F?;"
     ]
    },
    {
     "name": "stdout",
     "output_type": "stream",
     "text": [
      "09hF4J\"VDBr[e!T) q6z'8"
     ]
    },
    {
     "name": "stdout",
     "output_type": "stream",
     "text": [
      "C::gFf)~H9S9Bl{}wiEc\\N"
     ]
    },
    {
     "name": "stdout",
     "output_type": "stream",
     "text": [
      "&5F1eb;h|F#ls;GLj"
     ]
    },
    {
     "name": "stdout",
     "output_type": "stream",
     "text": [
      "]yV\\$F';F:\"N6"
     ]
    },
    {
     "name": "stdout",
     "output_type": "stream",
     "text": [
      "S?VsO.vDs];q8r6p[0@vBAmCW{T"
     ]
    },
    {
     "name": "stdout",
     "output_type": "stream",
     "text": [
      "]eN&4u&#|c7ZM£=ZxOu,f4oX0tV*\n",
      "\n",
      "--------- temperature: 1.0\n",
      "u,f4oX0tV*"
     ]
    },
    {
     "name": "stdout",
     "output_type": "stream",
     "text": [
      "uGjz.s8xjpG^NdxyjeVHN~Jss"
     ]
    },
    {
     "name": "stdout",
     "output_type": "stream",
     "text": [
      "3{G@*m6c_;Kh3N+C%7*UGXzs6H"
     ]
    },
    {
     "name": "stdout",
     "output_type": "stream",
     "text": [
      "??a5l|C{9£IGv~&&~H+;4Ew"
     ]
    },
    {
     "name": "stdout",
     "output_type": "stream",
     "text": [
      "^G_,XxSr f7B:I%4C/~~NH9pO"
     ]
    },
    {
     "name": "stdout",
     "output_type": "stream",
     "text": [
      "5qK&Wy]PVJWhbbDf%\"eZg"
     ]
    },
    {
     "name": "stdout",
     "output_type": "stream",
     "text": [
      "^m)_:d9we}0h{Z8'Z{j\\*E"
     ]
    },
    {
     "name": "stdout",
     "output_type": "stream",
     "text": [
      "{:98Re:0\n",
      "\n",
      "--------- temperature: 1.2\n",
      "*E{:98Re:0/0lz\\jk'IQ"
     ]
    },
    {
     "name": "stdout",
     "output_type": "stream",
     "text": [
      "Io'A~ZN#an&tV02"
     ]
    },
    {
     "name": "stdout",
     "output_type": "stream",
     "text": [
      "mckw/SO:l$L=[iwD[5VJLfPk"
     ]
    },
    {
     "name": "stdout",
     "output_type": "stream",
     "text": [
      "#$;{Wkt0L/4$h^1ZzN^l%Cp"
     ]
    },
    {
     "name": "stdout",
     "output_type": "stream",
     "text": [
      "E-(\\un#};0NO^?()D^*E\"m"
     ]
    },
    {
     "name": "stdout",
     "output_type": "stream",
     "text": [
      "?nB?O(=kf:Pom\\4$V=] uv?"
     ]
    },
    {
     "name": "stdout",
     "output_type": "stream",
     "text": [
      "}B£2tjCYIL;7Vakn{8U1*,4NM"
     ]
    },
    {
     "name": "stdout",
     "output_type": "stream",
     "text": [
      ".bU~NA!K\n",
      "\n",
      "epoch 7\n",
      "Train on 4000 samples, validate on 4000 samples\n",
      "--- Generating with seed: \"Im a grown\"\n",
      "--------- temperature: 0.2\n",
      "Im a grownEnq$H$}v3=DoGBM/B"
     ]
    },
    {
     "name": "stdout",
     "output_type": "stream",
     "text": [
      ":A£0@goq6JdkM[0Ymbx?&$,z"
     ]
    },
    {
     "name": "stdout",
     "output_type": "stream",
     "text": [
      "hUI^'pjPad£}g)P6)vy2ljv}"
     ]
    },
    {
     "name": "stdout",
     "output_type": "stream",
     "text": [
      "c3xsrh% "
     ]
    },
    {
     "name": "stdout",
     "output_type": "stream",
     "text": [
      "pi|%qfnUa==,mKw5"
     ]
    },
    {
     "name": "stdout",
     "output_type": "stream",
     "text": [
      "ckHr:V1''s8jeqkydtD!"
     ]
    },
    {
     "name": "stdout",
     "output_type": "stream",
     "text": [
      "Fx\\yKw*D(bXjO.]Bek@x!kf]2"
     ]
    },
    {
     "name": "stdout",
     "output_type": "stream",
     "text": [
      "O)&2wS./' &\"7\\n~\n",
      "\n",
      "--------- temperature: 0.5\n",
      "./' &\"7\\n~cVfDz0Av"
     ]
    },
    {
     "name": "stdout",
     "output_type": "stream",
     "text": [
      "y+PGGV£4a_yS5u0e)ZgW4E_EC64@C#92v"
     ]
    },
    {
     "name": "stdout",
     "output_type": "stream",
     "text": [
      "+Ci[[{c9^HvP%@Ij8l~57"
     ]
    },
    {
     "name": "stdout",
     "output_type": "stream",
     "text": [
      "Z6#x.y[;8Um^+H9-7- |n{/'}y6uDj"
     ]
    },
    {
     "name": "stdout",
     "output_type": "stream",
     "text": [
      "{^3Zi}o~pNz;LQU=wH~L(^-Q$"
     ]
    },
    {
     "name": "stdout",
     "output_type": "stream",
     "text": [
      "e]X/£+@mST0'\\g\"G\\U4\"v£A"
     ]
    },
    {
     "name": "stdout",
     "output_type": "stream",
     "text": [
      "*MkuzejG|(\n",
      "\n",
      "--------- temperature: 1.0\n",
      "*MkuzejG|("
     ]
    },
    {
     "name": "stdout",
     "output_type": "stream",
     "text": [
      "X96U{m!t7bmP.Cb65vTR9;h"
     ]
    },
    {
     "name": "stdout",
     "output_type": "stream",
     "text": [
      "X[l[sY,\\NZkC}NJZExBGrDzp["
     ]
    },
    {
     "name": "stdout",
     "output_type": "stream",
     "text": [
      "tSCvoc(RUHaqZ'B,Z:WYNN_"
     ]
    },
    {
     "name": "stdout",
     "output_type": "stream",
     "text": [
      "£S'7u]+hrfQwbS^mMY0]40r"
     ]
    },
    {
     "name": "stdout",
     "output_type": "stream",
     "text": [
      "z1 &NC*MVfPDS_b%U+snzV"
     ]
    },
    {
     "name": "stdout",
     "output_type": "stream",
     "text": [
      "]k:AxAX8@_lUS,b]xD~t~Cqc£m\\"
     ]
    },
    {
     "name": "stdout",
     "output_type": "stream",
     "text": [
      "3CZe[wj\n",
      "\n",
      "--------- temperature: 1.2\n",
      "£m\\3CZe[wjb+^^Udg{(#]+H}&w9^"
     ]
    },
    {
     "name": "stdout",
     "output_type": "stream",
     "text": [
      "I'4#?,%AN£{Yza=ECQ=T$A{;£%S"
     ]
    },
    {
     "name": "stdout",
     "output_type": "stream",
     "text": [
      ";Z.[\\4£ Hp,(AA83+a8mif%u]"
     ]
    },
    {
     "name": "stdout",
     "output_type": "stream",
     "text": [
      "&VqW;£$"
     ]
    },
    {
     "name": "stdout",
     "output_type": "stream",
     "text": [
      "$=1KdP]H?8T,£~fkA;aDBg8h KS-"
     ]
    },
    {
     "name": "stdout",
     "output_type": "stream",
     "text": [
      "9P/I1d^' m£E.DT=s9A82%,x"
     ]
    },
    {
     "name": "stdout",
     "output_type": "stream",
     "text": [
      "{'LKW3h!QZ=@Ty}LA-SzR\n",
      "\n",
      "epoch 8\n",
      "Train on 4000 samples, validate on 4000 samples\n",
      "--- Generating with seed: \"Yes oh...\"\n",
      "--------- temperature: 0.2\n",
      "Yes oh...],"
     ]
    },
    {
     "name": "stdout",
     "output_type": "stream",
     "text": [
      "=0KhV7./)#[${Oa#XYr%"
     ]
    },
    {
     "name": "stdout",
     "output_type": "stream",
     "text": [
      "k-55mvHf5G£wt/']CBf.N,"
     ]
    },
    {
     "name": "stdout",
     "output_type": "stream",
     "text": [
      "^p=g|MQ_B9Yj29i$UU\\7Fyaa+"
     ]
    },
    {
     "name": "stdout",
     "output_type": "stream",
     "text": [
      "?6 zz$(Euih=lGJIAems54o"
     ]
    },
    {
     "name": "stdout",
     "output_type": "stream",
     "text": [
      "x3/p2L(b&D}_$gW(/kTg1T$z9@B/#"
     ]
    },
    {
     "name": "stdout",
     "output_type": "stream",
     "text": [
      "X]k LB8K(0Y3yHEN]J_c},~OC"
     ]
    },
    {
     "name": "stdout",
     "output_type": "stream",
     "text": [
      "Q;;b\n",
      "\n",
      "--------- temperature: 0.5\n",
      "},~OCQ;;bK:\\d}"
     ]
    },
    {
     "name": "stdout",
     "output_type": "stream",
     "text": [
      "1y0$^0%5Xpru_4qDV.diJaAZI[R"
     ]
    },
    {
     "name": "stdout",
     "output_type": "stream",
     "text": [
      "8]aI^;9;3+7&W\"1FRH.}fBMgYv"
     ]
    },
    {
     "name": "stdout",
     "output_type": "stream",
     "text": [
      "E@ALXC?Q+YX^TmXuDTw"
     ]
    },
    {
     "name": "stdout",
     "output_type": "stream",
     "text": [
      "m5Vx]CVZe5H5'JWF +"
     ]
    },
    {
     "name": "stdout",
     "output_type": "stream",
     "text": [
      "gDrVAPEec7!G]TSMcckwofy~Sm'Hz_N"
     ]
    },
    {
     "name": "stdout",
     "output_type": "stream",
     "text": [
      "{5#5B.46z:[%qfao-C_vVeq3\n",
      "\n",
      "--------- temperature: 1.0\n",
      "o-C_vVeq3G=7!3bc"
     ]
    },
    {
     "name": "stdout",
     "output_type": "stream",
     "text": [
      "w526{p&{Q£IW~d1x?q@Got"
     ]
    },
    {
     "name": "stdout",
     "output_type": "stream",
     "text": [
      "=E!:\"_fO&jkRp3-11I2!deKQR\"?"
     ]
    },
    {
     "name": "stdout",
     "output_type": "stream",
     "text": [
      "X[{HqIM8Q2{5l&Z]f"
     ]
    },
    {
     "name": "stdout",
     "output_type": "stream",
     "text": [
      "hJOGE%\"j "
     ]
    },
    {
     "name": "stdout",
     "output_type": "stream",
     "text": [
      "&+YH(t&TWW(eaUCw:EB-PV?£2"
     ]
    },
    {
     "name": "stdout",
     "output_type": "stream",
     "text": [
      "9{ ]NnFU7z+xBB#E#b*U"
     ]
    },
    {
     "name": "stdout",
     "output_type": "stream",
     "text": [
      "H%-'*8HCD g=*m:T=pN8}JZ\n",
      "\n",
      "--------- temperature: 1.2\n",
      ":T=pN8}JZvGT!"
     ]
    },
    {
     "name": "stdout",
     "output_type": "stream",
     "text": [
      "n;XHav}£s$V#fAf|x&B \"4"
     ]
    },
    {
     "name": "stdout",
     "output_type": "stream",
     "text": [
      "gQW^=eK]I*Ent*!d2p;4Em5]}@b*QG"
     ]
    },
    {
     "name": "stdout",
     "output_type": "stream",
     "text": [
      "0za|:&,PU5v8icVdWX4Q%qJ"
     ]
    },
    {
     "name": "stdout",
     "output_type": "stream",
     "text": [
      "qhJV+%66,&N1aZhGFx("
     ]
    },
    {
     "name": "stdout",
     "output_type": "stream",
     "text": [
      "p?L8;pUQ\\~M0#1WNzdx"
     ]
    },
    {
     "name": "stdout",
     "output_type": "stream",
     "text": [
      "nT:\"U[N5kdAuo}9iQ\"fFJ1"
     ]
    },
    {
     "name": "stdout",
     "output_type": "stream",
     "text": [
      "v$3BO=}@"
     ]
    },
    {
     "name": "stdout",
     "output_type": "stream",
     "text": [
      "n51\n",
      "\n",
      "epoch 9\n",
      "Train on 4000 samples, validate on 4000 samples\n",
      "--- Generating with seed: \"Me &amp; m\"\n",
      "--------- temperature: 0.2\n",
      "Me &amp; mb7e91,.8v£)\\s:+';M"
     ]
    },
    {
     "name": "stdout",
     "output_type": "stream",
     "text": [
      "?!fzklT7@is3=@UED;\"AQl;'CeJ#+P"
     ]
    },
    {
     "name": "stdout",
     "output_type": "stream",
     "text": [
      "PR+d/214&EG8JS$3]V~Y5:96%r"
     ]
    },
    {
     "name": "stdout",
     "output_type": "stream",
     "text": [
      "7|sVqn+D.@u+..A8|pIS**G,"
     ]
    },
    {
     "name": "stdout",
     "output_type": "stream",
     "text": [
      "=b3|[9' ],S#;+£j 6K.De-£("
     ]
    },
    {
     "name": "stdout",
     "output_type": "stream",
     "text": [
      ")OV/RcjD[2GiVkoRFg\"iN"
     ]
    },
    {
     "name": "stdout",
     "output_type": "stream",
     "text": [
      "#]l{-P\n",
      "\n",
      "--------- temperature: 0.5\n",
      "g\"iN#]l{-P9gl#W)5O4}]sq+[M"
     ]
    },
    {
     "name": "stdout",
     "output_type": "stream",
     "text": [
      ",W8U@zXsK5d7A~P5lE*9SX"
     ]
    },
    {
     "name": "stdout",
     "output_type": "stream",
     "text": [
      "l+/V=uPT @K-rZ|^tc\"'7(bE"
     ]
    },
    {
     "name": "stdout",
     "output_type": "stream",
     "text": [
      "RYKV"
     ]
    },
    {
     "name": "stdout",
     "output_type": "stream",
     "text": [
      ")kdqO£mKWbg[2rW{vnMy6zph"
     ]
    },
    {
     "name": "stdout",
     "output_type": "stream",
     "text": [
      "LiDo'ivU;(x87dDJX;"
     ]
    },
    {
     "name": "stdout",
     "output_type": "stream",
     "text": [
      "N),%$mSK_[!7J8[kGwNy~gV\""
     ]
    },
    {
     "name": "stdout",
     "output_type": "stream",
     "text": [
      "QdRWIU@}U*\"^7seJ@%\n",
      "\n",
      "--------- temperature: 1.0\n",
      "U*\"^7seJ@%Iu_wbZQ"
     ]
    },
    {
     "name": "stdout",
     "output_type": "stream",
     "text": [
      "I=UP(@9sAs5XGhRtaCj(-k"
     ]
    },
    {
     "name": "stdout",
     "output_type": "stream",
     "text": [
      "iz;b!2SX|k#jO_);tpQP=thMB\\"
     ]
    },
    {
     "name": "stdout",
     "output_type": "stream",
     "text": [
      "vKyl]{[fK Oe% z2sAx0ZbaREnn*T+"
     ]
    },
    {
     "name": "stdout",
     "output_type": "stream",
     "text": [
      "*LLn,POWU%vnP1{!d,W~*EAux"
     ]
    },
    {
     "name": "stdout",
     "output_type": "stream",
     "text": [
      "S~8}J[287y[JqJe[}O£-c|z5"
     ]
    },
    {
     "name": "stdout",
     "output_type": "stream",
     "text": [
      "Em(e0LJo"
     ]
    },
    {
     "name": "stdout",
     "output_type": "stream",
     "text": [
      "lD87'oMy\n",
      "\n",
      "--------- temperature: 1.2\n",
      "JolD87'oMyecXS-L&J1"
     ]
    },
    {
     "name": "stdout",
     "output_type": "stream",
     "text": [
      "Ue*e{bu*#=G!IW'B:870I,-Q\""
     ]
    },
    {
     "name": "stdout",
     "output_type": "stream",
     "text": [
      "qb,H'A8ZdV#o\\,SkN{?vGYE[h"
     ]
    },
    {
     "name": "stdout",
     "output_type": "stream",
     "text": [
      "e1QsWE}D*O,b£+F{^"
     ]
    },
    {
     "name": "stdout",
     "output_type": "stream",
     "text": [
      "a,rKWe"
     ]
    },
    {
     "ename": "KeyboardInterrupt",
     "evalue": "",
     "output_type": "error",
     "traceback": [
      "\u001b[0;31m\u001b[0m",
      "\u001b[0;31mKeyboardInterrupt\u001b[0mTraceback (most recent call last)",
      "\u001b[0;32m<ipython-input-60-baedc2540873>\u001b[0m in \u001b[0;36m<module>\u001b[0;34m()\u001b[0m\n\u001b[1;32m     32\u001b[0m \u001b[0;34m\u001b[0m\u001b[0m\n\u001b[1;32m     33\u001b[0m             \u001b[0;31m# sample the next character\u001b[0m\u001b[0;34m\u001b[0m\u001b[0;34m\u001b[0m\u001b[0m\n\u001b[0;32m---> 34\u001b[0;31m             \u001b[0mpreds\u001b[0m \u001b[0;34m=\u001b[0m \u001b[0mmodel\u001b[0m\u001b[0;34m.\u001b[0m\u001b[0mpredict\u001b[0m\u001b[0;34m(\u001b[0m\u001b[0msampled\u001b[0m\u001b[0;34m,\u001b[0m \u001b[0mverbose\u001b[0m\u001b[0;34m=\u001b[0m\u001b[0;36m0\u001b[0m\u001b[0;34m)\u001b[0m\u001b[0;34m[\u001b[0m\u001b[0;36m0\u001b[0m\u001b[0;34m]\u001b[0m\u001b[0;34m\u001b[0m\u001b[0m\n\u001b[0m\u001b[1;32m     35\u001b[0m             \u001b[0mnext_index\u001b[0m \u001b[0;34m=\u001b[0m \u001b[0msample\u001b[0m\u001b[0;34m(\u001b[0m\u001b[0mpreds\u001b[0m\u001b[0;34m,\u001b[0m \u001b[0mtemperature\u001b[0m\u001b[0;34m)\u001b[0m\u001b[0;34m\u001b[0m\u001b[0m\n\u001b[1;32m     36\u001b[0m             \u001b[0mnext_char\u001b[0m \u001b[0;34m=\u001b[0m \u001b[0mchars_univ\u001b[0m\u001b[0;34m[\u001b[0m\u001b[0mnext_index\u001b[0m\u001b[0;34m]\u001b[0m\u001b[0;34m\u001b[0m\u001b[0m\n",
      "\u001b[0;32m~/anaconda3/lib/python3.6/site-packages/keras/engine/training.py\u001b[0m in \u001b[0;36mpredict\u001b[0;34m(self, x, batch_size, verbose, steps)\u001b[0m\n\u001b[1;32m   1167\u001b[0m                                             \u001b[0mbatch_size\u001b[0m\u001b[0;34m=\u001b[0m\u001b[0mbatch_size\u001b[0m\u001b[0;34m,\u001b[0m\u001b[0;34m\u001b[0m\u001b[0m\n\u001b[1;32m   1168\u001b[0m                                             \u001b[0mverbose\u001b[0m\u001b[0;34m=\u001b[0m\u001b[0mverbose\u001b[0m\u001b[0;34m,\u001b[0m\u001b[0;34m\u001b[0m\u001b[0m\n\u001b[0;32m-> 1169\u001b[0;31m                                             steps=steps)\n\u001b[0m\u001b[1;32m   1170\u001b[0m \u001b[0;34m\u001b[0m\u001b[0m\n\u001b[1;32m   1171\u001b[0m     def train_on_batch(self, x, y,\n",
      "\u001b[0;32m~/anaconda3/lib/python3.6/site-packages/keras/engine/training_arrays.py\u001b[0m in \u001b[0;36mpredict_loop\u001b[0;34m(model, f, ins, batch_size, verbose, steps)\u001b[0m\n\u001b[1;32m    292\u001b[0m                 \u001b[0mins_batch\u001b[0m\u001b[0;34m[\u001b[0m\u001b[0mi\u001b[0m\u001b[0;34m]\u001b[0m \u001b[0;34m=\u001b[0m \u001b[0mins_batch\u001b[0m\u001b[0;34m[\u001b[0m\u001b[0mi\u001b[0m\u001b[0;34m]\u001b[0m\u001b[0;34m.\u001b[0m\u001b[0mtoarray\u001b[0m\u001b[0;34m(\u001b[0m\u001b[0;34m)\u001b[0m\u001b[0;34m\u001b[0m\u001b[0m\n\u001b[1;32m    293\u001b[0m \u001b[0;34m\u001b[0m\u001b[0m\n\u001b[0;32m--> 294\u001b[0;31m             \u001b[0mbatch_outs\u001b[0m \u001b[0;34m=\u001b[0m \u001b[0mf\u001b[0m\u001b[0;34m(\u001b[0m\u001b[0mins_batch\u001b[0m\u001b[0;34m)\u001b[0m\u001b[0;34m\u001b[0m\u001b[0m\n\u001b[0m\u001b[1;32m    295\u001b[0m             \u001b[0mbatch_outs\u001b[0m \u001b[0;34m=\u001b[0m \u001b[0mto_list\u001b[0m\u001b[0;34m(\u001b[0m\u001b[0mbatch_outs\u001b[0m\u001b[0;34m)\u001b[0m\u001b[0;34m\u001b[0m\u001b[0m\n\u001b[1;32m    296\u001b[0m             \u001b[0;32mif\u001b[0m \u001b[0mbatch_index\u001b[0m \u001b[0;34m==\u001b[0m \u001b[0;36m0\u001b[0m\u001b[0;34m:\u001b[0m\u001b[0;34m\u001b[0m\u001b[0m\n",
      "\u001b[0;32m~/anaconda3/lib/python3.6/site-packages/keras/backend/tensorflow_backend.py\u001b[0m in \u001b[0;36m__call__\u001b[0;34m(self, inputs)\u001b[0m\n\u001b[1;32m   2713\u001b[0m                 \u001b[0;32mreturn\u001b[0m \u001b[0mself\u001b[0m\u001b[0;34m.\u001b[0m\u001b[0m_legacy_call\u001b[0m\u001b[0;34m(\u001b[0m\u001b[0minputs\u001b[0m\u001b[0;34m)\u001b[0m\u001b[0;34m\u001b[0m\u001b[0m\n\u001b[1;32m   2714\u001b[0m \u001b[0;34m\u001b[0m\u001b[0m\n\u001b[0;32m-> 2715\u001b[0;31m             \u001b[0;32mreturn\u001b[0m \u001b[0mself\u001b[0m\u001b[0;34m.\u001b[0m\u001b[0m_call\u001b[0m\u001b[0;34m(\u001b[0m\u001b[0minputs\u001b[0m\u001b[0;34m)\u001b[0m\u001b[0;34m\u001b[0m\u001b[0m\n\u001b[0m\u001b[1;32m   2716\u001b[0m         \u001b[0;32melse\u001b[0m\u001b[0;34m:\u001b[0m\u001b[0;34m\u001b[0m\u001b[0m\n\u001b[1;32m   2717\u001b[0m             \u001b[0;32mif\u001b[0m \u001b[0mpy_any\u001b[0m\u001b[0;34m(\u001b[0m\u001b[0mis_tensor\u001b[0m\u001b[0;34m(\u001b[0m\u001b[0mx\u001b[0m\u001b[0;34m)\u001b[0m \u001b[0;32mfor\u001b[0m \u001b[0mx\u001b[0m \u001b[0;32min\u001b[0m \u001b[0minputs\u001b[0m\u001b[0;34m)\u001b[0m\u001b[0;34m:\u001b[0m\u001b[0;34m\u001b[0m\u001b[0m\n",
      "\u001b[0;32m~/anaconda3/lib/python3.6/site-packages/keras/backend/tensorflow_backend.py\u001b[0m in \u001b[0;36m_call\u001b[0;34m(self, inputs)\u001b[0m\n\u001b[1;32m   2673\u001b[0m             \u001b[0mfetched\u001b[0m \u001b[0;34m=\u001b[0m \u001b[0mself\u001b[0m\u001b[0;34m.\u001b[0m\u001b[0m_callable_fn\u001b[0m\u001b[0;34m(\u001b[0m\u001b[0;34m*\u001b[0m\u001b[0marray_vals\u001b[0m\u001b[0;34m,\u001b[0m \u001b[0mrun_metadata\u001b[0m\u001b[0;34m=\u001b[0m\u001b[0mself\u001b[0m\u001b[0;34m.\u001b[0m\u001b[0mrun_metadata\u001b[0m\u001b[0;34m)\u001b[0m\u001b[0;34m\u001b[0m\u001b[0m\n\u001b[1;32m   2674\u001b[0m         \u001b[0;32melse\u001b[0m\u001b[0;34m:\u001b[0m\u001b[0;34m\u001b[0m\u001b[0m\n\u001b[0;32m-> 2675\u001b[0;31m             \u001b[0mfetched\u001b[0m \u001b[0;34m=\u001b[0m \u001b[0mself\u001b[0m\u001b[0;34m.\u001b[0m\u001b[0m_callable_fn\u001b[0m\u001b[0;34m(\u001b[0m\u001b[0;34m*\u001b[0m\u001b[0marray_vals\u001b[0m\u001b[0;34m)\u001b[0m\u001b[0;34m\u001b[0m\u001b[0m\n\u001b[0m\u001b[1;32m   2676\u001b[0m         \u001b[0;32mreturn\u001b[0m \u001b[0mfetched\u001b[0m\u001b[0;34m[\u001b[0m\u001b[0;34m:\u001b[0m\u001b[0mlen\u001b[0m\u001b[0;34m(\u001b[0m\u001b[0mself\u001b[0m\u001b[0;34m.\u001b[0m\u001b[0moutputs\u001b[0m\u001b[0;34m)\u001b[0m\u001b[0;34m]\u001b[0m\u001b[0;34m\u001b[0m\u001b[0m\n\u001b[1;32m   2677\u001b[0m \u001b[0;34m\u001b[0m\u001b[0m\n",
      "\u001b[0;32m~/anaconda3/lib/python3.6/site-packages/tensorflow/python/client/session.py\u001b[0m in \u001b[0;36m__call__\u001b[0;34m(self, *args, **kwargs)\u001b[0m\n\u001b[1;32m   1397\u001b[0m           ret = tf_session.TF_SessionRunCallable(\n\u001b[1;32m   1398\u001b[0m               \u001b[0mself\u001b[0m\u001b[0;34m.\u001b[0m\u001b[0m_session\u001b[0m\u001b[0;34m.\u001b[0m\u001b[0m_session\u001b[0m\u001b[0;34m,\u001b[0m \u001b[0mself\u001b[0m\u001b[0;34m.\u001b[0m\u001b[0m_handle\u001b[0m\u001b[0;34m,\u001b[0m \u001b[0margs\u001b[0m\u001b[0;34m,\u001b[0m \u001b[0mstatus\u001b[0m\u001b[0;34m,\u001b[0m\u001b[0;34m\u001b[0m\u001b[0m\n\u001b[0;32m-> 1399\u001b[0;31m               run_metadata_ptr)\n\u001b[0m\u001b[1;32m   1400\u001b[0m         \u001b[0;32mif\u001b[0m \u001b[0mrun_metadata\u001b[0m\u001b[0;34m:\u001b[0m\u001b[0;34m\u001b[0m\u001b[0m\n\u001b[1;32m   1401\u001b[0m           \u001b[0mproto_data\u001b[0m \u001b[0;34m=\u001b[0m \u001b[0mtf_session\u001b[0m\u001b[0;34m.\u001b[0m\u001b[0mTF_GetBuffer\u001b[0m\u001b[0;34m(\u001b[0m\u001b[0mrun_metadata_ptr\u001b[0m\u001b[0;34m)\u001b[0m\u001b[0;34m\u001b[0m\u001b[0m\n",
      "\u001b[0;31mKeyboardInterrupt\u001b[0m: "
     ]
    }
   ],
   "source": [
    "import random\n",
    "import sys\n",
    "\n",
    "n_seed_chars = 10 # number of characters to use as a seed for text generation\n",
    "\n",
    "model.optimizer.lr.assign(0.001) # to reset the learning rate if running additional training\n",
    "\n",
    "# train for 60 epochs\n",
    "for epoch in range (1, 60):\n",
    "    print ('epoch', epoch)\n",
    "\n",
    "    # fit the model for one iteration\n",
    "    model.fit (train_x, train_y,\n",
    "               batch_size=1024, epochs=1,\n",
    "               validation_data=(dev_x, dev_y), initial_epoch=epoch)\n",
    "\n",
    "    # select a text seed at random\n",
    "    seed_tweet = tweets.iloc[random.randint(0, len(tweets))]\n",
    "    generated_text = seed_tweet['text'][0:n_seed_chars]\n",
    "    print ('--- Generating with seed: \"' + generated_text + '\"')\n",
    "\n",
    "    # try a range of sampling temperatures\n",
    "    for temperature in [0.2, 0.5, 1.0, 1.2]:\n",
    "        print ('--------- temperature:', temperature)\n",
    "        sys.stdout.write(generated_text)\n",
    "\n",
    "        for i in range (MAX_TWEET_LENGTH - n_seed_chars):\n",
    "            # one-hot encode the characters generated so far\n",
    "            sampled = np.zeros((1, WINDOW_SIZE, len(chars_univ)))\n",
    "            for t, char in enumerate (generated_text):\n",
    "                sampled[0, t, chars_univ_idx[char]] = 1\n",
    "\n",
    "            # sample the next character\n",
    "            preds = model.predict(sampled, verbose=0)[0]\n",
    "            next_index = sample(preds, temperature)\n",
    "            next_char = chars_univ[next_index]\n",
    "\n",
    "            generated_text += next_char\n",
    "            generated_text = generated_text[1:]\n",
    "\n",
    "            sys.stdout.write(next_char)\n",
    "\n",
    "        print (\"\\n\")    "
   ]
  },
  {
   "cell_type": "code",
   "execution_count": 61,
   "metadata": {
    "autoscroll": false,
    "collapsed": false,
    "ein.hycell": false,
    "ein.tags": "worksheet-0",
    "slideshow": {
     "slide_type": "-"
    }
   },
   "outputs": [
    {
     "ename": "NameError",
     "evalue": "name 'char_univ_idx' is not defined",
     "output_type": "error",
     "traceback": [
      "\u001b[0;31m\u001b[0m",
      "\u001b[0;31mNameError\u001b[0mTraceback (most recent call last)",
      "\u001b[0;32m<ipython-input-61-b600fd042a08>\u001b[0m in \u001b[0;36m<module>\u001b[0;34m()\u001b[0m\n\u001b[0;32m----> 1\u001b[0;31m \u001b[0mchar_univ_idx\u001b[0m\u001b[0;34m\u001b[0m\u001b[0m\n\u001b[0m",
      "\u001b[0;31mNameError\u001b[0m: name 'char_univ_idx' is not defined"
     ]
    }
   ],
   "source": [
    "char_univ_idx"
   ]
  },
  {
   "cell_type": "code",
   "execution_count": null,
   "metadata": {
    "autoscroll": false,
    "collapsed": false,
    "ein.hycell": false,
    "ein.tags": "worksheet-0",
    "slideshow": {
     "slide_type": "-"
    }
   },
   "outputs": [],
   "source": []
  }
 ],
 "metadata": {
  "kernelspec": {
   "display_name": "Python 3",
   "name": "python3"
  },
  "name": "emoji_text_gen_LSTM.ipynb"
 },
 "nbformat": 4,
 "nbformat_minor": 2
}
