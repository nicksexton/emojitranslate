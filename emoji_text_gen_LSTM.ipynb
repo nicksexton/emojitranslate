{
 "cells": [
  {
   "cell_type": "markdown",
   "metadata": {
    "ein.tags": "worksheet-0",
    "slideshow": {
     "slide_type": "-"
    }
   },
   "source": [
    "Notebook that trains an LSTM to generate tweets based on a given emojis"
   ]
  },
  {
   "cell_type": "markdown",
   "metadata": {
    "ein.tags": "worksheet-0",
    "slideshow": {
     "slide_type": "-"
    }
   },
   "source": [
    "First we load the data"
   ]
  },
  {
   "cell_type": "code",
   "execution_count": 436,
   "metadata": {
    "autoscroll": false,
    "collapsed": false,
    "ein.hycell": false,
    "ein.tags": "worksheet-0",
    "slideshow": {
     "slide_type": "-"
    }
   },
   "outputs": [
    {
     "name": "stderr",
     "output_type": "stream",
     "text": [
      "/home/nickdbn/anaconda3/lib/python3.6/site-packages/IPython/core/interactiveshell.py:2802: DtypeWarning: Columns (0) have mixed types. Specify dtype option on import or set low_memory=False.\n",
      "  if self.run_code(code, result):\n"
     ]
    },
    {
     "ename": "AttributeError",
     "evalue": "module 'pandas' has no attribute 'loc'",
     "output_type": "error",
     "traceback": [
      "\u001b[0;31m\u001b[0m",
      "\u001b[0;31mAttributeError\u001b[0mTraceback (most recent call last)",
      "\u001b[0;32m<ipython-input-436-4a4b6f0ecb42>\u001b[0m in \u001b[0;36m<module>\u001b[0;34m()\u001b[0m\n\u001b[1;32m      4\u001b[0m \u001b[0;34m\u001b[0m\u001b[0m\n\u001b[1;32m      5\u001b[0m tweets = util.filter_tweets_min_count(\n\u001b[0;32m----> 6\u001b[0;31m     \u001b[0mutil\u001b[0m\u001b[0;34m.\u001b[0m\u001b[0mread_tweet_data\u001b[0m\u001b[0;34m(\u001b[0m\u001b[0;34m'data/emojis_homemade.csv'\u001b[0m\u001b[0;34m)\u001b[0m\u001b[0;34m,\u001b[0m\u001b[0;34m\u001b[0m\u001b[0m\n\u001b[0m\u001b[1;32m      7\u001b[0m     min_count=1000)\n\u001b[1;32m      8\u001b[0m \u001b[0;34m\u001b[0m\u001b[0m\n",
      "\u001b[0;32m~/Programming/machine_learning_projects/emojitranslate/data_load_utils.py\u001b[0m in \u001b[0;36mread_tweet_data\u001b[0;34m(path)\u001b[0m\n\u001b[1;32m     12\u001b[0m     returns a pandas dataframe containing line number, text, and emoji \"\"\"\n\u001b[1;32m     13\u001b[0m     \u001b[0mdata\u001b[0m \u001b[0;34m=\u001b[0m \u001b[0mpd\u001b[0m\u001b[0;34m.\u001b[0m\u001b[0mread_csv\u001b[0m\u001b[0;34m(\u001b[0m\u001b[0mpath\u001b[0m\u001b[0;34m)\u001b[0m\u001b[0;34m\u001b[0m\u001b[0m\n\u001b[0;32m---> 14\u001b[0;31m     \u001b[0mdata\u001b[0m \u001b[0;34m=\u001b[0m \u001b[0mpd\u001b[0m\u001b[0;34m.\u001b[0m\u001b[0mloc\u001b[0m\u001b[0;34m[\u001b[0m\u001b[0;34m:\u001b[0m\u001b[0;34m,\u001b[0m \u001b[0;34m[\u001b[0m\u001b[0;34m'text'\u001b[0m\u001b[0;34m,\u001b[0m \u001b[0;34m'emoji'\u001b[0m\u001b[0;34m]\u001b[0m\u001b[0;34m]\u001b[0m  \u001b[0;31m# should contain two labelled columns\u001b[0m\u001b[0;34m\u001b[0m\u001b[0m\n\u001b[0m\u001b[1;32m     15\u001b[0m     \u001b[0;32mreturn\u001b[0m \u001b[0mdata\u001b[0m\u001b[0;34m\u001b[0m\u001b[0m\n\u001b[1;32m     16\u001b[0m \u001b[0;34m\u001b[0m\u001b[0m\n",
      "\u001b[0;31mAttributeError\u001b[0m: module 'pandas' has no attribute 'loc'"
     ]
    }
   ],
   "source": [
    "import numpy as np\n",
    "import pandas as pd\n",
    "import data_load_utils as util\n",
    "\n",
    "tweets = util.filter_tweets_min_count(\n",
    "    util.read_tweet_data('data/emojis_homemade.csv'),\n",
    "    min_count=1000)\n",
    "\n",
    "tweets['text'] = util.filter_text_for_handles(tweets['text'])\n"
   ]
  },
  {
   "cell_type": "code",
   "execution_count": 437,
   "metadata": {
    "autoscroll": false,
    "collapsed": false,
    "ein.hycell": false,
    "ein.tags": "worksheet-0",
    "slideshow": {
     "slide_type": "-"
    }
   },
   "outputs": [
    {
     "data": {
      "text/plain": [
       "       Unnamed: 0                                               text  emoji\n0               0  RT [VID] 181023 - Foi adicionada a letra “D” n...      ©\n1               1  RT 181023 Kris Wu Studio update (3/3)\\n\\nLegen...      💫\n2               2  RT Now you are watching Indian SuperStar with ...      😎\n3               3                                    dats for keeps       💛\n6               6                             Holy shit no I think.       😩\n7               7                  RT army, follow who retweet this       👑\n8               8  RT Simply K-Pop harddrive dump\\n\\n#베리굿 #BerryG...      🤩\n9               9  Happy birthday nellie hope you have a fantasti...      ❤\n10             10  RT \"I have passed through fire\"\\n\\nThank you f...      💕\n12             12  RT Incredible to be involved in the making of ...      😱\n13             13  RT Too much feels \\n\\n#BTS #MPN #BTSARMY https...      😢\n14             14  RT #PL TOP SCORERS \\n\\n7 - \\n6 - the goods  ht...      🔥\n15             15  [DEPASCAL] RUSSEL HOODIE BLUE\\n https://t.co/C...      🔗\n16             16  The joys of having a make up artist as your be...      😂\n18             18                  RT army, follow who retweet this       👑\n19             19                  Someone didn’t read the article.       🙄\n20             20  RT Happy 23rd Birthday to Duckie Thot  https:/...      💕\n21             21             RT follow everyone who retweets this,       💓\n22             22  RT Incredible to be involved in the making of ...      😱\n24             24        WOW let me know when I can come play games       🙃\n27             27  RT  \\nYou have all decided to push your way th...      🤔\n28             28                    Somebody stop simone biles omg       🔥\n30             30  RT My fetish is to have enough time to do all ...      💦\n32             32  RT [DEPASCAL] RUSSEL HOODIE BLUE\\n https://t.c...      🔗\n33            NaN                                               text  emoji\n34              0  Frosted Flakes be high as hell you when you good       😭\n36              2  RT  &amp; RT this contest tweet NOW &amp; we w...      ❤\n37              3      most people need clueS !  Lots of them  !!         😄\n38              4  RT Big Hit is fast, but ARMYs are faster.  htt...      😁\n39              5  RT foodtrip with them@itzjncko https://t.co/OA...      💯\n...           ...                                                ...    ...\n716605         10             RT Why does everyone play Ganon in pm       😞\n716606         11                                           omg  ily      😔\n716608         13  RT i’ve seen rumors that it’s coming friday bu...      🖤\n716609         14  Tatum Rush ‘Bahiana’ (Tsunano Remix) premiere ...      👌\n716610         15  RT LMAOOO just won his first ever game of #For...      😂\n716613         18  RT The man's hands and legs should be amputate...      😡\n716616         21  RT Oct. 31: Career high 50 points\\nNov. 7: Car...      🌹\n716617         22  RT Yall be sneak dissing people that don’t eve...      😂\n716618         23                                 Thank you, nexxxx       😘\n716619         24  RT 12 lives lost. Heartbreaking. Senseless. ️ ...      ❤\n716620         25  RT Here is a video to brighten up ur timeline ...      💖\n716621         26  RT LMAOOO just won his first ever game of #For...      😂\n716623         28  RT Luckiest girl in the world 🥺️ https://t.co/...      ❤\n716624        NaN                                               text  emoji\n716625          0                             RT i need a new phone       😪\n716626          1                                        Ah thanks!       😊\n716627          2    RT Open for a surprise  https://t.co/DzQceLy3o7      😍\n716628          3                         RT yakap mo is all I want       😍\n716629          4   RT just got a fresh cut  https://t.co/oxrWIBk6eN      🤝\n716631          6  The Dumbest will buy now and not wait till 70 sat      😂\n716632          7                          I’m finna be broke broke       😭\n716633          8                       At least we won’t move them       👍\n716634          9  RT [MASS STREAMING] #TempoThursday\\n\\nYouTube ...      🙃\n716635         10        RT RT if still hearing firecracker bursts.       😂\n716637         12  RT HAHAHA Wanna One dancing to Pentagon’s Shin...      😂\n716638         13  RT ️ARTISTS️\\n\\nIF UR AN ARTIST RT AND LIKE TH...      ‼\n716639         14  There is always something small you can do whi...      💖\n716640         15  Wow it never showed up new lol everyone keeps ...      😂\n716641         16  i tried to do cartoon photo to u to make u bet...      🖤\n716642         17  RT \"obviously from a semi automatic rifle\"  re...      🤔\n\n[448956 rows x 3 columns]"
      ]
     },
     "execution_count": 437,
     "metadata": {},
     "output_type": "execute_result"
    }
   ],
   "source": [
    "tweets"
   ]
  },
  {
   "cell_type": "code",
   "execution_count": 438,
   "metadata": {
    "autoscroll": false,
    "collapsed": false,
    "ein.hycell": false,
    "ein.tags": "worksheet-0",
    "slideshow": {
     "slide_type": "-"
    }
   },
   "outputs": [
    {
     "data": {
      "text/plain": [
       "Unnamed: 0                                                    0\ntext          RT [VID] 181023 - Foi adicionada a letra “D” n...\nemoji                                                         ©\nName: 0, dtype: object"
      ]
     },
     "execution_count": 438,
     "metadata": {},
     "output_type": "execute_result"
    }
   ],
   "source": [
    "tweets.iloc[0,:]"
   ]
  },
  {
   "cell_type": "code",
   "execution_count": 439,
   "metadata": {
    "autoscroll": false,
    "collapsed": false,
    "ein.hycell": false,
    "ein.tags": "worksheet-0",
    "slideshow": {
     "slide_type": "-"
    }
   },
   "outputs": [
    {
     "ename": "IndexingError",
     "evalue": "Too many indexers",
     "output_type": "error",
     "traceback": [
      "\u001b[0;31m\u001b[0m",
      "\u001b[0;31mIndexingError\u001b[0mTraceback (most recent call last)",
      "\u001b[0;32m<ipython-input-439-83cb74447b66>\u001b[0m in \u001b[0;36m<module>\u001b[0;34m()\u001b[0m\n\u001b[0;32m----> 1\u001b[0;31m \u001b[0mtweets\u001b[0m\u001b[0;34m.\u001b[0m\u001b[0mloc\u001b[0m\u001b[0;34m[\u001b[0m\u001b[0;34m:\u001b[0m\u001b[0;34m,\u001b[0m\u001b[0;34m'text'\u001b[0m\u001b[0;34m,\u001b[0m \u001b[0;34m'emoji'\u001b[0m\u001b[0;34m]\u001b[0m\u001b[0;34m\u001b[0m\u001b[0m\n\u001b[0m",
      "\u001b[0;32m~/anaconda3/lib/python3.6/site-packages/pandas/core/indexing.py\u001b[0m in \u001b[0;36m__getitem__\u001b[0;34m(self, key)\u001b[0m\n\u001b[1;32m   1470\u001b[0m             \u001b[0;32mexcept\u001b[0m \u001b[0;34m(\u001b[0m\u001b[0mKeyError\u001b[0m\u001b[0;34m,\u001b[0m \u001b[0mIndexError\u001b[0m\u001b[0;34m)\u001b[0m\u001b[0;34m:\u001b[0m\u001b[0;34m\u001b[0m\u001b[0m\n\u001b[1;32m   1471\u001b[0m                 \u001b[0;32mpass\u001b[0m\u001b[0;34m\u001b[0m\u001b[0m\n\u001b[0;32m-> 1472\u001b[0;31m             \u001b[0;32mreturn\u001b[0m \u001b[0mself\u001b[0m\u001b[0;34m.\u001b[0m\u001b[0m_getitem_tuple\u001b[0m\u001b[0;34m(\u001b[0m\u001b[0mkey\u001b[0m\u001b[0;34m)\u001b[0m\u001b[0;34m\u001b[0m\u001b[0m\n\u001b[0m\u001b[1;32m   1473\u001b[0m         \u001b[0;32melse\u001b[0m\u001b[0;34m:\u001b[0m\u001b[0;34m\u001b[0m\u001b[0m\n\u001b[1;32m   1474\u001b[0m             \u001b[0;31m# we by definition only have the 0th axis\u001b[0m\u001b[0;34m\u001b[0m\u001b[0;34m\u001b[0m\u001b[0m\n",
      "\u001b[0;32m~/anaconda3/lib/python3.6/site-packages/pandas/core/indexing.py\u001b[0m in \u001b[0;36m_getitem_tuple\u001b[0;34m(self, tup)\u001b[0m\n\u001b[1;32m    873\u001b[0m \u001b[0;34m\u001b[0m\u001b[0m\n\u001b[1;32m    874\u001b[0m         \u001b[0;31m# no multi-index, so validate all of the indexers\u001b[0m\u001b[0;34m\u001b[0m\u001b[0;34m\u001b[0m\u001b[0m\n\u001b[0;32m--> 875\u001b[0;31m         \u001b[0mself\u001b[0m\u001b[0;34m.\u001b[0m\u001b[0m_has_valid_tuple\u001b[0m\u001b[0;34m(\u001b[0m\u001b[0mtup\u001b[0m\u001b[0;34m)\u001b[0m\u001b[0;34m\u001b[0m\u001b[0m\n\u001b[0m\u001b[1;32m    876\u001b[0m \u001b[0;34m\u001b[0m\u001b[0m\n\u001b[1;32m    877\u001b[0m         \u001b[0;31m# ugly hack for GH #836\u001b[0m\u001b[0;34m\u001b[0m\u001b[0;34m\u001b[0m\u001b[0m\n",
      "\u001b[0;32m~/anaconda3/lib/python3.6/site-packages/pandas/core/indexing.py\u001b[0m in \u001b[0;36m_has_valid_tuple\u001b[0;34m(self, key)\u001b[0m\n\u001b[1;32m    218\u001b[0m         \u001b[0;32mfor\u001b[0m \u001b[0mi\u001b[0m\u001b[0;34m,\u001b[0m \u001b[0mk\u001b[0m \u001b[0;32min\u001b[0m \u001b[0menumerate\u001b[0m\u001b[0;34m(\u001b[0m\u001b[0mkey\u001b[0m\u001b[0;34m)\u001b[0m\u001b[0;34m:\u001b[0m\u001b[0;34m\u001b[0m\u001b[0m\n\u001b[1;32m    219\u001b[0m             \u001b[0;32mif\u001b[0m \u001b[0mi\u001b[0m \u001b[0;34m>=\u001b[0m \u001b[0mself\u001b[0m\u001b[0;34m.\u001b[0m\u001b[0mobj\u001b[0m\u001b[0;34m.\u001b[0m\u001b[0mndim\u001b[0m\u001b[0;34m:\u001b[0m\u001b[0;34m\u001b[0m\u001b[0m\n\u001b[0;32m--> 220\u001b[0;31m                 \u001b[0;32mraise\u001b[0m \u001b[0mIndexingError\u001b[0m\u001b[0;34m(\u001b[0m\u001b[0;34m'Too many indexers'\u001b[0m\u001b[0;34m)\u001b[0m\u001b[0;34m\u001b[0m\u001b[0m\n\u001b[0m\u001b[1;32m    221\u001b[0m             \u001b[0;32mtry\u001b[0m\u001b[0;34m:\u001b[0m\u001b[0;34m\u001b[0m\u001b[0m\n\u001b[1;32m    222\u001b[0m                 \u001b[0mself\u001b[0m\u001b[0;34m.\u001b[0m\u001b[0m_validate_key\u001b[0m\u001b[0;34m(\u001b[0m\u001b[0mk\u001b[0m\u001b[0;34m,\u001b[0m \u001b[0mi\u001b[0m\u001b[0;34m)\u001b[0m\u001b[0;34m\u001b[0m\u001b[0m\n",
      "\u001b[0;31mIndexingError\u001b[0m: Too many indexers"
     ]
    }
   ],
   "source": [
    "tweets.loc[:,'text', 'emoji']"
   ]
  },
  {
   "cell_type": "code",
   "execution_count": 440,
   "metadata": {
    "autoscroll": false,
    "collapsed": false,
    "ein.hycell": false,
    "ein.tags": "worksheet-0",
    "slideshow": {
     "slide_type": "-"
    }
   },
   "outputs": [
    {
     "data": {
      "text/plain": [
       "                                                     text  emoji\n0       RT [VID] 181023 - Foi adicionada a letra “D” n...      ©\n1       RT 181023 Kris Wu Studio update (3/3)\\n\\nLegen...      💫\n2       RT Now you are watching Indian SuperStar with ...      😎\n3                                         dats for keeps       💛\n6                                  Holy shit no I think.       😩\n7                       RT army, follow who retweet this       👑\n8       RT Simply K-Pop harddrive dump\\n\\n#베리굿 #BerryG...      🤩\n9       Happy birthday nellie hope you have a fantasti...      ❤\n10      RT \"I have passed through fire\"\\n\\nThank you f...      💕\n12      RT Incredible to be involved in the making of ...      😱\n13      RT Too much feels \\n\\n#BTS #MPN #BTSARMY https...      😢\n14      RT #PL TOP SCORERS \\n\\n7 - \\n6 - the goods  ht...      🔥\n15      [DEPASCAL] RUSSEL HOODIE BLUE\\n https://t.co/C...      🔗\n16      The joys of having a make up artist as your be...      😂\n18                      RT army, follow who retweet this       👑\n19                      Someone didn’t read the article.       🙄\n20      RT Happy 23rd Birthday to Duckie Thot  https:/...      💕\n21                 RT follow everyone who retweets this,       💓\n22      RT Incredible to be involved in the making of ...      😱\n24            WOW let me know when I can come play games       🙃\n27      RT  \\nYou have all decided to push your way th...      🤔\n28                        Somebody stop simone biles omg       🔥\n30      RT My fetish is to have enough time to do all ...      💦\n32      RT [DEPASCAL] RUSSEL HOODIE BLUE\\n https://t.c...      🔗\n33                                                   text  emoji\n34      Frosted Flakes be high as hell you when you good       😭\n36      RT  &amp; RT this contest tweet NOW &amp; we w...      ❤\n37          most people need clueS !  Lots of them  !!         😄\n38      RT Big Hit is fast, but ARMYs are faster.  htt...      😁\n39      RT foodtrip with them@itzjncko https://t.co/OA...      💯\n...                                                   ...    ...\n716605             RT Why does everyone play Ganon in pm       😞\n716606                                           omg  ily      😔\n716608  RT i’ve seen rumors that it’s coming friday bu...      🖤\n716609  Tatum Rush ‘Bahiana’ (Tsunano Remix) premiere ...      👌\n716610  RT LMAOOO just won his first ever game of #For...      😂\n716613  RT The man's hands and legs should be amputate...      😡\n716616  RT Oct. 31: Career high 50 points\\nNov. 7: Car...      🌹\n716617  RT Yall be sneak dissing people that don’t eve...      😂\n716618                                 Thank you, nexxxx       😘\n716619  RT 12 lives lost. Heartbreaking. Senseless. ️ ...      ❤\n716620  RT Here is a video to brighten up ur timeline ...      💖\n716621  RT LMAOOO just won his first ever game of #For...      😂\n716623  RT Luckiest girl in the world 🥺️ https://t.co/...      ❤\n716624                                               text  emoji\n716625                             RT i need a new phone       😪\n716626                                        Ah thanks!       😊\n716627    RT Open for a surprise  https://t.co/DzQceLy3o7      😍\n716628                         RT yakap mo is all I want       😍\n716629   RT just got a fresh cut  https://t.co/oxrWIBk6eN      🤝\n716631  The Dumbest will buy now and not wait till 70 sat      😂\n716632                          I’m finna be broke broke       😭\n716633                       At least we won’t move them       👍\n716634  RT [MASS STREAMING] #TempoThursday\\n\\nYouTube ...      🙃\n716635        RT RT if still hearing firecracker bursts.       😂\n716637  RT HAHAHA Wanna One dancing to Pentagon’s Shin...      😂\n716638  RT ️ARTISTS️\\n\\nIF UR AN ARTIST RT AND LIKE TH...      ‼\n716639  There is always something small you can do whi...      💖\n716640  Wow it never showed up new lol everyone keeps ...      😂\n716641  i tried to do cartoon photo to u to make u bet...      🖤\n716642  RT \"obviously from a semi automatic rifle\"  re...      🤔\n\n[448956 rows x 2 columns]"
      ]
     },
     "execution_count": 440,
     "metadata": {},
     "output_type": "execute_result"
    }
   ],
   "source": [
    "tweets.loc[:,['text', 'emoji']]"
   ]
  },
  {
   "cell_type": "code",
   "execution_count": 441,
   "metadata": {
    "autoscroll": false,
    "collapsed": false,
    "ein.hycell": false,
    "ein.tags": "worksheet-0",
    "slideshow": {
     "slide_type": "-"
    }
   },
   "outputs": [],
   "source": [
    "my_dict = {'text': \"red and yellow and pink and green, orange and purple and blue, I can sing a rainbow, sing a rainbow, sing a rainbow too\",\n",
    "               'emoji': \":rainbow:\"}\n",
    "my_series = pd.Series(my_dict)"
   ]
  },
  {
   "cell_type": "code",
   "execution_count": 442,
   "metadata": {
    "autoscroll": false,
    "collapsed": false,
    "ein.hycell": false,
    "ein.tags": "worksheet-0",
    "slideshow": {
     "slide_type": "-"
    }
   },
   "outputs": [
    {
     "data": {
      "text/plain": [
       "text     red and yellow and pink and green, orange and ...\nemoji                                            :rainbow:\ndtype: object"
      ]
     },
     "execution_count": 442,
     "metadata": {},
     "output_type": "execute_result"
    }
   ],
   "source": [
    "my_series"
   ]
  },
  {
   "cell_type": "code",
   "execution_count": 552,
   "metadata": {
    "autoscroll": false,
    "collapsed": false,
    "ein.hycell": false,
    "ein.tags": "worksheet-0",
    "slideshow": {
     "slide_type": "-"
    }
   },
   "outputs": [],
   "source": [
    "from importlib import reload\n",
    "util = reload (util)"
   ]
  },
  {
   "cell_type": "code",
   "execution_count": 553,
   "metadata": {
    "autoscroll": false,
    "collapsed": false,
    "ein.hycell": false,
    "ein.tags": "worksheet-0",
    "slideshow": {
     "slide_type": "-"
    }
   },
   "outputs": [],
   "source": [
    "# Get the list of strings (x) and next characters (y) from a single tweet\n",
    "series, next_chars = util.get_series_data_from_tweet (my_series)\n",
    "\n",
    "\n",
    "\n"
   ]
  },
  {
   "cell_type": "markdown",
   "metadata": {
    "ein.tags": "worksheet-0",
    "slideshow": {
     "slide_type": "-"
    }
   },
   "source": [
    "# in the full code, about here we'd concatenate all the series from ALL tweets\n"
   ]
  },
  {
   "cell_type": "code",
   "execution_count": 554,
   "metadata": {
    "autoscroll": false,
    "collapsed": false,
    "ein.hycell": false,
    "ein.tags": "worksheet-0",
    "slideshow": {
     "slide_type": "-"
    }
   },
   "outputs": [],
   "source": [
    "my_dict = {'text':\n",
    "           [\"red and yellow and pink and green, orange and purple and blue, I can sing a rainbow, sing a rainbow, sing a rainbow too\",\n",
    "           \"sweet dreams are made of this, who am I to disagree, travel the world and the even seas, every body's looking for someone\"],\n",
    "           'emoji':\n",
    "           [\":rainbow:\",\n",
    "           \":gay_pride_flag:\"]}\n",
    "my_data = pd.DataFrame(my_dict)"
   ]
  },
  {
   "cell_type": "code",
   "execution_count": 555,
   "metadata": {
    "autoscroll": false,
    "collapsed": false,
    "ein.hycell": false,
    "ein.tags": "worksheet-0",
    "slideshow": {
     "slide_type": "-"
    }
   },
   "outputs": [],
   "source": [
    "x_test, y_test = util.convert_tweet_to_xy(my_data)"
   ]
  },
  {
   "cell_type": "code",
   "execution_count": 556,
   "metadata": {
    "autoscroll": false,
    "collapsed": false,
    "ein.hycell": false,
    "ein.tags": "worksheet-0",
    "slideshow": {
     "slide_type": "-"
    }
   },
   "outputs": [
    {
     "data": {
      "text/plain": [
       "array([[[1., 0., 0., ..., 0., 0., 0.],\n        [1., 0., 0., ..., 0., 0., 0.],\n        [1., 0., 0., ..., 0., 0., 0.],\n        ...,\n        [1., 0., 0., ..., 0., 0., 0.],\n        [1., 0., 0., ..., 0., 0., 0.],\n        [1., 0., 0., ..., 0., 0., 0.]],\n\n       [[1., 0., 0., ..., 0., 0., 0.],\n        [1., 0., 0., ..., 0., 0., 0.],\n        [1., 0., 0., ..., 0., 0., 0.],\n        ...,\n        [1., 0., 0., ..., 0., 0., 0.],\n        [0., 0., 0., ..., 0., 0., 0.],\n        [0., 0., 0., ..., 0., 0., 0.]],\n\n       [[1., 0., 0., ..., 0., 0., 0.],\n        [1., 0., 0., ..., 0., 0., 0.],\n        [1., 0., 0., ..., 0., 0., 0.],\n        ...,\n        [0., 0., 0., ..., 0., 0., 0.],\n        [1., 0., 0., ..., 0., 0., 0.],\n        [0., 0., 0., ..., 0., 0., 0.]],\n\n       ...,\n\n       [[0., 0., 0., ..., 0., 0., 0.],\n        [1., 0., 0., ..., 0., 0., 0.],\n        [0., 0., 0., ..., 0., 0., 0.],\n        ...,\n        [1., 0., 0., ..., 0., 0., 0.],\n        [0., 0., 0., ..., 0., 0., 0.],\n        [0., 0., 0., ..., 0., 0., 0.]],\n\n       [[0., 0., 0., ..., 0., 0., 0.],\n        [0., 0., 0., ..., 0., 0., 0.],\n        [1., 0., 0., ..., 0., 0., 0.],\n        ...,\n        [0., 0., 0., ..., 0., 0., 0.],\n        [1., 0., 0., ..., 0., 0., 0.],\n        [0., 0., 0., ..., 0., 0., 0.]],\n\n       [[0., 0., 0., ..., 0., 0., 0.],\n        [0., 0., 0., ..., 0., 0., 0.],\n        [0., 0., 0., ..., 0., 0., 0.],\n        ...,\n        [0., 0., 0., ..., 0., 0., 0.],\n        [0., 0., 0., ..., 0., 0., 0.],\n        [0., 0., 0., ..., 0., 0., 0.]]])"
      ]
     },
     "execution_count": 556,
     "metadata": {},
     "output_type": "execute_result"
    }
   ],
   "source": [
    "x_test"
   ]
  },
  {
   "cell_type": "code",
   "execution_count": 540,
   "metadata": {
    "autoscroll": false,
    "collapsed": false,
    "ein.hycell": false,
    "ein.tags": "worksheet-0",
    "slideshow": {
     "slide_type": "-"
    }
   },
   "outputs": [
    {
     "data": {
      "text/plain": [
       "([' ',\n  '!',\n  '\"',\n  '#',\n  '$',\n  '%',\n  '&',\n  \"'\",\n  '(',\n  ')',\n  '*',\n  '+',\n  ',',\n  '-',\n  '.',\n  '/',\n  '0',\n  '1',\n  '2',\n  '3',\n  '4',\n  '5',\n  '6',\n  '7',\n  '8',\n  '9',\n  ':',\n  ';',\n  '=',\n  '?',\n  '@',\n  'A',\n  'B',\n  'C',\n  'D',\n  'E',\n  'F',\n  'G',\n  'H',\n  'I',\n  'J',\n  'K',\n  'L',\n  'M',\n  'N',\n  'O',\n  'P',\n  'Q',\n  'R',\n  'S',\n  'T',\n  'U',\n  'V',\n  'W',\n  'X',\n  'Y',\n  'Z',\n  '[',\n  '\\\\',\n  ']',\n  '^',\n  '_',\n  'a',\n  'b',\n  'c',\n  'd',\n  'e',\n  'f',\n  'g',\n  'h',\n  'i',\n  'j',\n  'k',\n  'l',\n  'm',\n  'n',\n  'o',\n  'p',\n  'q',\n  'r',\n  's',\n  't',\n  'u',\n  'v',\n  'w',\n  'x',\n  'y',\n  'z',\n  '{',\n  '|',\n  '}',\n  '~',\n  '£'],\n {' ': 0,\n  '!': 1,\n  '\"': 2,\n  '#': 3,\n  '$': 4,\n  '%': 5,\n  '&': 6,\n  \"'\": 7,\n  '(': 8,\n  ')': 9,\n  '*': 10,\n  '+': 11,\n  ',': 12,\n  '-': 13,\n  '.': 14,\n  '/': 15,\n  '0': 16,\n  '1': 17,\n  '2': 18,\n  '3': 19,\n  '4': 20,\n  '5': 21,\n  '6': 22,\n  '7': 23,\n  '8': 24,\n  '9': 25,\n  ':': 26,\n  ';': 27,\n  '=': 28,\n  '?': 29,\n  '@': 30,\n  'A': 31,\n  'B': 32,\n  'C': 33,\n  'D': 34,\n  'E': 35,\n  'F': 36,\n  'G': 37,\n  'H': 38,\n  'I': 39,\n  'J': 40,\n  'K': 41,\n  'L': 42,\n  'M': 43,\n  'N': 44,\n  'O': 45,\n  'P': 46,\n  'Q': 47,\n  'R': 48,\n  'S': 49,\n  'T': 50,\n  'U': 51,\n  'V': 52,\n  'W': 53,\n  'X': 54,\n  'Y': 55,\n  'Z': 56,\n  '[': 57,\n  '\\\\': 58,\n  ']': 59,\n  '^': 60,\n  '_': 61,\n  'a': 62,\n  'b': 63,\n  'c': 64,\n  'd': 65,\n  'e': 66,\n  'f': 67,\n  'g': 68,\n  'h': 69,\n  'i': 70,\n  'j': 71,\n  'k': 72,\n  'l': 73,\n  'm': 74,\n  'n': 75,\n  'o': 76,\n  'p': 77,\n  'q': 78,\n  'r': 79,\n  's': 80,\n  't': 81,\n  'u': 82,\n  'v': 83,\n  'w': 84,\n  'x': 85,\n  'y': 86,\n  'z': 87,\n  '{': 88,\n  '|': 89,\n  '}': 90,\n  '~': 91,\n  '£': 92})"
      ]
     },
     "execution_count": 540,
     "metadata": {},
     "output_type": "execute_result"
    }
   ],
   "source": [
    "bCHARACTERS = \"\"\" '\",.\\\\/|?:;@'~#[]{}-=_+!\"£$%^&*()abcdefghijklmnopqrstuvwxyzABCDEFGHIJKLMNOPQRSTUVWXYZ01234567890\"\"\"\n",
    "util.get_unique_chars_list(CHARACTERS)"
   ]
  },
  {
   "cell_type": "code",
   "execution_count": 541,
   "metadata": {
    "autoscroll": false,
    "collapsed": false,
    "ein.hycell": false,
    "ein.tags": "worksheet-0",
    "slideshow": {
     "slide_type": "-"
    }
   },
   "outputs": [
    {
     "data": {
      "text/plain": [
       "':gay_pride_flag:'"
      ]
     },
     "execution_count": 541,
     "metadata": {},
     "output_type": "execute_result"
    }
   ],
   "source": [
    "my_data['emoji'][1]"
   ]
  },
  {
   "cell_type": "code",
   "execution_count": 515,
   "metadata": {
    "autoscroll": false,
    "collapsed": false,
    "ein.hycell": false,
    "ein.tags": "worksheet-0",
    "slideshow": {
     "slide_type": "-"
    }
   },
   "outputs": [
    {
     "data": {
      "text/plain": [
       "                                                text             emoji\n0  red and yellow and pink and green, orange and ...         :rainbow:\n1  sweet dreams are made of this, who am I to dis...  :gay_pride_flag:"
      ]
     },
     "execution_count": 515,
     "metadata": {},
     "output_type": "execute_result"
    }
   ],
   "source": [
    "my_data"
   ]
  },
  {
   "cell_type": "code",
   "execution_count": 516,
   "metadata": {
    "autoscroll": false,
    "collapsed": false,
    "ein.hycell": false,
    "ein.tags": "worksheet-0",
    "slideshow": {
     "slide_type": "-"
    }
   },
   "outputs": [],
   "source": [
    "# apply the function to split each tweet into multiple windows of 40 chars and\n",
    "# a corresponding n_char\n",
    "# spits out a list of (x, y) tuples which is a real headache but we can fix it\n",
    "\n",
    "big_mess = my_data.apply(\n",
    "    lambda x: util.get_series_data_from_tweet(x, window_size=40, step=3), axis=1)"
   ]
  },
  {
   "cell_type": "code",
   "execution_count": 517,
   "metadata": {
    "autoscroll": false,
    "collapsed": false,
    "ein.hycell": false,
    "ein.tags": "worksheet-0",
    "slideshow": {
     "slide_type": "-"
    }
   },
   "outputs": [],
   "source": [
    "(x_tuple, y_tuple) = zip(*big_mess) # unzips the tuples into separate tuples of x, y"
   ]
  },
  {
   "cell_type": "code",
   "execution_count": 518,
   "metadata": {
    "autoscroll": false,
    "collapsed": false,
    "ein.hycell": false,
    "ein.tags": "worksheet-0",
    "slideshow": {
     "slide_type": "-"
    }
   },
   "outputs": [
    {
     "name": "stdout",
     "output_type": "stream",
     "text": [
      "Unique chars:  78\n"
     ]
    }
   ],
   "source": [
    "# get the universal character set and the corresponding index\n",
    "chars_univ, char_idx_univ = util.get_universal_chars_list()"
   ]
  },
  {
   "cell_type": "code",
   "execution_count": 520,
   "metadata": {
    "autoscroll": false,
    "collapsed": false,
    "ein.hycell": false,
    "ein.tags": "worksheet-0",
    "slideshow": {
     "slide_type": "-"
    }
   },
   "outputs": [
    {
     "data": {
      "text/plain": [
       "array([['                                        ',\n        '                                      re',\n        '                                   red a',\n        '                                red and ',\n        '                             red and yel',\n        '                          red and yellow',\n        '                       red and yellow an',\n        '                    red and yellow and p',\n        '                 red and yellow and pink',\n        '              red and yellow and pink an',\n        '           red and yellow and pink and g',\n        '        red and yellow and pink and gree',\n        '     red and yellow and pink and green, ',\n        '  red and yellow and pink and green, ora',\n        'ed and yellow and pink and green, orange',\n        'and yellow and pink and green, orange an',\n        ' yellow and pink and green, orange and p',\n        'llow and pink and green, orange and purp',\n        'w and pink and green, orange and purple ',\n        'nd pink and green, orange and purple and',\n        'pink and green, orange and purple and bl',\n        'k and green, orange and purple and blue,',\n        'nd green, orange and purple and blue, I ',\n        'green, orange and purple and blue, I can',\n        'en, orange and purple and blue, I can si',\n        ' orange and purple and blue, I can sing ',\n        'ange and purple and blue, I can sing a r',\n        'e and purple and blue, I can sing a rain',\n        'nd purple and blue, I can sing a rainbow',\n        'purple and blue, I can sing a rainbow, s',\n        'ple and blue, I can sing a rainbow, sing',\n        ' and blue, I can sing a rainbow, sing a ',\n        'd blue, I can sing a rainbow, sing a rai',\n        'lue, I can sing a rainbow, sing a rainbo',\n        ', I can sing a rainbow, sing a rainbow, ',\n        ' can sing a rainbow, sing a rainbow, sin',\n        'n sing a rainbow, sing a rainbow, sing a',\n        'ing a rainbow, sing a rainbow, sing a ra',\n        ' a rainbow, sing a rainbow, sing a rainb',\n        'rainbow, sing a rainbow, sing a rainbow '],\n       ['                                       s',\n        '                                    swee',\n        '                                 sweet d',\n        '                              sweet drea',\n        '                           sweet dreams ',\n        '                        sweet dreams are',\n        '                     sweet dreams are ma',\n        '                  sweet dreams are made ',\n        '               sweet dreams are made of ',\n        '            sweet dreams are made of thi',\n        '         sweet dreams are made of this, ',\n        '      sweet dreams are made of this, who',\n        '   sweet dreams are made of this, who am',\n        'sweet dreams are made of this, who am I ',\n        'et dreams are made of this, who am I to ',\n        'dreams are made of this, who am I to dis',\n        'ams are made of this, who am I to disagr',\n        ' are made of this, who am I to disagree,',\n        'e made of this, who am I to disagree, tr',\n        'ade of this, who am I to disagree, trave',\n        ' of this, who am I to disagree, travel t',\n        ' this, who am I to disagree, travel the ',\n        'is, who am I to disagree, travel the wor',\n        ' who am I to disagree, travel the world ',\n        'o am I to disagree, travel the world and',\n        'm I to disagree, travel the world and th',\n        ' to disagree, travel the world and the e',\n        ' disagree, travel the world and the even',\n        'sagree, travel the world and the even se',\n        'ree, travel the world and the even seas,',\n        ', travel the world and the even seas, ev',\n        'ravel the world and the even seas, every',\n        'el the world and the even seas, every bo',\n        \"the world and the even seas, every body'\",\n        \" world and the even seas, every body's l\",\n        \"rld and the even seas, every body's look\",\n        \" and the even seas, every body's looking\",\n        \"d the even seas, every body's looking fo\",\n        \"he even seas, every body's looking for s\",\n        \"even seas, every body's looking for some\"]], dtype='<U40')"
      ]
     },
     "execution_count": 520,
     "metadata": {},
     "output_type": "execute_result"
    }
   ],
   "source": [
    "np.asarray(x_tuple)\n",
    "#np.asarray(y_tuple)"
   ]
  },
  {
   "cell_type": "code",
   "execution_count": 499,
   "metadata": {
    "autoscroll": false,
    "collapsed": false,
    "ein.hycell": false,
    "ein.tags": "worksheet-0",
    "slideshow": {
     "slide_type": "-"
    }
   },
   "outputs": [],
   "source": [
    "x_bool = pd.Series(x_tuple).apply(util.get_x_bool_array,\n",
    "                                  args=(chars_univ, char_idx_univ))\n",
    "\n",
    "y_bool = pd.Series(y_tuple).apply(util.get_y_bool_array,\n",
    "                                  args=(char_idx_univ))"
   ]
  },
  {
   "cell_type": "code",
   "execution_count": 502,
   "metadata": {
    "autoscroll": false,
    "collapsed": false,
    "ein.hycell": false,
    "ein.tags": "worksheet-0",
    "slideshow": {
     "slide_type": "-"
    }
   },
   "outputs": [],
   "source": [
    "\n",
    "x_dims = (len(x_bool),           # indexes over tweets\n",
    "          x_bool[0].shape[0],    # indexes over different sentence windows ((160 - window_size) / step = 40)\n",
    "          x_bool[0].shape[1],    # indexes over characters in the window (window_size = 40)\n",
    "          x_bool[0].shape[2])    #x_bool[0].shape[2]))    # one-hot encoding for each character (78)\n",
    "\n",
    "y_dims = (len(y_bool),           # indexes over tweets\n",
    "          y_bool[0].shape[0],    # indexes over different sentence windows (40)\n",
    "          y_bool[0].shape[1])    # one-hot encoding for each character (78)"
   ]
  },
  {
   "cell_type": "code",
   "execution_count": 503,
   "metadata": {
    "autoscroll": false,
    "collapsed": false,
    "ein.hycell": false,
    "ein.tags": "worksheet-0",
    "slideshow": {
     "slide_type": "-"
    }
   },
   "outputs": [],
   "source": [
    "# allocate space for the array\n",
    "x_arr = np.zeros(shape=x_dims)\n",
    "y_arr = np.zeros(shape=y_dims)\n",
    "\n",
    "for i, twit in enumerate(x_bool):\n",
    "    x_arr[i] = twit\n",
    "\n",
    "for i, nchar in enumerate(y_bool):\n",
    "    y_arr[i] = nchar"
   ]
  },
  {
   "cell_type": "code",
   "execution_count": 509,
   "metadata": {
    "autoscroll": false,
    "collapsed": false,
    "ein.hycell": false,
    "ein.tags": "worksheet-0",
    "slideshow": {
     "slide_type": "-"
    }
   },
   "outputs": [],
   "source": [
    "# finally, reshape into a (m, w, c) array\n",
    "# where m is training example, w is window size,\n",
    "# c is one-hot encoded character\n",
    "\n",
    "x_fin = x_arr.reshape(x_arr.shape[0] * x_arr.shape[1], x_arr.shape[2], x_arr.shape[3])\n",
    "\n",
    "# y is a (m, c) array, where m is training example and c is one-hot encoded character\n",
    "\n",
    "y_fin = y_arr.reshape (y_arr.shape[0] * y_arr.shape[1], y_arr.shape[2])"
   ]
  },
  {
   "cell_type": "code",
   "execution_count": 510,
   "metadata": {
    "autoscroll": false,
    "collapsed": false,
    "ein.hycell": false,
    "ein.tags": "worksheet-0",
    "slideshow": {
     "slide_type": "-"
    }
   },
   "outputs": [
    {
     "name": "stdout",
     "output_type": "stream",
     "text": [
      "x_fin shape:  (80, 40, 78)\n",
      "y_fin shape:  (80, 78)\n"
     ]
    }
   ],
   "source": [
    "print (\"x_fin shape: \", x_fin.shape)\n",
    "print (\"y_fin shape: \", y_fin.shape)"
   ]
  },
  {
   "cell_type": "code",
   "execution_count": null,
   "metadata": {
    "autoscroll": false,
    "collapsed": false,
    "ein.hycell": false,
    "ein.tags": "worksheet-0",
    "slideshow": {
     "slide_type": "-"
    }
   },
   "outputs": [],
   "source": []
  }
 ],
 "metadata": {
  "kernelspec": {
   "display_name": "Python 3",
   "name": "python3"
  },
  "name": "emoji_text_gen_LSTM.ipynb"
 },
 "nbformat": 4,
 "nbformat_minor": 2
}
