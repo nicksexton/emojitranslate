{
 "cells": [
  {
   "cell_type": "markdown",
   "metadata": {
    "ein.tags": "worksheet-0",
    "slideshow": {
     "slide_type": "-"
    }
   },
   "source": [
    "Notebook that trains an LSTM to generate tweets based on a given emojis"
   ]
  },
  {
   "cell_type": "markdown",
   "metadata": {
    "ein.tags": "worksheet-0",
    "slideshow": {
     "slide_type": "-"
    }
   },
   "source": [
    "First we load the data"
   ]
  },
  {
   "cell_type": "code",
   "execution_count": 26,
   "metadata": {
    "autoscroll": false,
    "collapsed": false,
    "ein.hycell": false,
    "ein.tags": "worksheet-0",
    "slideshow": {
     "slide_type": "-"
    }
   },
   "outputs": [
    {
     "name": "stderr",
     "output_type": "stream",
     "text": [
      "/home/nickdbn/anaconda3/lib/python3.6/site-packages/IPython/core/interactiveshell.py:2802: DtypeWarning: Columns (0) have mixed types. Specify dtype option on import or set low_memory=False.\n",
      "  if self.run_code(code, result):\n"
     ]
    }
   ],
   "source": [
    "import numpy as np\n",
    "import pandas as pd\n",
    "import data_load_utils as util\n",
    "\n",
    "tweets = util.filter_tweets_min_count(\n",
    "    util.read_tweet_data('data/emojis_homemade.csv'),\n",
    "    min_count=1000)\n",
    "\n",
    "tweets['text'] = util.filter_text_for_handles(tweets['text'])\n"
   ]
  },
  {
   "cell_type": "code",
   "execution_count": 27,
   "metadata": {
    "autoscroll": false,
    "collapsed": false,
    "ein.hycell": false,
    "ein.tags": "worksheet-0",
    "slideshow": {
     "slide_type": "-"
    }
   },
   "outputs": [
    {
     "data": {
      "text/plain": [
       "       Unnamed: 0                                               text  emoji\n0               0  RT [VID] 181023 - Foi adicionada a letra “D” n...      ©\n1               1  RT 181023 Kris Wu Studio update (3/3)\\n\\nLegen...      💫\n2               2  RT Now you are watching Indian SuperStar with ...      😎\n3               3                                    dats for keeps       💛\n6               6                             Holy shit no I think.       😩\n7               7                  RT army, follow who retweet this       👑\n8               8  RT Simply K-Pop harddrive dump\\n\\n#베리굿 #BerryG...      🤩\n9               9  Happy birthday nellie hope you have a fantasti...      ❤\n10             10  RT \"I have passed through fire\"\\n\\nThank you f...      💕\n12             12  RT Incredible to be involved in the making of ...      😱\n13             13  RT Too much feels \\n\\n#BTS #MPN #BTSARMY https...      😢\n14             14  RT #PL TOP SCORERS \\n\\n7 - \\n6 - the goods  ht...      🔥\n15             15  [DEPASCAL] RUSSEL HOODIE BLUE\\n https://t.co/C...      🔗\n16             16  The joys of having a make up artist as your be...      😂\n18             18                  RT army, follow who retweet this       👑\n19             19                  Someone didn’t read the article.       🙄\n20             20  RT Happy 23rd Birthday to Duckie Thot  https:/...      💕\n21             21             RT follow everyone who retweets this,       💓\n22             22  RT Incredible to be involved in the making of ...      😱\n24             24        WOW let me know when I can come play games       🙃\n27             27  RT  \\nYou have all decided to push your way th...      🤔\n28             28                    Somebody stop simone biles omg       🔥\n30             30  RT My fetish is to have enough time to do all ...      💦\n32             32  RT [DEPASCAL] RUSSEL HOODIE BLUE\\n https://t.c...      🔗\n33            NaN                                               text  emoji\n34              0  Frosted Flakes be high as hell you when you good       😭\n36              2  RT  &amp; RT this contest tweet NOW &amp; we w...      ❤\n37              3      most people need clueS !  Lots of them  !!         😄\n38              4  RT Big Hit is fast, but ARMYs are faster.  htt...      😁\n39              5  RT foodtrip with them@itzjncko https://t.co/OA...      💯\n...           ...                                                ...    ...\n716605         10             RT Why does everyone play Ganon in pm       😞\n716606         11                                           omg  ily      😔\n716608         13  RT i’ve seen rumors that it’s coming friday bu...      🖤\n716609         14  Tatum Rush ‘Bahiana’ (Tsunano Remix) premiere ...      👌\n716610         15  RT LMAOOO just won his first ever game of #For...      😂\n716613         18  RT The man's hands and legs should be amputate...      😡\n716616         21  RT Oct. 31: Career high 50 points\\nNov. 7: Car...      🌹\n716617         22  RT Yall be sneak dissing people that don’t eve...      😂\n716618         23                                 Thank you, nexxxx       😘\n716619         24  RT 12 lives lost. Heartbreaking. Senseless. ️ ...      ❤\n716620         25  RT Here is a video to brighten up ur timeline ...      💖\n716621         26  RT LMAOOO just won his first ever game of #For...      😂\n716623         28  RT Luckiest girl in the world 🥺️ https://t.co/...      ❤\n716624        NaN                                               text  emoji\n716625          0                             RT i need a new phone       😪\n716626          1                                        Ah thanks!       😊\n716627          2    RT Open for a surprise  https://t.co/DzQceLy3o7      😍\n716628          3                         RT yakap mo is all I want       😍\n716629          4   RT just got a fresh cut  https://t.co/oxrWIBk6eN      🤝\n716631          6  The Dumbest will buy now and not wait till 70 sat      😂\n716632          7                          I’m finna be broke broke       😭\n716633          8                       At least we won’t move them       👍\n716634          9  RT [MASS STREAMING] #TempoThursday\\n\\nYouTube ...      🙃\n716635         10        RT RT if still hearing firecracker bursts.       😂\n716637         12  RT HAHAHA Wanna One dancing to Pentagon’s Shin...      😂\n716638         13  RT ️ARTISTS️\\n\\nIF UR AN ARTIST RT AND LIKE TH...      ‼\n716639         14  There is always something small you can do whi...      💖\n716640         15  Wow it never showed up new lol everyone keeps ...      😂\n716641         16  i tried to do cartoon photo to u to make u bet...      🖤\n716642         17  RT \"obviously from a semi automatic rifle\"  re...      🤔\n\n[448956 rows x 3 columns]"
      ]
     },
     "execution_count": 27,
     "metadata": {},
     "output_type": "execute_result"
    }
   ],
   "source": [
    "tweets"
   ]
  },
  {
   "cell_type": "code",
   "execution_count": 28,
   "metadata": {
    "autoscroll": false,
    "collapsed": false,
    "ein.hycell": false,
    "ein.tags": "worksheet-0",
    "slideshow": {
     "slide_type": "-"
    }
   },
   "outputs": [
    {
     "data": {
      "text/plain": [
       "Unnamed: 0                                                    0\ntext          RT [VID] 181023 - Foi adicionada a letra “D” n...\nemoji                                                         ©\nName: 0, dtype: object"
      ]
     },
     "execution_count": 28,
     "metadata": {},
     "output_type": "execute_result"
    }
   ],
   "source": [
    "tweets.iloc[0,:]"
   ]
  },
  {
   "cell_type": "code",
   "execution_count": 29,
   "metadata": {
    "autoscroll": false,
    "collapsed": false,
    "ein.hycell": false,
    "ein.tags": "worksheet-0",
    "slideshow": {
     "slide_type": "-"
    }
   },
   "outputs": [
    {
     "ename": "IndexingError",
     "evalue": "Too many indexers",
     "output_type": "error",
     "traceback": [
      "\u001b[0;31m\u001b[0m",
      "\u001b[0;31mIndexingError\u001b[0mTraceback (most recent call last)",
      "\u001b[0;32m<ipython-input-29-83cb74447b66>\u001b[0m in \u001b[0;36m<module>\u001b[0;34m()\u001b[0m\n\u001b[0;32m----> 1\u001b[0;31m \u001b[0mtweets\u001b[0m\u001b[0;34m.\u001b[0m\u001b[0mloc\u001b[0m\u001b[0;34m[\u001b[0m\u001b[0;34m:\u001b[0m\u001b[0;34m,\u001b[0m\u001b[0;34m'text'\u001b[0m\u001b[0;34m,\u001b[0m \u001b[0;34m'emoji'\u001b[0m\u001b[0;34m]\u001b[0m\u001b[0;34m\u001b[0m\u001b[0m\n\u001b[0m",
      "\u001b[0;32m~/anaconda3/lib/python3.6/site-packages/pandas/core/indexing.py\u001b[0m in \u001b[0;36m__getitem__\u001b[0;34m(self, key)\u001b[0m\n\u001b[1;32m   1470\u001b[0m             \u001b[0;32mexcept\u001b[0m \u001b[0;34m(\u001b[0m\u001b[0mKeyError\u001b[0m\u001b[0;34m,\u001b[0m \u001b[0mIndexError\u001b[0m\u001b[0;34m)\u001b[0m\u001b[0;34m:\u001b[0m\u001b[0;34m\u001b[0m\u001b[0m\n\u001b[1;32m   1471\u001b[0m                 \u001b[0;32mpass\u001b[0m\u001b[0;34m\u001b[0m\u001b[0m\n\u001b[0;32m-> 1472\u001b[0;31m             \u001b[0;32mreturn\u001b[0m \u001b[0mself\u001b[0m\u001b[0;34m.\u001b[0m\u001b[0m_getitem_tuple\u001b[0m\u001b[0;34m(\u001b[0m\u001b[0mkey\u001b[0m\u001b[0;34m)\u001b[0m\u001b[0;34m\u001b[0m\u001b[0m\n\u001b[0m\u001b[1;32m   1473\u001b[0m         \u001b[0;32melse\u001b[0m\u001b[0;34m:\u001b[0m\u001b[0;34m\u001b[0m\u001b[0m\n\u001b[1;32m   1474\u001b[0m             \u001b[0;31m# we by definition only have the 0th axis\u001b[0m\u001b[0;34m\u001b[0m\u001b[0;34m\u001b[0m\u001b[0m\n",
      "\u001b[0;32m~/anaconda3/lib/python3.6/site-packages/pandas/core/indexing.py\u001b[0m in \u001b[0;36m_getitem_tuple\u001b[0;34m(self, tup)\u001b[0m\n\u001b[1;32m    873\u001b[0m \u001b[0;34m\u001b[0m\u001b[0m\n\u001b[1;32m    874\u001b[0m         \u001b[0;31m# no multi-index, so validate all of the indexers\u001b[0m\u001b[0;34m\u001b[0m\u001b[0;34m\u001b[0m\u001b[0m\n\u001b[0;32m--> 875\u001b[0;31m         \u001b[0mself\u001b[0m\u001b[0;34m.\u001b[0m\u001b[0m_has_valid_tuple\u001b[0m\u001b[0;34m(\u001b[0m\u001b[0mtup\u001b[0m\u001b[0;34m)\u001b[0m\u001b[0;34m\u001b[0m\u001b[0m\n\u001b[0m\u001b[1;32m    876\u001b[0m \u001b[0;34m\u001b[0m\u001b[0m\n\u001b[1;32m    877\u001b[0m         \u001b[0;31m# ugly hack for GH #836\u001b[0m\u001b[0;34m\u001b[0m\u001b[0;34m\u001b[0m\u001b[0m\n",
      "\u001b[0;32m~/anaconda3/lib/python3.6/site-packages/pandas/core/indexing.py\u001b[0m in \u001b[0;36m_has_valid_tuple\u001b[0;34m(self, key)\u001b[0m\n\u001b[1;32m    218\u001b[0m         \u001b[0;32mfor\u001b[0m \u001b[0mi\u001b[0m\u001b[0;34m,\u001b[0m \u001b[0mk\u001b[0m \u001b[0;32min\u001b[0m \u001b[0menumerate\u001b[0m\u001b[0;34m(\u001b[0m\u001b[0mkey\u001b[0m\u001b[0;34m)\u001b[0m\u001b[0;34m:\u001b[0m\u001b[0;34m\u001b[0m\u001b[0m\n\u001b[1;32m    219\u001b[0m             \u001b[0;32mif\u001b[0m \u001b[0mi\u001b[0m \u001b[0;34m>=\u001b[0m \u001b[0mself\u001b[0m\u001b[0;34m.\u001b[0m\u001b[0mobj\u001b[0m\u001b[0;34m.\u001b[0m\u001b[0mndim\u001b[0m\u001b[0;34m:\u001b[0m\u001b[0;34m\u001b[0m\u001b[0m\n\u001b[0;32m--> 220\u001b[0;31m                 \u001b[0;32mraise\u001b[0m \u001b[0mIndexingError\u001b[0m\u001b[0;34m(\u001b[0m\u001b[0;34m'Too many indexers'\u001b[0m\u001b[0;34m)\u001b[0m\u001b[0;34m\u001b[0m\u001b[0m\n\u001b[0m\u001b[1;32m    221\u001b[0m             \u001b[0;32mtry\u001b[0m\u001b[0;34m:\u001b[0m\u001b[0;34m\u001b[0m\u001b[0m\n\u001b[1;32m    222\u001b[0m                 \u001b[0mself\u001b[0m\u001b[0;34m.\u001b[0m\u001b[0m_validate_key\u001b[0m\u001b[0;34m(\u001b[0m\u001b[0mk\u001b[0m\u001b[0;34m,\u001b[0m \u001b[0mi\u001b[0m\u001b[0;34m)\u001b[0m\u001b[0;34m\u001b[0m\u001b[0m\n",
      "\u001b[0;31mIndexingError\u001b[0m: Too many indexers"
     ]
    }
   ],
   "source": [
    "tweets.loc[:,'text', 'emoji']"
   ]
  },
  {
   "cell_type": "code",
   "execution_count": 30,
   "metadata": {
    "autoscroll": false,
    "collapsed": false,
    "ein.hycell": false,
    "ein.tags": "worksheet-0",
    "slideshow": {
     "slide_type": "-"
    }
   },
   "outputs": [
    {
     "data": {
      "text/plain": [
       "                                                     text  emoji\n0       RT [VID] 181023 - Foi adicionada a letra “D” n...      ©\n1       RT 181023 Kris Wu Studio update (3/3)\\n\\nLegen...      💫\n2       RT Now you are watching Indian SuperStar with ...      😎\n3                                         dats for keeps       💛\n6                                  Holy shit no I think.       😩\n7                       RT army, follow who retweet this       👑\n8       RT Simply K-Pop harddrive dump\\n\\n#베리굿 #BerryG...      🤩\n9       Happy birthday nellie hope you have a fantasti...      ❤\n10      RT \"I have passed through fire\"\\n\\nThank you f...      💕\n12      RT Incredible to be involved in the making of ...      😱\n13      RT Too much feels \\n\\n#BTS #MPN #BTSARMY https...      😢\n14      RT #PL TOP SCORERS \\n\\n7 - \\n6 - the goods  ht...      🔥\n15      [DEPASCAL] RUSSEL HOODIE BLUE\\n https://t.co/C...      🔗\n16      The joys of having a make up artist as your be...      😂\n18                      RT army, follow who retweet this       👑\n19                      Someone didn’t read the article.       🙄\n20      RT Happy 23rd Birthday to Duckie Thot  https:/...      💕\n21                 RT follow everyone who retweets this,       💓\n22      RT Incredible to be involved in the making of ...      😱\n24            WOW let me know when I can come play games       🙃\n27      RT  \\nYou have all decided to push your way th...      🤔\n28                        Somebody stop simone biles omg       🔥\n30      RT My fetish is to have enough time to do all ...      💦\n32      RT [DEPASCAL] RUSSEL HOODIE BLUE\\n https://t.c...      🔗\n33                                                   text  emoji\n34      Frosted Flakes be high as hell you when you good       😭\n36      RT  &amp; RT this contest tweet NOW &amp; we w...      ❤\n37          most people need clueS !  Lots of them  !!         😄\n38      RT Big Hit is fast, but ARMYs are faster.  htt...      😁\n39      RT foodtrip with them@itzjncko https://t.co/OA...      💯\n...                                                   ...    ...\n716605             RT Why does everyone play Ganon in pm       😞\n716606                                           omg  ily      😔\n716608  RT i’ve seen rumors that it’s coming friday bu...      🖤\n716609  Tatum Rush ‘Bahiana’ (Tsunano Remix) premiere ...      👌\n716610  RT LMAOOO just won his first ever game of #For...      😂\n716613  RT The man's hands and legs should be amputate...      😡\n716616  RT Oct. 31: Career high 50 points\\nNov. 7: Car...      🌹\n716617  RT Yall be sneak dissing people that don’t eve...      😂\n716618                                 Thank you, nexxxx       😘\n716619  RT 12 lives lost. Heartbreaking. Senseless. ️ ...      ❤\n716620  RT Here is a video to brighten up ur timeline ...      💖\n716621  RT LMAOOO just won his first ever game of #For...      😂\n716623  RT Luckiest girl in the world 🥺️ https://t.co/...      ❤\n716624                                               text  emoji\n716625                             RT i need a new phone       😪\n716626                                        Ah thanks!       😊\n716627    RT Open for a surprise  https://t.co/DzQceLy3o7      😍\n716628                         RT yakap mo is all I want       😍\n716629   RT just got a fresh cut  https://t.co/oxrWIBk6eN      🤝\n716631  The Dumbest will buy now and not wait till 70 sat      😂\n716632                          I’m finna be broke broke       😭\n716633                       At least we won’t move them       👍\n716634  RT [MASS STREAMING] #TempoThursday\\n\\nYouTube ...      🙃\n716635        RT RT if still hearing firecracker bursts.       😂\n716637  RT HAHAHA Wanna One dancing to Pentagon’s Shin...      😂\n716638  RT ️ARTISTS️\\n\\nIF UR AN ARTIST RT AND LIKE TH...      ‼\n716639  There is always something small you can do whi...      💖\n716640  Wow it never showed up new lol everyone keeps ...      😂\n716641  i tried to do cartoon photo to u to make u bet...      🖤\n716642  RT \"obviously from a semi automatic rifle\"  re...      🤔\n\n[448956 rows x 2 columns]"
      ]
     },
     "execution_count": 30,
     "metadata": {},
     "output_type": "execute_result"
    }
   ],
   "source": [
    "tweets.loc[:,['text', 'emoji']]"
   ]
  },
  {
   "cell_type": "code",
   "execution_count": 47,
   "metadata": {
    "autoscroll": false,
    "collapsed": false,
    "ein.hycell": false,
    "ein.tags": "worksheet-0",
    "slideshow": {
     "slide_type": "-"
    }
   },
   "outputs": [],
   "source": [
    "my_dict = {'text': \"red and yellow and pink and green, orange and purple and blue, I can sing a rainbow, sing a rainbow, sing a rainbow too\",\n",
    "               'emoji': \":rainbow:\"}\n",
    "my_series = pd.Series(my_dict)"
   ]
  },
  {
   "cell_type": "code",
   "execution_count": 48,
   "metadata": {
    "autoscroll": false,
    "collapsed": false,
    "ein.hycell": false,
    "ein.tags": "worksheet-0",
    "slideshow": {
     "slide_type": "-"
    }
   },
   "outputs": [
    {
     "data": {
      "text/plain": [
       "text     red and yellow and pink and green, orange and ...\nemoji                                            :rainbow:\ndtype: object"
      ]
     },
     "execution_count": 48,
     "metadata": {},
     "output_type": "execute_result"
    }
   ],
   "source": [
    "my_series"
   ]
  },
  {
   "cell_type": "code",
   "execution_count": 170,
   "metadata": {
    "autoscroll": false,
    "collapsed": false,
    "ein.hycell": false,
    "ein.tags": "worksheet-0",
    "slideshow": {
     "slide_type": "-"
    }
   },
   "outputs": [],
   "source": [
    "from importlib import reload\n",
    "util = reload (util)"
   ]
  },
  {
   "cell_type": "code",
   "execution_count": 171,
   "metadata": {
    "autoscroll": false,
    "collapsed": false,
    "ein.hycell": false,
    "ein.tags": "worksheet-0",
    "slideshow": {
     "slide_type": "-"
    }
   },
   "outputs": [],
   "source": [
    "series, next_chars = util.get_series_data_from_tweet (my_series)"
   ]
  },
  {
   "cell_type": "code",
   "execution_count": 172,
   "metadata": {
    "autoscroll": false,
    "collapsed": false,
    "ein.hycell": false,
    "ein.tags": "worksheet-0",
    "slideshow": {
     "slide_type": "-"
    }
   },
   "outputs": [
    {
     "name": "stdout",
     "output_type": "stream",
     "text": [
      "Unique chars:  21\n"
     ]
    }
   ],
   "source": [
    "chars, char_indices = util.get_unique_chars_list(series)"
   ]
  },
  {
   "cell_type": "code",
   "execution_count": 173,
   "metadata": {
    "autoscroll": false,
    "collapsed": false,
    "ein.hycell": false,
    "ein.tags": "worksheet-0",
    "slideshow": {
     "slide_type": "-"
    }
   },
   "outputs": [
    {
     "data": {
      "text/plain": [
       "5"
      ]
     },
     "execution_count": 173,
     "metadata": {},
     "output_type": "execute_result"
    }
   ],
   "source": [
    "char_indices['c']"
   ]
  },
  {
   "cell_type": "code",
   "execution_count": 174,
   "metadata": {
    "autoscroll": false,
    "collapsed": false,
    "ein.hycell": false,
    "ein.tags": "worksheet-0",
    "slideshow": {
     "slide_type": "-"
    }
   },
   "outputs": [
    {
     "name": "stdout",
     "output_type": "stream",
     "text": [
      "Unique chars:  21\n"
     ]
    }
   ],
   "source": [
    "x, y = util.get_x_y_bool_arrays (series, next_chars)"
   ]
  },
  {
   "cell_type": "code",
   "execution_count": 175,
   "metadata": {
    "autoscroll": false,
    "collapsed": false,
    "ein.hycell": false,
    "ein.tags": "worksheet-0",
    "slideshow": {
     "slide_type": "-"
    }
   },
   "outputs": [
    {
     "name": "stdout",
     "output_type": "stream",
     "text": [
      "red and yellow and pink and green, orange\n"
     ]
    }
   ],
   "source": [
    "# and convert back to human-readable as a debug check:\n",
    "print (util.x_y_bool_array_to_sentence(x, y, chars))"
   ]
  },
  {
   "cell_type": "code",
   "execution_count": 155,
   "metadata": {
    "autoscroll": false,
    "collapsed": false,
    "ein.hycell": false,
    "ein.tags": "worksheet-0",
    "slideshow": {
     "slide_type": "-"
    }
   },
   "outputs": [],
   "source": []
  },
  {
   "cell_type": "code",
   "execution_count": 156,
   "metadata": {
    "autoscroll": false,
    "collapsed": false,
    "ein.hycell": false,
    "ein.tags": "worksheet-0",
    "slideshow": {
     "slide_type": "-"
    }
   },
   "outputs": [],
   "source": [
    "x = np.zeros ((len(series), 40, len(chars)), dtype=np.bool)\n",
    "y = np.zeros ((len(series), len(chars)), dtype=np.bool)\n",
    "for i, sentence in enumerate(series):\n",
    "    for t, char in enumerate(sentence):\n",
    "        x[i, t, unique[char]] = 1\n",
    "    y[i, unique[next_chars[i]]] = 1"
   ]
  },
  {
   "cell_type": "code",
   "execution_count": 109,
   "metadata": {
    "autoscroll": false,
    "collapsed": false,
    "ein.hycell": false,
    "ein.tags": "worksheet-0",
    "slideshow": {
     "slide_type": "-"
    }
   },
   "outputs": [],
   "source": []
  },
  {
   "cell_type": "code",
   "execution_count": 138,
   "metadata": {
    "autoscroll": false,
    "collapsed": false,
    "ein.hycell": false,
    "ein.tags": "worksheet-0",
    "slideshow": {
     "slide_type": "-"
    }
   },
   "outputs": [],
   "source": [
    "def bool_array_to_char(bool_array, chars):\n",
    "    # chars is char index\n",
    "    return (chars[np.argmax(bool_array.astype(int))])\n",
    "\n",
    "\n",
    "def decode_line(x, chars):\n",
    "    string = []\n",
    "    for i in range (x.shape[0]):\n",
    "#        string.append(chars[np.argmax(x[i].astype(int))])\n",
    "        string.append(bool_array_to_char(x[i], chars))\n",
    "    return (string)\n",
    "                                 \n",
    "def decode_example(x, y): \n",
    "    # decodes x, y from array type back into english\n",
    "    print (''.join(decode_line(x, chars)), \":\", # decode x\n",
    "       bool_array_to_char(y, chars))   # decode y\n"
   ]
  },
  {
   "cell_type": "code",
   "execution_count": 112,
   "metadata": {
    "autoscroll": false,
    "collapsed": false,
    "ein.hycell": false,
    "ein.tags": "worksheet-0",
    "slideshow": {
     "slide_type": "-"
    }
   },
   "outputs": [],
   "source": []
  },
  {
   "cell_type": "code",
   "execution_count": 139,
   "metadata": {
    "autoscroll": false,
    "collapsed": false,
    "ein.hycell": false,
    "ein.tags": "worksheet-0",
    "slideshow": {
     "slide_type": "-"
    }
   },
   "outputs": [
    {
     "name": "stdout",
     "output_type": "stream",
     "text": [
      "red and yellow and pink and green, orang : e\n",
      " and yellow and pink and green, orange a : n\n",
      "d yellow and pink and green, orange and  : p\n",
      "ellow and pink and green, orange and pur : p\n",
      "ow and pink and green, orange and purple :  \n",
      "and pink and green, orange and purple an : d\n",
      " pink and green, orange and purple and b : l\n",
      "nk and green, orange and purple and blue : ,\n",
      "and green, orange and purple and blue, I :  \n",
      " green, orange and purple and blue, I ca : n\n"
     ]
    }
   ],
   "source": [
    "for i in range (10):\n",
    "    decode_example(x[i], y[i])"
   ]
  },
  {
   "cell_type": "code",
   "execution_count": null,
   "metadata": {
    "autoscroll": false,
    "collapsed": false,
    "ein.hycell": false,
    "ein.tags": "worksheet-0",
    "slideshow": {
     "slide_type": "-"
    }
   },
   "outputs": [],
   "source": []
  }
 ],
 "metadata": {
  "kernelspec": {
   "display_name": "Python 3",
   "name": "python3"
  },
  "name": "emoji_text_gen_LSTM.ipynb"
 },
 "nbformat": 4,
 "nbformat_minor": 2
}
