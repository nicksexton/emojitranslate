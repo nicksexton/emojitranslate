{
 "cells": [
  {
   "cell_type": "markdown",
   "metadata": {},
   "source": [
    "# Emojitranslate project"
   ]
  },
  {
   "cell_type": "markdown",
   "metadata": {},
   "source": [
    "## Part one - learning to predict emojis from tweets"
   ]
  },
  {
   "cell_type": "markdown",
   "metadata": {},
   "source": [
    "The following code adapted from the Osinga deep learning cookbook - using the Twitter API to sample EN language tweets that contain exactly one emoji"
   ]
  },
  {
   "cell_type": "code",
   "execution_count": 246,
   "metadata": {},
   "outputs": [],
   "source": [
    "import random\n",
    "import twitter\n",
    "import emoji\n",
    "# import itertools\n",
    "import pandas as pd\n",
    "from itertools import chain\n",
    "from keras.preprocessing.sequence import pad_sequences\n",
    "import numpy as np\n",
    "#from sklearn.model_selection import train_test_split\n",
    "from keras import Sequential, optimizers, regularizers\n",
    "from keras.preprocessing.text import Tokenizer\n",
    "from keras.preprocessing.sequence import pad_sequences\n",
    "from keras.preprocessing.text import one_hot\n",
    "from keras.utils import to_categorical\n",
    "import keras.callbacks\n",
    "from keras.backend import clear_session\n",
    "#import json\n",
    "\n",
    "import os\n",
    "# import nb_utils\n",
    "from keras.layers import Input, Conv1D, MaxPooling1D, Flatten, Dense, Dropout, LSTM, Embedding, GlobalMaxPooling1D#, Merge \n",
    "from keras.models import Model\n",
    "from keras.layers.merge import Concatenate, Average\n",
    "\n",
    "# from gensim.models import Word2Vec"
   ]
  },
  {
   "cell_type": "code",
   "execution_count": 247,
   "metadata": {},
   "outputs": [
    {
     "name": "stderr",
     "output_type": "stream",
     "text": [
      "/home/nick/anaconda3/envs/emojitranslate-gpu/lib/python3.6/site-packages/IPython/core/interactiveshell.py:3020: DtypeWarning: Columns (0) have mixed types. Specify dtype option on import or set low_memory=False.\n",
      "  interactivity=interactivity, compiler=compiler, result=result)\n"
     ]
    },
    {
     "data": {
      "text/plain": [
       "😂        70866\n",
       "😭        28812\n",
       "❤        23972\n",
       "emoji    16415\n",
       "😍        15831\n",
       "🔥        15568\n",
       "🤣         9882\n",
       "🙏         7845\n",
       "😩         7839\n",
       "💕         7483\n",
       "🤔         7383\n",
       "😊         6750\n",
       "🖤         6194\n",
       "✨         6092\n",
       "👀         5923\n",
       "💜         5901\n",
       "👏         5669\n",
       "🙄         5466\n",
       "💀         5268\n",
       "🙌         5224\n",
       "🎉         5051\n",
       "😘         4719\n",
       "💯         4661\n",
       "💙         4519\n",
       "♥         4143\n",
       "😔         4112\n",
       "👍         4018\n",
       "👇         3816\n",
       "😉         3755\n",
       "🚨         3652\n",
       "         ...  \n",
       "⏺            2\n",
       "🀄            1\n",
       "🔡            1\n",
       "◀            1\n",
       "🤾            1\n",
       "🈳            1\n",
       "🚟            1\n",
       "🚋            1\n",
       "🚇            1\n",
       "🕦            1\n",
       "📏            1\n",
       "🛢            1\n",
       "🕟            1\n",
       "⚱            1\n",
       "🚳            1\n",
       "🧘            1\n",
       "🧙            1\n",
       "🈲            1\n",
       "🕍            1\n",
       "🕜            1\n",
       "📤            1\n",
       "👝            1\n",
       "🈵            1\n",
       "🗃            1\n",
       "➗            1\n",
       "🏬            1\n",
       "🕠            1\n",
       "🤼            1\n",
       "🏣            1\n",
       "㊗            1\n",
       "Name: emoji, Length: 1086, dtype: int64"
      ]
     },
     "execution_count": 247,
     "metadata": {},
     "output_type": "execute_result"
    }
   ],
   "source": [
    "all_tweets = pd.read_csv('data/emojis_homemade.csv')\n",
    "all_tweets['emoji'].value_counts()"
   ]
  },
  {
   "cell_type": "code",
   "execution_count": 248,
   "metadata": {},
   "outputs": [
    {
     "data": {
      "text/plain": [
       "(729680, 3)"
      ]
     },
     "execution_count": 248,
     "metadata": {},
     "output_type": "execute_result"
    }
   ],
   "source": [
    "all_tweets.shape"
   ]
  },
  {
   "cell_type": "code",
   "execution_count": 249,
   "metadata": {},
   "outputs": [
    {
     "data": {
      "text/plain": [
       "<bound method NDFrame.head of        Unnamed: 0                                               text emoji\n",
       "0               0  RT @mydear_bangtan: [VID] 181023 - Foi adicion...     ©\n",
       "1               1  RT @WuYiFan_KrisBar: 181023 Kris Wu Studio upd...     💫\n",
       "2               2  RT @TrendsPrabhas: Now you are watching Indian...     😎\n",
       "3               3                                    dats for keeps      💛\n",
       "4               4  RT @xruiztru: WHO ARMS THE SAUDIS?\\n\\n  🇺🇸US 5...     🏳\n",
       "5               5  RT @xxxfreaknasty2: interracial couple go at i...     🌝\n",
       "6               6               @Eric_Deshaun Holy shit no I think.      😩\n",
       "7               7     RT @fanmutuals: army, follow who retweet this      👑\n",
       "8               8  RT @_Simplykpop: Simply K-Pop harddrive dump\\n...     🤩\n",
       "9               9  Happy birthday nellie @thelittlegend, hope you...     ❤\n",
       "10             10  RT @montparnasty: \"I have passed through fire\"...     💕\n",
       "11             11  RT @Jason_Mckeown: Look how empty Valley Parad...     😟\n",
       "12             12  RT @hellohonne: Incredible to be involved in t...     😱\n",
       "13             13  RT @btsvotingteam: Too much feels \\n\\n#BTS #MP...     😢\n",
       "14             14  RT @premierleague: #PL TOP SCORERS \\n\\n7 - @ha...     🔥\n",
       "15             15  [DEPASCAL] RUSSEL HOODIE BLUE\\n https://t.co/C...     🔗\n",
       "16             16  The joys of having a make up artist as your be...     😂\n",
       "17             17  RT @EXOGlobal: [!] #TEMPO_KAI is currently tre...     🎊\n",
       "18             18     RT @fanmutuals: army, follow who retweet this      👑\n",
       "19             19       @slicksean Someone didn’t read the article.      🙄\n",
       "20             20  RT @mefeater: Happy 23rd Birthday to Duckie Th...     💕\n",
       "21             21  RT @followprojecten: follow everyone who retwe...     💓\n",
       "22             22  RT @hellohonne: Incredible to be involved in t...     😱\n",
       "23             23  RT @abusedmember: ⚀Re-enter the red cube⚀\\n\\n*...     🏁\n",
       "24             24  WOW @Just_Ceeks let me know when I can come pl...     🙃\n",
       "25             25  RT @MarkLand0802: markno～\\n#NCT #Mark #MarkLee...     🤟\n",
       "26             26  RT @SAPTechEd: Don't forget! The #SAPTechEd ne...     🍻\n",
       "27             27  RT @YuH8TM3:  \\nYou have all decided to push y...     🤔\n",
       "28             28                    Somebody stop simone biles omg      🔥\n",
       "29             29              @mrfairyvideo @__jim_in Wth i see...      😨\n",
       "...           ...                                                ...   ...\n",
       "729650          5                                  That 51 hurt bad      😂\n",
       "729651          6                                 @Loudbasket Phew.      😢\n",
       "729652          7  RT @Iilbaby4PF: good terms or not , lord watch...     ❤\n",
       "729653          8  I fixed the photo of Michelle Williams. I thin...     😃\n",
       "729654          9                        gotta get up off this road      🙃\n",
       "729655         10  First off who fucking bitches up Douglass  but...     😂\n",
       "729656         11                             Cuti and idk wht to do     😫\n",
       "729657         12  suddenly i forgot how computers work, sorry Mr...     😂\n",
       "729658         13  My heat is currently broken and it’s 58 degree...     😊\n",
       "729659         14  RT @IamTemitorpee: Getting Married is Importan...     😂\n",
       "729660         15   TeenCurves - Babe Keisha Grey Fucks A Huge Co...     😆\n",
       "729661         16  RT @stay4kidz: A new stray kids fan account. I...     ✨\n",
       "729662         17  RT @Sims4Creations_: Modern Basegame + EPs Hou...     ♥\n",
       "729663         18  This old lady that I just started working with...     🙁\n",
       "729664         19  RT @iHarryEmpires: Follow everyone who Retweet...     🙉\n",
       "729665         20  Don’t speak when we have guests if you don’t s...     🙄\n",
       "729666         21  RT @Mhelen_one: DAY VERY HOT\\n\\n@AdultBrazil \\...     🔥\n",
       "729667         22  RT @dodo: Watch this stray dog go from terrifi...     😍\n",
       "729668         23  @volcanicclove I would need 50 hour days to wa...     😭\n",
       "729669         24  @iAnkurSingh Wonderful bahi, even Munger seems...     🙏\n",
       "729670         25     RT @_arieldee: I need  https://t.co/zuATfTN1p8     😩\n",
       "729671         26  RT @TheJose8A: RT if you also get freaked out ...     😅\n",
       "729672         27  RT @LVNancy:  #Trump called it \\n#CaliforniaFi...     🔥\n",
       "729673         28  RT @allcutedog: When you're trying your best b...     🙃\n",
       "729674         29        @BeautifulSinna Not if your moving to Cali      😭\n",
       "729675         30                              @LauraLoomer Truth. ️     ❤\n",
       "729676         31  RT @xBlackGold: Why You Gotta Land w/ Ya Legs ...     😂\n",
       "729677         32  RT @PopYour_Bubble: Becky snatched them snacks...     😂\n",
       "729678         33  RT @NizzyNass: @nickiminaj Full Performance At...     🤪\n",
       "729679         34  RT @ReE57FtxTOGeBiY: Looking forward to the vi...     😭\n",
       "\n",
       "[729680 rows x 3 columns]>"
      ]
     },
     "execution_count": 249,
     "metadata": {},
     "output_type": "execute_result"
    }
   ],
   "source": [
    "all_tweets.head"
   ]
  },
  {
   "cell_type": "markdown",
   "metadata": {},
   "source": [
    "Now let's filter these to only include emojis with more than 1000 examples "
   ]
  },
  {
   "cell_type": "code",
   "execution_count": 250,
   "metadata": {},
   "outputs": [
    {
     "data": {
      "text/plain": [
       "😂        70866\n",
       "😭        28812\n",
       "❤        23972\n",
       "emoji    16415\n",
       "😍        15831\n",
       "🔥        15568\n",
       "🤣         9882\n",
       "🙏         7845\n",
       "😩         7839\n",
       "💕         7483\n",
       "🤔         7383\n",
       "😊         6750\n",
       "🖤         6194\n",
       "✨         6092\n",
       "👀         5923\n",
       "💜         5901\n",
       "👏         5669\n",
       "🙄         5466\n",
       "💀         5268\n",
       "🙌         5224\n",
       "🎉         5051\n",
       "😘         4719\n",
       "💯         4661\n",
       "💙         4519\n",
       "♥         4143\n",
       "😔         4112\n",
       "👍         4018\n",
       "👇         3816\n",
       "😉         3755\n",
       "🚨         3652\n",
       "         ...  \n",
       "😄         1350\n",
       "😇         1340\n",
       "🔴         1333\n",
       "🤤         1330\n",
       "🌹         1327\n",
       "⚡         1316\n",
       "✔         1279\n",
       "😜         1259\n",
       "😐         1242\n",
       "✈         1241\n",
       "✊         1184\n",
       "💦         1160\n",
       "😑         1152\n",
       "😴         1149\n",
       "👊         1129\n",
       "🙈         1127\n",
       "😕         1125\n",
       "❣         1105\n",
       "😞         1088\n",
       "💘         1065\n",
       "⭐         1058\n",
       "📽         1055\n",
       "❗         1054\n",
       "📍         1044\n",
       "🔗         1044\n",
       "🤯         1039\n",
       "💫         1027\n",
       "⚠         1022\n",
       "🤞         1013\n",
       "🌟         1012\n",
       "Name: emoji, Length: 112, dtype: int64"
      ]
     },
     "execution_count": 250,
     "metadata": {},
     "output_type": "execute_result"
    }
   ],
   "source": [
    "tweets = all_tweets.groupby('emoji').filter(lambda c:len(c) > 1000)\n",
    "tweets['emoji'].value_counts()"
   ]
  },
  {
   "cell_type": "code",
   "execution_count": 251,
   "metadata": {},
   "outputs": [],
   "source": [
    "# Now re-index the data frame\n",
    "tweets.reset_index(inplace=True)"
   ]
  },
  {
   "cell_type": "markdown",
   "metadata": {},
   "source": [
    "so how big is our potential training set?"
   ]
  },
  {
   "cell_type": "code",
   "execution_count": 252,
   "metadata": {},
   "outputs": [
    {
     "data": {
      "text/plain": [
       "461544"
      ]
     },
     "execution_count": 252,
     "metadata": {},
     "output_type": "execute_result"
    }
   ],
   "source": [
    "len(tweets)"
   ]
  },
  {
   "cell_type": "markdown",
   "metadata": {},
   "source": [
    "What proportion of these are the most common emoji? (crying with laughter 😂)"
   ]
  },
  {
   "cell_type": "code",
   "execution_count": 253,
   "metadata": {},
   "outputs": [
    {
     "data": {
      "text/plain": [
       "0.15354115750610992"
      ]
     },
     "execution_count": 253,
     "metadata": {},
     "output_type": "execute_result"
    }
   ],
   "source": [
    "tweets['emoji'].value_counts()[0]/sum(tweets['emoji'].value_counts())"
   ]
  },
  {
   "cell_type": "code",
   "execution_count": 254,
   "metadata": {},
   "outputs": [
    {
     "data": {
      "text/plain": [
       "'RT @JoanKareri: A guy who smells good and leaves you with his scent after he leaves&gt;&gt;&gt;&gt; &gt;&gt;&gt;&gt;&gt;&gt;&gt;&gt;&gt;&gt;&gt;&gt;&gt;&gt;&gt;&gt;&gt;&gt;'"
      ]
     },
     "execution_count": 254,
     "metadata": {},
     "output_type": "execute_result"
    }
   ],
   "source": [
    "max(tweets['text'], key=lambda t:len(t))"
   ]
  },
  {
   "cell_type": "code",
   "execution_count": 255,
   "metadata": {},
   "outputs": [
    {
     "data": {
      "text/plain": [
       "['emoji', '©', '‼', '▶', '☹', '☺', '♥', '⚠', '⚡', '✅']"
      ]
     },
     "execution_count": 255,
     "metadata": {},
     "output_type": "execute_result"
    }
   ],
   "source": [
    "chars = list(sorted(set(chain(*tweets['text']))))\n",
    "char_to_idx = {ch: idx for idx, ch in enumerate(chars)}\n",
    "max_sequence_len = max(len(x) for x in tweets['text'])\n",
    "\n",
    "emojis = list(sorted(set(tweets['emoji'])))\n",
    "emoji_to_idx = {em: idx for idx, em in enumerate(emojis)}\n",
    "emojis[:10]\n",
    "\n",
    "#train_tweets, test_tweets = train_test_split(tweets, test_size=0.1)"
   ]
  },
  {
   "cell_type": "markdown",
   "metadata": {},
   "source": [
    "Currently we've collected quite a lot of tweet data, so to speed up the prototyping of the model we're going to create a train/dev/test datasets of 10,000 tweets each."
   ]
  },
  {
   "cell_type": "code",
   "execution_count": 256,
   "metadata": {},
   "outputs": [],
   "source": [
    "#train_tweets = tweets[0:10000]\n",
    "#dev_tweets = tweets[10000:20000]\n",
    "#test_tweets = tweets[20000:30000]\n",
    "\n",
    "\n",
    "# !! Temp! Try on much bigger dataset\n",
    "#train_tweets = tweets[0:100000] # 100000 tweets\n",
    "#dev_tweets = tweets[100000:110000]\n",
    "#test_tweets = tweets[110000:120000]\n",
    "\n",
    "# Try on 400k tweets\n",
    "train_tweets = tweets[0:400000] # 100000 tweets\n",
    "dev_tweets = tweets[400000:420000]\n",
    "test_tweets = tweets[420000:440000]\n"
   ]
  },
  {
   "cell_type": "code",
   "execution_count": 257,
   "metadata": {},
   "outputs": [],
   "source": [
    "#def data_generator(tweets, batch_size):\n",
    "#    while True:\n",
    "#        if batch_size is None:\n",
    "#            batch = tweets\n",
    "#            batch_size = batch.shape[0]\n",
    "#        else:\n",
    "#            batch = tweets.sample(batch_size)\n",
    "#        X = np.zeros((batch_size, max_sequence_len, len(chars)))\n",
    "#        y = np.zeros((batch_size,))\n",
    "#        for row_idx, (_, row) in enumerate(batch.iterrows()):\n",
    "#            y[row_idx] = emoji_to_idx[row['emoji']]\n",
    "#            for ch_idx, ch in enumerate(row['text']):\n",
    "#                X[row_idx, ch_idx, char_to_idx[ch]] = 1\n",
    "#        yield X, y\n",
    "#\n",
    "#next(data_generator(tweets, 10))"
   ]
  },
  {
   "cell_type": "code",
   "execution_count": 258,
   "metadata": {},
   "outputs": [],
   "source": [
    "#def create_char_cnn_model(num_chars, max_sequence_len, num_labels):\n",
    "#    char_input = Input(shape=(max_sequence_len, num_chars), name='char_cnn_input')\n",
    "#    \n",
    "#    conv_1x = Conv1D(128, 6, activation='relu', padding='valid')(char_input)\n",
    "#    max_pool_1x = MaxPooling1D(4)(conv_1x)\n",
    "#    conv_2x = Conv1D(256, 6, activation='relu', padding='valid')(max_pool_1x)\n",
    "#    max_pool_2x = MaxPooling1D(4)(conv_2x)\n",
    "\n",
    "#    flatten = Flatten()(max_pool_2x)\n",
    "#    dense = Dense(128, activation='relu')(flatten)\n",
    "#    preds = Dense(num_labels, activation='softmax', name='char_cnn_predictions')(dense)\n",
    "\n",
    "#    model = Model(char_input, preds)\n",
    "#    model.compile(loss='sparse_categorical_crossentropy',\n",
    "#                  optimizer='rmsprop',\n",
    "#                  metrics=['acc'])\n",
    "#    return model\n",
    "\n",
    "#char_cnn_model = create_char_cnn_model(len(char_to_idx), max_sequence_len, len(emojis))\n",
    "#char_cnn_model.summary()"
   ]
  },
  {
   "cell_type": "code",
   "execution_count": 259,
   "metadata": {},
   "outputs": [],
   "source": [
    "#early = keras.callbacks.EarlyStopping(monitor='loss',\n",
    "#                              min_delta=0.03,\n",
    "#                              patience=2,\n",
    "#                              verbose=1, mode='auto')\n",
    "\n",
    "#checkpoint = keras.callbacks.ModelCheckpoint(filepath='emoji_cnn.h5',\n",
    "#                                             monitor='val_acc',\n",
    "#                                             save_best_only = True)\n",
    "\n",
    "#tensorboard = keras.callbacks.TensorBoard(log_dir='tensorboard_log',\n",
    "#                                         histogram_freq=1,\n",
    "#                                         embeddings_freq=1)\n",
    "\n",
    "#BATCH_SIZE = 512\n",
    "#char_cnn_model.fit_generator(\n",
    "#    data_generator(train_tweets, batch_size=BATCH_SIZE),\n",
    "#    validation_data = data_generator(dev_tweets, batch_size=BATCH_SIZE),\n",
    "#    validation_steps=int(dev_tweets.shape[0]/BATCH_SIZE),\n",
    "#    epochs=5,\n",
    "#    steps_per_epoch=len(train_tweets) / BATCH_SIZE,\n",
    "#    verbose=1, # was: verbose=2\n",
    "#    callbacks=[early, checkpoint]\n",
    "#)"
   ]
  },
  {
   "cell_type": "code",
   "execution_count": 260,
   "metadata": {},
   "outputs": [],
   "source": [
    "#pd.options.display.max_colwidth = 128\n",
    "#inspect_tweets = dev_tweets.sample(100)\n",
    "#predicted = char_cnn_model.predict_generator(data_generator(inspect_tweets, batch_size=None), steps=1)\n",
    "#show = pd.DataFrame({\n",
    "#    'text': inspect_tweets['text'],\n",
    "#    'true': inspect_tweets['emoji'],\n",
    "#    'pred': [emojis[np.argmax(x)] for x in predicted],\n",
    "#})\n",
    "#show = show[['text', 'true', 'pred']]\n",
    "#show.head(10)"
   ]
  },
  {
   "cell_type": "markdown",
   "metadata": {},
   "source": [
    "# Simple neural network - single Dense layer\n",
    "\n",
    "Benchmark performance with the simplest neural network we can get"
   ]
  },
  {
   "cell_type": "markdown",
   "metadata": {},
   "source": [
    "Let's divide up the train/dev/test sets so we're not relying on a generator"
   ]
  },
  {
   "cell_type": "code",
   "execution_count": 262,
   "metadata": {},
   "outputs": [],
   "source": [
    "x_train = train_tweets[\"text\"]\n",
    "y_train = np.asarray(train_tweets[\"emoji\"])\n",
    "x_dev = dev_tweets[\"text\"]\n",
    "y_dev = np.asarray(dev_tweets[\"emoji\"])\n",
    "x_test = test_tweets[\"text\"]\n",
    "y_test = np.asarray(test_tweets[\"emoji\"])\n",
    "\n",
    "all_emojis = np.concatenate((y_train, y_dev, y_test), axis=0)\n",
    "\n",
    "emoji_to_idx = {em: idx for idx, em in enumerate(emojis)}\n",
    "#emojis[:10]\n",
    "\n",
    "all_emojis_idx = np.zeros(all_emojis.shape[0])\n",
    "\n",
    "for i in range (all_emojis.shape[0]):\n",
    "    all_emojis_idx[i] = emoji_to_idx[all_emojis[i]]    \n",
    "\n",
    "all_emojis_one_hot = to_categorical (all_emojis_idx)\n",
    "    \n",
    "#y_train_idx = all_emojis_one_hot[0:10000,:]\n",
    "#y_dev_idx = all_emojis_one_hot[10000:20000,:]\n",
    "#y_test_idx = all_emojis_one_hot[20000:30000,:]\n",
    "\n",
    "\n",
    "# Temp!\n",
    "#y_train_idx = all_emojis_one_hot[0:100000,:]\n",
    "#y_dev_idx = all_emojis_one_hot[100000:110000,:]\n",
    "#y_test_idx = all_emojis_one_hot[110000:120000,:]\n",
    "\n",
    "\n",
    "# Temp!\n",
    "y_train_idx = all_emojis_one_hot[0:400000,:]\n",
    "y_dev_idx = all_emojis_one_hot[400000:420000,:]\n",
    "y_test_idx = all_emojis_one_hot[420000:440000,:]"
   ]
  },
  {
   "cell_type": "code",
   "execution_count": 263,
   "metadata": {},
   "outputs": [],
   "source": [
    "# y_train_idx[0:10]"
   ]
  },
  {
   "cell_type": "markdown",
   "metadata": {},
   "source": [
    "Now let's start by one-hot encoding the text samples"
   ]
  },
  {
   "cell_type": "code",
   "execution_count": 264,
   "metadata": {},
   "outputs": [],
   "source": [
    "num_words = 5000\n",
    "\n",
    "\n",
    "tokenizer = Tokenizer(num_words = num_words) # was: 1000\n",
    "tokenizer.fit_on_texts (x_train)\n",
    "\n",
    "#x_train_sequences = tokenizer.texts_to_sequences(x_train)\n",
    "#x_dev_sequences = tokenizer.texts_to_sequences(x_dev)\n",
    "#x_test_sequences = tokenizer.texts_to_sequences(x_test)\n",
    "\n",
    "x_train_one_hot = tokenizer.texts_to_matrix(x_train, mode='binary')\n",
    "x_dev_one_hot = tokenizer.texts_to_matrix(x_dev, mode='binary')\n",
    "x_test_one_hot = tokenizer.texts_to_matrix(x_test, mode='binary')\n",
    "\n",
    "\n",
    "\n",
    "\n",
    "# remember to pad sequences"
   ]
  },
  {
   "cell_type": "code",
   "execution_count": 265,
   "metadata": {},
   "outputs": [
    {
     "data": {
      "text/plain": [
       "(400000, 5000)"
      ]
     },
     "execution_count": 265,
     "metadata": {},
     "output_type": "execute_result"
    }
   ],
   "source": [
    "x_train_one_hot.shape"
   ]
  },
  {
   "cell_type": "code",
   "execution_count": 266,
   "metadata": {},
   "outputs": [
    {
     "data": {
      "text/plain": [
       "(400000, 112)"
      ]
     },
     "execution_count": 266,
     "metadata": {},
     "output_type": "execute_result"
    }
   ],
   "source": [
    "y_train_idx.shape"
   ]
  },
  {
   "cell_type": "code",
   "execution_count": 267,
   "metadata": {},
   "outputs": [
    {
     "data": {
      "text/plain": [
       "{'rt': 1,\n",
       " 'https': 2,\n",
       " 't': 3,\n",
       " 'co': 4,\n",
       " 'the': 5,\n",
       " 'i': 6,\n",
       " 'to': 7,\n",
       " 'you': 8,\n",
       " 'a': 9,\n",
       " 'and': 10,\n",
       " 'this': 11,\n",
       " 'my': 12,\n",
       " 'is': 13,\n",
       " 'for': 14,\n",
       " 'of': 15,\n",
       " 'in': 16,\n",
       " 'it': 17,\n",
       " 'me': 18,\n",
       " 'on': 19,\n",
       " 'so': 20,\n",
       " 'that': 21,\n",
       " 'with': 22,\n",
       " '️': 23,\n",
       " 'be': 24,\n",
       " 'love': 25,\n",
       " 'bts': 26,\n",
       " 'your': 27,\n",
       " 'at': 28,\n",
       " 'all': 29,\n",
       " 'like': 30,\n",
       " 'we': 31,\n",
       " 'are': 32,\n",
       " 'just': 33,\n",
       " 'was': 34,\n",
       " 'text': 35,\n",
       " 'twt': 36,\n",
       " 'if': 37,\n",
       " 'but': 38,\n",
       " 'i’m': 39,\n",
       " 'have': 40,\n",
       " 'not': 41,\n",
       " 'now': 42,\n",
       " 'amp': 43,\n",
       " 'he': 44,\n",
       " 'up': 45,\n",
       " 'when': 46,\n",
       " 'one': 47,\n",
       " 'u': 48,\n",
       " 'get': 49,\n",
       " 'who': 50,\n",
       " 'thank': 51,\n",
       " 'out': 52,\n",
       " 'what': 53,\n",
       " 'do': 54,\n",
       " 'from': 55,\n",
       " 'how': 56,\n",
       " 'no': 57,\n",
       " '…': 58,\n",
       " 'they': 59,\n",
       " 'will': 60,\n",
       " 'good': 61,\n",
       " 'back': 62,\n",
       " 'can': 63,\n",
       " 'time': 64,\n",
       " 'got': 65,\n",
       " 'new': 66,\n",
       " 'happy': 67,\n",
       " 'see': 68,\n",
       " 'day': 69,\n",
       " 'about': 70,\n",
       " 'know': 71,\n",
       " 'his': 72,\n",
       " 'go': 73,\n",
       " 'her': 74,\n",
       " 'as': 75,\n",
       " 'too': 76,\n",
       " 'follow': 77,\n",
       " 'more': 78,\n",
       " 'our': 79,\n",
       " 'has': 80,\n",
       " '1': 81,\n",
       " 'don’t': 82,\n",
       " 'by': 83,\n",
       " 'best': 84,\n",
       " 'here': 85,\n",
       " 'really': 86,\n",
       " '2': 87,\n",
       " 'it’s': 88,\n",
       " 'much': 89,\n",
       " 'want': 90,\n",
       " 'an': 91,\n",
       " 'she': 92,\n",
       " 'video': 93,\n",
       " 'please': 94,\n",
       " 'need': 95,\n",
       " 'exo': 96,\n",
       " 'people': 97,\n",
       " 'or': 98,\n",
       " 'some': 99,\n",
       " 'today': 100,\n",
       " 'shit': 101,\n",
       " 'retweet': 102,\n",
       " 'been': 103,\n",
       " 'always': 104,\n",
       " 'y’all': 105,\n",
       " 'make': 106,\n",
       " 'why': 107,\n",
       " 'look': 108,\n",
       " 'still': 109,\n",
       " 'these': 110,\n",
       " \"i'm\": 111,\n",
       " 'him': 112,\n",
       " 'never': 113,\n",
       " 'steveaoki': 114,\n",
       " 'first': 115,\n",
       " 'us': 116,\n",
       " 'think': 117,\n",
       " 'only': 118,\n",
       " 'man': 119,\n",
       " 'everyone': 120,\n",
       " 'going': 121,\n",
       " 'can’t': 122,\n",
       " '3': 123,\n",
       " 'them': 124,\n",
       " 'birthday': 125,\n",
       " 'did': 126,\n",
       " 'baby': 127,\n",
       " 'said': 128,\n",
       " 'right': 129,\n",
       " 'watch': 130,\n",
       " 'vote': 131,\n",
       " 'next': 132,\n",
       " 'am': 133,\n",
       " 'life': 134,\n",
       " 'tweet': 135,\n",
       " 'their': 136,\n",
       " 'had': 137,\n",
       " 'even': 138,\n",
       " 'made': 139,\n",
       " 'say': 140,\n",
       " '2018': 141,\n",
       " 'god': 142,\n",
       " 'there': 143,\n",
       " 'way': 144,\n",
       " 'tomorrow': 145,\n",
       " 'coming': 146,\n",
       " 'girl': 147,\n",
       " \"it's\": 148,\n",
       " 'ever': 149,\n",
       " \"don't\": 150,\n",
       " 'off': 151,\n",
       " 'come': 152,\n",
       " 'wanna': 153,\n",
       " 'over': 154,\n",
       " 'big': 155,\n",
       " 'last': 156,\n",
       " 'night': 157,\n",
       " 'thanks': 158,\n",
       " 'lol': 159,\n",
       " 'than': 160,\n",
       " 'i’ve': 161,\n",
       " 'im': 162,\n",
       " 'twitter': 163,\n",
       " 'miss': 164,\n",
       " 'wasteitonme': 165,\n",
       " 'ass': 166,\n",
       " 'beautiful': 167,\n",
       " '🏻': 168,\n",
       " 'being': 169,\n",
       " 'well': 170,\n",
       " 'week': 171,\n",
       " 'take': 172,\n",
       " 'every': 173,\n",
       " 'x': 174,\n",
       " 'oh': 175,\n",
       " 'keep': 176,\n",
       " 'then': 177,\n",
       " 'would': 178,\n",
       " 'after': 179,\n",
       " 'again': 180,\n",
       " 'better': 181,\n",
       " 'song': 182,\n",
       " 'wait': 183,\n",
       " '•': 184,\n",
       " 'cute': 185,\n",
       " 'great': 186,\n",
       " 'feel': 187,\n",
       " 'game': 188,\n",
       " 'w': 189,\n",
       " 'year': 190,\n",
       " 'fuck': 191,\n",
       " 'hear': 192,\n",
       " 'hope': 193,\n",
       " 'you’re': 194,\n",
       " 'omg': 195,\n",
       " 'funny': 196,\n",
       " '4': 197,\n",
       " 'real': 198,\n",
       " 'arianagrande': 199,\n",
       " 'live': 200,\n",
       " 'let': 201,\n",
       " 'guys': 202,\n",
       " 'morning': 203,\n",
       " 'times': 204,\n",
       " 'win': 205,\n",
       " 'nigga': 206,\n",
       " 'likes': 207,\n",
       " 'yes': 208,\n",
       " 'because': 209,\n",
       " 'where': 210,\n",
       " 'same': 211,\n",
       " 'that’s': 212,\n",
       " '10': 213,\n",
       " 'very': 214,\n",
       " 'tonight': 215,\n",
       " 'ain’t': 216,\n",
       " '⠀': 217,\n",
       " 'work': 218,\n",
       " 'stop': 219,\n",
       " 'getting': 220,\n",
       " 'gonna': 221,\n",
       " '5': 222,\n",
       " 'someone': 223,\n",
       " 'family': 224,\n",
       " 'little': 225,\n",
       " 'bitch': 226,\n",
       " 'halloween': 227,\n",
       " 'heart': 228,\n",
       " 'thing': 229,\n",
       " '🏾': 230,\n",
       " 'give': 231,\n",
       " 'help': 232,\n",
       " 'gt': 233,\n",
       " 'most': 234,\n",
       " 'many': 235,\n",
       " 'via': 236,\n",
       " 'home': 237,\n",
       " '🏽': 238,\n",
       " 'show': 239,\n",
       " 'music': 240,\n",
       " 'ready': 241,\n",
       " \"we're\": 242,\n",
       " '🏼': 243,\n",
       " 'fucking': 244,\n",
       " 'amazing': 245,\n",
       " 'could': 246,\n",
       " 'down': 247,\n",
       " 'retweets': 248,\n",
       " 'smile': 249,\n",
       " 'listen': 250,\n",
       " 'world': 251,\n",
       " 'weareoneexo': 252,\n",
       " 'bleacherreport': 253,\n",
       " 'wants': 254,\n",
       " 'friends': 255,\n",
       " 'watched': 256,\n",
       " 'hate': 257,\n",
       " 'days': 258,\n",
       " 'before': 259,\n",
       " 'damn': 260,\n",
       " '7': 261,\n",
       " 'tempo': 262,\n",
       " 'group': 263,\n",
       " 'done': 264,\n",
       " 'hard': 265,\n",
       " 'were': 266,\n",
       " 'w…': 267,\n",
       " 'full': 268,\n",
       " 'its': 269,\n",
       " 'another': 270,\n",
       " 'tell': 271,\n",
       " 'house': 272,\n",
       " 'proud': 273,\n",
       " \"can't\": 274,\n",
       " 'should': 275,\n",
       " 'fans': 276,\n",
       " 'years': 277,\n",
       " 'play': 278,\n",
       " 'already': 279,\n",
       " 't…': 280,\n",
       " 'gotta': 281,\n",
       " 'doing': 282,\n",
       " 'bad': 283,\n",
       " 'different': 284,\n",
       " 'into': 285,\n",
       " 'two': 286,\n",
       " 'also': 287,\n",
       " 'something': 288,\n",
       " 'since': 289,\n",
       " 'album': 290,\n",
       " 'btsarmy': 291,\n",
       " 'bro': 292,\n",
       " 'each': 293,\n",
       " 'black': 294,\n",
       " 'remember': 295,\n",
       " '6': 296,\n",
       " 'collab': 297,\n",
       " 'd': 298,\n",
       " \"you're\": 299,\n",
       " 'other': 300,\n",
       " 'sure': 301,\n",
       " 'matter': 302,\n",
       " 'trying': 303,\n",
       " 'making': 304,\n",
       " 'lmao': 305,\n",
       " 'looking': 306,\n",
       " '20': 307,\n",
       " 'ask': 308,\n",
       " '11': 309,\n",
       " 'looks': 310,\n",
       " 'seen': 311,\n",
       " 'girls': 312,\n",
       " 'old': 313,\n",
       " \"let's\": 314,\n",
       " 'i’ll': 315,\n",
       " 'friend': 316,\n",
       " 'soon': 317,\n",
       " 'mtvema': 318,\n",
       " 'start': 319,\n",
       " 'brothers': 320,\n",
       " 'any': 321,\n",
       " 'talk': 322,\n",
       " 'having': 323,\n",
       " 'free': 324,\n",
       " 'school': 325,\n",
       " 'boy': 326,\n",
       " 'must': 327,\n",
       " 'official': 328,\n",
       " 'team': 329,\n",
       " 'everything': 330,\n",
       " 'own': 331,\n",
       " 'ya': 332,\n",
       " 'those': 333,\n",
       " 'niggas': 334,\n",
       " 'support': 335,\n",
       " 'wow': 336,\n",
       " 'went': 337,\n",
       " 'army': 338,\n",
       " 'face': 339,\n",
       " 'wish': 340,\n",
       " 'sorry': 341,\n",
       " 'top': 342,\n",
       " 'check': 343,\n",
       " 'find': 344,\n",
       " 'c…': 345,\n",
       " '—': 346,\n",
       " 'doesn’t': 347,\n",
       " 'money': 348,\n",
       " 'nothing': 349,\n",
       " 'cause': 350,\n",
       " 'nice': 351,\n",
       " 'thought': 352,\n",
       " 'hit': 353,\n",
       " 'believe': 354,\n",
       " 'else': 355,\n",
       " 'giveaway': 356,\n",
       " 'saw': 357,\n",
       " 'b': 358,\n",
       " 'guy': 359,\n",
       " 'followers': 360,\n",
       " 'yo': 361,\n",
       " 'goes': 362,\n",
       " 'single': 363,\n",
       " 'whole': 364,\n",
       " 'surpriseeee': 365,\n",
       " 'does': 366,\n",
       " 'finally': 367,\n",
       " 'away': 368,\n",
       " 'november': 369,\n",
       " 'things': 370,\n",
       " 'they’re': 371,\n",
       " 'long': 372,\n",
       " 'favorite': 373,\n",
       " 'left': 374,\n",
       " 'season': 375,\n",
       " 'hot': 376,\n",
       " 'part': 377,\n",
       " 'bc': 378,\n",
       " 'mind': 379,\n",
       " 'around': 380,\n",
       " '”': 381,\n",
       " 'let’s': 382,\n",
       " 'congratulations': 383,\n",
       " 'while': 384,\n",
       " 'youtube': 385,\n",
       " 'update': 386,\n",
       " 'fun': 387,\n",
       " 'pretty': 388,\n",
       " 'mtv': 389,\n",
       " 'through': 390,\n",
       " 'myself': 391,\n",
       " 'put': 392,\n",
       " '️️': 393,\n",
       " 'person': 394,\n",
       " 'post': 395,\n",
       " 'stay': 396,\n",
       " 'call': 397,\n",
       " 'kids': 398,\n",
       " 'end': 399,\n",
       " 'such': 400,\n",
       " 'sleep': 401,\n",
       " 'trump': 402,\n",
       " 'welcome': 403,\n",
       " 'use': 404,\n",
       " 'fan': 405,\n",
       " 'forget': 406,\n",
       " 'he’s': 407,\n",
       " 'n': 408,\n",
       " 'hey': 409,\n",
       " 's': 410,\n",
       " 'red': 411,\n",
       " '️️️': 412,\n",
       " 'gone': 413,\n",
       " 'together': 414,\n",
       " 'dog': 415,\n",
       " 'share': 416,\n",
       " 'news': 417,\n",
       " '\\u2060\\u2060': 418,\n",
       " 'ur': 419,\n",
       " 'm': 420,\n",
       " 'lil': 421,\n",
       " 'voting': 422,\n",
       " 'vine': 423,\n",
       " 'watching': 424,\n",
       " 'name': 425,\n",
       " 'actually': 426,\n",
       " 'anyone': 427,\n",
       " '100': 428,\n",
       " 'crying': 429,\n",
       " 'k': 430,\n",
       " 'guess': 431,\n",
       " '50': 432,\n",
       " 'didn’t': 433,\n",
       " 'yours': 434,\n",
       " 'moment': 435,\n",
       " 'excited': 436,\n",
       " 'hair': 437,\n",
       " 'mad': 438,\n",
       " 'may': 439,\n",
       " 'try': 440,\n",
       " 'party': 441,\n",
       " 'mean': 442,\n",
       " 'true': 443,\n",
       " 'okay': 444,\n",
       " 'dont': 445,\n",
       " 'boys': 446,\n",
       " 'eat': 447,\n",
       " 'lot': 448,\n",
       " 'literally': 449,\n",
       " 'high': 450,\n",
       " 'nov': 451,\n",
       " 'yeah': 452,\n",
       " 'gain': 453,\n",
       " 'body': 454,\n",
       " 'hour': 455,\n",
       " 'reach': 456,\n",
       " 'mood': 457,\n",
       " '“': 458,\n",
       " 'a…': 459,\n",
       " 'instagram': 460,\n",
       " 'forever': 461,\n",
       " 'makes': 462,\n",
       " 'until': 463,\n",
       " 'giving': 464,\n",
       " 'tho': 465,\n",
       " 'both': 466,\n",
       " 'o': 467,\n",
       " \"that's\": 468,\n",
       " 'ok': 469,\n",
       " 'fast': 470,\n",
       " 'weekend': 471,\n",
       " 'stream': 472,\n",
       " 'playing': 473,\n",
       " 'anything': 474,\n",
       " 'applemusic': 475,\n",
       " 'lay': 476,\n",
       " 'special': 477,\n",
       " 'yet': 478,\n",
       " 'read': 479,\n",
       " 'haven’t': 480,\n",
       " 'jungkook': 481,\n",
       " 'hours': 482,\n",
       " 'cast': 483,\n",
       " 'without': 484,\n",
       " 'story': 485,\n",
       " 'v': 486,\n",
       " 'bless': 487,\n",
       " 'heisman': 488,\n",
       " 'came': 489,\n",
       " 'which': 490,\n",
       " 'care': 491,\n",
       " 'fake': 492,\n",
       " 'dead': 493,\n",
       " 'lt': 494,\n",
       " 'says': 495,\n",
       " 'job': 496,\n",
       " 'head': 497,\n",
       " 'tour': 498,\n",
       " 'r': 499,\n",
       " '12': 500,\n",
       " '30': 501,\n",
       " 'ig': 502,\n",
       " 'found': 503,\n",
       " 'mr': 504,\n",
       " 'waiting': 505,\n",
       " 'mom': 506,\n",
       " 'super': 507,\n",
       " 'sweet': 508,\n",
       " 'congrats': 509,\n",
       " 'though': 510,\n",
       " 'talking': 511,\n",
       " 'buy': 512,\n",
       " 'pls': 513,\n",
       " 'told': 514,\n",
       " 'yg': 515,\n",
       " 'might': 516,\n",
       " 'views': 517,\n",
       " 'gets': 518,\n",
       " 'yall': 519,\n",
       " 'crazy': 520,\n",
       " 'luck': 521,\n",
       " 'jimin': 522,\n",
       " 'dm': 523,\n",
       " 'sarkar': 524,\n",
       " 'videos': 525,\n",
       " 'cousin': 526,\n",
       " 'lord': 527,\n",
       " 'yourself': 528,\n",
       " 'kst': 529,\n",
       " 'na': 530,\n",
       " 'hi': 531,\n",
       " 'movie': 532,\n",
       " 'wrong': 533,\n",
       " 'g': 534,\n",
       " 'walk': 535,\n",
       " 'called': 536,\n",
       " 'la': 537,\n",
       " \"i'll\": 538,\n",
       " 'ikon': 539,\n",
       " 'feeling': 540,\n",
       " 'saying': 541,\n",
       " '8': 542,\n",
       " 'wild': 543,\n",
       " 'queen': 544,\n",
       " 'once': 545,\n",
       " 'king': 546,\n",
       " 'hell': 547,\n",
       " 'camila': 548,\n",
       " 'few': 549,\n",
       " 'phone': 550,\n",
       " 'cry': 551,\n",
       " 'rock': 552,\n",
       " 'alone': 553,\n",
       " 'sending': 554,\n",
       " 'dance': 555,\n",
       " 'cant': 556,\n",
       " '000': 557,\n",
       " 'pass': 558,\n",
       " 'player': 559,\n",
       " 'sign': 560,\n",
       " 'open': 561,\n",
       " 'president': 562,\n",
       " 'class': 563,\n",
       " 'joeysofficial': 564,\n",
       " 'release': 565,\n",
       " 'ykotdvmfov': 566,\n",
       " 'realdonaldtrump': 567,\n",
       " 'pic': 568,\n",
       " 'enjoy': 569,\n",
       " 'meet': 570,\n",
       " '9': 571,\n",
       " 'took': 572,\n",
       " 'ago': 573,\n",
       " 'photo': 574,\n",
       " 'line': 575,\n",
       " 'catch': 576,\n",
       " 'brother': 577,\n",
       " 'during': 578,\n",
       " 'second': 579,\n",
       " '\\u2060': 580,\n",
       " 'hello': 581,\n",
       " 'tag': 582,\n",
       " 'point': 583,\n",
       " 'join': 584,\n",
       " 'send': 585,\n",
       " 'seeing': 586,\n",
       " 'college': 587,\n",
       " 'used': 588,\n",
       " 'working': 589,\n",
       " 'somebody': 590,\n",
       " 'cabello': 591,\n",
       " 'e': 592,\n",
       " 'turn': 593,\n",
       " 'food': 594,\n",
       " 'perfect': 595,\n",
       " \"he's\": 596,\n",
       " 'anothercollab': 597,\n",
       " 'nlwzyv1ghd': 598,\n",
       " 'chance': 599,\n",
       " 'l': 600,\n",
       " 'truly': 601,\n",
       " 'drop': 602,\n",
       " 'month': 603,\n",
       " 'h…': 604,\n",
       " 'winning': 605,\n",
       " 'click': 606,\n",
       " 'son': 607,\n",
       " 'tweets': 608,\n",
       " 'place': 609,\n",
       " 'order': 610,\n",
       " 'lost': 611,\n",
       " 'surprised': 612,\n",
       " 'bring': 613,\n",
       " 'soul': 614,\n",
       " 'picture': 615,\n",
       " 'early': 616,\n",
       " 'asapnaans': 617,\n",
       " 'drwwqvkitn': 618,\n",
       " 'wanted': 619,\n",
       " 'women': 620,\n",
       " 'started': 621,\n",
       " 'won': 622,\n",
       " 'set': 623,\n",
       " 'deserves': 624,\n",
       " 'million': 625,\n",
       " 'leave': 626,\n",
       " '2018mama': 627,\n",
       " 'stan': 628,\n",
       " 'move': 629,\n",
       " '0': 630,\n",
       " 'reply': 631,\n",
       " '1st': 632,\n",
       " 'rest': 633,\n",
       " 'sent': 634,\n",
       " 'sad': 635,\n",
       " 'sex': 636,\n",
       " 'city': 637,\n",
       " 'we’re': 638,\n",
       " 'friday': 639,\n",
       " 'nobody': 640,\n",
       " 'wanting': 641,\n",
       " 'tired': 642,\n",
       " 'nba': 643,\n",
       " 'eyes': 644,\n",
       " 'account': 645,\n",
       " 'works': 646,\n",
       " 'james': 647,\n",
       " 'social': 648,\n",
       " 'dear': 649,\n",
       " 'precious': 650,\n",
       " 'men': 651,\n",
       " 'change': 652,\n",
       " 'btsvotingteam': 653,\n",
       " 'maybe': 654,\n",
       " 'zhang': 655,\n",
       " 'white': 656,\n",
       " 'nct': 657,\n",
       " 'rn': 658,\n",
       " 'everybody': 659,\n",
       " 'grwectrdov': 660,\n",
       " 'enough': 661,\n",
       " 'spotify': 662,\n",
       " 'dad': 663,\n",
       " 'blackpink': 664,\n",
       " \"i've\": 665,\n",
       " 'mess': 666,\n",
       " 'almost': 667,\n",
       " 'sis': 668,\n",
       " 'final': 669,\n",
       " 'cut': 670,\n",
       " 'thread': 671,\n",
       " 'gave': 672,\n",
       " 'under': 673,\n",
       " 'episode': 674,\n",
       " 'taking': 675,\n",
       " 'performance': 676,\n",
       " 'skin': 677,\n",
       " 'award': 678,\n",
       " 'save': 679,\n",
       " 'uhmqo5l8lq': 680,\n",
       " 'ut9famwdph': 681,\n",
       " 'twice': 682,\n",
       " '17': 683,\n",
       " 'winner': 684,\n",
       " 'needs': 685,\n",
       " 'sunday': 686,\n",
       " 'awesome': 687,\n",
       " 'heard': 688,\n",
       " 'woman': 689,\n",
       " 'co…': 690,\n",
       " 'probably': 691,\n",
       " 'country': 692,\n",
       " 'tae': 693,\n",
       " 'cool': 694,\n",
       " 'streaming': 695,\n",
       " 'half': 696,\n",
       " 'young': 697,\n",
       " 'she’s': 698,\n",
       " 'loved': 699,\n",
       " 'anniversary': 700,\n",
       " 'awards': 701,\n",
       " 'later': 702,\n",
       " 'waste': 703,\n",
       " 'melon': 704,\n",
       " 'here’s': 705,\n",
       " 'absolutely': 706,\n",
       " 'htt…': 707,\n",
       " 'imagine': 708,\n",
       " 'blessed': 709,\n",
       " 'bout': 710,\n",
       " '181104': 711,\n",
       " 'date': 712,\n",
       " 'mentions': 713,\n",
       " 'you’ll': 714,\n",
       " 'th': 715,\n",
       " 'run': 716,\n",
       " 'biggest': 717,\n",
       " 'thinking': 718,\n",
       " 'link': 719,\n",
       " 'star': 720,\n",
       " 'dude': 721,\n",
       " 'mark': 722,\n",
       " 'fire': 723,\n",
       " 'app': 724,\n",
       " 'got7': 725,\n",
       " 'died': 726,\n",
       " '♡': 727,\n",
       " 'less': 728,\n",
       " 'dream': 729,\n",
       " 'far': 730,\n",
       " 'fine': 731,\n",
       " 'behind': 732,\n",
       " 'enter': 733,\n",
       " 'words': 734,\n",
       " 'tryna': 735,\n",
       " 'sometimes': 736,\n",
       " 'mamavote': 737,\n",
       " 'jump': 738,\n",
       " 'honestly': 739,\n",
       " 'kind': 740,\n",
       " 'vs': 741,\n",
       " 'felt': 742,\n",
       " 'photos': 743,\n",
       " 'missed': 744,\n",
       " 'cr': 745,\n",
       " 'close': 746,\n",
       " 'safe': 747,\n",
       " 'deserve': 748,\n",
       " 'straight': 749,\n",
       " 'scene': 750,\n",
       " '🇺🇸': 751,\n",
       " 'tickets': 752,\n",
       " 'art': 753,\n",
       " 'https…': 754,\n",
       " 'months': 755,\n",
       " '18': 756,\n",
       " 'definitely': 757,\n",
       " 'quick': 758,\n",
       " 'attention': 759,\n",
       " 'monday': 760,\n",
       " 'jacksonwang852': 761,\n",
       " 'word': 762,\n",
       " 'pics': 763,\n",
       " 'swear': 764,\n",
       " 'mama': 765,\n",
       " 'forgot': 766,\n",
       " 'type': 767,\n",
       " 'laugh': 768,\n",
       " '24': 769,\n",
       " 'goal': 770,\n",
       " 'games': 771,\n",
       " 'mine': 772,\n",
       " 'grateful': 773,\n",
       " \"didn't\": 774,\n",
       " 'jacksonwang': 775,\n",
       " 'strong': 776,\n",
       " 'sir': 777,\n",
       " 'voice': 778,\n",
       " 'comes': 779,\n",
       " 'car': 780,\n",
       " 'clear': 781,\n",
       " 'concert': 782,\n",
       " 'stuff': 783,\n",
       " 'idk': 784,\n",
       " 'deaf': 785,\n",
       " 'hurt': 786,\n",
       " 'gorgeous': 787,\n",
       " 'goals': 788,\n",
       " 'relationship': 789,\n",
       " 'bitches': 790,\n",
       " 'bruh': 791,\n",
       " '잭슨': 792,\n",
       " 'timeline': 793,\n",
       " 'learned': 794,\n",
       " '“i': 795,\n",
       " '🏼🏼': 796,\n",
       " 'fight': 797,\n",
       " 'ballot': 798,\n",
       " 'saturday': 799,\n",
       " 'sister': 800,\n",
       " 'break': 801,\n",
       " 'mention': 802,\n",
       " 'calling': 803,\n",
       " 'understand': 804,\n",
       " 'lovely': 805,\n",
       " 'feels': 806,\n",
       " 'rts': 807,\n",
       " 'fighting': 808,\n",
       " 'bed': 809,\n",
       " 'lady': 810,\n",
       " 'act': 811,\n",
       " 'won’t': 812,\n",
       " 'late': 813,\n",
       " 'http…': 814,\n",
       " 'dumb': 815,\n",
       " 'comment': 816,\n",
       " 'couple': 817,\n",
       " 'fall': 818,\n",
       " 'aoki': 819,\n",
       " 'glad': 820,\n",
       " 'choice': 821,\n",
       " 'loves': 822,\n",
       " 'boss': 823,\n",
       " 'brain': 824,\n",
       " 'mv': 825,\n",
       " 'number': 826,\n",
       " 'side': 827,\n",
       " 'mtvemabiggestfansbts': 828,\n",
       " 'means': 829,\n",
       " 'christmas': 830,\n",
       " 'laughing': 831,\n",
       " 'lose': 832,\n",
       " 'dick': 833,\n",
       " 'till': 834,\n",
       " 'thankful': 835,\n",
       " 'sexy': 836,\n",
       " 'j': 837,\n",
       " 'armys': 838,\n",
       " 'yesterday': 839,\n",
       " 'knew': 840,\n",
       " \"y'all\": 841,\n",
       " '王嘉爾': 842,\n",
       " 'dontmessupmytempo': 843,\n",
       " 'c': 844,\n",
       " 'artist': 845,\n",
       " 'business': 846,\n",
       " \"doesn't\": 847,\n",
       " 'everyday': 848,\n",
       " 'self': 849,\n",
       " 'history': 850,\n",
       " 'jus': 851,\n",
       " 'blue': 852,\n",
       " 'wasn’t': 853,\n",
       " 'explain': 854,\n",
       " 'continue': 855,\n",
       " 'alert': 856,\n",
       " 'ht…': 857,\n",
       " 'knows': 858,\n",
       " 'important': 859,\n",
       " 'differentgame': 860,\n",
       " 'af': 861,\n",
       " 'energy': 862,\n",
       " 'teamwang': 863,\n",
       " '15': 864,\n",
       " 'songs': 865,\n",
       " 'rm': 866,\n",
       " 'female': 867,\n",
       " 'worth': 868,\n",
       " 'stage': 869,\n",
       " 'teaser': 870,\n",
       " 'guccimane': 871,\n",
       " 'facts': 872,\n",
       " 'normal': 873,\n",
       " 'nov7': 874,\n",
       " 'reason': 875,\n",
       " 'daddy': 876,\n",
       " 'cutest': 877,\n",
       " 'male': 878,\n",
       " 'against': 879,\n",
       " 'three': 880,\n",
       " 'loving': 881,\n",
       " 'seventeen': 882,\n",
       " 'pick': 883,\n",
       " 'minutes': 884,\n",
       " 'greencobos': 885,\n",
       " 'akebihw9hc': 886,\n",
       " 'asked': 887,\n",
       " 'power': 888,\n",
       " 'broke': 889,\n",
       " 'between': 890,\n",
       " 'rose': 891,\n",
       " 'hand': 892,\n",
       " 'obama': 893,\n",
       " 'nah': 894,\n",
       " 'iam': 895,\n",
       " 'sale': 896,\n",
       " 'exactly': 897,\n",
       " 'kill': 898,\n",
       " 'tried': 899,\n",
       " 'message': 900,\n",
       " 'deal': 901,\n",
       " 'room': 902,\n",
       " '13': 903,\n",
       " 'lucky': 904,\n",
       " 'pay': 905,\n",
       " 'singing': 906,\n",
       " 'tiktok': 907,\n",
       " 'celebrate': 908,\n",
       " 'wonder': 909,\n",
       " 'death': 910,\n",
       " 'incredible': 911,\n",
       " 'october': 912,\n",
       " 'hearing': 913,\n",
       " 'mac': 914,\n",
       " 'facebook': 915,\n",
       " 'case': 916,\n",
       " 'kindergarteners': 917,\n",
       " '“happy': 918,\n",
       " 'trust': 919,\n",
       " 'media': 920,\n",
       " 'shows': 921,\n",
       " 'nissanusa': 922,\n",
       " 'growth': 923,\n",
       " '방탄소년단': 924,\n",
       " 'there’s': 925,\n",
       " 'future': 926,\n",
       " 'hold': 927,\n",
       " 'beauty': 928,\n",
       " 'custodian': 929,\n",
       " \"'\": 930,\n",
       " 'nyledimarco': 931,\n",
       " 'ikonic': 932,\n",
       " 'wearing': 933,\n",
       " 'twitters': 934,\n",
       " 'sudden': 935,\n",
       " 'birthday”': 936,\n",
       " '181105': 937,\n",
       " 'global': 938,\n",
       " 'wtf': 939,\n",
       " 'what’s': 940,\n",
       " 'feelings': 941,\n",
       " 'who’s': 942,\n",
       " '6pm': 943,\n",
       " 'bit': 944,\n",
       " 'jin': 945,\n",
       " 'needed': 946,\n",
       " 'appreciate': 947,\n",
       " 'goodnight': 948,\n",
       " 'available': 949,\n",
       " 'past': 950,\n",
       " 'haha': 951,\n",
       " 'hef': 952,\n",
       " '0kkvztebqw': 953,\n",
       " 'with…': 954,\n",
       " 'pussy': 955,\n",
       " 'shot': 956,\n",
       " 'stand': 957,\n",
       " 'least': 958,\n",
       " 'angel': 959,\n",
       " 'ones': 960,\n",
       " 'missing': 961,\n",
       " 'using': 962,\n",
       " 'democrats': 963,\n",
       " 'telling': 964,\n",
       " 'i…': 965,\n",
       " 'beat': 966,\n",
       " 'club': 967,\n",
       " 'ariana': 968,\n",
       " 'lie': 969,\n",
       " '2019': 970,\n",
       " 'pre': 971,\n",
       " 'tl': 972,\n",
       " 'pictures': 973,\n",
       " 'league': 974,\n",
       " 'kid': 975,\n",
       " 'ft': 976,\n",
       " 'event': 977,\n",
       " 'lets': 978,\n",
       " 's…': 979,\n",
       " 'da': 980,\n",
       " '25': 981,\n",
       " 'book': 982,\n",
       " 'bet': 983,\n",
       " 'shawnmendes': 984,\n",
       " 'breaking': 985,\n",
       " 'th…': 986,\n",
       " 'taehyung': 987,\n",
       " 'living': 988,\n",
       " 'drip': 989,\n",
       " 'trending': 990,\n",
       " \"won't\": 991,\n",
       " 'p': 992,\n",
       " 'debut': 993,\n",
       " 'pray': 994,\n",
       " 'namanana': 995,\n",
       " 'happened': 996,\n",
       " 'jennie': 997,\n",
       " 'ppl': 998,\n",
       " 'die': 999,\n",
       " 'hilarious': 1000,\n",
       " ...}"
      ]
     },
     "execution_count": 267,
     "metadata": {},
     "output_type": "execute_result"
    }
   ],
   "source": [
    "tokenizer.word_index"
   ]
  },
  {
   "cell_type": "markdown",
   "metadata": {},
   "source": [
    "# A linear classifier\n",
    "\n",
    "As a performance baseline for more complex models, it's instructive to see how well we can do with just a linear classifier with no hidden layer. With 64 hidden units trained on 10,000 training examples, we're able to get up to about 38% accuracy on the validation set. A lower learning rate slows down the learning (although it's still very fast) but doesn't appear to do any better in terms of final accuracy before the model starts overfitting. "
   ]
  },
  {
   "cell_type": "code",
   "execution_count": 268,
   "metadata": {},
   "outputs": [
    {
     "data": {
      "text/plain": [
       "(20000, 112)"
      ]
     },
     "execution_count": 268,
     "metadata": {},
     "output_type": "execute_result"
    }
   ],
   "source": [
    "y_dev_idx.shape"
   ]
  },
  {
   "cell_type": "code",
   "execution_count": 271,
   "metadata": {},
   "outputs": [
    {
     "name": "stdout",
     "output_type": "stream",
     "text": [
      "Train on 400000 samples, validate on 20000 samples\n",
      "Epoch 1/20\n",
      " - 8s - loss: 3.8133 - acc: 0.2778 - top_k_categorical_accuracy: 0.4964 - val_loss: 3.4997 - val_acc: 0.3081 - val_top_k_categorical_accuracy: 0.5225\n",
      "Epoch 2/20\n",
      " - 7s - loss: 3.1411 - acc: 0.3623 - top_k_categorical_accuracy: 0.5888 - val_loss: 3.1989 - val_acc: 0.3453 - val_top_k_categorical_accuracy: 0.5600\n",
      "Epoch 3/20\n",
      " - 7s - loss: 2.8132 - acc: 0.4018 - top_k_categorical_accuracy: 0.6345 - val_loss: 3.0290 - val_acc: 0.3665 - val_top_k_categorical_accuracy: 0.5814\n",
      "Epoch 4/20\n",
      " - 7s - loss: 2.5948 - acc: 0.4282 - top_k_categorical_accuracy: 0.6631 - val_loss: 2.9229 - val_acc: 0.3781 - val_top_k_categorical_accuracy: 0.5928\n",
      "Epoch 5/20\n",
      " - 7s - loss: 2.4378 - acc: 0.4478 - top_k_categorical_accuracy: 0.6821 - val_loss: 2.8545 - val_acc: 0.3850 - val_top_k_categorical_accuracy: 0.6017\n",
      "Epoch 6/20\n",
      " - 7s - loss: 2.3213 - acc: 0.4627 - top_k_categorical_accuracy: 0.6971 - val_loss: 2.8146 - val_acc: 0.3937 - val_top_k_categorical_accuracy: 0.6081\n",
      "Epoch 7/20\n",
      " - 7s - loss: 2.2341 - acc: 0.4738 - top_k_categorical_accuracy: 0.7078 - val_loss: 2.7945 - val_acc: 0.3958 - val_top_k_categorical_accuracy: 0.6127\n",
      "Epoch 8/20\n",
      " - 7s - loss: 2.1680 - acc: 0.4818 - top_k_categorical_accuracy: 0.7161 - val_loss: 2.7909 - val_acc: 0.3979 - val_top_k_categorical_accuracy: 0.6133\n",
      "Epoch 9/20\n",
      " - 7s - loss: 2.1172 - acc: 0.4882 - top_k_categorical_accuracy: 0.7224 - val_loss: 2.7928 - val_acc: 0.3994 - val_top_k_categorical_accuracy: 0.6146\n",
      "Epoch 10/20\n",
      " - 7s - loss: 2.0772 - acc: 0.4936 - top_k_categorical_accuracy: 0.7275 - val_loss: 2.8021 - val_acc: 0.4020 - val_top_k_categorical_accuracy: 0.6147\n",
      "Epoch 11/20\n",
      " - 7s - loss: 2.0449 - acc: 0.4984 - top_k_categorical_accuracy: 0.7320 - val_loss: 2.8145 - val_acc: 0.4042 - val_top_k_categorical_accuracy: 0.6160\n",
      "Epoch 12/20\n",
      " - 7s - loss: 2.0180 - acc: 0.5035 - top_k_categorical_accuracy: 0.7354 - val_loss: 2.8299 - val_acc: 0.4040 - val_top_k_categorical_accuracy: 0.6150\n",
      "Epoch 13/20\n",
      " - 7s - loss: 1.9954 - acc: 0.5070 - top_k_categorical_accuracy: 0.7385 - val_loss: 2.8472 - val_acc: 0.4042 - val_top_k_categorical_accuracy: 0.6144\n",
      "Epoch 14/20\n",
      " - 7s - loss: 1.9759 - acc: 0.5099 - top_k_categorical_accuracy: 0.7408 - val_loss: 2.8634 - val_acc: 0.4037 - val_top_k_categorical_accuracy: 0.6144\n",
      "Epoch 15/20\n",
      " - 7s - loss: 1.9593 - acc: 0.5124 - top_k_categorical_accuracy: 0.7432 - val_loss: 2.8834 - val_acc: 0.4053 - val_top_k_categorical_accuracy: 0.6136\n",
      "Epoch 16/20\n",
      " - 7s - loss: 1.9446 - acc: 0.5149 - top_k_categorical_accuracy: 0.7455 - val_loss: 2.9013 - val_acc: 0.4063 - val_top_k_categorical_accuracy: 0.6128\n",
      "Epoch 17/20\n",
      " - 7s - loss: 1.9319 - acc: 0.5172 - top_k_categorical_accuracy: 0.7472 - val_loss: 2.9200 - val_acc: 0.4068 - val_top_k_categorical_accuracy: 0.6132\n",
      "Epoch 18/20\n",
      " - 7s - loss: 1.9204 - acc: 0.5187 - top_k_categorical_accuracy: 0.7487 - val_loss: 2.9394 - val_acc: 0.4058 - val_top_k_categorical_accuracy: 0.6143\n",
      "Epoch 19/20\n",
      " - 7s - loss: 1.9102 - acc: 0.5203 - top_k_categorical_accuracy: 0.7502 - val_loss: 2.9577 - val_acc: 0.4080 - val_top_k_categorical_accuracy: 0.6135\n",
      "Epoch 20/20\n",
      " - 7s - loss: 1.9010 - acc: 0.5219 - top_k_categorical_accuracy: 0.7518 - val_loss: 2.9753 - val_acc: 0.4074 - val_top_k_categorical_accuracy: 0.6132\n"
     ]
    }
   ],
   "source": [
    "output_size = y_dev_idx.shape[1] # around 64 units for 10,000 tweets\n",
    "\n",
    "model = Sequential()\n",
    "model.add(Dense(output_size, activation='softmax', input_shape=(num_words,))) \n",
    "model.compile(optimizer=optimizers.RMSprop(lr = 0.005),\n",
    "              loss='categorical_crossentropy',\n",
    "              metrics=['accuracy', 'top_k_categorical_accuracy'])\n",
    "\n",
    "history = model.fit (x_train_one_hot, y_train_idx,\n",
    "                    epochs = 20,\n",
    "                    batch_size = 8192,\n",
    "                    validation_data = (x_dev_one_hot, y_dev_idx),\n",
    "                    verbose=2)"
   ]
  },
  {
   "cell_type": "code",
   "execution_count": 272,
   "metadata": {},
   "outputs": [],
   "source": [
    "import matplotlib.pyplot as plt\n",
    "\n",
    "def plot_train_history(history): \n",
    "\n",
    "    acc = history.history['acc']\n",
    "    val_acc = history.history['val_acc']\n",
    "    loss = history.history['loss']\n",
    "    val_loss = history.history['val_loss']\n",
    "\n",
    "    epochs = range(1, len(acc) + 1)\n",
    "\n",
    "    plt.plot (epochs, acc, 'bo', label='Training acc')\n",
    "    plt.plot (epochs, val_acc, 'b', label='Validation acc')\n",
    "    plt.title ('Training and validation accuracy')\n",
    "    plt.legend()\n",
    "\n",
    "    plt.figure()\n",
    "\n",
    "    plt.plot(epochs, loss, 'bo', label = 'Training loss')\n",
    "    plt.plot(epochs, val_loss, 'b', label = 'Validation loss')\n",
    "    plt.title('Training and validation loss')\n",
    "    plt.legend()\n",
    "\n",
    "    plt.show()"
   ]
  },
  {
   "cell_type": "code",
   "execution_count": 273,
   "metadata": {},
   "outputs": [
    {
     "name": "stdout",
     "output_type": "stream",
     "text": [
      "best validation accuracy:  0.4080000009059906\n"
     ]
    },
    {
     "data": {
      "image/png": "[encoded data removed]",
      "text/plain": [
       "<Figure size 432x288 with 1 Axes>"
      ]
     },
     "metadata": {
      "needs_background": "light"
     },
     "output_type": "display_data"
    },
    {
     "data": {
      "image/png": "[encoded data removed]",
      "text/plain": [
       "<Figure size 432x288 with 1 Axes>"
      ]
     },
     "metadata": {
      "needs_background": "light"
     },
     "output_type": "display_data"
    }
   ],
   "source": [
    "print (\"best validation accuracy: \", max(history.history['val_acc']))\n",
    "plot_train_history(history)"
   ]
  },
  {
   "cell_type": "markdown",
   "metadata": {},
   "source": [
    "# Shallow neural network\n",
    "A simple shallow neural network with a layer of hidden units\n",
    "\n",
    "128 hidden units gets us up to 39% accuracy"
   ]
  },
  {
   "cell_type": "code",
   "execution_count": 277,
   "metadata": {},
   "outputs": [
    {
     "name": "stdout",
     "output_type": "stream",
     "text": [
      "Train on 400000 samples, validate on 20000 samples\n",
      "Epoch 1/30\n",
      "400000/400000 [==============================] - 8s 19us/step - loss: 3.7586 - acc: 0.2814 - top_k_categorical_accuracy: 0.4606 - val_loss: 3.3788 - val_acc: 0.3152 - val_top_k_categorical_accuracy: 0.5064\n",
      "Epoch 2/30\n",
      "400000/400000 [==============================] - 6s 16us/step - loss: 2.9719 - acc: 0.3751 - top_k_categorical_accuracy: 0.5717 - val_loss: 2.9438 - val_acc: 0.3551 - val_top_k_categorical_accuracy: 0.5643\n",
      "Epoch 3/30\n",
      "400000/400000 [==============================] - 6s 16us/step - loss: 2.6519 - acc: 0.4108 - top_k_categorical_accuracy: 0.6217 - val_loss: 2.7782 - val_acc: 0.3697 - val_top_k_categorical_accuracy: 0.5898\n",
      "Epoch 4/30\n",
      "400000/400000 [==============================] - 6s 16us/step - loss: 2.5031 - acc: 0.4334 - top_k_categorical_accuracy: 0.6457 - val_loss: 2.7145 - val_acc: 0.3810 - val_top_k_categorical_accuracy: 0.5990\n",
      "Epoch 5/30\n",
      "400000/400000 [==============================] - 6s 16us/step - loss: 2.4138 - acc: 0.4485 - top_k_categorical_accuracy: 0.6600 - val_loss: 2.6861 - val_acc: 0.3866 - val_top_k_categorical_accuracy: 0.6055\n",
      "Epoch 6/30\n",
      "400000/400000 [==============================] - 6s 16us/step - loss: 2.3511 - acc: 0.4589 - top_k_categorical_accuracy: 0.6711 - val_loss: 2.6652 - val_acc: 0.3889 - val_top_k_categorical_accuracy: 0.6090\n",
      "Epoch 7/30\n",
      "400000/400000 [==============================] - 6s 16us/step - loss: 2.3026 - acc: 0.4672 - top_k_categorical_accuracy: 0.6797 - val_loss: 2.6548 - val_acc: 0.3950 - val_top_k_categorical_accuracy: 0.6117\n",
      "Epoch 8/30\n",
      "400000/400000 [==============================] - 6s 16us/step - loss: 2.2628 - acc: 0.4746 - top_k_categorical_accuracy: 0.6862 - val_loss: 2.6542 - val_acc: 0.3970 - val_top_k_categorical_accuracy: 0.6143\n",
      "Epoch 9/30\n",
      "400000/400000 [==============================] - 6s 16us/step - loss: 2.2289 - acc: 0.4801 - top_k_categorical_accuracy: 0.6918 - val_loss: 2.6540 - val_acc: 0.4001 - val_top_k_categorical_accuracy: 0.6166\n",
      "Epoch 10/30\n",
      "400000/400000 [==============================] - 6s 16us/step - loss: 2.1992 - acc: 0.4856 - top_k_categorical_accuracy: 0.6970 - val_loss: 2.6465 - val_acc: 0.4033 - val_top_k_categorical_accuracy: 0.6177\n",
      "Epoch 11/30\n",
      "400000/400000 [==============================] - 6s 16us/step - loss: 2.1725 - acc: 0.4902 - top_k_categorical_accuracy: 0.7015 - val_loss: 2.6533 - val_acc: 0.4042 - val_top_k_categorical_accuracy: 0.6157\n",
      "Epoch 12/30\n",
      "400000/400000 [==============================] - 6s 16us/step - loss: 2.1483 - acc: 0.4942 - top_k_categorical_accuracy: 0.7058 - val_loss: 2.6593 - val_acc: 0.4060 - val_top_k_categorical_accuracy: 0.6175\n",
      "Epoch 00012: early stopping\n"
     ]
    },
    {
     "data": {
      "image/png": "[encoded data removed]",
      "text/plain": [
       "<Figure size 432x288 with 1 Axes>"
      ]
     },
     "metadata": {
      "needs_background": "light"
     },
     "output_type": "display_data"
    },
    {
     "data": {
      "image/png": "[encoded data removed]",
      "text/plain": [
       "<Figure size 432x288 with 1 Axes>"
      ]
     },
     "metadata": {
      "needs_background": "light"
     },
     "output_type": "display_data"
    },
    {
     "name": "stdout",
     "output_type": "stream",
     "text": [
      "best validation accuracy:  0.4060000012397766\n"
     ]
    }
   ],
   "source": [
    "n_output_classes = y_dev_idx.shape[1]\n",
    "\n",
    "model = Sequential()\n",
    "model.add(Dense(128, activation='relu', input_shape=(num_words,)))\n",
    "model.add(Dense(n_output_classes, activation = 'softmax'))\n",
    "model.compile(optimizer = 'rmsprop',\n",
    "              loss='categorical_crossentropy',\n",
    "              metrics=['accuracy', 'top_k_categorical_accuracy'])\n",
    "\n",
    "early = keras.callbacks.EarlyStopping(monitor='val_loss',\n",
    "                              min_delta=0.01,\n",
    "                              patience=5,\n",
    "                              verbose=1, mode='auto')\n",
    "\n",
    "history = model.fit (x_train_one_hot, y_train_idx,\n",
    "                    epochs = 30,\n",
    "                    batch_size = 4096,\n",
    "                    verbose=1,\n",
    "                    validation_data = (x_dev_one_hot, y_dev_idx),\n",
    "                    callbacks = [early])\n",
    "\n",
    "plot_train_history(history)\n",
    "print (\"best validation accuracy: \", max(history.history['val_acc']))"
   ]
  },
  {
   "cell_type": "markdown",
   "metadata": {},
   "source": [
    "# Two layers of hidden units\n",
    "A slight improvement over one layer of hidden units (<1%)"
   ]
  },
  {
   "cell_type": "code",
   "execution_count": 282,
   "metadata": {},
   "outputs": [
    {
     "name": "stdout",
     "output_type": "stream",
     "text": [
      "Train on 400000 samples, validate on 20000 samples\n",
      "Epoch 1/30\n",
      "400000/400000 [==============================] - 9s 24us/step - loss: 3.7312 - acc: 0.2894 - top_k_categorical_accuracy: 0.4844 - val_loss: 3.3255 - val_acc: 0.3253 - val_top_k_categorical_accuracy: 0.5312\n",
      "Epoch 2/30\n",
      "400000/400000 [==============================] - 8s 20us/step - loss: 2.9927 - acc: 0.3870 - top_k_categorical_accuracy: 0.5946 - val_loss: 3.0547 - val_acc: 0.3564 - val_top_k_categorical_accuracy: 0.5766\n",
      "Epoch 3/30\n",
      "400000/400000 [==============================] - 8s 20us/step - loss: 2.7913 - acc: 0.4117 - top_k_categorical_accuracy: 0.6224 - val_loss: 2.9577 - val_acc: 0.3718 - val_top_k_categorical_accuracy: 0.5873\n",
      "Epoch 4/30\n",
      "400000/400000 [==============================] - 8s 20us/step - loss: 2.6826 - acc: 0.4264 - top_k_categorical_accuracy: 0.6359 - val_loss: 2.8968 - val_acc: 0.3771 - val_top_k_categorical_accuracy: 0.5949\n",
      "Epoch 5/30\n",
      "400000/400000 [==============================] - 8s 20us/step - loss: 2.6080 - acc: 0.4379 - top_k_categorical_accuracy: 0.6465 - val_loss: 2.8781 - val_acc: 0.3783 - val_top_k_categorical_accuracy: 0.5984\n",
      "Epoch 6/30\n",
      "400000/400000 [==============================] - 8s 20us/step - loss: 2.5518 - acc: 0.4458 - top_k_categorical_accuracy: 0.6539 - val_loss: 2.8656 - val_acc: 0.3841 - val_top_k_categorical_accuracy: 0.6001\n",
      "Epoch 7/30\n",
      "400000/400000 [==============================] - 8s 20us/step - loss: 2.5056 - acc: 0.4530 - top_k_categorical_accuracy: 0.6610 - val_loss: 2.8438 - val_acc: 0.3868 - val_top_k_categorical_accuracy: 0.6027\n",
      "Epoch 8/30\n",
      "400000/400000 [==============================] - 8s 20us/step - loss: 2.4659 - acc: 0.4596 - top_k_categorical_accuracy: 0.6669 - val_loss: 2.8171 - val_acc: 0.3915 - val_top_k_categorical_accuracy: 0.6026\n",
      "Epoch 9/30\n",
      "400000/400000 [==============================] - 8s 20us/step - loss: 2.4324 - acc: 0.4657 - top_k_categorical_accuracy: 0.6721 - val_loss: 2.7898 - val_acc: 0.3954 - val_top_k_categorical_accuracy: 0.6085\n",
      "Epoch 10/30\n",
      "400000/400000 [==============================] - 8s 20us/step - loss: 2.4017 - acc: 0.4710 - top_k_categorical_accuracy: 0.6771 - val_loss: 2.8082 - val_acc: 0.3943 - val_top_k_categorical_accuracy: 0.6055\n",
      "Epoch 11/30\n",
      "400000/400000 [==============================] - 8s 20us/step - loss: 2.3731 - acc: 0.4756 - top_k_categorical_accuracy: 0.6815 - val_loss: 2.7776 - val_acc: 0.4016 - val_top_k_categorical_accuracy: 0.6098\n",
      "Epoch 12/30\n",
      "400000/400000 [==============================] - 8s 20us/step - loss: 2.3478 - acc: 0.4803 - top_k_categorical_accuracy: 0.6859 - val_loss: 2.7854 - val_acc: 0.4017 - val_top_k_categorical_accuracy: 0.6116\n",
      "Epoch 13/30\n",
      "400000/400000 [==============================] - 8s 20us/step - loss: 2.3233 - acc: 0.4845 - top_k_categorical_accuracy: 0.6904 - val_loss: 2.7943 - val_acc: 0.4059 - val_top_k_categorical_accuracy: 0.6084\n",
      "Epoch 14/30\n",
      "400000/400000 [==============================] - 8s 20us/step - loss: 2.3005 - acc: 0.4889 - top_k_categorical_accuracy: 0.6940 - val_loss: 2.8015 - val_acc: 0.4016 - val_top_k_categorical_accuracy: 0.6083\n",
      "Epoch 15/30\n",
      "400000/400000 [==============================] - 8s 20us/step - loss: 2.2786 - acc: 0.4929 - top_k_categorical_accuracy: 0.6980 - val_loss: 2.8037 - val_acc: 0.4018 - val_top_k_categorical_accuracy: 0.6103\n",
      "Epoch 16/30\n",
      "400000/400000 [==============================] - 8s 20us/step - loss: 2.2577 - acc: 0.4966 - top_k_categorical_accuracy: 0.7021 - val_loss: 2.8030 - val_acc: 0.4035 - val_top_k_categorical_accuracy: 0.6098\n",
      "Epoch 17/30\n",
      "400000/400000 [==============================] - 8s 20us/step - loss: 2.2375 - acc: 0.5001 - top_k_categorical_accuracy: 0.7056 - val_loss: 2.7635 - val_acc: 0.4078 - val_top_k_categorical_accuracy: 0.6102\n",
      "Epoch 18/30\n",
      "400000/400000 [==============================] - 8s 20us/step - loss: 2.2178 - acc: 0.5042 - top_k_categorical_accuracy: 0.7087 - val_loss: 2.7705 - val_acc: 0.4107 - val_top_k_categorical_accuracy: 0.6143\n",
      "Epoch 00018: early stopping\n"
     ]
    },
    {
     "data": {
      "image/png": "[encoded data removed]",
      "text/plain": [
       "<Figure size 432x288 with 1 Axes>"
      ]
     },
     "metadata": {
      "needs_background": "light"
     },
     "output_type": "display_data"
    },
    {
     "data": {
      "image/png": "[encoded data removed]",
      "text/plain": [
       "<Figure size 432x288 with 1 Axes>"
      ]
     },
     "metadata": {
      "needs_background": "light"
     },
     "output_type": "display_data"
    },
    {
     "name": "stdout",
     "output_type": "stream",
     "text": [
      "best validation accuracy:  0.410700000667572\n"
     ]
    }
   ],
   "source": [
    "n_output_classes = y_dev_idx.shape[1]\n",
    "\n",
    "model = Sequential()\n",
    "model.add(Dense(300, activation='relu', input_shape=(num_words,)))\n",
    "model.add(Dense(128, activation='relu', \n",
    "                kernel_regularizer = regularizers.l2(0.0025)))\n",
    "model.add(Dense(n_output_classes, activation = 'softmax'))\n",
    "model.compile(optimizer = 'rmsprop',\n",
    "              loss='categorical_crossentropy',\n",
    "              metrics=['accuracy', 'top_k_categorical_accuracy'])\n",
    "\n",
    "early = keras.callbacks.EarlyStopping(monitor='val_acc',\n",
    "                              min_delta=0.01,\n",
    "                              patience=5,\n",
    "                              verbose=1, mode='auto')\n",
    "\n",
    "history = model.fit (x_train_one_hot, y_train_idx,\n",
    "                    epochs = 30,\n",
    "                    batch_size = 4096,\n",
    "                    verbose=1,\n",
    "                    validation_data = (x_dev_one_hot, y_dev_idx),\n",
    "                    callbacks=[early])\n",
    "\n",
    "plot_train_history(history)\n",
    "print (\"best validation accuracy: \", max(history.history['val_acc']))"
   ]
  },
  {
   "cell_type": "markdown",
   "metadata": {},
   "source": [
    "## Two layer network with dropout and regularization\n",
    "\n",
    "Takes longer to train than the network with neither. Some improvements in accuracy but it's a bit marginal."
   ]
  },
  {
   "cell_type": "code",
   "execution_count": 28,
   "metadata": {},
   "outputs": [
    {
     "name": "stdout",
     "output_type": "stream",
     "text": [
      "Train on 100000 samples, validate on 10000 samples\n",
      "Epoch 1/30\n",
      "100000/100000 [==============================] - 2s 20us/step - loss: 3.7457 - acc: 0.2644 - val_loss: 3.2722 - val_acc: 0.3384\n",
      "Epoch 2/30\n",
      "100000/100000 [==============================] - 1s 14us/step - loss: 3.1097 - acc: 0.3592 - val_loss: 2.9690 - val_acc: 0.3792\n",
      "Epoch 3/30\n",
      "100000/100000 [==============================] - 1s 14us/step - loss: 2.8765 - acc: 0.3946 - val_loss: 2.8439 - val_acc: 0.4012\n",
      "Epoch 4/30\n",
      "100000/100000 [==============================] - 1s 13us/step - loss: 2.7427 - acc: 0.4154 - val_loss: 2.7601 - val_acc: 0.4136\n",
      "Epoch 5/30\n",
      "100000/100000 [==============================] - 1s 13us/step - loss: 2.6477 - acc: 0.4312 - val_loss: 2.7403 - val_acc: 0.4128\n",
      "Epoch 6/30\n",
      "100000/100000 [==============================] - 2s 16us/step - loss: 2.5791 - acc: 0.4414 - val_loss: 2.6828 - val_acc: 0.4228\n",
      "Epoch 7/30\n",
      "100000/100000 [==============================] - 1s 13us/step - loss: 2.5186 - acc: 0.4523 - val_loss: 2.6783 - val_acc: 0.4243\n",
      "Epoch 8/30\n",
      "100000/100000 [==============================] - 2s 17us/step - loss: 2.4662 - acc: 0.4622 - val_loss: 2.6470 - val_acc: 0.4383\n",
      "Epoch 9/30\n",
      "100000/100000 [==============================] - 1s 14us/step - loss: 2.4237 - acc: 0.4688 - val_loss: 2.6365 - val_acc: 0.4392\n",
      "Epoch 10/30\n",
      "100000/100000 [==============================] - 1s 14us/step - loss: 2.3813 - acc: 0.4769 - val_loss: 2.6210 - val_acc: 0.4401\n",
      "Epoch 11/30\n",
      "100000/100000 [==============================] - 1s 13us/step - loss: 2.3444 - acc: 0.4830 - val_loss: 2.6130 - val_acc: 0.4494\n",
      "Epoch 12/30\n",
      "100000/100000 [==============================] - 1s 14us/step - loss: 2.3097 - acc: 0.4896 - val_loss: 2.6262 - val_acc: 0.4459\n",
      "Epoch 13/30\n",
      "100000/100000 [==============================] - 1s 15us/step - loss: 2.2774 - acc: 0.4952 - val_loss: 2.6090 - val_acc: 0.4500\n",
      "Epoch 14/30\n",
      "100000/100000 [==============================] - 1s 13us/step - loss: 2.2488 - acc: 0.5000 - val_loss: 2.6170 - val_acc: 0.4475\n",
      "Epoch 15/30\n",
      "100000/100000 [==============================] - 2s 15us/step - loss: 2.2206 - acc: 0.5053 - val_loss: 2.6223 - val_acc: 0.4487\n",
      "Epoch 16/30\n",
      "100000/100000 [==============================] - 1s 15us/step - loss: 2.1927 - acc: 0.5097 - val_loss: 2.6114 - val_acc: 0.4472\n",
      "Epoch 00016: early stopping\n"
     ]
    },
    {
     "data": {
      "image/png": "[encoded data removed]",
      "text/plain": [
       "<Figure size 432x288 with 1 Axes>"
      ]
     },
     "metadata": {
      "needs_background": "light"
     },
     "output_type": "display_data"
    },
    {
     "data": {
      "image/png": "[encoded data removed]",
      "text/plain": [
       "<Figure size 432x288 with 1 Axes>"
      ]
     },
     "metadata": {
      "needs_background": "light"
     },
     "output_type": "display_data"
    }
   ],
   "source": [
    "n_output_classes = y_dev_idx.shape[1]\n",
    "\n",
    "model = Sequential()\n",
    "model.add(Dense(300, activation='relu', input_shape=(num_words,)))\n",
    "model.add(Dropout(0.4))\n",
    "model.add(Dense(128, activation='relu',\n",
    "                kernel_regularizer = regularizers.l2(0.002)))\n",
    "model.add(Dropout(0.4))\n",
    "model.add(Dense(n_output_classes, activation = 'softmax'))\n",
    "model.compile(optimizer = 'rmsprop',\n",
    "              loss='categorical_crossentropy',\n",
    "              metrics=['accuracy'])\n",
    "\n",
    "early = keras.callbacks.EarlyStopping(monitor='val_acc',\n",
    "                              min_delta=0.01,\n",
    "                              patience=5,\n",
    "                              verbose=1, mode='auto')\n",
    "\n",
    "history = model.fit (x_train_one_hot, y_train_idx,\n",
    "                    epochs = 30,\n",
    "                    batch_size = 512,\n",
    "                    verbose=1,\n",
    "                    validation_data = (x_dev_one_hot, y_dev_idx),\n",
    "                    callbacks=[early])\n",
    "\n",
    "plot_train_history(history)"
   ]
  },
  {
   "cell_type": "code",
   "execution_count": 29,
   "metadata": {},
   "outputs": [
    {
     "name": "stdout",
     "output_type": "stream",
     "text": [
      "best validation accuracy:  0.45\n"
     ]
    }
   ],
   "source": [
    "print (\"best validation accuracy: \", max(history.history['val_acc']))"
   ]
  },
  {
   "cell_type": "markdown",
   "metadata": {},
   "source": [
    "# Embedding Layer\n",
    "\n",
    "First of all, let's try just an embedding layer, into a classifier"
   ]
  },
  {
   "cell_type": "code",
   "execution_count": 283,
   "metadata": {},
   "outputs": [
    {
     "data": {
      "text/plain": [
       "'RT @mydear_bangtan: [VID] 181023 - Foi adicionada a letra “D” no outdoor misterioso do #BTS em Hollywood.\\nFormando: BTS AND... \\n\\n ILOVEPAR…'"
      ]
     },
     "execution_count": 283,
     "metadata": {},
     "output_type": "execute_result"
    }
   ],
   "source": [
    "x_train[0]"
   ]
  },
  {
   "cell_type": "markdown",
   "metadata": {},
   "source": [
    "Let's assume a maximum sequence length of 25 (shorter sequences will be padded out to this length with zeros)"
   ]
  },
  {
   "cell_type": "code",
   "execution_count": 373,
   "metadata": {},
   "outputs": [],
   "source": [
    "maxlen = 25"
   ]
  },
  {
   "cell_type": "code",
   "execution_count": 374,
   "metadata": {},
   "outputs": [],
   "source": [
    "# Tokenize the tweets into lists of words\n",
    "\n",
    "\n",
    "\n",
    "def convert_to_sequences(tweet_text, tokenizer, maxlen=20):\n",
    "    tweet_sequence = np.asarray(tokenizer.texts_to_sequences(tweet_text))\n",
    "    padded = pad_sequences (tweet_sequence, maxlen=maxlen)\n",
    "    return (padded)\n",
    "\n",
    "x_train_sequences_1 = convert_to_sequences(x_train, tokenizer, maxlen=maxlen)\n",
    "x_dev_sequences_1 = convert_to_sequences(x_dev, tokenizer, maxlen=maxlen)\n",
    "x_test_sequences_1 = convert_to_sequences(x_test, tokenizer, maxlen=maxlen)"
   ]
  },
  {
   "cell_type": "markdown",
   "metadata": {},
   "source": [
    "Let's inspect the process of turning tweets into integer (word token) sequences."
   ]
  },
  {
   "cell_type": "code",
   "execution_count": 375,
   "metadata": {
    "scrolled": true
   },
   "outputs": [
    {
     "name": "stdout",
     "output_type": "stream",
     "text": [
      "x_train_sequences_1.shape: (400000, 25)\n",
      "x_train_sequences_1[0,:] [   0    0    0    0    0    0    0    0    0    0    0    0    0    1\n",
      " 3183 1512 3545    9   57   54   26 1041 3911   26   10]\n",
      "average number of tokenized words per tweet: 11.0151225\n"
     ]
    }
   ],
   "source": [
    "print (\"x_train_sequences_1.shape:\", x_train_sequences_1.shape)\n",
    "print (\"x_train_sequences_1[0,:]\", x_train_sequences_1[0,:])\n",
    "print (\"average number of tokenized words per tweet:\", np.count_nonzero(x_train_sequences_1, axis=1).mean())"
   ]
  },
  {
   "cell_type": "code",
   "execution_count": 376,
   "metadata": {},
   "outputs": [],
   "source": [
    "n_output_classes = y_dev_idx.shape[1]\n",
    "\n",
    "def simple_embedding_model(num_words, n_output_classes, n_embedding_dims = 16, max_sequence_length = 20):\n",
    "\n",
    "    model = Sequential()\n",
    "\n",
    "    # 8-dimensional embedding layer for 1,000 words\n",
    "    model.add(Embedding(num_words, n_embedding_dims, input_length = max_sequence_length, name=\"embedding\")) \n",
    "\n",
    "    # flattens 3D tensor of embeddings into 2D tensor of shape (samples, maxlen * 8)\n",
    "    model.add(Flatten()) \n",
    "\n",
    "    model.add(Dense(n_output_classes, activation = 'softmax'))\n",
    "    model.compile(optimizer = 'rmsprop',\n",
    "                  loss='categorical_crossentropy',\n",
    "                  metrics=['accuracy', 'top_k_categorical_accuracy'])\n",
    "\n",
    "    return (model)"
   ]
  },
  {
   "cell_type": "code",
   "execution_count": 354,
   "metadata": {},
   "outputs": [
    {
     "name": "stdout",
     "output_type": "stream",
     "text": [
      "Train on 400000 samples, validate on 20000 samples\n",
      "Epoch 1/30\n",
      "400000/400000 [==============================] - 1s 2us/step - loss: 3.7430 - acc: 0.2252 - top_k_categorical_accuracy: 0.4151 - val_loss: 3.4498 - val_acc: 0.2654 - val_top_k_categorical_accuracy: 0.4568\n",
      "Epoch 2/30\n",
      "400000/400000 [==============================] - 1s 2us/step - loss: 3.1115 - acc: 0.3352 - top_k_categorical_accuracy: 0.5219 - val_loss: 3.1165 - val_acc: 0.3239 - val_top_k_categorical_accuracy: 0.5211\n",
      "Epoch 3/30\n",
      "400000/400000 [==============================] - 1s 2us/step - loss: 2.8192 - acc: 0.3806 - top_k_categorical_accuracy: 0.5788 - val_loss: 2.9599 - val_acc: 0.3452 - val_top_k_categorical_accuracy: 0.5484\n",
      "Epoch 4/30\n",
      "400000/400000 [==============================] - 1s 2us/step - loss: 2.6496 - acc: 0.4112 - top_k_categorical_accuracy: 0.6110 - val_loss: 2.8701 - val_acc: 0.3673 - val_top_k_categorical_accuracy: 0.5666\n",
      "Epoch 5/30\n",
      "400000/400000 [==============================] - 1s 3us/step - loss: 2.5293 - acc: 0.4333 - top_k_categorical_accuracy: 0.6328 - val_loss: 2.8018 - val_acc: 0.3790 - val_top_k_categorical_accuracy: 0.5787\n",
      "Epoch 6/30\n",
      "400000/400000 [==============================] - 1s 2us/step - loss: 2.4360 - acc: 0.4508 - top_k_categorical_accuracy: 0.6490 - val_loss: 2.7563 - val_acc: 0.3836 - val_top_k_categorical_accuracy: 0.5855\n",
      "Epoch 7/30\n",
      "400000/400000 [==============================] - 1s 2us/step - loss: 2.3591 - acc: 0.4653 - top_k_categorical_accuracy: 0.6624 - val_loss: 2.7222 - val_acc: 0.3913 - val_top_k_categorical_accuracy: 0.5930\n",
      "Epoch 8/30\n",
      "400000/400000 [==============================] - 1s 2us/step - loss: 2.2936 - acc: 0.4773 - top_k_categorical_accuracy: 0.6745 - val_loss: 2.7005 - val_acc: 0.3929 - val_top_k_categorical_accuracy: 0.5980\n",
      "Epoch 9/30\n",
      "400000/400000 [==============================] - 1s 2us/step - loss: 2.2365 - acc: 0.4875 - top_k_categorical_accuracy: 0.6850 - val_loss: 2.6847 - val_acc: 0.3913 - val_top_k_categorical_accuracy: 0.6005\n",
      "Epoch 10/30\n",
      "400000/400000 [==============================] - 1s 2us/step - loss: 2.1858 - acc: 0.4970 - top_k_categorical_accuracy: 0.6944 - val_loss: 2.6758 - val_acc: 0.3932 - val_top_k_categorical_accuracy: 0.6032\n",
      "Epoch 11/30\n",
      "400000/400000 [==============================] - 1s 2us/step - loss: 2.1398 - acc: 0.5055 - top_k_categorical_accuracy: 0.7027 - val_loss: 2.6670 - val_acc: 0.3946 - val_top_k_categorical_accuracy: 0.6036\n",
      "Epoch 12/30\n",
      "400000/400000 [==============================] - 1s 2us/step - loss: 2.0977 - acc: 0.5135 - top_k_categorical_accuracy: 0.7105 - val_loss: 2.6657 - val_acc: 0.3959 - val_top_k_categorical_accuracy: 0.6056\n",
      "Epoch 13/30\n",
      "400000/400000 [==============================] - 1s 2us/step - loss: 2.0588 - acc: 0.5206 - top_k_categorical_accuracy: 0.7176 - val_loss: 2.6683 - val_acc: 0.3987 - val_top_k_categorical_accuracy: 0.6039\n",
      "Epoch 14/30\n",
      "400000/400000 [==============================] - 1s 2us/step - loss: 2.0227 - acc: 0.5270 - top_k_categorical_accuracy: 0.7244 - val_loss: 2.6676 - val_acc: 0.4038 - val_top_k_categorical_accuracy: 0.6058\n",
      "Epoch 15/30\n",
      "400000/400000 [==============================] - 1s 2us/step - loss: 1.9887 - acc: 0.5336 - top_k_categorical_accuracy: 0.7308 - val_loss: 2.6727 - val_acc: 0.4040 - val_top_k_categorical_accuracy: 0.6040\n",
      "Epoch 16/30\n",
      "400000/400000 [==============================] - 1s 2us/step - loss: 1.9568 - acc: 0.5398 - top_k_categorical_accuracy: 0.7366 - val_loss: 2.6772 - val_acc: 0.4051 - val_top_k_categorical_accuracy: 0.6033\n",
      "Epoch 17/30\n",
      "400000/400000 [==============================] - 1s 2us/step - loss: 1.9269 - acc: 0.5456 - top_k_categorical_accuracy: 0.7420 - val_loss: 2.6839 - val_acc: 0.4049 - val_top_k_categorical_accuracy: 0.6028\n",
      "Epoch 18/30\n",
      "400000/400000 [==============================] - 1s 2us/step - loss: 1.8984 - acc: 0.5513 - top_k_categorical_accuracy: 0.7474 - val_loss: 2.6947 - val_acc: 0.4063 - val_top_k_categorical_accuracy: 0.5997\n",
      "Epoch 19/30\n",
      "400000/400000 [==============================] - 1s 2us/step - loss: 1.8714 - acc: 0.5565 - top_k_categorical_accuracy: 0.7523 - val_loss: 2.7035 - val_acc: 0.4062 - val_top_k_categorical_accuracy: 0.5997\n",
      "Epoch 20/30\n",
      "400000/400000 [==============================] - 1s 2us/step - loss: 1.8457 - acc: 0.5616 - top_k_categorical_accuracy: 0.7569 - val_loss: 2.7140 - val_acc: 0.4062 - val_top_k_categorical_accuracy: 0.5998\n",
      "Epoch 21/30\n",
      "400000/400000 [==============================] - 1s 2us/step - loss: 1.8212 - acc: 0.5667 - top_k_categorical_accuracy: 0.7614 - val_loss: 2.7243 - val_acc: 0.4075 - val_top_k_categorical_accuracy: 0.6007\n",
      "Epoch 00021: early stopping\n"
     ]
    },
    {
     "data": {
      "image/png": "[encoded data removed]",
      "text/plain": [
       "<Figure size 432x288 with 1 Axes>"
      ]
     },
     "metadata": {
      "needs_background": "light"
     },
     "output_type": "display_data"
    },
    {
     "data": {
      "image/png": "[encoded data removed]",
      "text/plain": [
       "<Figure size 432x288 with 1 Axes>"
      ]
     },
     "metadata": {
      "needs_background": "light"
     },
     "output_type": "display_data"
    }
   ],
   "source": [
    "clear_session()\n",
    "\n",
    "model = simple_embedding_model(num_words,\n",
    "                               n_output_classes, \n",
    "                               n_embedding_dims = 100, \n",
    "                               max_sequence_length = maxlen)    \n",
    "\n",
    "early = keras.callbacks.EarlyStopping(monitor='val_loss',\n",
    "                              min_delta=0.01,\n",
    "                              patience=10,\n",
    "                              verbose=1, mode='auto')\n",
    "\n",
    "#checkpoint = keras.callbacks.ModelCheckpoint(filepath='emoji_embedding.h5',\n",
    "#                                             monitor='val_acc',\n",
    "#                                             save_best_only = True)\n",
    "\n",
    "#tensorboard = keras.callbacks.TensorBoard(log_dir='tensorboard_log',\n",
    "#                                          #write_grads=1,\n",
    "#                                          #histogram_freq=1,\n",
    "#                                          embeddings_freq=1,\n",
    "#                                          embeddings_data='embedding') ## ?? How to implement this\n",
    "\n",
    "history = model.fit (x_train_sequences_1, y_train_idx,\n",
    "                     validation_data = (x_dev_sequences, y_dev_idx),\n",
    "                     epochs = 30,\n",
    "                     batch_size = 4096,\n",
    "                     verbose=1,\n",
    "                     callbacks=[early])\n",
    "\n",
    "plot_train_history(history)"
   ]
  },
  {
   "cell_type": "code",
   "execution_count": 292,
   "metadata": {},
   "outputs": [
    {
     "name": "stdout",
     "output_type": "stream",
     "text": [
      "best validation accuracy:  0.41274999861717226\n"
     ]
    }
   ],
   "source": [
    "print (\"best validation accuracy: \", max(history.history['val_acc']))"
   ]
  },
  {
   "cell_type": "code",
   "execution_count": 293,
   "metadata": {},
   "outputs": [],
   "source": [
    "def deeper_embedding_model(num_words,\n",
    "                           n_output_classes, \n",
    "                           n_embedding_dims = 16, \n",
    "                           max_sequence_length = 20, \n",
    "                           dense1_size = 16, \n",
    "                           dropout1_rate = 0.2,\n",
    "                           dense2_size = 16,\n",
    "                           dropout2_rate = 0.2,\n",
    "                           lambd = 0.0):\n",
    "\n",
    "    model = Sequential()\n",
    "\n",
    "    # 8-dimensional embedding layer for 1,000 words\n",
    "    model.add(Embedding(num_words, n_embedding_dims, input_length = max_sequence_length, name=\"embedding\")) \n",
    "\n",
    "    # flattens 3D tensor of embeddings into 2D tensor of shape (samples, maxlen * 8)\n",
    "    model.add(Flatten()) \n",
    "    \n",
    "    model.add(Dense(dense1_size, activation='relu'))\n",
    "    model.add(Dropout(dropout1_rate))\n",
    "    model.add(Dense(dense2_size, activation='relu',\n",
    "                    kernel_regularizer = regularizers.l2(lambd)))\n",
    "    model.add(Dropout(dropout2_rate))\n",
    "    model.add(Dense(n_output_classes, activation = 'softmax'))\n",
    "    model.compile(optimizer = 'rmsprop',\n",
    "                  loss='categorical_crossentropy',\n",
    "                  metrics=['accuracy'])\n",
    "\n",
    "    return (model)"
   ]
  },
  {
   "cell_type": "code",
   "execution_count": 295,
   "metadata": {},
   "outputs": [
    {
     "name": "stdout",
     "output_type": "stream",
     "text": [
      "Train on 400000 samples, validate on 20000 samples\n",
      "Epoch 1/50\n",
      "400000/400000 [==============================] - 1s 3us/step - loss: 4.2034 - acc: 0.1341 - val_loss: 3.7476 - val_acc: 0.2255\n",
      "Epoch 2/50\n",
      "400000/400000 [==============================] - 1s 2us/step - loss: 3.6532 - acc: 0.2309 - val_loss: 3.4535 - val_acc: 0.2500\n",
      "Epoch 3/50\n",
      "400000/400000 [==============================] - 1s 2us/step - loss: 3.4270 - acc: 0.2557 - val_loss: 3.3096 - val_acc: 0.2707\n",
      "Epoch 4/50\n",
      "400000/400000 [==============================] - 1s 2us/step - loss: 3.2855 - acc: 0.2742 - val_loss: 3.2335 - val_acc: 0.2964\n",
      "Epoch 5/50\n",
      "400000/400000 [==============================] - 1s 2us/step - loss: 3.1803 - acc: 0.2908 - val_loss: 3.1489 - val_acc: 0.3082\n",
      "Epoch 6/50\n",
      "400000/400000 [==============================] - 1s 2us/step - loss: 3.1032 - acc: 0.3021 - val_loss: 3.1055 - val_acc: 0.3146\n",
      "Epoch 7/50\n",
      "400000/400000 [==============================] - 1s 2us/step - loss: 3.0381 - acc: 0.3135 - val_loss: 3.1016 - val_acc: 0.3223\n",
      "Epoch 8/50\n",
      "400000/400000 [==============================] - 1s 3us/step - loss: 2.9824 - acc: 0.3228 - val_loss: 3.0679 - val_acc: 0.3255\n",
      "Epoch 9/50\n",
      "400000/400000 [==============================] - 1s 3us/step - loss: 2.9367 - acc: 0.3317 - val_loss: 3.0607 - val_acc: 0.3291\n",
      "Epoch 10/50\n",
      "400000/400000 [==============================] - 1s 2us/step - loss: 2.8927 - acc: 0.3388 - val_loss: 3.0500 - val_acc: 0.3351\n",
      "Epoch 11/50\n",
      "400000/400000 [==============================] - 1s 3us/step - loss: 2.8534 - acc: 0.3460 - val_loss: 3.0535 - val_acc: 0.3375\n",
      "Epoch 12/50\n",
      "400000/400000 [==============================] - 1s 2us/step - loss: 2.8168 - acc: 0.3526 - val_loss: 3.0553 - val_acc: 0.3428\n",
      "Epoch 13/50\n",
      "400000/400000 [==============================] - 1s 2us/step - loss: 2.7841 - acc: 0.3582 - val_loss: 3.0739 - val_acc: 0.3419\n",
      "Epoch 14/50\n",
      "400000/400000 [==============================] - 1s 2us/step - loss: 2.7511 - acc: 0.3644 - val_loss: 3.0742 - val_acc: 0.3444\n",
      "Epoch 15/50\n",
      "400000/400000 [==============================] - 1s 2us/step - loss: 2.7216 - acc: 0.3700 - val_loss: 3.0773 - val_acc: 0.3455\n",
      "Epoch 16/50\n",
      "400000/400000 [==============================] - 1s 2us/step - loss: 2.6950 - acc: 0.3743 - val_loss: 3.0963 - val_acc: 0.3460\n",
      "Epoch 17/50\n",
      "400000/400000 [==============================] - 1s 2us/step - loss: 2.6684 - acc: 0.3793 - val_loss: 3.1180 - val_acc: 0.3481\n",
      "Epoch 18/50\n",
      "400000/400000 [==============================] - 1s 2us/step - loss: 2.6448 - acc: 0.3838 - val_loss: 3.1180 - val_acc: 0.3527\n",
      "Epoch 19/50\n",
      "400000/400000 [==============================] - 1s 2us/step - loss: 2.6221 - acc: 0.3875 - val_loss: 3.1315 - val_acc: 0.3568\n",
      "Epoch 20/50\n",
      "400000/400000 [==============================] - 1s 2us/step - loss: 2.6008 - acc: 0.3924 - val_loss: 3.1640 - val_acc: 0.3575\n",
      "Epoch 21/50\n",
      "400000/400000 [==============================] - 1s 2us/step - loss: 2.5804 - acc: 0.3967 - val_loss: 3.2085 - val_acc: 0.3592\n",
      "Epoch 22/50\n",
      "400000/400000 [==============================] - 1s 2us/step - loss: 2.5614 - acc: 0.4004 - val_loss: 3.2188 - val_acc: 0.3597\n",
      "Epoch 23/50\n",
      "400000/400000 [==============================] - 1s 1us/step - loss: 2.5430 - acc: 0.4030 - val_loss: 3.2310 - val_acc: 0.3614\n",
      "Epoch 24/50\n",
      "400000/400000 [==============================] - 1s 2us/step - loss: 2.5231 - acc: 0.4083 - val_loss: 3.2411 - val_acc: 0.3619\n",
      "Epoch 00024: early stopping\n"
     ]
    },
    {
     "data": {
      "image/png": "[encoded data removed]",
      "text/plain": [
       "<Figure size 432x288 with 1 Axes>"
      ]
     },
     "metadata": {
      "needs_background": "light"
     },
     "output_type": "display_data"
    },
    {
     "data": {
      "image/png": "[encoded data removed]",
      "text/plain": [
       "<Figure size 432x288 with 1 Axes>"
      ]
     },
     "metadata": {
      "needs_background": "light"
     },
     "output_type": "display_data"
    },
    {
     "name": "stdout",
     "output_type": "stream",
     "text": [
      "best validation accuracy:  0.3618500012397766\n"
     ]
    }
   ],
   "source": [
    "clear_session()\n",
    "\n",
    "model = deeper_embedding_model(num_words,\n",
    "                               n_output_classes, \n",
    "                               n_embedding_dims = 128, \n",
    "                               max_sequence_length = maxlen,\n",
    "                               lambd = 0.0006)    \n",
    "\n",
    "early = keras.callbacks.EarlyStopping(monitor='val_acc',\n",
    "                              min_delta=0.01,\n",
    "                              patience=5,\n",
    "                              verbose=1, mode='auto')\n",
    "\n",
    "history = model.fit (x_train_sequences_1, y_train_idx,\n",
    "                     validation_data = (x_dev_sequences, y_dev_idx),\n",
    "                     epochs = 50,\n",
    "                     batch_size = 4096,\n",
    "                     verbose=1,\n",
    "                     callbacks=[early])\n",
    "\n",
    "plot_train_history(history)\n",
    "print (\"best validation accuracy: \", max(history.history['val_acc']))"
   ]
  },
  {
   "cell_type": "markdown",
   "metadata": {},
   "source": [
    "Conclusions:\n",
    "The embedding->shallow NN model struggles to get above 31% accuracy. Actually best results obtained when number of embedding dimensions is small: ~3-4. "
   ]
  },
  {
   "cell_type": "markdown",
   "metadata": {},
   "source": [
    "# Using pretrained (GloVe) word embeddings"
   ]
  },
  {
   "cell_type": "code",
   "execution_count": 377,
   "metadata": {},
   "outputs": [],
   "source": [
    "# A utility function to load in the GloVe word/index/vector embeddings\n",
    "\n",
    "def read_glove_vecs(glove_file):\n",
    "    with open(glove_file, 'r') as f:\n",
    "        words = set()\n",
    "        word_to_vec_map = {}\n",
    "        for line in f:\n",
    "            line = line.strip().split()\n",
    "            curr_word = line[0]\n",
    "            words.add(curr_word)\n",
    "            word_to_vec_map[curr_word] = np.array(line[1:], dtype=np.float64)\n",
    "        \n",
    "        i = 1\n",
    "        words_to_index = {}\n",
    "        index_to_words = {}\n",
    "        for w in sorted(words):\n",
    "            words_to_index[w] = i\n",
    "            index_to_words[i] = w\n",
    "            i = i + 1\n",
    "    return words_to_index, index_to_words, word_to_vec_map, words"
   ]
  },
  {
   "cell_type": "code",
   "execution_count": 378,
   "metadata": {},
   "outputs": [],
   "source": [
    "#Load the pretrained embeddings\n",
    "# 400,001 words (0-400000), 50 dimensions  \n",
    "\n",
    "#word_to_index, index_to_word, word_to_vec_map, words = read_glove_vecs('glove.6B.50d.txt')\n",
    "#word_to_index, index_to_word, word_to_vec_map, words = read_glove_vecs('../embeddings/GloVe/twitter/glove.twitter.27B.50d.txt')\n",
    "word_to_index, index_to_word, word_to_vec_map, words = read_glove_vecs('../embeddings/GloVe/twitter/glove.twitter.27B.100d.txt')"
   ]
  },
  {
   "cell_type": "code",
   "execution_count": 379,
   "metadata": {},
   "outputs": [
    {
     "name": "stdout",
     "output_type": "stream",
     "text": [
      "(100,)\n",
      "1193513\n",
      "1193513\n",
      "1193513\n",
      "1193513\n"
     ]
    }
   ],
   "source": [
    "# Clean up corrupted rows in the downloaded encodings\n",
    "\n",
    "#wrong_length = [word for (word, vec) in word_to_vec_map.items() if len(vec) != 50]\n",
    "wrong_length = [word for (word, vec) in word_to_vec_map.items() if len(vec) != 100]\n",
    "for w in wrong_length:\n",
    "    del word_to_vec_map[w]\n",
    "    i = word_to_index[w]\n",
    "    del index_to_word[i]\n",
    "    del word_to_index[w]\n",
    "    words.remove(w)\n",
    "    \n",
    "    \n",
    "print (word_to_vec_map['hello'].shape)\n",
    "print (len(word_to_vec_map))\n",
    "print (len(index_to_word))\n",
    "print (len(word_to_index))\n",
    "print (len(words))"
   ]
  },
  {
   "cell_type": "code",
   "execution_count": 380,
   "metadata": {},
   "outputs": [],
   "source": [
    "#Re-tokenize the tweets using the GloVe encodings. \n",
    "\n",
    "def sentences_to_indices(X, word_to_index, recognised_words, max_len):\n",
    "    \"\"\"\n",
    "    Converts a pandas DataSeries of strings into an array of indices corresponding to words in the sentences.\n",
    "    The output shape should be such that it can be given to `Embedding()` (described in Figure 4). \n",
    "    \n",
    "    Arguments:\n",
    "    X -- pandas Series of sentences (strings), of shape (m, 1)\n",
    "    word_to_index -- a dictionary containing the each word mapped to its index\n",
    "    recognised_words -- the set of the words in the trained embeddings\n",
    "    max_len -- maximum number of words in a sentence. You can assume every sentence in X is no longer than this. \n",
    "    \n",
    "    Returns:\n",
    "    X_indices -- array of indices corresponding to words in the sentences from X, of shape (m, max_len)\n",
    "    \"\"\"\n",
    "    \n",
    "    m = X.shape[0]                                   # number of training examples\n",
    "    \n",
    "    # Initialize X_indices as a numpy matrix of zeros and the correct shape (≈ 1 line)\n",
    "    X_indices = np.zeros(shape=(m, max_len))\n",
    "    \n",
    "    X_items = X.iteritems()\n",
    "    \n",
    "    for i, item in enumerate (X_items):             # iterate over the series\n",
    "        _, sentence = item                      # unpack the zip\n",
    "\n",
    "        # convert list of sentence words to a list of indices\n",
    "        indices_list = [word_to_index[word] for word in sentence.lower().split() if word in recognised_words]\n",
    "    \n",
    "        # assign first max_len items to the array\n",
    "        for j, index in enumerate(indices_list[0:max_len]):\n",
    "            X_indices[i,j] = index\n",
    "        \n",
    "    return X_indices"
   ]
  },
  {
   "cell_type": "code",
   "execution_count": 381,
   "metadata": {},
   "outputs": [
    {
     "name": "stdout",
     "output_type": "stream",
     "text": [
      "X1 = 0    RT @mydear_bangtan: [VID] 181023 - Foi adicion...\n",
      "1    RT @WuYiFan_KrisBar: 181023 Kris Wu Studio upd...\n",
      "2    RT @TrendsPrabhas: Now you are watching Indian...\n",
      "3                                      dats for keeps \n",
      "4                 @Eric_Deshaun Holy shit no I think. \n",
      "5       RT @fanmutuals: army, follow who retweet this \n",
      "6    RT @_Simplykpop: Simply K-Pop harddrive dump\\n...\n",
      "7    Happy birthday nellie @thelittlegend, hope you...\n",
      "8    RT @montparnasty: \"I have passed through fire\"...\n",
      "Name: text, dtype: object\n",
      "X1_indices = [[525980.   1743. 210491.   9493.   2115. 339211. 422256. 457066.]\n",
      " [525980. 324024. 657875. 576524. 629774. 337426. 127475.  40807.]\n",
      " [525980. 425660. 668738.  34878. 649202. 275332. 580716. 655002.]\n",
      " [137837. 211804. 310525.      0.      0.      0.      0.      0.]\n",
      " [260682. 553084. 422256. 266801.      0.      0.      0.      0.]\n",
      " [525980. 210824. 653091. 518841. 602844.      0.      0.      0.]\n",
      " [525980. 557140. 300853. 250058. 169198.      0.      0.      0.]\n",
      " [249599.  72240. 405077. 261714. 668738. 251960.   2115. 200847.]\n",
      " [525980. 251960. 466306. 603448. 601174. 668738. 211804.  61391.]]\n"
     ]
    }
   ],
   "source": [
    "X1 = x_train\n",
    "X1_indices = sentences_to_indices(X1,word_to_index, words, max_len = 8)\n",
    "print(\"X1 =\", X1[0:9])\n",
    "print(\"X1_indices =\", X1_indices[0:9])"
   ]
  },
  {
   "cell_type": "markdown",
   "metadata": {},
   "source": [
    "Now let's tokenize the training set using the pretrained maps:"
   ]
  },
  {
   "cell_type": "code",
   "execution_count": 384,
   "metadata": {},
   "outputs": [
    {
     "name": "stdout",
     "output_type": "stream",
     "text": [
      "average number of tokenized words per tweet: 8.6065975\n"
     ]
    }
   ],
   "source": [
    "X_train_indices = sentences_to_indices(x_train, word_to_index, words, maxlen)\n",
    "print (\"average number of tokenized words per tweet:\", np.count_nonzero(X_train_indices, axis=1).mean())\n",
    "X_dev_indices = sentences_to_indices(x_dev, word_to_index, words, maxlen)\n",
    "# Y_train_oh = convert_to_one_hot(Y_train, C = 5)"
   ]
  },
  {
   "cell_type": "code",
   "execution_count": 385,
   "metadata": {},
   "outputs": [],
   "source": [
    "# Create an embedding layer to use the 50-dimensional GloVe vectors\n",
    "def pretrained_embedding_layer(word_to_vec_map, word_to_index, trainable_word_vectors=False):\n",
    "    \"\"\"\n",
    "    Creates a Keras Embedding() layer and loads in pre-trained GloVe 50-dimensional vectors.\n",
    "    \n",
    "    Arguments:\n",
    "    word_to_vec_map -- dictionary mapping words to their GloVe vector representation.\n",
    "    word_to_index -- dictionary mapping from words to their indices in the vocabulary (400,001 words)\n",
    "\n",
    "    Returns:\n",
    "    embedding_layer -- pretrained layer Keras instance\n",
    "    \"\"\"\n",
    "    \n",
    "    vocab_len = len(word_to_index) + 1 + 1              # adding 1 to fit Keras embedding (requirement)\n",
    "                                                        # also adding 1 because max index is len(word_to_index) +1 because\n",
    "                                                        # we deleted an item\n",
    "    emb_dim = word_to_vec_map[\"cucumber\"].shape[0]      # define dimensionality of GloVe word vectors (= 50)\n",
    "    \n",
    "    # Initialize the embedding matrix as a numpy array of zeros of shape (vocab_len, dimensions of word vectors = emb_dim)\n",
    "    emb_matrix = np.zeros(shape=(vocab_len, emb_dim))\n",
    "    print (\"emb matrix:\", vocab_len, \"x\", emb_dim)\n",
    "    \n",
    "    # Set each row \"index\" of the embedding matrix to be the word vector representation of the \"index\"th word of the vocabulary\n",
    "    print (\"len word_to_index:\", len(word_to_index.items()))\n",
    "    for word, index in word_to_index.items():\n",
    "        emb_matrix[index, :] = word_to_vec_map[word]\n",
    "\n",
    "    # Define Keras embedding layer with the correct output/input sizes, make it trainable.\n",
    "    embedding_layer = Embedding(input_dim = vocab_len, output_dim=emb_dim, trainable=trainable_word_vectors)\n",
    "\n",
    "    # Build the embedding layer, it is required before setting the weights of the embedding layer. Do not modify the \"None\".\n",
    "    embedding_layer.build((None,))\n",
    "    \n",
    "    # Set the weights of the embedding layer to the embedding matrix. Your layer is now pretrained.\n",
    "    embedding_layer.set_weights([emb_matrix])\n",
    "    \n",
    "    return embedding_layer"
   ]
  },
  {
   "cell_type": "code",
   "execution_count": 386,
   "metadata": {},
   "outputs": [
    {
     "name": "stdout",
     "output_type": "stream",
     "text": [
      "emb matrix: 1193515 x 100\n",
      "len word_to_index: 1193513\n",
      "weights[0][1][3] = 0.21751\n"
     ]
    }
   ],
   "source": [
    "embedding_layer = pretrained_embedding_layer(word_to_vec_map, word_to_index, trainable_word_vectors=True)\n",
    "print(\"weights[0][1][3] =\", embedding_layer.get_weights()[0][1][3])"
   ]
  },
  {
   "cell_type": "markdown",
   "metadata": {},
   "source": [
    "# Todo - here should do prediction based on averaging the word vectors"
   ]
  },
  {
   "cell_type": "markdown",
   "metadata": {},
   "source": [
    "## First - Simple (shallow) Embedding model using GloVe encodings"
   ]
  },
  {
   "cell_type": "code",
   "execution_count": 396,
   "metadata": {},
   "outputs": [],
   "source": [
    "def simple_pretrained_embedding_model(input_shape, n_output_classes, n_embedding_dims = 100, max_sequence_length = 20):\n",
    "\n",
    "    sentence_indices = Input(input_shape, name=\"input\", dtype=\"int32\")\n",
    "    \n",
    "    embedding_layer = pretrained_embedding_layer(word_to_vec_map, word_to_index, trainable_word_vectors=True)\n",
    "    \n",
    "    # Propagate sentence_indices through embedding layer, you get back the embeddings\n",
    "    embeddings = embedding_layer(sentence_indices)\n",
    "    \n",
    "    # Propagate the embeddings through an LSTM layer with 128-dimensional hidden state\n",
    "    # Be careful, the returned output should be a batch of sequences.\n",
    "    X = Flatten()(embeddings)\n",
    "    X = Dense(n_output_classes, activation=None)(X)\n",
    "    X = Activation('softmax')(X)\n",
    "    \n",
    "    # Create Model instance which converts sentence_indices into X.\n",
    "    model = Model(inputs=sentence_indices, outputs=X)\n",
    "    \n",
    "    ### END CODE HERE ###\n",
    "    \n",
    "    return model\n",
    "    \n",
    "    \n",
    "    return (model)"
   ]
  },
  {
   "cell_type": "code",
   "execution_count": 397,
   "metadata": {},
   "outputs": [
    {
     "name": "stdout",
     "output_type": "stream",
     "text": [
      "emb matrix: 1193515 x 100\n",
      "len word_to_index: 1193513\n",
      "_________________________________________________________________\n",
      "Layer (type)                 Output Shape              Param #   \n",
      "=================================================================\n",
      "input (InputLayer)           (None, 25)                0         \n",
      "_________________________________________________________________\n",
      "embedding_1 (Embedding)      (None, 25, 100)           119351500 \n",
      "_________________________________________________________________\n",
      "flatten_1 (Flatten)          (None, 2500)              0         \n",
      "_________________________________________________________________\n",
      "dense_1 (Dense)              (None, 112)               280112    \n",
      "_________________________________________________________________\n",
      "activation_1 (Activation)    (None, 112)               0         \n",
      "=================================================================\n",
      "Total params: 119,631,612\n",
      "Trainable params: 119,631,612\n",
      "Non-trainable params: 0\n",
      "_________________________________________________________________\n"
     ]
    }
   ],
   "source": [
    "clear_session()\n",
    "\n",
    "model = simple_pretrained_embedding_model((maxlen,),\n",
    "                               n_output_classes, \n",
    "                               n_embedding_dims = 100, \n",
    "                               max_sequence_length = maxlen)    \n",
    "\n",
    "model.compile(loss='categorical_crossentropy', optimizer='adam', metrics=['accuracy', 'top_k_categorical_accuracy'])\n",
    "\n",
    "model.summary()\n",
    "\n",
    "\n",
    "early = keras.callbacks.EarlyStopping(monitor='val_loss',\n",
    "                              min_delta=0.01,\n",
    "                              patience=10,\n",
    "                              verbose=1, mode='auto')\n",
    "\n",
    "#checkpoint = keras.callbacks.ModelCheckpoint(filepath='emoji_embedding.h5',\n",
    "#                                             monitor='val_acc',\n",
    "#                                             save_best_only = True)\n",
    "\n",
    "#tensorboard = keras.callbacks.TensorBoard(log_dir='tensorboard_log',\n",
    "#                                          #write_grads=1,\n",
    "#                                          #histogram_freq=1,\n",
    "#                                          embeddings_freq=1,\n",
    "#                                          embeddings_data='embedding') ## ?? How to implement this"
   ]
  },
  {
   "cell_type": "code",
   "execution_count": 398,
   "metadata": {},
   "outputs": [
    {
     "name": "stderr",
     "output_type": "stream",
     "text": [
      "/home/nick/anaconda3/envs/emojitranslate-gpu/lib/python3.6/site-packages/tensorflow/python/ops/gradients_impl.py:109: UserWarning: Converting sparse IndexedSlices to a dense Tensor with 119351500 elements. This may consume a large amount of memory.\n",
      "  num_elements)\n"
     ]
    },
    {
     "name": "stdout",
     "output_type": "stream",
     "text": [
      "Train on 400000 samples, validate on 20000 samples\n",
      "Epoch 1/30\n",
      "400000/400000 [==============================] - 8s 19us/step - loss: 3.5722 - acc: 0.2364 - top_k_categorical_accuracy: 0.4382 - val_loss: 3.3232 - val_acc: 0.2834 - val_top_k_categorical_accuracy: 0.4909\n",
      "Epoch 2/30\n",
      "400000/400000 [==============================] - 6s 15us/step - loss: 2.9901 - acc: 0.3431 - top_k_categorical_accuracy: 0.5499 - val_loss: 3.1673 - val_acc: 0.3102 - val_top_k_categorical_accuracy: 0.5123\n",
      "Epoch 3/30\n",
      "400000/400000 [==============================] - 6s 15us/step - loss: 2.7992 - acc: 0.3772 - top_k_categorical_accuracy: 0.5842 - val_loss: 3.0996 - val_acc: 0.3272 - val_top_k_categorical_accuracy: 0.5353\n",
      "Epoch 4/30\n",
      "400000/400000 [==============================] - 6s 15us/step - loss: 2.6686 - acc: 0.4019 - top_k_categorical_accuracy: 0.6085 - val_loss: 3.0608 - val_acc: 0.3444 - val_top_k_categorical_accuracy: 0.5444\n",
      "Epoch 5/30\n",
      "400000/400000 [==============================] - 6s 15us/step - loss: 2.5659 - acc: 0.4213 - top_k_categorical_accuracy: 0.6265 - val_loss: 3.0296 - val_acc: 0.3520 - val_top_k_categorical_accuracy: 0.5472\n",
      "Epoch 6/30\n",
      "400000/400000 [==============================] - 6s 15us/step - loss: 2.4784 - acc: 0.4381 - top_k_categorical_accuracy: 0.6429 - val_loss: 3.0111 - val_acc: 0.3612 - val_top_k_categorical_accuracy: 0.5498\n",
      "Epoch 7/30\n",
      "400000/400000 [==============================] - 6s 15us/step - loss: 2.4012 - acc: 0.4534 - top_k_categorical_accuracy: 0.6570 - val_loss: 3.0130 - val_acc: 0.3648 - val_top_k_categorical_accuracy: 0.5512\n",
      "Epoch 8/30\n",
      "400000/400000 [==============================] - 6s 15us/step - loss: 2.3311 - acc: 0.4670 - top_k_categorical_accuracy: 0.6697 - val_loss: 3.0036 - val_acc: 0.3678 - val_top_k_categorical_accuracy: 0.5544\n",
      "Epoch 9/30\n",
      "400000/400000 [==============================] - 6s 15us/step - loss: 2.2667 - acc: 0.4795 - top_k_categorical_accuracy: 0.6812 - val_loss: 3.0161 - val_acc: 0.3688 - val_top_k_categorical_accuracy: 0.5555\n",
      "Epoch 10/30\n",
      "400000/400000 [==============================] - 6s 15us/step - loss: 2.2067 - acc: 0.4919 - top_k_categorical_accuracy: 0.6920 - val_loss: 3.0185 - val_acc: 0.3724 - val_top_k_categorical_accuracy: 0.5536\n",
      "Epoch 11/30\n",
      "400000/400000 [==============================] - 6s 15us/step - loss: 2.1502 - acc: 0.5037 - top_k_categorical_accuracy: 0.7021 - val_loss: 3.0198 - val_acc: 0.3741 - val_top_k_categorical_accuracy: 0.5542\n",
      "Epoch 12/30\n",
      "400000/400000 [==============================] - 6s 15us/step - loss: 2.0965 - acc: 0.5150 - top_k_categorical_accuracy: 0.7117 - val_loss: 3.0293 - val_acc: 0.3758 - val_top_k_categorical_accuracy: 0.5567\n",
      "Epoch 13/30\n",
      "400000/400000 [==============================] - 6s 15us/step - loss: 2.0457 - acc: 0.5261 - top_k_categorical_accuracy: 0.7208 - val_loss: 3.0323 - val_acc: 0.3768 - val_top_k_categorical_accuracy: 0.5563\n",
      "Epoch 14/30\n",
      "400000/400000 [==============================] - 6s 15us/step - loss: 1.9968 - acc: 0.5371 - top_k_categorical_accuracy: 0.7298 - val_loss: 3.0503 - val_acc: 0.3787 - val_top_k_categorical_accuracy: 0.5573\n",
      "Epoch 15/30\n",
      "400000/400000 [==============================] - 6s 15us/step - loss: 1.9502 - acc: 0.5478 - top_k_categorical_accuracy: 0.7380 - val_loss: 3.0698 - val_acc: 0.3771 - val_top_k_categorical_accuracy: 0.5574\n",
      "Epoch 16/30\n",
      "400000/400000 [==============================] - 6s 15us/step - loss: 1.9056 - acc: 0.5577 - top_k_categorical_accuracy: 0.7460 - val_loss: 3.0833 - val_acc: 0.3783 - val_top_k_categorical_accuracy: 0.5568\n",
      "Epoch 00016: early stopping\n"
     ]
    },
    {
     "data": {
      "image/png": "[encoded data removed]",
      "text/plain": [
       "<Figure size 432x288 with 1 Axes>"
      ]
     },
     "metadata": {
      "needs_background": "light"
     },
     "output_type": "display_data"
    },
    {
     "data": {
      "image/png": "[encoded data removed]",
      "text/plain": [
       "<Figure size 432x288 with 1 Axes>"
      ]
     },
     "metadata": {
      "needs_background": "light"
     },
     "output_type": "display_data"
    }
   ],
   "source": [
    "history = model.fit (X_train_indices, y_train_idx,\n",
    "                     validation_data = (X_dev_indices, y_dev_idx),\n",
    "                     epochs = 30,\n",
    "                     batch_size = 4096,\n",
    "                     verbose=1,\n",
    "                     callbacks=[early])\n",
    "\n",
    "plot_train_history(history)"
   ]
  },
  {
   "cell_type": "code",
   "execution_count": 399,
   "metadata": {},
   "outputs": [
    {
     "name": "stdout",
     "output_type": "stream",
     "text": [
      "best validation accuracy:  0.3787000015258789\n"
     ]
    }
   ],
   "source": [
    "print (\"best validation accuracy: \", max(history.history['val_acc']))"
   ]
  },
  {
   "cell_type": "markdown",
   "metadata": {},
   "source": [
    "# Model - Embedding layer into two LSTM layers"
   ]
  },
  {
   "cell_type": "code",
   "execution_count": 332,
   "metadata": {},
   "outputs": [],
   "source": [
    "from keras.models import Model\n",
    "from keras.layers import Dense, Input, Dropout, LSTM, Activation\n",
    "from keras.layers.embeddings import Embedding\n",
    "from keras.preprocessing import sequence\n",
    "from keras.initializers import glorot_uniform"
   ]
  },
  {
   "cell_type": "code",
   "execution_count": 400,
   "metadata": {},
   "outputs": [],
   "source": [
    "\n",
    "def Emojify_V2(input_shape, output_shape, word_to_vec_map, word_to_index):\n",
    "    \"\"\"\n",
    "    Function creating the Emojify-v2 model's graph.\n",
    "    \n",
    "    Arguments:\n",
    "    input_shape -- shape of the input, usually (max_len,)\n",
    "    word_to_vec_map -- dictionary mapping every word in a vocabulary into its 50-dimensional vector representation\n",
    "    word_to_index -- dictionary mapping from words to their indices in the vocabulary (400,001 words)\n",
    "\n",
    "    Returns:\n",
    "    model -- a model instance in Keras\n",
    "    \"\"\"\n",
    "    \n",
    "    ### START CODE HERE ###\n",
    "    # Define sentence_indices as the input of the graph, it should be of shape input_shape and dtype 'int32' (as it contains indices).\n",
    "    sentence_indices = Input(input_shape, name=\"input\", dtype=\"int32\")\n",
    "    \n",
    "    # Create the embedding layer pretrained with GloVe Vectors (≈1 line)\n",
    "    embedding_layer = pretrained_embedding_layer(word_to_vec_map, word_to_index, trainable_word_vectors=False)\n",
    "    \n",
    "    # Propagate sentence_indices through your embedding layer, you get back the embeddings\n",
    "    embeddings = embedding_layer(sentence_indices)\n",
    "    \n",
    "    # Propagate the embeddings through an LSTM layer with 128-dimensional hidden state\n",
    "    # Be careful, the returned output should be a batch of sequences.\n",
    "    X = LSTM(128, return_sequences=True)(embeddings)\n",
    "    # Add dropout with a probability of 0.5\n",
    "    X = Dropout(0.3)(X)\n",
    "    # Propagate X trough another LSTM layer with 128-dimensional hidden state\n",
    "    # Be careful, the returned output should be a single hidden state, not a batch of sequences.\n",
    "    X = LSTM(128)(X)\n",
    "    # Add dropout with a probability of 0.5\n",
    "    X = Dropout(0.3)(X)\n",
    "    # Propagate X through a Dense layer with softmax activation to get back a batch of 5-dimensional vectors.\n",
    "    X = Dense(output_shape, activation=None)(X)\n",
    "    # Add a softmax activation\n",
    "    X = Activation('softmax')(X)\n",
    "    \n",
    "    # Create Model instance which converts sentence_indices into X.\n",
    "    model = Model(inputs=sentence_indices, outputs=X)\n",
    "    \n",
    "    ### END CODE HERE ###\n",
    "    \n",
    "    return model"
   ]
  },
  {
   "cell_type": "code",
   "execution_count": 401,
   "metadata": {},
   "outputs": [
    {
     "name": "stdout",
     "output_type": "stream",
     "text": [
      "emb matrix: 1193515 x 100\n",
      "len word_to_index: 1193513\n",
      "_________________________________________________________________\n",
      "Layer (type)                 Output Shape              Param #   \n",
      "=================================================================\n",
      "input (InputLayer)           (None, 25)                0         \n",
      "_________________________________________________________________\n",
      "embedding_2 (Embedding)      (None, 25, 100)           119351500 \n",
      "_________________________________________________________________\n",
      "lstm_1 (LSTM)                (None, 25, 128)           117248    \n",
      "_________________________________________________________________\n",
      "dropout_1 (Dropout)          (None, 25, 128)           0         \n",
      "_________________________________________________________________\n",
      "lstm_2 (LSTM)                (None, 128)               131584    \n",
      "_________________________________________________________________\n",
      "dropout_2 (Dropout)          (None, 128)               0         \n",
      "_________________________________________________________________\n",
      "dense_2 (Dense)              (None, 112)               14448     \n",
      "_________________________________________________________________\n",
      "activation_2 (Activation)    (None, 112)               0         \n",
      "=================================================================\n",
      "Total params: 119,614,780\n",
      "Trainable params: 263,280\n",
      "Non-trainable params: 119,351,500\n",
      "_________________________________________________________________\n"
     ]
    }
   ],
   "source": [
    "#max_length = 25\n",
    "model = Emojify_V2((maxlen,), y_train_idx.shape[1], word_to_vec_map, word_to_index) # use maxlen defined above (25)\n",
    "model.summary()"
   ]
  },
  {
   "cell_type": "code",
   "execution_count": 402,
   "metadata": {},
   "outputs": [
    {
     "data": {
      "text/plain": [
       "(100,)"
      ]
     },
     "execution_count": 402,
     "metadata": {},
     "output_type": "execute_result"
    }
   ],
   "source": [
    "word_to_vec_map['badger'].shape"
   ]
  },
  {
   "cell_type": "code",
   "execution_count": 403,
   "metadata": {},
   "outputs": [],
   "source": [
    "model.compile(loss='categorical_crossentropy', optimizer='adam', metrics=['accuracy', 'top_k_categorical_accuracy'])"
   ]
  },
  {
   "cell_type": "code",
   "execution_count": 404,
   "metadata": {
    "scrolled": true
   },
   "outputs": [
    {
     "name": "stdout",
     "output_type": "stream",
     "text": [
      "Train on 400000 samples, validate on 20000 samples\n",
      "Epoch 1/100\n",
      "400000/400000 [==============================] - 11s 27us/step - loss: 4.0426 - acc: 0.1724 - top_k_categorical_accuracy: 0.3450 - val_loss: 3.7891 - val_acc: 0.1982 - val_top_k_categorical_accuracy: 0.3883\n",
      "Epoch 2/100\n",
      "400000/400000 [==============================] - 9s 23us/step - loss: 3.6923 - acc: 0.2139 - top_k_categorical_accuracy: 0.4059 - val_loss: 3.5926 - val_acc: 0.2187 - val_top_k_categorical_accuracy: 0.4303\n",
      "Epoch 3/100\n",
      "400000/400000 [==============================] - 9s 23us/step - loss: 3.5303 - acc: 0.2401 - top_k_categorical_accuracy: 0.4387 - val_loss: 3.4463 - val_acc: 0.2438 - val_top_k_categorical_accuracy: 0.4567\n",
      "Epoch 4/100\n",
      "400000/400000 [==============================] - 9s 23us/step - loss: 3.3846 - acc: 0.2627 - top_k_categorical_accuracy: 0.4696 - val_loss: 3.3215 - val_acc: 0.2647 - val_top_k_categorical_accuracy: 0.4762\n",
      "Epoch 5/100\n",
      "400000/400000 [==============================] - 9s 23us/step - loss: 3.2757 - acc: 0.2810 - top_k_categorical_accuracy: 0.4924 - val_loss: 3.2474 - val_acc: 0.2698 - val_top_k_categorical_accuracy: 0.5057\n",
      "Epoch 6/100\n",
      "400000/400000 [==============================] - 9s 23us/step - loss: 3.1931 - acc: 0.2981 - top_k_categorical_accuracy: 0.5071 - val_loss: 3.1918 - val_acc: 0.2812 - val_top_k_categorical_accuracy: 0.5168\n",
      "Epoch 7/100\n",
      "400000/400000 [==============================] - 9s 23us/step - loss: 3.1234 - acc: 0.3122 - top_k_categorical_accuracy: 0.5187 - val_loss: 3.1312 - val_acc: 0.2861 - val_top_k_categorical_accuracy: 0.5216\n",
      "Epoch 8/100\n",
      "400000/400000 [==============================] - 9s 23us/step - loss: 3.0699 - acc: 0.3231 - top_k_categorical_accuracy: 0.5284 - val_loss: 3.0924 - val_acc: 0.2982 - val_top_k_categorical_accuracy: 0.5237\n",
      "Epoch 9/100\n",
      "400000/400000 [==============================] - 9s 23us/step - loss: 3.0232 - acc: 0.3320 - top_k_categorical_accuracy: 0.5358 - val_loss: 3.0750 - val_acc: 0.2994 - val_top_k_categorical_accuracy: 0.5339\n",
      "Epoch 10/100\n",
      "400000/400000 [==============================] - 9s 23us/step - loss: 2.9794 - acc: 0.3411 - top_k_categorical_accuracy: 0.5450 - val_loss: 3.0576 - val_acc: 0.3057 - val_top_k_categorical_accuracy: 0.5149\n",
      "Epoch 11/100\n",
      "400000/400000 [==============================] - 9s 23us/step - loss: 2.9430 - acc: 0.3492 - top_k_categorical_accuracy: 0.5508 - val_loss: 3.0386 - val_acc: 0.3131 - val_top_k_categorical_accuracy: 0.5246\n",
      "Epoch 12/100\n",
      "400000/400000 [==============================] - 9s 23us/step - loss: 2.9093 - acc: 0.3561 - top_k_categorical_accuracy: 0.5567 - val_loss: 3.0148 - val_acc: 0.3140 - val_top_k_categorical_accuracy: 0.5436\n",
      "Epoch 13/100\n",
      "400000/400000 [==============================] - 9s 23us/step - loss: 2.8829 - acc: 0.3613 - top_k_categorical_accuracy: 0.5614 - val_loss: 3.0102 - val_acc: 0.3183 - val_top_k_categorical_accuracy: 0.5294\n",
      "Epoch 14/100\n",
      "400000/400000 [==============================] - 9s 23us/step - loss: 2.8536 - acc: 0.3670 - top_k_categorical_accuracy: 0.5665 - val_loss: 3.0021 - val_acc: 0.3217 - val_top_k_categorical_accuracy: 0.5333\n",
      "Epoch 15/100\n",
      "400000/400000 [==============================] - 9s 23us/step - loss: 2.8273 - acc: 0.3732 - top_k_categorical_accuracy: 0.5710 - val_loss: 2.9814 - val_acc: 0.3287 - val_top_k_categorical_accuracy: 0.5318\n",
      "Epoch 16/100\n",
      "400000/400000 [==============================] - 9s 23us/step - loss: 2.8026 - acc: 0.3776 - top_k_categorical_accuracy: 0.5754 - val_loss: 2.9844 - val_acc: 0.3336 - val_top_k_categorical_accuracy: 0.5380\n",
      "Epoch 17/100\n",
      "400000/400000 [==============================] - 9s 23us/step - loss: 2.7840 - acc: 0.3816 - top_k_categorical_accuracy: 0.5783 - val_loss: 2.9723 - val_acc: 0.3343 - val_top_k_categorical_accuracy: 0.5339\n",
      "Epoch 18/100\n",
      "400000/400000 [==============================] - 9s 23us/step - loss: 2.7614 - acc: 0.3864 - top_k_categorical_accuracy: 0.5829 - val_loss: 3.0086 - val_acc: 0.3351 - val_top_k_categorical_accuracy: 0.5400\n",
      "Epoch 19/100\n",
      "400000/400000 [==============================] - 9s 23us/step - loss: 2.7411 - acc: 0.3909 - top_k_categorical_accuracy: 0.5859 - val_loss: 3.0017 - val_acc: 0.3395 - val_top_k_categorical_accuracy: 0.5409\n",
      "Epoch 20/100\n",
      "400000/400000 [==============================] - 9s 23us/step - loss: 2.7237 - acc: 0.3945 - top_k_categorical_accuracy: 0.5893 - val_loss: 3.0231 - val_acc: 0.3375 - val_top_k_categorical_accuracy: 0.5402\n",
      "Epoch 21/100\n",
      "400000/400000 [==============================] - 9s 23us/step - loss: 2.7056 - acc: 0.3978 - top_k_categorical_accuracy: 0.5923 - val_loss: 3.0163 - val_acc: 0.3410 - val_top_k_categorical_accuracy: 0.5442\n",
      "Epoch 22/100\n",
      "400000/400000 [==============================] - 9s 23us/step - loss: 2.6905 - acc: 0.4004 - top_k_categorical_accuracy: 0.5945 - val_loss: 2.9531 - val_acc: 0.3425 - val_top_k_categorical_accuracy: 0.5494\n",
      "Epoch 23/100\n",
      "400000/400000 [==============================] - 9s 23us/step - loss: 2.6754 - acc: 0.4035 - top_k_categorical_accuracy: 0.5973 - val_loss: 2.9822 - val_acc: 0.3445 - val_top_k_categorical_accuracy: 0.5468\n",
      "Epoch 24/100\n",
      "400000/400000 [==============================] - 9s 23us/step - loss: 2.6591 - acc: 0.4070 - top_k_categorical_accuracy: 0.5998 - val_loss: 2.9691 - val_acc: 0.3466 - val_top_k_categorical_accuracy: 0.5440\n",
      "Epoch 25/100\n",
      "400000/400000 [==============================] - 9s 23us/step - loss: 2.6439 - acc: 0.4097 - top_k_categorical_accuracy: 0.6027 - val_loss: 2.9744 - val_acc: 0.3462 - val_top_k_categorical_accuracy: 0.5535\n",
      "Epoch 26/100\n",
      "400000/400000 [==============================] - 9s 23us/step - loss: 2.6319 - acc: 0.4122 - top_k_categorical_accuracy: 0.6047 - val_loss: 2.9756 - val_acc: 0.3514 - val_top_k_categorical_accuracy: 0.5532\n",
      "Epoch 27/100\n",
      "400000/400000 [==============================] - 9s 23us/step - loss: 2.6202 - acc: 0.4151 - top_k_categorical_accuracy: 0.6066 - val_loss: 2.9336 - val_acc: 0.3526 - val_top_k_categorical_accuracy: 0.5541\n",
      "Epoch 28/100\n",
      "400000/400000 [==============================] - 9s 23us/step - loss: 2.6085 - acc: 0.4173 - top_k_categorical_accuracy: 0.6086 - val_loss: 2.9438 - val_acc: 0.3499 - val_top_k_categorical_accuracy: 0.5542\n",
      "Epoch 29/100\n",
      "400000/400000 [==============================] - 9s 23us/step - loss: 2.5948 - acc: 0.4197 - top_k_categorical_accuracy: 0.6109 - val_loss: 2.9751 - val_acc: 0.3497 - val_top_k_categorical_accuracy: 0.5500\n",
      "Epoch 30/100\n",
      "400000/400000 [==============================] - 9s 23us/step - loss: 2.5846 - acc: 0.4219 - top_k_categorical_accuracy: 0.6126 - val_loss: 2.9679 - val_acc: 0.3527 - val_top_k_categorical_accuracy: 0.5531\n",
      "Epoch 31/100\n",
      "400000/400000 [==============================] - 9s 23us/step - loss: 2.5750 - acc: 0.4250 - top_k_categorical_accuracy: 0.6141 - val_loss: 3.0026 - val_acc: 0.3532 - val_top_k_categorical_accuracy: 0.5499\n",
      "Epoch 32/100\n",
      "400000/400000 [==============================] - 9s 23us/step - loss: 2.5616 - acc: 0.4270 - top_k_categorical_accuracy: 0.6167 - val_loss: 2.9778 - val_acc: 0.3536 - val_top_k_categorical_accuracy: 0.5552\n",
      "Epoch 33/100\n",
      "400000/400000 [==============================] - 9s 23us/step - loss: 2.5520 - acc: 0.4287 - top_k_categorical_accuracy: 0.6181 - val_loss: 3.0002 - val_acc: 0.3545 - val_top_k_categorical_accuracy: 0.5528\n",
      "Epoch 34/100\n",
      "400000/400000 [==============================] - 9s 23us/step - loss: 2.5418 - acc: 0.4303 - top_k_categorical_accuracy: 0.6196 - val_loss: 2.9740 - val_acc: 0.3540 - val_top_k_categorical_accuracy: 0.5544\n",
      "Epoch 35/100\n",
      "400000/400000 [==============================] - 9s 23us/step - loss: 2.5343 - acc: 0.4321 - top_k_categorical_accuracy: 0.6207 - val_loss: 2.9817 - val_acc: 0.3580 - val_top_k_categorical_accuracy: 0.5510\n",
      "Epoch 36/100\n",
      "400000/400000 [==============================] - 9s 23us/step - loss: 2.5259 - acc: 0.4342 - top_k_categorical_accuracy: 0.6221 - val_loss: 3.0066 - val_acc: 0.3568 - val_top_k_categorical_accuracy: 0.5531\n",
      "Epoch 37/100\n",
      "400000/400000 [==============================] - 9s 23us/step - loss: 2.5159 - acc: 0.4362 - top_k_categorical_accuracy: 0.6245 - val_loss: 2.9872 - val_acc: 0.3568 - val_top_k_categorical_accuracy: 0.5521\n",
      "Epoch 38/100\n"
     ]
    },
    {
     "name": "stdout",
     "output_type": "stream",
     "text": [
      "400000/400000 [==============================] - 9s 23us/step - loss: 2.5092 - acc: 0.4370 - top_k_categorical_accuracy: 0.6256 - val_loss: 3.0184 - val_acc: 0.3580 - val_top_k_categorical_accuracy: 0.5492\n",
      "Epoch 39/100\n",
      "400000/400000 [==============================] - 9s 23us/step - loss: 2.5018 - acc: 0.4387 - top_k_categorical_accuracy: 0.6262 - val_loss: 2.9248 - val_acc: 0.3586 - val_top_k_categorical_accuracy: 0.5486\n",
      "Epoch 40/100\n",
      "400000/400000 [==============================] - 9s 23us/step - loss: 2.4928 - acc: 0.4403 - top_k_categorical_accuracy: 0.6276 - val_loss: 2.9656 - val_acc: 0.3582 - val_top_k_categorical_accuracy: 0.5428\n",
      "Epoch 41/100\n",
      "400000/400000 [==============================] - 9s 23us/step - loss: 2.4851 - acc: 0.4419 - top_k_categorical_accuracy: 0.6294 - val_loss: 3.0067 - val_acc: 0.3615 - val_top_k_categorical_accuracy: 0.5504\n",
      "Epoch 42/100\n",
      "400000/400000 [==============================] - 9s 23us/step - loss: 2.4770 - acc: 0.4438 - top_k_categorical_accuracy: 0.6303 - val_loss: 2.9446 - val_acc: 0.3621 - val_top_k_categorical_accuracy: 0.5513\n",
      "Epoch 43/100\n",
      "400000/400000 [==============================] - 9s 23us/step - loss: 2.4716 - acc: 0.4441 - top_k_categorical_accuracy: 0.6319 - val_loss: 3.0067 - val_acc: 0.3584 - val_top_k_categorical_accuracy: 0.5488\n",
      "Epoch 44/100\n",
      "400000/400000 [==============================] - 9s 23us/step - loss: 2.4648 - acc: 0.4454 - top_k_categorical_accuracy: 0.6325 - val_loss: 3.0198 - val_acc: 0.3612 - val_top_k_categorical_accuracy: 0.5518\n",
      "Epoch 45/100\n",
      "400000/400000 [==============================] - 9s 23us/step - loss: 2.4575 - acc: 0.4468 - top_k_categorical_accuracy: 0.6339 - val_loss: 3.0027 - val_acc: 0.3634 - val_top_k_categorical_accuracy: 0.5523\n",
      "Epoch 46/100\n",
      "400000/400000 [==============================] - 9s 23us/step - loss: 2.4504 - acc: 0.4488 - top_k_categorical_accuracy: 0.6347 - val_loss: 3.0440 - val_acc: 0.3580 - val_top_k_categorical_accuracy: 0.5502\n",
      "Epoch 47/100\n",
      "400000/400000 [==============================] - 9s 23us/step - loss: 2.4444 - acc: 0.4492 - top_k_categorical_accuracy: 0.6361 - val_loss: 2.9888 - val_acc: 0.3610 - val_top_k_categorical_accuracy: 0.5510\n",
      "Epoch 48/100\n",
      "400000/400000 [==============================] - 9s 23us/step - loss: 2.4379 - acc: 0.4512 - top_k_categorical_accuracy: 0.6369 - val_loss: 2.9942 - val_acc: 0.3614 - val_top_k_categorical_accuracy: 0.5518\n",
      "Epoch 49/100\n",
      "400000/400000 [==============================] - 9s 23us/step - loss: 2.4311 - acc: 0.4522 - top_k_categorical_accuracy: 0.6383 - val_loss: 3.0068 - val_acc: 0.3611 - val_top_k_categorical_accuracy: 0.5525\n",
      "Epoch 50/100\n",
      "400000/400000 [==============================] - 9s 23us/step - loss: 2.4283 - acc: 0.4529 - top_k_categorical_accuracy: 0.6389 - val_loss: 2.9940 - val_acc: 0.3635 - val_top_k_categorical_accuracy: 0.5488\n",
      "Epoch 51/100\n",
      "400000/400000 [==============================] - 9s 23us/step - loss: 2.4215 - acc: 0.4539 - top_k_categorical_accuracy: 0.6398 - val_loss: 3.0147 - val_acc: 0.3628 - val_top_k_categorical_accuracy: 0.5509\n",
      "Epoch 52/100\n",
      "400000/400000 [==============================] - 9s 23us/step - loss: 2.4160 - acc: 0.4548 - top_k_categorical_accuracy: 0.6412 - val_loss: 3.0211 - val_acc: 0.3664 - val_top_k_categorical_accuracy: 0.5528\n",
      "Epoch 53/100\n",
      "400000/400000 [==============================] - 9s 23us/step - loss: 2.4117 - acc: 0.4555 - top_k_categorical_accuracy: 0.6417 - val_loss: 2.9974 - val_acc: 0.3647 - val_top_k_categorical_accuracy: 0.5524\n",
      "Epoch 54/100\n",
      "400000/400000 [==============================] - 9s 23us/step - loss: 2.4069 - acc: 0.4568 - top_k_categorical_accuracy: 0.6427 - val_loss: 2.9934 - val_acc: 0.3667 - val_top_k_categorical_accuracy: 0.5514\n",
      "Epoch 55/100\n",
      "400000/400000 [==============================] - 9s 23us/step - loss: 2.3989 - acc: 0.4584 - top_k_categorical_accuracy: 0.6439 - val_loss: 3.0207 - val_acc: 0.3660 - val_top_k_categorical_accuracy: 0.5552\n",
      "Epoch 56/100\n",
      "400000/400000 [==============================] - 9s 23us/step - loss: 2.3965 - acc: 0.4590 - top_k_categorical_accuracy: 0.6443 - val_loss: 3.0556 - val_acc: 0.3663 - val_top_k_categorical_accuracy: 0.5529\n",
      "Epoch 57/100\n",
      "400000/400000 [==============================] - 9s 23us/step - loss: 2.3910 - acc: 0.4596 - top_k_categorical_accuracy: 0.6450 - val_loss: 2.9917 - val_acc: 0.3640 - val_top_k_categorical_accuracy: 0.5504\n",
      "Epoch 58/100\n",
      "400000/400000 [==============================] - 9s 23us/step - loss: 2.3877 - acc: 0.4597 - top_k_categorical_accuracy: 0.6460 - val_loss: 3.0161 - val_acc: 0.3661 - val_top_k_categorical_accuracy: 0.5530\n",
      "Epoch 59/100\n",
      "400000/400000 [==============================] - 9s 23us/step - loss: 2.3823 - acc: 0.4616 - top_k_categorical_accuracy: 0.6469 - val_loss: 3.0025 - val_acc: 0.3664 - val_top_k_categorical_accuracy: 0.5483\n",
      "Epoch 60/100\n",
      "400000/400000 [==============================] - 9s 23us/step - loss: 2.3779 - acc: 0.4622 - top_k_categorical_accuracy: 0.6476 - val_loss: 2.9777 - val_acc: 0.3655 - val_top_k_categorical_accuracy: 0.5529\n",
      "Epoch 61/100\n",
      "400000/400000 [==============================] - 9s 23us/step - loss: 2.3739 - acc: 0.4630 - top_k_categorical_accuracy: 0.6486 - val_loss: 2.9986 - val_acc: 0.3677 - val_top_k_categorical_accuracy: 0.5529\n",
      "Epoch 62/100\n",
      "400000/400000 [==============================] - 9s 23us/step - loss: 2.3697 - acc: 0.4638 - top_k_categorical_accuracy: 0.6488 - val_loss: 3.0073 - val_acc: 0.3661 - val_top_k_categorical_accuracy: 0.5518\n",
      "Epoch 63/100\n",
      "400000/400000 [==============================] - 9s 23us/step - loss: 2.3641 - acc: 0.4653 - top_k_categorical_accuracy: 0.6494 - val_loss: 3.0101 - val_acc: 0.3650 - val_top_k_categorical_accuracy: 0.5512\n",
      "Epoch 64/100\n",
      "400000/400000 [==============================] - 9s 23us/step - loss: 2.3601 - acc: 0.4658 - top_k_categorical_accuracy: 0.6504 - val_loss: 3.0622 - val_acc: 0.3687 - val_top_k_categorical_accuracy: 0.5550\n",
      "Epoch 65/100\n",
      "400000/400000 [==============================] - 9s 23us/step - loss: 2.3563 - acc: 0.4663 - top_k_categorical_accuracy: 0.6508 - val_loss: 3.0363 - val_acc: 0.3688 - val_top_k_categorical_accuracy: 0.5547\n",
      "Epoch 66/100\n",
      "400000/400000 [==============================] - 9s 23us/step - loss: 2.3510 - acc: 0.4671 - top_k_categorical_accuracy: 0.6521 - val_loss: 3.0215 - val_acc: 0.3706 - val_top_k_categorical_accuracy: 0.5507\n",
      "Epoch 67/100\n",
      "400000/400000 [==============================] - 9s 23us/step - loss: 2.3465 - acc: 0.4684 - top_k_categorical_accuracy: 0.6527 - val_loss: 3.0230 - val_acc: 0.3678 - val_top_k_categorical_accuracy: 0.5534\n",
      "Epoch 68/100\n",
      "400000/400000 [==============================] - 9s 23us/step - loss: 2.3473 - acc: 0.4682 - top_k_categorical_accuracy: 0.6530 - val_loss: 3.0296 - val_acc: 0.3672 - val_top_k_categorical_accuracy: 0.5486\n",
      "Epoch 69/100\n",
      "400000/400000 [==============================] - 9s 23us/step - loss: 2.3412 - acc: 0.4692 - top_k_categorical_accuracy: 0.6535 - val_loss: 3.0160 - val_acc: 0.3694 - val_top_k_categorical_accuracy: 0.5522\n",
      "Epoch 70/100\n",
      "400000/400000 [==============================] - 9s 23us/step - loss: 2.3390 - acc: 0.4698 - top_k_categorical_accuracy: 0.6540 - val_loss: 3.0328 - val_acc: 0.3717 - val_top_k_categorical_accuracy: 0.5505\n",
      "Epoch 71/100\n",
      "400000/400000 [==============================] - 9s 23us/step - loss: 2.3339 - acc: 0.4703 - top_k_categorical_accuracy: 0.6550 - val_loss: 3.0409 - val_acc: 0.3696 - val_top_k_categorical_accuracy: 0.5533\n",
      "Epoch 72/100\n",
      "400000/400000 [==============================] - 9s 23us/step - loss: 2.3331 - acc: 0.4704 - top_k_categorical_accuracy: 0.6550 - val_loss: 3.0423 - val_acc: 0.3700 - val_top_k_categorical_accuracy: 0.5515\n",
      "Epoch 73/100\n",
      "400000/400000 [==============================] - 9s 23us/step - loss: 2.3280 - acc: 0.4718 - top_k_categorical_accuracy: 0.6552 - val_loss: 3.0175 - val_acc: 0.3729 - val_top_k_categorical_accuracy: 0.5494\n",
      "Epoch 74/100\n",
      "400000/400000 [==============================] - 9s 23us/step - loss: 2.3251 - acc: 0.4723 - top_k_categorical_accuracy: 0.6558 - val_loss: 3.0247 - val_acc: 0.3700 - val_top_k_categorical_accuracy: 0.5515\n",
      "Epoch 75/100\n"
     ]
    },
    {
     "name": "stdout",
     "output_type": "stream",
     "text": [
      "400000/400000 [==============================] - 9s 23us/step - loss: 2.3209 - acc: 0.4731 - top_k_categorical_accuracy: 0.6567 - val_loss: 3.0070 - val_acc: 0.3708 - val_top_k_categorical_accuracy: 0.5538\n",
      "Epoch 76/100\n",
      "400000/400000 [==============================] - 9s 23us/step - loss: 2.3189 - acc: 0.4735 - top_k_categorical_accuracy: 0.6573 - val_loss: 3.0160 - val_acc: 0.3723 - val_top_k_categorical_accuracy: 0.5501\n",
      "Epoch 77/100\n",
      "400000/400000 [==============================] - 9s 23us/step - loss: 2.3146 - acc: 0.4743 - top_k_categorical_accuracy: 0.6577 - val_loss: 3.0183 - val_acc: 0.3719 - val_top_k_categorical_accuracy: 0.5562\n",
      "Epoch 78/100\n",
      "400000/400000 [==============================] - 9s 23us/step - loss: 2.3119 - acc: 0.4744 - top_k_categorical_accuracy: 0.6584 - val_loss: 3.0594 - val_acc: 0.3720 - val_top_k_categorical_accuracy: 0.5546\n",
      "Epoch 79/100\n",
      "400000/400000 [==============================] - 9s 23us/step - loss: 2.3091 - acc: 0.4753 - top_k_categorical_accuracy: 0.6591 - val_loss: 3.0589 - val_acc: 0.3709 - val_top_k_categorical_accuracy: 0.5499\n",
      "Epoch 80/100\n",
      "400000/400000 [==============================] - 9s 23us/step - loss: 2.3059 - acc: 0.4759 - top_k_categorical_accuracy: 0.6598 - val_loss: 3.0534 - val_acc: 0.3727 - val_top_k_categorical_accuracy: 0.5481\n",
      "Epoch 81/100\n",
      "400000/400000 [==============================] - 9s 23us/step - loss: 2.3055 - acc: 0.4756 - top_k_categorical_accuracy: 0.6600 - val_loss: 3.0419 - val_acc: 0.3736 - val_top_k_categorical_accuracy: 0.5496\n",
      "Epoch 82/100\n",
      "400000/400000 [==============================] - 9s 23us/step - loss: 2.3002 - acc: 0.4769 - top_k_categorical_accuracy: 0.6605 - val_loss: 3.0299 - val_acc: 0.3703 - val_top_k_categorical_accuracy: 0.5550\n",
      "Epoch 83/100\n",
      "400000/400000 [==============================] - 9s 23us/step - loss: 2.2967 - acc: 0.4773 - top_k_categorical_accuracy: 0.6607 - val_loss: 3.0478 - val_acc: 0.3717 - val_top_k_categorical_accuracy: 0.5529\n",
      "Epoch 00083: early stopping\n"
     ]
    },
    {
     "data": {
      "image/png": "[encoded data removed]",
      "text/plain": [
       "<Figure size 432x288 with 1 Axes>"
      ]
     },
     "metadata": {
      "needs_background": "light"
     },
     "output_type": "display_data"
    },
    {
     "data": {
      "image/png": "[encoded data removed]",
      "text/plain": [
       "<Figure size 432x288 with 1 Axes>"
      ]
     },
     "metadata": {
      "needs_background": "light"
     },
     "output_type": "display_data"
    },
    {
     "name": "stdout",
     "output_type": "stream",
     "text": [
      "best validation accuracy:  0.37364999794960024\n"
     ]
    }
   ],
   "source": [
    "early = keras.callbacks.EarlyStopping(monitor='val_acc',\n",
    "                              min_delta=0.001,\n",
    "                              patience=10,\n",
    "                              verbose=1, mode='auto')\n",
    "\n",
    "\n",
    "history = model.fit(X_train_indices, \n",
    "                    y_train_idx, \n",
    "                    validation_data = (X_dev_indices, y_dev_idx),\n",
    "                    epochs = 100, \n",
    "                    batch_size = 4096, \n",
    "                    shuffle=True,\n",
    "                    callbacks=[early])\n",
    "\n",
    "plot_train_history(history)\n",
    "print (\"best validation accuracy: \", max(history.history['val_acc']))"
   ]
  },
  {
   "cell_type": "markdown",
   "metadata": {},
   "source": [
    "Hmm, even with two 128-unit LSTM layers, the model using the GloVe pretrained word embeddings seems to do worse than the simple embedding layer using our own embeddings. It's possible that in using pretrained embeddings we're discarding some  information, in that not all of the words are being recognised in the downloaded embeddings. (Hashtags, most obviously).\n",
    "\n",
    "It would be instructive here to re-run the LSTM model using the simple (i.e. non-pretrained) embedding layer."
   ]
  },
  {
   "cell_type": "code",
   "execution_count": 365,
   "metadata": {},
   "outputs": [
    {
     "name": "stdout",
     "output_type": "stream",
     "text": [
      "Pre-trained word embeddings, avg indices per tweet: 8.52013\n",
      "New word embeddings, avg indices per tweet: 11.0151225\n"
     ]
    }
   ],
   "source": [
    "print (\"Pre-trained word embeddings, avg indices per tweet:\", np.count_nonzero(X_train_indices, axis=1).mean())\n",
    "print (\"New word embeddings, avg indices per tweet:\", np.count_nonzero(x_train_sequences_1, axis=1).mean())"
   ]
  },
  {
   "cell_type": "markdown",
   "metadata": {},
   "source": [
    "# LSTM model (no pre-trained encodings)"
   ]
  },
  {
   "cell_type": "code",
   "execution_count": 366,
   "metadata": {},
   "outputs": [],
   "source": [
    "def simple_lstm_model(num_words,\n",
    "                      n_output_classes, \n",
    "                      n_embedding_dims = 16, \n",
    "                      lstm_1_size=128,\n",
    "                      dropout1_rate = 0.2,\n",
    "                      lstm_2_size=128,\n",
    "                      dropout2_rate = 0.2,\n",
    "                      max_sequence_length = 20, \n",
    "                      lambd = 0.0):\n",
    "\n",
    "    model = Sequential()\n",
    "\n",
    "    model.add(Embedding(num_words, n_embedding_dims, input_length = max_sequence_length, name=\"embedding\")) \n",
    "    model.add(LSTM(lstm_1_size, return_sequences=True))\n",
    "    model.add(Dropout(dropout1_rate))\n",
    "    model.add(LSTM(lstm_2_size))\n",
    "    model.add(Dropout(dropout2_rate))\n",
    "    model.add(Dense(n_output_classes, activation = 'softmax'))\n",
    "    model.compile(optimizer = 'rmsprop',\n",
    "                  loss='categorical_crossentropy',\n",
    "                  metrics=['accuracy'])\n",
    "\n",
    "    return (model)"
   ]
  },
  {
   "cell_type": "code",
   "execution_count": 367,
   "metadata": {},
   "outputs": [
    {
     "name": "stdout",
     "output_type": "stream",
     "text": [
      "Train on 400000 samples, validate on 20000 samples\n",
      "Epoch 1/100\n",
      "400000/400000 [==============================] - 12s 30us/step - loss: 3.9680 - acc: 0.1750 - val_loss: 3.6517 - val_acc: 0.2163\n",
      "Epoch 2/100\n",
      "400000/400000 [==============================] - 10s 24us/step - loss: 3.4756 - acc: 0.2535 - val_loss: 3.3542 - val_acc: 0.2608\n",
      "Epoch 3/100\n",
      "400000/400000 [==============================] - 10s 25us/step - loss: 3.2028 - acc: 0.2964 - val_loss: 3.2164 - val_acc: 0.2934\n",
      "Epoch 4/100\n",
      "400000/400000 [==============================] - 10s 24us/step - loss: 3.0575 - acc: 0.3229 - val_loss: 3.1199 - val_acc: 0.3104\n",
      "Epoch 5/100\n",
      "400000/400000 [==============================] - 10s 25us/step - loss: 2.9483 - acc: 0.3468 - val_loss: 3.0269 - val_acc: 0.3333\n",
      "Epoch 6/100\n",
      "400000/400000 [==============================] - 10s 25us/step - loss: 2.8612 - acc: 0.3659 - val_loss: 2.9711 - val_acc: 0.3454\n",
      "Epoch 7/100\n",
      "400000/400000 [==============================] - 10s 25us/step - loss: 2.7893 - acc: 0.3804 - val_loss: 2.9521 - val_acc: 0.3520\n",
      "Epoch 8/100\n",
      "400000/400000 [==============================] - 10s 25us/step - loss: 2.7360 - acc: 0.3918 - val_loss: 2.9207 - val_acc: 0.3551\n",
      "Epoch 9/100\n",
      "400000/400000 [==============================] - 10s 25us/step - loss: 2.6894 - acc: 0.4015 - val_loss: 2.8757 - val_acc: 0.3615\n",
      "Epoch 10/100\n",
      "400000/400000 [==============================] - 10s 25us/step - loss: 2.6523 - acc: 0.4091 - val_loss: 2.8875 - val_acc: 0.3698\n",
      "Epoch 11/100\n",
      "400000/400000 [==============================] - 10s 25us/step - loss: 2.6184 - acc: 0.4163 - val_loss: 2.8644 - val_acc: 0.3735\n",
      "Epoch 12/100\n",
      "400000/400000 [==============================] - 10s 25us/step - loss: 2.5877 - acc: 0.4221 - val_loss: 2.8593 - val_acc: 0.3664\n",
      "Epoch 13/100\n",
      "400000/400000 [==============================] - 10s 25us/step - loss: 2.5621 - acc: 0.4270 - val_loss: 2.8548 - val_acc: 0.3738\n",
      "Epoch 14/100\n",
      "400000/400000 [==============================] - 10s 25us/step - loss: 2.5376 - acc: 0.4318 - val_loss: 2.8385 - val_acc: 0.3764\n",
      "Epoch 15/100\n",
      "400000/400000 [==============================] - 10s 25us/step - loss: 2.5147 - acc: 0.4366 - val_loss: 2.8530 - val_acc: 0.3802\n",
      "Epoch 16/100\n",
      "400000/400000 [==============================] - 10s 25us/step - loss: 2.4957 - acc: 0.4407 - val_loss: 2.8221 - val_acc: 0.3840\n",
      "Epoch 17/100\n",
      "400000/400000 [==============================] - 10s 25us/step - loss: 2.4779 - acc: 0.4439 - val_loss: 2.7966 - val_acc: 0.3861\n",
      "Epoch 18/100\n",
      "400000/400000 [==============================] - 10s 25us/step - loss: 2.4567 - acc: 0.4480 - val_loss: 2.8119 - val_acc: 0.3873\n",
      "Epoch 19/100\n",
      "400000/400000 [==============================] - 10s 25us/step - loss: 2.4416 - acc: 0.4508 - val_loss: 2.7973 - val_acc: 0.3850\n",
      "Epoch 20/100\n",
      "400000/400000 [==============================] - 10s 25us/step - loss: 2.4252 - acc: 0.4541 - val_loss: 2.8028 - val_acc: 0.3863\n",
      "Epoch 21/100\n",
      "400000/400000 [==============================] - 10s 25us/step - loss: 2.4105 - acc: 0.4569 - val_loss: 2.8287 - val_acc: 0.3907\n",
      "Epoch 22/100\n",
      "400000/400000 [==============================] - 10s 25us/step - loss: 2.3959 - acc: 0.4603 - val_loss: 2.8700 - val_acc: 0.3937\n",
      "Epoch 00022: early stopping\n"
     ]
    },
    {
     "data": {
      "image/png": "[encoded data removed]",
      "text/plain": [
       "<Figure size 432x288 with 1 Axes>"
      ]
     },
     "metadata": {
      "needs_background": "light"
     },
     "output_type": "display_data"
    },
    {
     "data": {
      "image/png": "[encoded data removed]",
      "text/plain": [
       "<Figure size 432x288 with 1 Axes>"
      ]
     },
     "metadata": {
      "needs_background": "light"
     },
     "output_type": "display_data"
    },
    {
     "name": "stdout",
     "output_type": "stream",
     "text": [
      "best validation accuracy:  0.3937499975681305\n"
     ]
    }
   ],
   "source": [
    "clear_session()\n",
    "\n",
    "model = simple_lstm_model(num_words,\n",
    "                          n_output_classes, \n",
    "                          n_embedding_dims = 100,\n",
    "                          lstm_1_size = 128,\n",
    "                          dropout1_rate = 0.5,   \n",
    "                          lstm_2_size = 128,\n",
    "                          dropout2_rate = 0.5,  \n",
    "                          max_sequence_length = maxlen,\n",
    "   #                       dense1_size = 128,               \n",
    "                                  \n",
    "                          lambd = 0.0025)                \n",
    "\n",
    "\n",
    "\n",
    "\n",
    "early = keras.callbacks.EarlyStopping(monitor='val_loss',\n",
    "                              min_delta=0.01,\n",
    "                              patience=5,\n",
    "                              verbose=1, mode='auto')\n",
    "\n",
    "history = model.fit (x_train_sequences_1, y_train_idx,\n",
    "                     validation_data = (x_dev_sequences, y_dev_idx),\n",
    "                     epochs = 100,\n",
    "                     batch_size = 4096,\n",
    "                     verbose=1,\n",
    "                     callbacks=[early])\n",
    "\n",
    "plot_train_history(history)\n",
    "print (\"best validation accuracy: \", max(history.history['val_acc']))"
   ]
  },
  {
   "cell_type": "code",
   "execution_count": null,
   "metadata": {},
   "outputs": [],
   "source": []
  }
 ],
 "metadata": {
  "kernelspec": {
   "display_name": "Python 3",
   "language": "python",
   "name": "python3"
  },
  "language_info": {
   "codemirror_mode": {
    "name": "ipython",
    "version": 3
   },
   "file_extension": ".py",
   "mimetype": "text/x-python",
   "name": "python",
   "nbconvert_exporter": "python",
   "pygments_lexer": "ipython3",
   "version": "3.6.6"
  }
 },
 "nbformat": 4,
 "nbformat_minor": 2
}
