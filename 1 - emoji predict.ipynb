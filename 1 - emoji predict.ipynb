{
 "cells": [
  {
   "cell_type": "markdown",
   "metadata": {},
   "source": [
    "# Emojitranslate project"
   ]
  },
  {
   "cell_type": "markdown",
   "metadata": {},
   "source": [
    "## Part one - learning to predict emojis from tweets"
   ]
  },
  {
   "cell_type": "markdown",
   "metadata": {},
   "source": [
    "The following code adapted from the Osinga deep learning cookbook - using the Twitter API to sample EN language tweets that contain exactly one emoji"
   ]
  },
  {
   "cell_type": "code",
   "execution_count": 108,
   "metadata": {},
   "outputs": [],
   "source": [
    "import random\n",
    "import twitter\n",
    "import emoji\n",
    "# import itertools\n",
    "import pandas as pd\n",
    "from itertools import chain\n",
    "from keras.preprocessing.sequence import pad_sequences\n",
    "import numpy as np\n",
    "#from sklearn.model_selection import train_test_split\n",
    "from keras import Sequential, optimizers, regularizers\n",
    "from keras.preprocessing.text import Tokenizer\n",
    "from keras.preprocessing.sequence import pad_sequences\n",
    "from keras.preprocessing.text import one_hot\n",
    "from keras.utils import to_categorical\n",
    "import keras.callbacks\n",
    "from keras.backend import clear_session\n",
    "#import json\n",
    "\n",
    "import os\n",
    "# import nb_utils\n",
    "from keras.layers import Input, Conv1D, MaxPooling1D, Flatten, Dense, Dropout, LSTM, Embedding, GlobalMaxPooling1D#, Merge \n",
    "from keras.models import Model\n",
    "from keras.layers.merge import Concatenate, Average\n",
    "\n",
    "# from gensim.models import Word2Vec"
   ]
  },
  {
   "cell_type": "code",
   "execution_count": 43,
   "metadata": {},
   "outputs": [
    {
     "data": {
      "text/plain": [
       "😂        41999\n",
       "😭        17206\n",
       "❤        13689\n",
       "emoji     9718\n",
       "😍         9350\n",
       "🔥         8874\n",
       "🤣         5876\n",
       "🤔         4587\n",
       "🙏         4465\n",
       "😩         4349\n",
       "💕         4280\n",
       "😊         4067\n",
       "🖤         3997\n",
       "👀         3672\n",
       "✨         3495\n",
       "💜         3483\n",
       "👏         3393\n",
       "🙄         3267\n",
       "💀         3067\n",
       "🎉         2956\n",
       "🙌         2798\n",
       "😏         2762\n",
       "😘         2671\n",
       "💯         2583\n",
       "💙         2455\n",
       "👍         2377\n",
       "😔         2362\n",
       "😉         2251\n",
       "😎         2242\n",
       "💖         2197\n",
       "         ...  \n",
       "📇            1\n",
       "🚛            1\n",
       "⚱            1\n",
       "↕            1\n",
       "📤            1\n",
       "🖲            1\n",
       "🔕            1\n",
       "💹            1\n",
       "🗃            1\n",
       "📒            1\n",
       "🕠            1\n",
       "🤼            1\n",
       "🕕            1\n",
       "📏            1\n",
       "👷            1\n",
       "🕍            1\n",
       "⛎            1\n",
       "🀄            1\n",
       "🧘            1\n",
       "🏣            1\n",
       "🛥            1\n",
       "🛋            1\n",
       "➿            1\n",
       "⏸            1\n",
       "🏨            1\n",
       "🚾            1\n",
       "🔚            1\n",
       "🗄            1\n",
       "➗            1\n",
       "💇            1\n",
       "Name: emoji, Length: 1065, dtype: int64"
      ]
     },
     "execution_count": 43,
     "metadata": {},
     "output_type": "execute_result"
    }
   ],
   "source": [
    "all_tweets = pd.read_csv('data/emojis_homemade.csv')\n",
    "all_tweets['emoji'].value_counts()"
   ]
  },
  {
   "cell_type": "code",
   "execution_count": 44,
   "metadata": {},
   "outputs": [
    {
     "data": {
      "text/plain": [
       "(336011, 3)"
      ]
     },
     "execution_count": 44,
     "metadata": {},
     "output_type": "execute_result"
    }
   ],
   "source": [
    "all_tweets.shape"
   ]
  },
  {
   "cell_type": "code",
   "execution_count": 45,
   "metadata": {},
   "outputs": [
    {
     "data": {
      "text/plain": [
       "<bound method NDFrame.head of         Unnamed: 0                                               text emoji\n",
       "0              0.0  RT @mydear_bangtan: [VID] 181023 - Foi adicion...     ©\n",
       "1              1.0  RT @WuYiFan_KrisBar: 181023 Kris Wu Studio upd...     💫\n",
       "2              2.0  RT @TrendsPrabhas: Now you are watching Indian...     😎\n",
       "3              3.0                                    dats for keeps      💛\n",
       "4              4.0  RT @xruiztru: WHO ARMS THE SAUDIS?\\n\\n  🇺🇸US 5...     🏳\n",
       "5              5.0  RT @xxxfreaknasty2: interracial couple go at i...     🌝\n",
       "6              6.0               @Eric_Deshaun Holy shit no I think.      😩\n",
       "7              7.0     RT @fanmutuals: army, follow who retweet this      👑\n",
       "8              8.0  RT @_Simplykpop: Simply K-Pop harddrive dump\\n...     🤩\n",
       "9              9.0  Happy birthday nellie @thelittlegend, hope you...     ❤\n",
       "10            10.0  RT @montparnasty: \"I have passed through fire\"...     💕\n",
       "11            11.0  RT @Jason_Mckeown: Look how empty Valley Parad...     😟\n",
       "12            12.0  RT @hellohonne: Incredible to be involved in t...     😱\n",
       "13            13.0  RT @btsvotingteam: Too much feels \\n\\n#BTS #MP...     😢\n",
       "14            14.0  RT @premierleague: #PL TOP SCORERS \\n\\n7 - @ha...     🔥\n",
       "15            15.0  [DEPASCAL] RUSSEL HOODIE BLUE\\n https://t.co/C...     🔗\n",
       "16            16.0  The joys of having a make up artist as your be...     😂\n",
       "17            17.0  RT @EXOGlobal: [!] #TEMPO_KAI is currently tre...     🎊\n",
       "18            18.0     RT @fanmutuals: army, follow who retweet this      👑\n",
       "19            19.0       @slicksean Someone didn’t read the article.      🙄\n",
       "20            20.0  RT @mefeater: Happy 23rd Birthday to Duckie Th...     💕\n",
       "21            21.0  RT @followprojecten: follow everyone who retwe...     💓\n",
       "22            22.0  RT @hellohonne: Incredible to be involved in t...     😱\n",
       "23            23.0  RT @abusedmember: ⚀Re-enter the red cube⚀\\n\\n*...     🏁\n",
       "24            24.0  WOW @Just_Ceeks let me know when I can come pl...     🙃\n",
       "25            25.0  RT @MarkLand0802: markno～\\n#NCT #Mark #MarkLee...     🤟\n",
       "26            26.0  RT @SAPTechEd: Don't forget! The #SAPTechEd ne...     🍻\n",
       "27            27.0  RT @YuH8TM3:  \\nYou have all decided to push y...     🤔\n",
       "28            28.0                    Somebody stop simone biles omg      🔥\n",
       "29            29.0              @mrfairyvideo @__jim_in Wth i see...      😨\n",
       "...            ...                                                ...   ...\n",
       "335981         3.0  Don't take it seriously when you know that I'm...     🙂\n",
       "335982         4.0  RT @aaliyahhadidxo: Hey zaddy.  https://t.co/j...     🌦\n",
       "335983         5.0  RT @Corrynmb: Checking the midterm climate \\n\\...     ✌\n",
       "335984         6.0                       @His_Khaleesi Autograph plz      😂\n",
       "335985         7.0         RT @FosterBekoe: @Joselyn_Dumas Certainly      👏\n",
       "335986         8.0  RT @goKPOP: [#ContinueTourinSG]\\nIKonics, did ...     💗\n",
       "335987         9.0  RT @Syaamimm: This kind of r/s where you can j...     😂\n",
       "335988        10.0  RT @KAvenyou: iKON performs Love Scenario for ...     💘\n",
       "335989        11.0  RT @charileclarke: when someones deleted you o...     🤮\n",
       "335990        12.0  RT @souza5: Not better, not worse, just differ...     🙏\n",
       "335991        13.0  10 Tips for Better Sleep Infographic  https://...     ➡\n",
       "335992        14.0  RT @jaeminpic: the most cutest “hi” ever  http...     👋\n",
       "335993        15.0                       @trblcafe Apology accepted.      😂\n",
       "335994        16.0  RT @BarrettoJulia: thank u, next  https://t.co...     🍒\n",
       "335995        17.0  RT @erbmjha: Theek ️ hai [Spoof] https://t.co/...     ♥\n",
       "335996        18.0       My brothers track only got tune of the day 🏻     💃\n",
       "335997        19.0  RT @PEACHYBLACKG0RL: me                       ...     🤝\n",
       "335998        20.0                             @lalisaspasta poor us      🤧\n",
       "335999        21.0             @MhsMilan @VillaJfc Well done the boys     ⚽\n",
       "336000        22.0  RT @HareBrain55: Pull List and Finds 31/10 Hap...     🎃\n",
       "336001        23.0  RT @jeannynewby: Minor set back but I’ll be al...     😌\n",
       "336002        24.0  RT@AMZ0NE A father writes a bestselling book o...     ▶\n",
       "336003        25.0  RT @BTS_twt: I AM STERDAM  https://t.co/RK4Vak...     😂\n",
       "336004        26.0  RT @TheGeje_: ✰ Follow Now ✰\\n\\n @kinnafhr_boj...     ◼\n",
       "336005        27.0  I remember when my photo of Harry at the forum...     😋\n",
       "336006        28.0                                 “Carrot ka halwa ”     😍\n",
       "336007        29.0  RT @KraksTV: Start Dating A White Person And N...     ▶\n",
       "336008        30.0  whatta emotional day, always remember to take ...     💙\n",
       "336009        31.0  RT @LISARAMBO_: An old classmate of #LISA talk...     🔗\n",
       "336010        32.0                              @_eksolove thank you!     💛\n",
       "\n",
       "[336011 rows x 3 columns]>"
      ]
     },
     "execution_count": 45,
     "metadata": {},
     "output_type": "execute_result"
    }
   ],
   "source": [
    "all_tweets.head"
   ]
  },
  {
   "cell_type": "code",
   "execution_count": 46,
   "metadata": {},
   "outputs": [
    {
     "data": {
      "text/plain": [
       "😂        41999\n",
       "😭        17206\n",
       "❤        13689\n",
       "emoji     9718\n",
       "😍         9350\n",
       "🔥         8874\n",
       "🤣         5876\n",
       "🤔         4587\n",
       "🙏         4465\n",
       "😩         4349\n",
       "💕         4280\n",
       "😊         4067\n",
       "🖤         3997\n",
       "👀         3672\n",
       "✨         3495\n",
       "💜         3483\n",
       "👏         3393\n",
       "🙄         3267\n",
       "💀         3067\n",
       "🎉         2956\n",
       "🙌         2798\n",
       "😏         2762\n",
       "😘         2671\n",
       "💯         2583\n",
       "💙         2455\n",
       "👍         2377\n",
       "😔         2362\n",
       "😉         2251\n",
       "😎         2242\n",
       "💖         2197\n",
       "         ...  \n",
       "🙃         1697\n",
       "🗣         1682\n",
       "🤪         1641\n",
       "😢         1586\n",
       "😤         1553\n",
       "☺         1498\n",
       "🤗         1450\n",
       "©         1447\n",
       "🤧         1437\n",
       "😒         1396\n",
       "💥         1391\n",
       "✌         1377\n",
       "😌         1325\n",
       "😫         1308\n",
       "💗         1305\n",
       "💔         1303\n",
       "😈         1276\n",
       "☹         1256\n",
       "🙂         1254\n",
       "👉         1241\n",
       "🤝         1237\n",
       "🎶         1227\n",
       "🤩         1190\n",
       "💚         1163\n",
       "😆         1152\n",
       "➡         1073\n",
       "😋         1061\n",
       "💞         1044\n",
       "💓         1027\n",
       "▶         1022\n",
       "Name: emoji, Length: 72, dtype: int64"
      ]
     },
     "execution_count": 46,
     "metadata": {},
     "output_type": "execute_result"
    }
   ],
   "source": [
    "tweets = all_tweets.groupby('emoji').filter(lambda c:len(c) > 1000)\n",
    "tweets['emoji'].value_counts()"
   ]
  },
  {
   "cell_type": "code",
   "execution_count": 47,
   "metadata": {},
   "outputs": [
    {
     "data": {
      "text/plain": [
       "0.17238067484536676"
      ]
     },
     "execution_count": 47,
     "metadata": {},
     "output_type": "execute_result"
    }
   ],
   "source": [
    "tweets['emoji'].value_counts()[0]/sum(tweets['emoji'].value_counts())"
   ]
  },
  {
   "cell_type": "code",
   "execution_count": 48,
   "metadata": {},
   "outputs": [
    {
     "data": {
      "text/plain": [
       "'RT @DingDongLive: LMAO  @TexasEDMFamily\\n@FreakyDeakyFam\\nGrab my hard/hybrid trap mix&gt;&gt;&gt;&gt;&gt;&gt;&gt;&gt; https://t.co/34rcxAVbgk https://t.co/ArQeh23L…'"
      ]
     },
     "execution_count": 48,
     "metadata": {},
     "output_type": "execute_result"
    }
   ],
   "source": [
    "max(tweets['text'], key=lambda t:len(t))"
   ]
  },
  {
   "cell_type": "code",
   "execution_count": 49,
   "metadata": {},
   "outputs": [
    {
     "data": {
      "text/plain": [
       "['emoji', '©', '‼', '▶', '☹', '☺', '♥', '✌', '✨', '❤']"
      ]
     },
     "execution_count": 49,
     "metadata": {},
     "output_type": "execute_result"
    }
   ],
   "source": [
    "chars = list(sorted(set(chain(*tweets['text']))))\n",
    "char_to_idx = {ch: idx for idx, ch in enumerate(chars)}\n",
    "max_sequence_len = max(len(x) for x in tweets['text'])\n",
    "\n",
    "emojis = list(sorted(set(tweets['emoji'])))\n",
    "emoji_to_idx = {em: idx for idx, em in enumerate(emojis)}\n",
    "emojis[:10]\n",
    "\n",
    "#train_tweets, test_tweets = train_test_split(tweets, test_size=0.1)"
   ]
  },
  {
   "cell_type": "markdown",
   "metadata": {},
   "source": [
    "Currently we've collected quite a lot of tweet data, so to speed up the prototyping of the model we're going to create a train/dev/test datasets of 10,000 tweets each."
   ]
  },
  {
   "cell_type": "code",
   "execution_count": 50,
   "metadata": {
    "collapsed": true
   },
   "outputs": [],
   "source": [
    "train_tweets = tweets[0:10000]\n",
    "dev_tweets = tweets[10000:20000]\n",
    "test_tweets = tweets[20000:30000]\n",
    "\n",
    "\n",
    "# !! Temp! Try on much bigger dataset\n",
    "#train_tweets = tweets[0:100000] # 100000 tweets\n",
    "#dev_tweets = tweets[100000:110000]\n",
    "#test_tweets = tweets[110000:120000]\n",
    "\n"
   ]
  },
  {
   "cell_type": "code",
   "execution_count": 51,
   "metadata": {},
   "outputs": [],
   "source": [
    "#def data_generator(tweets, batch_size):\n",
    "#    while True:\n",
    "#        if batch_size is None:\n",
    "#            batch = tweets\n",
    "#            batch_size = batch.shape[0]\n",
    "#        else:\n",
    "#            batch = tweets.sample(batch_size)\n",
    "#        X = np.zeros((batch_size, max_sequence_len, len(chars)))\n",
    "#        y = np.zeros((batch_size,))\n",
    "#        for row_idx, (_, row) in enumerate(batch.iterrows()):\n",
    "#            y[row_idx] = emoji_to_idx[row['emoji']]\n",
    "#            for ch_idx, ch in enumerate(row['text']):\n",
    "#                X[row_idx, ch_idx, char_to_idx[ch]] = 1\n",
    "#        yield X, y\n",
    "#\n",
    "#next(data_generator(tweets, 10))"
   ]
  },
  {
   "cell_type": "code",
   "execution_count": 52,
   "metadata": {},
   "outputs": [],
   "source": [
    "#def create_char_cnn_model(num_chars, max_sequence_len, num_labels):\n",
    "#    char_input = Input(shape=(max_sequence_len, num_chars), name='char_cnn_input')\n",
    "#    \n",
    "#    conv_1x = Conv1D(128, 6, activation='relu', padding='valid')(char_input)\n",
    "#    max_pool_1x = MaxPooling1D(4)(conv_1x)\n",
    "#    conv_2x = Conv1D(256, 6, activation='relu', padding='valid')(max_pool_1x)\n",
    "#    max_pool_2x = MaxPooling1D(4)(conv_2x)\n",
    "\n",
    "#    flatten = Flatten()(max_pool_2x)\n",
    "#    dense = Dense(128, activation='relu')(flatten)\n",
    "#    preds = Dense(num_labels, activation='softmax', name='char_cnn_predictions')(dense)\n",
    "\n",
    "#    model = Model(char_input, preds)\n",
    "#    model.compile(loss='sparse_categorical_crossentropy',\n",
    "#                  optimizer='rmsprop',\n",
    "#                  metrics=['acc'])\n",
    "#    return model\n",
    "\n",
    "#char_cnn_model = create_char_cnn_model(len(char_to_idx), max_sequence_len, len(emojis))\n",
    "#char_cnn_model.summary()"
   ]
  },
  {
   "cell_type": "code",
   "execution_count": 53,
   "metadata": {},
   "outputs": [],
   "source": [
    "#early = keras.callbacks.EarlyStopping(monitor='loss',\n",
    "#                              min_delta=0.03,\n",
    "#                              patience=2,\n",
    "#                              verbose=1, mode='auto')\n",
    "\n",
    "#checkpoint = keras.callbacks.ModelCheckpoint(filepath='emoji_cnn.h5',\n",
    "#                                             monitor='val_acc',\n",
    "#                                             save_best_only = True)\n",
    "\n",
    "#tensorboard = keras.callbacks.TensorBoard(log_dir='tensorboard_log',\n",
    "#                                         histogram_freq=1,\n",
    "#                                         embeddings_freq=1)\n",
    "\n",
    "#BATCH_SIZE = 512\n",
    "#char_cnn_model.fit_generator(\n",
    "#    data_generator(train_tweets, batch_size=BATCH_SIZE),\n",
    "#    validation_data = data_generator(dev_tweets, batch_size=BATCH_SIZE),\n",
    "#    validation_steps=int(dev_tweets.shape[0]/BATCH_SIZE),\n",
    "#    epochs=5,\n",
    "#    steps_per_epoch=len(train_tweets) / BATCH_SIZE,\n",
    "#    verbose=1, # was: verbose=2\n",
    "#    callbacks=[early, checkpoint]\n",
    "#)"
   ]
  },
  {
   "cell_type": "code",
   "execution_count": 54,
   "metadata": {},
   "outputs": [],
   "source": [
    "#pd.options.display.max_colwidth = 128\n",
    "#inspect_tweets = dev_tweets.sample(100)\n",
    "#predicted = char_cnn_model.predict_generator(data_generator(inspect_tweets, batch_size=None), steps=1)\n",
    "#show = pd.DataFrame({\n",
    "#    'text': inspect_tweets['text'],\n",
    "#    'true': inspect_tweets['emoji'],\n",
    "#    'pred': [emojis[np.argmax(x)] for x in predicted],\n",
    "#})\n",
    "#show = show[['text', 'true', 'pred']]\n",
    "#show.head(10)"
   ]
  },
  {
   "cell_type": "markdown",
   "metadata": {},
   "source": [
    "# Simple neural network - single Dense layer\n",
    "\n",
    "Benchmark performance with the simplest neural network we can get"
   ]
  },
  {
   "cell_type": "markdown",
   "metadata": {},
   "source": [
    "Let's divide up the train/dev/test sets so we're not relying on a generator"
   ]
  },
  {
   "cell_type": "code",
   "execution_count": 55,
   "metadata": {
    "collapsed": true
   },
   "outputs": [],
   "source": [
    "x_train = train_tweets[\"text\"]\n",
    "y_train = np.asarray(train_tweets[\"emoji\"])\n",
    "x_dev = dev_tweets[\"text\"]\n",
    "y_dev = np.asarray(dev_tweets[\"emoji\"])\n",
    "x_test = test_tweets[\"text\"]\n",
    "y_test = np.asarray(test_tweets[\"emoji\"])\n",
    "\n",
    "all_emojis = np.concatenate((y_train, y_dev, y_test), axis=0)\n",
    "\n",
    "emoji_to_idx = {em: idx for idx, em in enumerate(emojis)}\n",
    "#emojis[:10]\n",
    "\n",
    "all_emojis_idx = np.zeros(all_emojis.shape[0])\n",
    "\n",
    "for i in range (all_emojis.shape[0]):\n",
    "    all_emojis_idx[i] = emoji_to_idx[all_emojis[i]]    \n",
    "\n",
    "all_emojis_one_hot = to_categorical (all_emojis_idx)\n",
    "    \n",
    "y_train_idx = all_emojis_one_hot[0:10000,:]\n",
    "y_dev_idx = all_emojis_one_hot[10000:20000,:]\n",
    "y_test_idx = all_emojis_one_hot[20000:30000,:]\n",
    "\n",
    "\n",
    "# Temp!\n",
    "#y_train_idx = all_emojis_one_hot[0:100000,:]\n",
    "#y_dev_idx = all_emojis_one_hot[100000:110000,:]\n",
    "#y_test_idx = all_emojis_one_hot[110000:120000,:]"
   ]
  },
  {
   "cell_type": "code",
   "execution_count": 56,
   "metadata": {},
   "outputs": [],
   "source": [
    "# y_train_idx[0:10]"
   ]
  },
  {
   "cell_type": "markdown",
   "metadata": {},
   "source": [
    "Now let's start by one-hot encoding the text samples"
   ]
  },
  {
   "cell_type": "code",
   "execution_count": 57,
   "metadata": {
    "collapsed": true
   },
   "outputs": [],
   "source": [
    "tokenizer = Tokenizer(num_words = 1000)\n",
    "tokenizer.fit_on_texts (x_train)\n",
    "\n",
    "#x_train_sequences = tokenizer.texts_to_sequences(x_train)\n",
    "#x_dev_sequences = tokenizer.texts_to_sequences(x_dev)\n",
    "#x_test_sequences = tokenizer.texts_to_sequences(x_test)\n",
    "\n",
    "x_train_one_hot = tokenizer.texts_to_matrix(x_train, mode='binary')\n",
    "x_dev_one_hot = tokenizer.texts_to_matrix(x_dev, mode='binary')\n",
    "x_test_one_hot = tokenizer.texts_to_matrix(x_test, mode='binary')\n",
    "\n",
    "\n",
    "\n",
    "\n",
    "# remember to pad sequences"
   ]
  },
  {
   "cell_type": "code",
   "execution_count": 58,
   "metadata": {},
   "outputs": [
    {
     "data": {
      "text/plain": [
       "(10000, 1000)"
      ]
     },
     "execution_count": 58,
     "metadata": {},
     "output_type": "execute_result"
    }
   ],
   "source": [
    "x_train_one_hot.shape"
   ]
  },
  {
   "cell_type": "code",
   "execution_count": 59,
   "metadata": {},
   "outputs": [
    {
     "data": {
      "text/plain": [
       "(10000, 72)"
      ]
     },
     "execution_count": 59,
     "metadata": {},
     "output_type": "execute_result"
    }
   ],
   "source": [
    "y_train_idx.shape"
   ]
  },
  {
   "cell_type": "markdown",
   "metadata": {},
   "source": [
    "# A linear classifier\n",
    "\n",
    "As a performance baseline for more complex models, it's instructive to see how well we can do with just a linear classifier with no hidden layer. With 64 hidden units trained on 10,000 training examples, we're able to get up to about 38% accuracy on the validation set. A lower learning rate slows down the learning (although it's still very fast) but doesn't appear to do any better in terms of final accuracy before the model starts overfitting. "
   ]
  },
  {
   "cell_type": "code",
   "execution_count": 60,
   "metadata": {},
   "outputs": [
    {
     "data": {
      "text/plain": [
       "(10000, 72)"
      ]
     },
     "execution_count": 60,
     "metadata": {},
     "output_type": "execute_result"
    }
   ],
   "source": [
    "y_dev_idx.shape"
   ]
  },
  {
   "cell_type": "code",
   "execution_count": 61,
   "metadata": {},
   "outputs": [
    {
     "name": "stdout",
     "output_type": "stream",
     "text": [
      "Train on 10000 samples, validate on 10000 samples\n",
      "Epoch 1/20\n",
      " - 1s - loss: 3.8701 - acc: 0.2371 - val_loss: 3.6482 - val_acc: 0.2786\n",
      "Epoch 2/20\n",
      " - 0s - loss: 3.3552 - acc: 0.3150 - val_loss: 3.4394 - val_acc: 0.3044\n",
      "Epoch 3/20\n",
      " - 0s - loss: 3.0830 - acc: 0.3386 - val_loss: 3.3187 - val_acc: 0.3179\n",
      "Epoch 4/20\n",
      " - 0s - loss: 2.8727 - acc: 0.3661 - val_loss: 3.2288 - val_acc: 0.3286\n",
      "Epoch 5/20\n",
      " - 0s - loss: 2.6924 - acc: 0.3920 - val_loss: 3.1575 - val_acc: 0.3351\n",
      "Epoch 6/20\n",
      " - 0s - loss: 2.5358 - acc: 0.4111 - val_loss: 3.1014 - val_acc: 0.3453\n",
      "Epoch 7/20\n",
      " - 0s - loss: 2.3970 - acc: 0.4370 - val_loss: 3.0584 - val_acc: 0.3478\n",
      "Epoch 8/20\n",
      " - 0s - loss: 2.2745 - acc: 0.4555 - val_loss: 3.0258 - val_acc: 0.3608\n",
      "Epoch 9/20\n",
      " - 0s - loss: 2.1653 - acc: 0.4766 - val_loss: 3.0010 - val_acc: 0.3656\n",
      "Epoch 10/20\n",
      " - 0s - loss: 2.0679 - acc: 0.4955 - val_loss: 2.9832 - val_acc: 0.3676\n",
      "Epoch 11/20\n",
      " - 0s - loss: 1.9811 - acc: 0.5140 - val_loss: 2.9719 - val_acc: 0.3673\n",
      "Epoch 12/20\n",
      " - 0s - loss: 1.9030 - acc: 0.5273 - val_loss: 2.9661 - val_acc: 0.3681\n",
      "Epoch 13/20\n",
      " - 0s - loss: 1.8332 - acc: 0.5415 - val_loss: 2.9647 - val_acc: 0.3707\n",
      "Epoch 14/20\n",
      " - 0s - loss: 1.7703 - acc: 0.5561 - val_loss: 2.9682 - val_acc: 0.3715\n",
      "Epoch 15/20\n",
      " - 0s - loss: 1.7138 - acc: 0.5659 - val_loss: 2.9748 - val_acc: 0.3714\n",
      "Epoch 16/20\n",
      " - 0s - loss: 1.6624 - acc: 0.5739 - val_loss: 2.9840 - val_acc: 0.3713\n",
      "Epoch 17/20\n",
      " - 0s - loss: 1.6161 - acc: 0.5868 - val_loss: 2.9973 - val_acc: 0.3711\n",
      "Epoch 18/20\n",
      " - 0s - loss: 1.5741 - acc: 0.5950 - val_loss: 3.0116 - val_acc: 0.3700\n",
      "Epoch 19/20\n",
      " - 0s - loss: 1.5355 - acc: 0.6035 - val_loss: 3.0269 - val_acc: 0.3704\n",
      "Epoch 20/20\n",
      " - 0s - loss: 1.5004 - acc: 0.6102 - val_loss: 3.0458 - val_acc: 0.3716\n"
     ]
    }
   ],
   "source": [
    "output_size = y_dev_idx.shape[1] # around 64 units for 10,000 tweets\n",
    "\n",
    "model = Sequential()\n",
    "model.add(Dense(output_size, activation='softmax', input_shape=(1000,))) \n",
    "model.compile(optimizer=optimizers.RMSprop(lr = 0.005),\n",
    "              loss='categorical_crossentropy',\n",
    "              metrics=['accuracy'])\n",
    "\n",
    "history = model.fit (x_train_one_hot, y_train_idx,\n",
    "                    epochs = 20,\n",
    "                    batch_size = 512,\n",
    "                    validation_data = (x_dev_one_hot, y_dev_idx),\n",
    "                    verbose=2)"
   ]
  },
  {
   "cell_type": "code",
   "execution_count": 62,
   "metadata": {
    "collapsed": true
   },
   "outputs": [],
   "source": [
    "import matplotlib.pyplot as plt\n",
    "\n",
    "def plot_train_history(history): \n",
    "\n",
    "    acc = history.history['acc']\n",
    "    val_acc = history.history['val_acc']\n",
    "    loss = history.history['loss']\n",
    "    val_loss = history.history['val_loss']\n",
    "\n",
    "    epochs = range(1, len(acc) + 1)\n",
    "\n",
    "    plt.plot (epochs, acc, 'bo', label='Training acc')\n",
    "    plt.plot (epochs, val_acc, 'b', label='Validation acc')\n",
    "    plt.title ('Training and validation accuracy')\n",
    "    plt.legend()\n",
    "\n",
    "    plt.figure()\n",
    "\n",
    "    plt.plot(epochs, loss, 'bo', label = 'Training loss')\n",
    "    plt.plot(epochs, val_loss, 'b', label = 'Validation loss')\n",
    "    plt.title('Training and validation loss')\n",
    "    plt.legend()\n",
    "\n",
    "    plt.show()"
   ]
  },
  {
   "cell_type": "code",
   "execution_count": 63,
   "metadata": {},
   "outputs": [
    {
     "name": "stdout",
     "output_type": "stream",
     "text": [
      "best validation accuracy:  0.3716\n"
     ]
    },
    {
     "data": {
      "image/png": "[encoded data removed]",
      "text/plain": [
       "<Figure size 432x288 with 1 Axes>"
      ]
     },
     "metadata": {},
     "output_type": "display_data"
    },
    {
     "data": {
      "image/png": "[encoded data removed]",
      "text/plain": [
       "<Figure size 432x288 with 1 Axes>"
      ]
     },
     "metadata": {},
     "output_type": "display_data"
    }
   ],
   "source": [
    "print (\"best validation accuracy: \", max(history.history['val_acc']))\n",
    "plot_train_history(history)"
   ]
  },
  {
   "cell_type": "markdown",
   "metadata": {},
   "source": [
    "# Shallow neural network\n",
    "A simple shallow neural network with a layer of hidden units\n",
    "\n",
    "128 hidden units gets us up to 39% accuracy"
   ]
  },
  {
   "cell_type": "code",
   "execution_count": 64,
   "metadata": {},
   "outputs": [
    {
     "name": "stdout",
     "output_type": "stream",
     "text": [
      "Train on 10000 samples, validate on 10000 samples\n",
      "Epoch 1/10\n",
      "10000/10000 [==============================] - 1s 86us/step - loss: 4.0160 - acc: 0.2220 - val_loss: 3.8034 - val_acc: 0.2583\n",
      "Epoch 2/10\n",
      "10000/10000 [==============================] - 0s 45us/step - loss: 3.6105 - acc: 0.2677 - val_loss: 3.5791 - val_acc: 0.2778\n",
      "Epoch 3/10\n",
      "10000/10000 [==============================] - 0s 46us/step - loss: 3.4034 - acc: 0.2955 - val_loss: 3.4516 - val_acc: 0.3044\n",
      "Epoch 4/10\n",
      "10000/10000 [==============================] - 0s 41us/step - loss: 3.2381 - acc: 0.3267 - val_loss: 3.3351 - val_acc: 0.3190\n",
      "Epoch 5/10\n",
      "10000/10000 [==============================] - 0s 46us/step - loss: 3.0869 - acc: 0.3495 - val_loss: 3.2315 - val_acc: 0.3307\n",
      "Epoch 6/10\n",
      "10000/10000 [==============================] - 0s 47us/step - loss: 2.9463 - acc: 0.3667 - val_loss: 3.1374 - val_acc: 0.3389\n",
      "Epoch 7/10\n",
      "10000/10000 [==============================] - 0s 47us/step - loss: 2.8191 - acc: 0.3817 - val_loss: 3.0579 - val_acc: 0.3500\n",
      "Epoch 8/10\n",
      "10000/10000 [==============================] - 0s 49us/step - loss: 2.7077 - acc: 0.3922 - val_loss: 2.9935 - val_acc: 0.3515\n",
      "Epoch 9/10\n",
      "10000/10000 [==============================] - 0s 48us/step - loss: 2.6106 - acc: 0.4012 - val_loss: 2.9421 - val_acc: 0.3550\n",
      "Epoch 10/10\n",
      "10000/10000 [==============================] - 0s 45us/step - loss: 2.5263 - acc: 0.4133 - val_loss: 2.9040 - val_acc: 0.3595\n"
     ]
    },
    {
     "data": {
      "image/png": "[encoded data removed]",
      "text/plain": [
       "<Figure size 432x288 with 1 Axes>"
      ]
     },
     "metadata": {},
     "output_type": "display_data"
    },
    {
     "data": {
      "image/png": "[encoded data removed]",
      "text/plain": [
       "<Figure size 432x288 with 1 Axes>"
      ]
     },
     "metadata": {},
     "output_type": "display_data"
    },
    {
     "name": "stdout",
     "output_type": "stream",
     "text": [
      "best validation accuracy:  0.3595000002384186\n"
     ]
    }
   ],
   "source": [
    "n_output_classes = y_dev_idx.shape[1]\n",
    "\n",
    "model = Sequential()\n",
    "model.add(Dense(128, activation='relu', input_shape=(1000,)))\n",
    "model.add(Dense(n_output_classes, activation = 'softmax'))\n",
    "model.compile(optimizer = 'rmsprop',\n",
    "              loss='categorical_crossentropy',\n",
    "              metrics=['accuracy'])\n",
    "\n",
    "history = model.fit (x_train_one_hot, y_train_idx,\n",
    "                    epochs = 10,\n",
    "                    batch_size = 512,\n",
    "                    verbose=1,\n",
    "                    validation_data = (x_dev_one_hot, y_dev_idx))\n",
    "\n",
    "plot_train_history(history)\n",
    "print (\"best validation accuracy: \", max(history.history['val_acc']))"
   ]
  },
  {
   "cell_type": "markdown",
   "metadata": {},
   "source": [
    "# Two layers of hidden units\n",
    "A slight improvement over one layer of hidden units (<1%)"
   ]
  },
  {
   "cell_type": "code",
   "execution_count": 65,
   "metadata": {},
   "outputs": [
    {
     "name": "stdout",
     "output_type": "stream",
     "text": [
      "Train on 10000 samples, validate on 10000 samples\n",
      "Epoch 1/20\n",
      "10000/10000 [==============================] - 1s 125us/step - loss: 4.1550 - acc: 0.1835 - val_loss: 3.8672 - val_acc: 0.2626\n",
      "Epoch 2/20\n",
      "10000/10000 [==============================] - 1s 77us/step - loss: 3.6252 - acc: 0.2850 - val_loss: 3.5774 - val_acc: 0.3019\n",
      "Epoch 3/20\n",
      "10000/10000 [==============================] - 1s 77us/step - loss: 3.3096 - acc: 0.3382 - val_loss: 3.4011 - val_acc: 0.3238\n",
      "Epoch 4/20\n",
      "10000/10000 [==============================] - 1s 78us/step - loss: 3.0979 - acc: 0.3690 - val_loss: 3.2835 - val_acc: 0.3331\n",
      "Epoch 5/20\n",
      "10000/10000 [==============================] - 1s 79us/step - loss: 2.9419 - acc: 0.3879 - val_loss: 3.2092 - val_acc: 0.3401\n",
      "Epoch 6/20\n",
      "10000/10000 [==============================] - 1s 76us/step - loss: 2.8261 - acc: 0.4048 - val_loss: 3.1701 - val_acc: 0.3466\n",
      "Epoch 7/20\n",
      "10000/10000 [==============================] - 1s 78us/step - loss: 2.7218 - acc: 0.4219 - val_loss: 3.1180 - val_acc: 0.3542\n",
      "Epoch 8/20\n",
      "10000/10000 [==============================] - 1s 76us/step - loss: 2.6351 - acc: 0.4399 - val_loss: 3.0975 - val_acc: 0.3500\n",
      "Epoch 9/20\n",
      "10000/10000 [==============================] - 1s 76us/step - loss: 2.5568 - acc: 0.4561 - val_loss: 3.0738 - val_acc: 0.3608\n",
      "Epoch 10/20\n",
      "10000/10000 [==============================] - 1s 78us/step - loss: 2.4857 - acc: 0.4698 - val_loss: 3.0608 - val_acc: 0.3653\n",
      "Epoch 11/20\n",
      "10000/10000 [==============================] - 1s 78us/step - loss: 2.4218 - acc: 0.4792 - val_loss: 3.0510 - val_acc: 0.3719\n",
      "Epoch 12/20\n",
      "10000/10000 [==============================] - 1s 79us/step - loss: 2.3552 - acc: 0.4931 - val_loss: 3.0796 - val_acc: 0.3565\n",
      "Epoch 13/20\n",
      "10000/10000 [==============================] - 1s 80us/step - loss: 2.3057 - acc: 0.5077 - val_loss: 3.0443 - val_acc: 0.3730\n",
      "Epoch 14/20\n",
      "10000/10000 [==============================] - 1s 80us/step - loss: 2.2519 - acc: 0.5160 - val_loss: 3.0624 - val_acc: 0.3744\n",
      "Epoch 15/20\n",
      "10000/10000 [==============================] - 1s 77us/step - loss: 2.2045 - acc: 0.5259 - val_loss: 3.0662 - val_acc: 0.3728\n",
      "Epoch 16/20\n",
      "10000/10000 [==============================] - 1s 77us/step - loss: 2.1554 - acc: 0.5385 - val_loss: 3.0822 - val_acc: 0.3593\n",
      "Epoch 17/20\n",
      "10000/10000 [==============================] - 1s 78us/step - loss: 2.1119 - acc: 0.5499 - val_loss: 3.0638 - val_acc: 0.3822\n",
      "Epoch 18/20\n",
      "10000/10000 [==============================] - 1s 81us/step - loss: 2.0713 - acc: 0.5576 - val_loss: 3.0708 - val_acc: 0.3831\n",
      "Epoch 19/20\n",
      "10000/10000 [==============================] - 1s 79us/step - loss: 2.0310 - acc: 0.5688 - val_loss: 3.1057 - val_acc: 0.3803\n",
      "Epoch 20/20\n",
      "10000/10000 [==============================] - 1s 80us/step - loss: 1.9889 - acc: 0.5756 - val_loss: 3.1094 - val_acc: 0.3722\n"
     ]
    },
    {
     "data": {
      "image/png": "[encoded data removed]",
      "text/plain": [
       "<Figure size 432x288 with 1 Axes>"
      ]
     },
     "metadata": {},
     "output_type": "display_data"
    },
    {
     "data": {
      "image/png": "[encoded data removed]",
      "text/plain": [
       "<Figure size 432x288 with 1 Axes>"
      ]
     },
     "metadata": {},
     "output_type": "display_data"
    },
    {
     "name": "stdout",
     "output_type": "stream",
     "text": [
      "best validation accuracy:  0.3830999997138977\n"
     ]
    }
   ],
   "source": [
    "n_output_classes = y_dev_idx.shape[1]\n",
    "\n",
    "model = Sequential()\n",
    "model.add(Dense(300, activation='relu', input_shape=(1000,)))\n",
    "model.add(Dense(128, activation='relu', \n",
    "                kernel_regularizer = regularizers.l2(0.0025)))\n",
    "model.add(Dense(n_output_classes, activation = 'softmax'))\n",
    "model.compile(optimizer = 'rmsprop',\n",
    "              loss='categorical_crossentropy',\n",
    "              metrics=['accuracy'])\n",
    "\n",
    "history = model.fit (x_train_one_hot, y_train_idx,\n",
    "                    epochs = 20,\n",
    "                    batch_size = 512,\n",
    "                    verbose=1,\n",
    "                    validation_data = (x_dev_one_hot, y_dev_idx))\n",
    "\n",
    "plot_train_history(history)\n",
    "print (\"best validation accuracy: \", max(history.history['val_acc']))"
   ]
  },
  {
   "cell_type": "markdown",
   "metadata": {},
   "source": [
    "## Two layer network with dropout and regularization\n",
    "\n",
    "Takes longer to train than the network with neither. Some improvements in accuracy but it's a bit marginal."
   ]
  },
  {
   "cell_type": "code",
   "execution_count": 66,
   "metadata": {},
   "outputs": [
    {
     "name": "stdout",
     "output_type": "stream",
     "text": [
      "Train on 10000 samples, validate on 10000 samples\n",
      "Epoch 1/20\n",
      "10000/10000 [==============================] - 2s 155us/step - loss: 4.1840 - acc: 0.1693 - val_loss: 3.9021 - val_acc: 0.1981\n",
      "Epoch 2/20\n",
      "10000/10000 [==============================] - 1s 90us/step - loss: 3.7801 - acc: 0.2431 - val_loss: 3.6576 - val_acc: 0.2692\n",
      "Epoch 3/20\n",
      "10000/10000 [==============================] - 1s 82us/step - loss: 3.5358 - acc: 0.2771 - val_loss: 3.4836 - val_acc: 0.2998\n",
      "Epoch 4/20\n",
      "10000/10000 [==============================] - 1s 87us/step - loss: 3.3546 - acc: 0.3049 - val_loss: 3.3658 - val_acc: 0.3158\n",
      "Epoch 5/20\n",
      "10000/10000 [==============================] - 1s 82us/step - loss: 3.2246 - acc: 0.3277 - val_loss: 3.2810 - val_acc: 0.3259\n",
      "Epoch 6/20\n",
      "10000/10000 [==============================] - 1s 86us/step - loss: 3.1203 - acc: 0.3461 - val_loss: 3.2223 - val_acc: 0.3282\n",
      "Epoch 7/20\n",
      "10000/10000 [==============================] - 1s 84us/step - loss: 3.0263 - acc: 0.3617 - val_loss: 3.1710 - val_acc: 0.3407\n",
      "Epoch 8/20\n",
      "10000/10000 [==============================] - 1s 84us/step - loss: 2.9424 - acc: 0.3743 - val_loss: 3.1425 - val_acc: 0.3385\n",
      "Epoch 9/20\n",
      "10000/10000 [==============================] - 1s 82us/step - loss: 2.8807 - acc: 0.3882 - val_loss: 3.1039 - val_acc: 0.3467\n",
      "Epoch 10/20\n",
      "10000/10000 [==============================] - 1s 84us/step - loss: 2.8131 - acc: 0.3948 - val_loss: 3.0781 - val_acc: 0.3449\n",
      "Epoch 11/20\n",
      "10000/10000 [==============================] - 1s 83us/step - loss: 2.7623 - acc: 0.4028 - val_loss: 3.0555 - val_acc: 0.3510\n",
      "Epoch 12/20\n",
      "10000/10000 [==============================] - 1s 85us/step - loss: 2.7153 - acc: 0.4125 - val_loss: 3.0361 - val_acc: 0.3492\n",
      "Epoch 13/20\n",
      "10000/10000 [==============================] - 1s 82us/step - loss: 2.6607 - acc: 0.4186 - val_loss: 3.0186 - val_acc: 0.3545\n",
      "Epoch 14/20\n",
      "10000/10000 [==============================] - 1s 89us/step - loss: 2.6206 - acc: 0.4281 - val_loss: 3.0035 - val_acc: 0.3583\n",
      "Epoch 15/20\n",
      "10000/10000 [==============================] - 1s 84us/step - loss: 2.5775 - acc: 0.4355 - val_loss: 2.9979 - val_acc: 0.3658\n",
      "Epoch 16/20\n",
      "10000/10000 [==============================] - 1s 85us/step - loss: 2.5447 - acc: 0.4369 - val_loss: 2.9911 - val_acc: 0.3632\n",
      "Epoch 17/20\n",
      "10000/10000 [==============================] - 1s 87us/step - loss: 2.4966 - acc: 0.4494 - val_loss: 2.9793 - val_acc: 0.3782\n",
      "Epoch 18/20\n",
      "10000/10000 [==============================] - 1s 88us/step - loss: 2.4691 - acc: 0.4550 - val_loss: 2.9702 - val_acc: 0.3686\n",
      "Epoch 19/20\n",
      "10000/10000 [==============================] - 1s 90us/step - loss: 2.4284 - acc: 0.4636 - val_loss: 2.9695 - val_acc: 0.3784\n",
      "Epoch 20/20\n",
      "10000/10000 [==============================] - 1s 96us/step - loss: 2.4089 - acc: 0.4718 - val_loss: 2.9691 - val_acc: 0.3718\n"
     ]
    },
    {
     "data": {
      "image/png": "[encoded data removed]",
      "text/plain": [
       "<Figure size 432x288 with 1 Axes>"
      ]
     },
     "metadata": {},
     "output_type": "display_data"
    },
    {
     "data": {
      "image/png": "[encoded data removed]",
      "text/plain": [
       "<Figure size 432x288 with 1 Axes>"
      ]
     },
     "metadata": {},
     "output_type": "display_data"
    }
   ],
   "source": [
    "n_output_classes = y_dev_idx.shape[1]\n",
    "\n",
    "model = Sequential()\n",
    "model.add(Dense(300, activation='relu', input_shape=(1000,)))\n",
    "model.add(Dropout(0.4))\n",
    "model.add(Dense(128, activation='relu',\n",
    "                kernel_regularizer = regularizers.l2(0.002)))\n",
    "model.add(Dropout(0.4))\n",
    "model.add(Dense(n_output_classes, activation = 'softmax'))\n",
    "model.compile(optimizer = 'rmsprop',\n",
    "              loss='categorical_crossentropy',\n",
    "              metrics=['accuracy'])\n",
    "\n",
    "history = model.fit (x_train_one_hot, y_train_idx,\n",
    "                    epochs = 20,\n",
    "                    batch_size = 512,\n",
    "                    verbose=1,\n",
    "                    validation_data = (x_dev_one_hot, y_dev_idx))\n",
    "\n",
    "plot_train_history(history)"
   ]
  },
  {
   "cell_type": "code",
   "execution_count": 41,
   "metadata": {},
   "outputs": [
    {
     "name": "stdout",
     "output_type": "stream",
     "text": [
      "best validation accuracy:  0.37530000014305115\n"
     ]
    }
   ],
   "source": [
    "print (\"best validation accuracy: \", max(history.history['val_acc']))"
   ]
  },
  {
   "cell_type": "markdown",
   "metadata": {},
   "source": [
    "# Embedding Layer\n",
    "\n",
    "First of all, let's try just an embedding layer, into a classifier"
   ]
  },
  {
   "cell_type": "code",
   "execution_count": 73,
   "metadata": {},
   "outputs": [
    {
     "data": {
      "text/plain": [
       "'RT @mydear_bangtan: [VID] 181023 - Foi adicionada a letra “D” no outdoor misterioso do #BTS em Hollywood.\\nFormando: BTS AND... \\n\\n ILOVEPAR…'"
      ]
     },
     "execution_count": 73,
     "metadata": {},
     "output_type": "execute_result"
    }
   ],
   "source": [
    "x_train[0]"
   ]
  },
  {
   "cell_type": "code",
   "execution_count": 100,
   "metadata": {},
   "outputs": [],
   "source": [
    "# Tokenize the tweets into lists of words\n",
    "\n",
    "maxlen = 20\n",
    "\n",
    "def convert_to_sequences(tweet_text, tokenizer, maxlen=20):\n",
    "    tweet_sequence = np.asarray(tokenizer.texts_to_sequences(tweet_text))\n",
    "    padded = pad_sequences (tweet_sequence, maxlen=maxlen)\n",
    "    return (padded)\n",
    "\n",
    "x_train_sequences = convert_to_sequences(x_train, tokenizer, maxlen=20)\n",
    "x_dev_sequences = convert_to_sequences(x_dev, tokenizer, maxlen=20)\n",
    "x_test_sequences = convert_to_sequences(x_test, tokenizer, maxlen=20)"
   ]
  },
  {
   "cell_type": "code",
   "execution_count": 131,
   "metadata": {},
   "outputs": [],
   "source": [
    "n_output_classes = y_dev_idx.shape[1]\n",
    "\n",
    "def simple_embedding_model(n_output_classes, n_embedding_dims = 16, max_sequence_length = 20):\n",
    "\n",
    "    model = Sequential()\n",
    "\n",
    "    # 8-dimensional embedding layer for 1,000 words\n",
    "    model.add(Embedding(1000, n_embedding_dims, input_length = max_sequence_length, name=\"embedding\")) \n",
    "\n",
    "    # flattens 3D tensor of embeddings into 2D tensor of shape (samples, maxlen * 8)\n",
    "    model.add(Flatten()) \n",
    "\n",
    "    model.add(Dense(n_output_classes, activation = 'softmax'))\n",
    "    model.compile(optimizer = 'rmsprop',\n",
    "                  loss='categorical_crossentropy',\n",
    "                  metrics=['accuracy'])\n",
    "\n",
    "    return (model)"
   ]
  },
  {
   "cell_type": "code",
   "execution_count": 134,
   "metadata": {},
   "outputs": [
    {
     "name": "stdout",
     "output_type": "stream",
     "text": [
      "Train on 10000 samples, validate on 10000 samples\n",
      "Epoch 1/50\n",
      " - 1s - loss: 3.9579 - acc: 0.2073 - val_loss: 3.7259 - val_acc: 0.2097\n",
      "Epoch 2/50\n",
      " - 0s - loss: 3.6156 - acc: 0.2077 - val_loss: 3.5970 - val_acc: 0.2116\n",
      "Epoch 3/50\n",
      " - 0s - loss: 3.4902 - acc: 0.2295 - val_loss: 3.5090 - val_acc: 0.2563\n",
      "Epoch 4/50\n",
      " - 0s - loss: 3.3717 - acc: 0.2638 - val_loss: 3.4232 - val_acc: 0.2635\n",
      "Epoch 5/50\n",
      " - 0s - loss: 3.2548 - acc: 0.2799 - val_loss: 3.3480 - val_acc: 0.2744\n",
      "Epoch 6/50\n",
      " - 0s - loss: 3.1448 - acc: 0.2926 - val_loss: 3.2720 - val_acc: 0.2872\n",
      "Epoch 7/50\n",
      " - 0s - loss: 3.0422 - acc: 0.3130 - val_loss: 3.2111 - val_acc: 0.2964\n",
      "Epoch 8/50\n",
      " - 0s - loss: 2.9486 - acc: 0.3277 - val_loss: 3.1582 - val_acc: 0.3119\n",
      "Epoch 9/50\n",
      " - 0s - loss: 2.8615 - acc: 0.3482 - val_loss: 3.1096 - val_acc: 0.3264\n",
      "Epoch 10/50\n",
      " - 0s - loss: 2.7783 - acc: 0.3651 - val_loss: 3.0689 - val_acc: 0.3341\n",
      "Epoch 11/50\n",
      " - 0s - loss: 2.7000 - acc: 0.3813 - val_loss: 3.0307 - val_acc: 0.3398\n",
      "Epoch 12/50\n",
      " - 0s - loss: 2.6248 - acc: 0.3955 - val_loss: 3.0002 - val_acc: 0.3473\n",
      "Epoch 13/50\n",
      " - 0s - loss: 2.5534 - acc: 0.4065 - val_loss: 2.9765 - val_acc: 0.3507\n",
      "Epoch 14/50\n",
      " - 0s - loss: 2.4842 - acc: 0.4158 - val_loss: 2.9593 - val_acc: 0.3543\n",
      "Epoch 15/50\n",
      " - 0s - loss: 2.4198 - acc: 0.4273 - val_loss: 2.9365 - val_acc: 0.3566\n",
      "Epoch 16/50\n",
      " - 0s - loss: 2.3564 - acc: 0.4380 - val_loss: 2.9190 - val_acc: 0.3581\n",
      "Epoch 17/50\n",
      " - 0s - loss: 2.2954 - acc: 0.4509 - val_loss: 2.9084 - val_acc: 0.3574\n",
      "Epoch 18/50\n",
      " - 0s - loss: 2.2372 - acc: 0.4617 - val_loss: 2.8993 - val_acc: 0.3608\n",
      "Epoch 19/50\n",
      " - 0s - loss: 2.1800 - acc: 0.4708 - val_loss: 2.8923 - val_acc: 0.3589\n",
      "Epoch 20/50\n",
      " - 0s - loss: 2.1245 - acc: 0.4857 - val_loss: 2.8866 - val_acc: 0.3622\n",
      "Epoch 21/50\n",
      " - 0s - loss: 2.0704 - acc: 0.4990 - val_loss: 2.8803 - val_acc: 0.3644\n",
      "Epoch 22/50\n",
      " - 0s - loss: 2.0187 - acc: 0.5101 - val_loss: 2.8794 - val_acc: 0.3653\n",
      "Epoch 23/50\n",
      " - 0s - loss: 1.9671 - acc: 0.5245 - val_loss: 2.8753 - val_acc: 0.3640\n",
      "Epoch 24/50\n",
      " - 0s - loss: 1.9177 - acc: 0.5351 - val_loss: 2.8768 - val_acc: 0.3642\n",
      "Epoch 25/50\n",
      " - 0s - loss: 1.8685 - acc: 0.5472 - val_loss: 2.8769 - val_acc: 0.3658\n",
      "Epoch 26/50\n",
      " - 0s - loss: 1.8218 - acc: 0.5571 - val_loss: 2.8742 - val_acc: 0.3687\n",
      "Epoch 27/50\n",
      " - 0s - loss: 1.7750 - acc: 0.5700 - val_loss: 2.8803 - val_acc: 0.3677\n",
      "Epoch 28/50\n",
      " - 0s - loss: 1.7301 - acc: 0.5818 - val_loss: 2.8845 - val_acc: 0.3688\n",
      "Epoch 29/50\n",
      " - 0s - loss: 1.6859 - acc: 0.5918 - val_loss: 2.8912 - val_acc: 0.3677\n",
      "Epoch 30/50\n",
      " - 0s - loss: 1.6426 - acc: 0.6031 - val_loss: 2.8967 - val_acc: 0.3690\n",
      "Epoch 31/50\n",
      " - 0s - loss: 1.6011 - acc: 0.6155 - val_loss: 2.9012 - val_acc: 0.3709\n",
      "Epoch 32/50\n",
      " - 0s - loss: 1.5604 - acc: 0.6254 - val_loss: 2.9107 - val_acc: 0.3679\n",
      "Epoch 33/50\n",
      " - 0s - loss: 1.5203 - acc: 0.6385 - val_loss: 2.9197 - val_acc: 0.3714\n",
      "Epoch 34/50\n",
      " - 0s - loss: 1.4818 - acc: 0.6465 - val_loss: 2.9303 - val_acc: 0.3694\n",
      "Epoch 35/50\n",
      " - 0s - loss: 1.4441 - acc: 0.6572 - val_loss: 2.9385 - val_acc: 0.3697\n",
      "Epoch 36/50\n",
      " - 0s - loss: 1.4072 - acc: 0.6659 - val_loss: 2.9508 - val_acc: 0.3622\n",
      "Epoch 37/50\n",
      " - 0s - loss: 1.3715 - acc: 0.6758 - val_loss: 2.9609 - val_acc: 0.3697\n",
      "Epoch 38/50\n",
      " - 0s - loss: 1.3372 - acc: 0.6841 - val_loss: 2.9711 - val_acc: 0.3686\n",
      "Epoch 39/50\n",
      " - 0s - loss: 1.3030 - acc: 0.6941 - val_loss: 2.9848 - val_acc: 0.3627\n",
      "Epoch 40/50\n",
      " - 0s - loss: 1.2705 - acc: 0.7010 - val_loss: 2.9965 - val_acc: 0.3617\n",
      "Epoch 41/50\n",
      " - 0s - loss: 1.2389 - acc: 0.7097 - val_loss: 3.0133 - val_acc: 0.3681\n",
      "Epoch 42/50\n",
      " - 0s - loss: 1.2084 - acc: 0.7179 - val_loss: 3.0272 - val_acc: 0.3679\n",
      "Epoch 43/50\n",
      " - 0s - loss: 1.1782 - acc: 0.7242 - val_loss: 3.0373 - val_acc: 0.3626\n",
      "Epoch 44/50\n",
      " - 0s - loss: 1.1487 - acc: 0.7344 - val_loss: 3.0536 - val_acc: 0.3624\n",
      "Epoch 45/50\n",
      " - 0s - loss: 1.1203 - acc: 0.7421 - val_loss: 3.0684 - val_acc: 0.3638\n",
      "Epoch 46/50\n",
      " - 0s - loss: 1.0930 - acc: 0.7490 - val_loss: 3.0830 - val_acc: 0.3628\n",
      "Epoch 47/50\n",
      " - 0s - loss: 1.0663 - acc: 0.7518 - val_loss: 3.1010 - val_acc: 0.3620\n",
      "Epoch 48/50\n",
      " - 0s - loss: 1.0402 - acc: 0.7606 - val_loss: 3.1178 - val_acc: 0.3631\n",
      "Epoch 49/50\n",
      " - 0s - loss: 1.0149 - acc: 0.7668 - val_loss: 3.1364 - val_acc: 0.3631\n",
      "Epoch 50/50\n",
      " - 0s - loss: 0.9900 - acc: 0.7751 - val_loss: 3.1541 - val_acc: 0.3662\n"
     ]
    },
    {
     "data": {
      "image/png": "[encoded data removed]",
      "text/plain": [
       "<Figure size 432x288 with 1 Axes>"
      ]
     },
     "metadata": {},
     "output_type": "display_data"
    },
    {
     "data": {
      "image/png": "[encoded data removed]",
      "text/plain": [
       "<Figure size 432x288 with 1 Axes>"
      ]
     },
     "metadata": {},
     "output_type": "display_data"
    }
   ],
   "source": [
    "clear_session()\n",
    "\n",
    "model = simple_embedding_model(n_output_classes, \n",
    "                               n_embedding_dims = 64, \n",
    "                               max_sequence_length = maxlen)    \n",
    "\n",
    "early = keras.callbacks.EarlyStopping(monitor='val_acc',\n",
    "                              min_delta=0.03,\n",
    "                              patience=2,\n",
    "                              verbose=1, mode='auto')\n",
    "\n",
    "checkpoint = keras.callbacks.ModelCheckpoint(filepath='emoji_embedding.h5',\n",
    "                                             monitor='val_acc',\n",
    "                                             save_best_only = True)\n",
    "\n",
    "tensorboard = keras.callbacks.TensorBoard(log_dir='tensorboard_log',\n",
    "                                          #write_grads=1,\n",
    "                                          #histogram_freq=1,\n",
    "                                          embeddings_freq=1,\n",
    "                                          embeddings_data='embedding') ## ?? How to implement this\n",
    "\n",
    "history = model.fit (x_train_sequences, y_train_idx,\n",
    "                     validation_data = (x_dev_sequences, y_dev_idx),\n",
    "                     epochs = 50,\n",
    "                     batch_size = 512,\n",
    "                     verbose=2)\n",
    "                     #callbacks=[tensorboard])\n",
    "\n",
    "plot_train_history(history)"
   ]
  },
  {
   "cell_type": "code",
   "execution_count": 133,
   "metadata": {},
   "outputs": [
    {
     "name": "stdout",
     "output_type": "stream",
     "text": [
      "best validation accuracy:  0.3611999999523163\n"
     ]
    }
   ],
   "source": [
    "print (\"best validation accuracy: \", max(history.history['val_acc']))"
   ]
  },
  {
   "cell_type": "code",
   "execution_count": 180,
   "metadata": {
    "collapsed": true
   },
   "outputs": [],
   "source": [
    "def deeper_embedding_model(n_output_classes, n_embedding_dims = 16, max_sequence_length = 20, lambd = 0.0):\n",
    "\n",
    "    model = Sequential()\n",
    "\n",
    "    # 8-dimensional embedding layer for 1,000 words\n",
    "    model.add(Embedding(1000, n_embedding_dims, input_length = max_sequence_length, name=\"embedding\")) \n",
    "\n",
    "    # flattens 3D tensor of embeddings into 2D tensor of shape (samples, maxlen * 8)\n",
    "    model.add(Flatten()) \n",
    "    \n",
    "    model.add(Dense(16, activation='relu'))\n",
    "    # model.add(Dropout(0.2))\n",
    "    model.add(Dense(16, activation='relu',\n",
    "                    kernel_regularizer = regularizers.l2(lambd)))\n",
    "    #model.add(Dropout(0.2))\n",
    "    model.add(Dense(n_output_classes, activation = 'softmax'))\n",
    "    model.compile(optimizer = 'rmsprop',\n",
    "                  loss='categorical_crossentropy',\n",
    "                  metrics=['accuracy'])\n",
    "\n",
    "    return (model)"
   ]
  },
  {
   "cell_type": "code",
   "execution_count": 196,
   "metadata": {},
   "outputs": [
    {
     "name": "stdout",
     "output_type": "stream",
     "text": [
      "Epoch 00036: early stopping\n"
     ]
    },
    {
     "data": {
      "image/png": "[encoded data removed]",
      "text/plain": [
       "<Figure size 432x288 with 1 Axes>"
      ]
     },
     "metadata": {},
     "output_type": "display_data"
    },
    {
     "data": {
      "image/png": "[encoded data removed]",
      "text/plain": [
       "<Figure size 432x288 with 1 Axes>"
      ]
     },
     "metadata": {},
     "output_type": "display_data"
    },
    {
     "name": "stdout",
     "output_type": "stream",
     "text": [
      "best validation accuracy:  0.32010000038146974\n"
     ]
    }
   ],
   "source": [
    "clear_session()\n",
    "\n",
    "model = deeper_embedding_model(n_output_classes, \n",
    "                               n_embedding_dims = 28, \n",
    "                               max_sequence_length = maxlen,\n",
    "                               lambd = 0.0006)    \n",
    "\n",
    "early = keras.callbacks.EarlyStopping(monitor='val_acc',\n",
    "                              min_delta=0.03,\n",
    "                              patience=20,\n",
    "                              verbose=1, mode='auto')\n",
    "\n",
    "history = model.fit (x_train_sequences, y_train_idx,\n",
    "                     validation_data = (x_dev_sequences, y_dev_idx),\n",
    "                     epochs = 80,\n",
    "                     batch_size = 512,\n",
    "                     verbose=0,\n",
    "                     callbacks=[early])\n",
    "\n",
    "plot_train_history(history)\n",
    "print (\"best validation accuracy: \", max(history.history['val_acc']))"
   ]
  },
  {
   "cell_type": "markdown",
   "metadata": {},
   "source": [
    "Conclusions:\n",
    "The embedding->shallow NN model struggles to get above 31% accuracy. Actually best results obtained when number of embedding dimensions is small: ~3-4. "
   ]
  },
  {
   "cell_type": "code",
   "execution_count": null,
   "metadata": {
    "collapsed": true
   },
   "outputs": [],
   "source": []
  }
 ],
 "metadata": {
  "kernelspec": {
   "display_name": "Python 3",
   "language": "python",
   "name": "python3"
  },
  "language_info": {
   "codemirror_mode": {
    "name": "ipython",
    "version": 3
   },
   "file_extension": ".py",
   "mimetype": "text/x-python",
   "name": "python",
   "nbconvert_exporter": "python",
   "pygments_lexer": "ipython3",
   "version": "3.6.3"
  }
 },
 "nbformat": 4,
 "nbformat_minor": 2
}
