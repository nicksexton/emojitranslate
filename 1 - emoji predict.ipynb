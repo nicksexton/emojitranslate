{
 "cells": [
  {
   "cell_type": "markdown",
   "metadata": {},
   "source": [
    "# Emojitranslate project"
   ]
  },
  {
   "cell_type": "markdown",
   "metadata": {},
   "source": [
    "## Part one - learning to predict emojis from tweets"
   ]
  },
  {
   "cell_type": "markdown",
   "metadata": {},
   "source": [
    "The following code adapted from the Osinga deep learning cookbook - using the Twitter API to sample EN language tweets that contain exactly one emoji"
   ]
  },
  {
   "cell_type": "code",
   "execution_count": 42,
   "metadata": {},
   "outputs": [],
   "source": [
    "import random\n",
    "import twitter\n",
    "import emoji\n",
    "# import itertools\n",
    "import pandas as pd\n",
    "from itertools import chain\n",
    "from keras.preprocessing.sequence import pad_sequences\n",
    "import numpy as np\n",
    "#from sklearn.model_selection import train_test_split\n",
    "from keras import Sequential, optimizers, regularizers\n",
    "from keras.preprocessing.text import Tokenizer\n",
    "from keras.preprocessing.sequence import pad_sequences\n",
    "from keras.preprocessing.text import one_hot\n",
    "from keras.utils import to_categorical\n",
    "import keras.callbacks\n",
    "#import json\n",
    "\n",
    "import os\n",
    "# import nb_utils\n",
    "from keras.layers import Input, Conv1D, MaxPooling1D, Flatten, Dense, Dropout, LSTM, Embedding, GlobalMaxPooling1D#, Merge \n",
    "from keras.models import Model\n",
    "from keras.layers.merge import Concatenate, Average\n",
    "\n",
    "# from gensim.models import Word2Vec"
   ]
  },
  {
   "cell_type": "code",
   "execution_count": 43,
   "metadata": {},
   "outputs": [
    {
     "data": {
      "text/plain": [
       "😂        41999\n",
       "😭        17206\n",
       "❤        13689\n",
       "emoji     9718\n",
       "😍         9350\n",
       "🔥         8874\n",
       "🤣         5876\n",
       "🤔         4587\n",
       "🙏         4465\n",
       "😩         4349\n",
       "💕         4280\n",
       "😊         4067\n",
       "🖤         3997\n",
       "👀         3672\n",
       "✨         3495\n",
       "💜         3483\n",
       "👏         3393\n",
       "🙄         3267\n",
       "💀         3067\n",
       "🎉         2956\n",
       "🙌         2798\n",
       "😏         2762\n",
       "😘         2671\n",
       "💯         2583\n",
       "💙         2455\n",
       "👍         2377\n",
       "😔         2362\n",
       "😉         2251\n",
       "😎         2242\n",
       "💖         2197\n",
       "         ...  \n",
       "📇            1\n",
       "🚛            1\n",
       "⚱            1\n",
       "↕            1\n",
       "📤            1\n",
       "🖲            1\n",
       "🔕            1\n",
       "💹            1\n",
       "🗃            1\n",
       "📒            1\n",
       "🕠            1\n",
       "🤼            1\n",
       "🕕            1\n",
       "📏            1\n",
       "👷            1\n",
       "🕍            1\n",
       "⛎            1\n",
       "🀄            1\n",
       "🧘            1\n",
       "🏣            1\n",
       "🛥            1\n",
       "🛋            1\n",
       "➿            1\n",
       "⏸            1\n",
       "🏨            1\n",
       "🚾            1\n",
       "🔚            1\n",
       "🗄            1\n",
       "➗            1\n",
       "💇            1\n",
       "Name: emoji, Length: 1065, dtype: int64"
      ]
     },
     "execution_count": 43,
     "metadata": {},
     "output_type": "execute_result"
    }
   ],
   "source": [
    "all_tweets = pd.read_csv('data/emojis_homemade.csv')\n",
    "all_tweets['emoji'].value_counts()"
   ]
  },
  {
   "cell_type": "code",
   "execution_count": 44,
   "metadata": {},
   "outputs": [
    {
     "data": {
      "text/plain": [
       "(336011, 3)"
      ]
     },
     "execution_count": 44,
     "metadata": {},
     "output_type": "execute_result"
    }
   ],
   "source": [
    "all_tweets.shape"
   ]
  },
  {
   "cell_type": "code",
   "execution_count": 45,
   "metadata": {},
   "outputs": [
    {
     "data": {
      "text/plain": [
       "<bound method NDFrame.head of         Unnamed: 0                                               text emoji\n",
       "0              0.0  RT @mydear_bangtan: [VID] 181023 - Foi adicion...     ©\n",
       "1              1.0  RT @WuYiFan_KrisBar: 181023 Kris Wu Studio upd...     💫\n",
       "2              2.0  RT @TrendsPrabhas: Now you are watching Indian...     😎\n",
       "3              3.0                                    dats for keeps      💛\n",
       "4              4.0  RT @xruiztru: WHO ARMS THE SAUDIS?\\n\\n  🇺🇸US 5...     🏳\n",
       "5              5.0  RT @xxxfreaknasty2: interracial couple go at i...     🌝\n",
       "6              6.0               @Eric_Deshaun Holy shit no I think.      😩\n",
       "7              7.0     RT @fanmutuals: army, follow who retweet this      👑\n",
       "8              8.0  RT @_Simplykpop: Simply K-Pop harddrive dump\\n...     🤩\n",
       "9              9.0  Happy birthday nellie @thelittlegend, hope you...     ❤\n",
       "10            10.0  RT @montparnasty: \"I have passed through fire\"...     💕\n",
       "11            11.0  RT @Jason_Mckeown: Look how empty Valley Parad...     😟\n",
       "12            12.0  RT @hellohonne: Incredible to be involved in t...     😱\n",
       "13            13.0  RT @btsvotingteam: Too much feels \\n\\n#BTS #MP...     😢\n",
       "14            14.0  RT @premierleague: #PL TOP SCORERS \\n\\n7 - @ha...     🔥\n",
       "15            15.0  [DEPASCAL] RUSSEL HOODIE BLUE\\n https://t.co/C...     🔗\n",
       "16            16.0  The joys of having a make up artist as your be...     😂\n",
       "17            17.0  RT @EXOGlobal: [!] #TEMPO_KAI is currently tre...     🎊\n",
       "18            18.0     RT @fanmutuals: army, follow who retweet this      👑\n",
       "19            19.0       @slicksean Someone didn’t read the article.      🙄\n",
       "20            20.0  RT @mefeater: Happy 23rd Birthday to Duckie Th...     💕\n",
       "21            21.0  RT @followprojecten: follow everyone who retwe...     💓\n",
       "22            22.0  RT @hellohonne: Incredible to be involved in t...     😱\n",
       "23            23.0  RT @abusedmember: ⚀Re-enter the red cube⚀\\n\\n*...     🏁\n",
       "24            24.0  WOW @Just_Ceeks let me know when I can come pl...     🙃\n",
       "25            25.0  RT @MarkLand0802: markno～\\n#NCT #Mark #MarkLee...     🤟\n",
       "26            26.0  RT @SAPTechEd: Don't forget! The #SAPTechEd ne...     🍻\n",
       "27            27.0  RT @YuH8TM3:  \\nYou have all decided to push y...     🤔\n",
       "28            28.0                    Somebody stop simone biles omg      🔥\n",
       "29            29.0              @mrfairyvideo @__jim_in Wth i see...      😨\n",
       "...            ...                                                ...   ...\n",
       "335981         3.0  Don't take it seriously when you know that I'm...     🙂\n",
       "335982         4.0  RT @aaliyahhadidxo: Hey zaddy.  https://t.co/j...     🌦\n",
       "335983         5.0  RT @Corrynmb: Checking the midterm climate \\n\\...     ✌\n",
       "335984         6.0                       @His_Khaleesi Autograph plz      😂\n",
       "335985         7.0         RT @FosterBekoe: @Joselyn_Dumas Certainly      👏\n",
       "335986         8.0  RT @goKPOP: [#ContinueTourinSG]\\nIKonics, did ...     💗\n",
       "335987         9.0  RT @Syaamimm: This kind of r/s where you can j...     😂\n",
       "335988        10.0  RT @KAvenyou: iKON performs Love Scenario for ...     💘\n",
       "335989        11.0  RT @charileclarke: when someones deleted you o...     🤮\n",
       "335990        12.0  RT @souza5: Not better, not worse, just differ...     🙏\n",
       "335991        13.0  10 Tips for Better Sleep Infographic  https://...     ➡\n",
       "335992        14.0  RT @jaeminpic: the most cutest “hi” ever  http...     👋\n",
       "335993        15.0                       @trblcafe Apology accepted.      😂\n",
       "335994        16.0  RT @BarrettoJulia: thank u, next  https://t.co...     🍒\n",
       "335995        17.0  RT @erbmjha: Theek ️ hai [Spoof] https://t.co/...     ♥\n",
       "335996        18.0       My brothers track only got tune of the day 🏻     💃\n",
       "335997        19.0  RT @PEACHYBLACKG0RL: me                       ...     🤝\n",
       "335998        20.0                             @lalisaspasta poor us      🤧\n",
       "335999        21.0             @MhsMilan @VillaJfc Well done the boys     ⚽\n",
       "336000        22.0  RT @HareBrain55: Pull List and Finds 31/10 Hap...     🎃\n",
       "336001        23.0  RT @jeannynewby: Minor set back but I’ll be al...     😌\n",
       "336002        24.0  RT@AMZ0NE A father writes a bestselling book o...     ▶\n",
       "336003        25.0  RT @BTS_twt: I AM STERDAM  https://t.co/RK4Vak...     😂\n",
       "336004        26.0  RT @TheGeje_: ✰ Follow Now ✰\\n\\n @kinnafhr_boj...     ◼\n",
       "336005        27.0  I remember when my photo of Harry at the forum...     😋\n",
       "336006        28.0                                 “Carrot ka halwa ”     😍\n",
       "336007        29.0  RT @KraksTV: Start Dating A White Person And N...     ▶\n",
       "336008        30.0  whatta emotional day, always remember to take ...     💙\n",
       "336009        31.0  RT @LISARAMBO_: An old classmate of #LISA talk...     🔗\n",
       "336010        32.0                              @_eksolove thank you!     💛\n",
       "\n",
       "[336011 rows x 3 columns]>"
      ]
     },
     "execution_count": 45,
     "metadata": {},
     "output_type": "execute_result"
    }
   ],
   "source": [
    "all_tweets.head"
   ]
  },
  {
   "cell_type": "code",
   "execution_count": 46,
   "metadata": {},
   "outputs": [
    {
     "data": {
      "text/plain": [
       "😂        41999\n",
       "😭        17206\n",
       "❤        13689\n",
       "emoji     9718\n",
       "😍         9350\n",
       "🔥         8874\n",
       "🤣         5876\n",
       "🤔         4587\n",
       "🙏         4465\n",
       "😩         4349\n",
       "💕         4280\n",
       "😊         4067\n",
       "🖤         3997\n",
       "👀         3672\n",
       "✨         3495\n",
       "💜         3483\n",
       "👏         3393\n",
       "🙄         3267\n",
       "💀         3067\n",
       "🎉         2956\n",
       "🙌         2798\n",
       "😏         2762\n",
       "😘         2671\n",
       "💯         2583\n",
       "💙         2455\n",
       "👍         2377\n",
       "😔         2362\n",
       "😉         2251\n",
       "😎         2242\n",
       "💖         2197\n",
       "         ...  \n",
       "🙃         1697\n",
       "🗣         1682\n",
       "🤪         1641\n",
       "😢         1586\n",
       "😤         1553\n",
       "☺         1498\n",
       "🤗         1450\n",
       "©         1447\n",
       "🤧         1437\n",
       "😒         1396\n",
       "💥         1391\n",
       "✌         1377\n",
       "😌         1325\n",
       "😫         1308\n",
       "💗         1305\n",
       "💔         1303\n",
       "😈         1276\n",
       "☹         1256\n",
       "🙂         1254\n",
       "👉         1241\n",
       "🤝         1237\n",
       "🎶         1227\n",
       "🤩         1190\n",
       "💚         1163\n",
       "😆         1152\n",
       "➡         1073\n",
       "😋         1061\n",
       "💞         1044\n",
       "💓         1027\n",
       "▶         1022\n",
       "Name: emoji, Length: 72, dtype: int64"
      ]
     },
     "execution_count": 46,
     "metadata": {},
     "output_type": "execute_result"
    }
   ],
   "source": [
    "tweets = all_tweets.groupby('emoji').filter(lambda c:len(c) > 1000)\n",
    "tweets['emoji'].value_counts()"
   ]
  },
  {
   "cell_type": "code",
   "execution_count": 47,
   "metadata": {},
   "outputs": [
    {
     "data": {
      "text/plain": [
       "0.17238067484536676"
      ]
     },
     "execution_count": 47,
     "metadata": {},
     "output_type": "execute_result"
    }
   ],
   "source": [
    "tweets['emoji'].value_counts()[0]/sum(tweets['emoji'].value_counts())"
   ]
  },
  {
   "cell_type": "code",
   "execution_count": 48,
   "metadata": {},
   "outputs": [
    {
     "data": {
      "text/plain": [
       "'RT @DingDongLive: LMAO  @TexasEDMFamily\\n@FreakyDeakyFam\\nGrab my hard/hybrid trap mix&gt;&gt;&gt;&gt;&gt;&gt;&gt;&gt; https://t.co/34rcxAVbgk https://t.co/ArQeh23L…'"
      ]
     },
     "execution_count": 48,
     "metadata": {},
     "output_type": "execute_result"
    }
   ],
   "source": [
    "max(tweets['text'], key=lambda t:len(t))"
   ]
  },
  {
   "cell_type": "code",
   "execution_count": 49,
   "metadata": {},
   "outputs": [
    {
     "data": {
      "text/plain": [
       "['emoji', '©', '‼', '▶', '☹', '☺', '♥', '✌', '✨', '❤']"
      ]
     },
     "execution_count": 49,
     "metadata": {},
     "output_type": "execute_result"
    }
   ],
   "source": [
    "chars = list(sorted(set(chain(*tweets['text']))))\n",
    "char_to_idx = {ch: idx for idx, ch in enumerate(chars)}\n",
    "max_sequence_len = max(len(x) for x in tweets['text'])\n",
    "\n",
    "emojis = list(sorted(set(tweets['emoji'])))\n",
    "emoji_to_idx = {em: idx for idx, em in enumerate(emojis)}\n",
    "emojis[:10]\n",
    "\n",
    "#train_tweets, test_tweets = train_test_split(tweets, test_size=0.1)"
   ]
  },
  {
   "cell_type": "markdown",
   "metadata": {},
   "source": [
    "Currently we've collected quite a lot of tweet data, so to speed up the prototyping of the model we're going to create a train/dev/test datasets of 10,000 tweets each."
   ]
  },
  {
   "cell_type": "code",
   "execution_count": 50,
   "metadata": {
    "collapsed": true
   },
   "outputs": [],
   "source": [
    "train_tweets = tweets[0:10000]\n",
    "dev_tweets = tweets[10000:20000]\n",
    "test_tweets = tweets[20000:30000]\n",
    "\n",
    "\n",
    "# !! Temp! Try on much bigger dataset\n",
    "#train_tweets = tweets[0:100000] # 100000 tweets\n",
    "#dev_tweets = tweets[100000:110000]\n",
    "#test_tweets = tweets[110000:120000]\n",
    "\n"
   ]
  },
  {
   "cell_type": "code",
   "execution_count": 51,
   "metadata": {},
   "outputs": [],
   "source": [
    "#def data_generator(tweets, batch_size):\n",
    "#    while True:\n",
    "#        if batch_size is None:\n",
    "#            batch = tweets\n",
    "#            batch_size = batch.shape[0]\n",
    "#        else:\n",
    "#            batch = tweets.sample(batch_size)\n",
    "#        X = np.zeros((batch_size, max_sequence_len, len(chars)))\n",
    "#        y = np.zeros((batch_size,))\n",
    "#        for row_idx, (_, row) in enumerate(batch.iterrows()):\n",
    "#            y[row_idx] = emoji_to_idx[row['emoji']]\n",
    "#            for ch_idx, ch in enumerate(row['text']):\n",
    "#                X[row_idx, ch_idx, char_to_idx[ch]] = 1\n",
    "#        yield X, y\n",
    "#\n",
    "#next(data_generator(tweets, 10))"
   ]
  },
  {
   "cell_type": "code",
   "execution_count": 52,
   "metadata": {},
   "outputs": [],
   "source": [
    "#def create_char_cnn_model(num_chars, max_sequence_len, num_labels):\n",
    "#    char_input = Input(shape=(max_sequence_len, num_chars), name='char_cnn_input')\n",
    "#    \n",
    "#    conv_1x = Conv1D(128, 6, activation='relu', padding='valid')(char_input)\n",
    "#    max_pool_1x = MaxPooling1D(4)(conv_1x)\n",
    "#    conv_2x = Conv1D(256, 6, activation='relu', padding='valid')(max_pool_1x)\n",
    "#    max_pool_2x = MaxPooling1D(4)(conv_2x)\n",
    "\n",
    "#    flatten = Flatten()(max_pool_2x)\n",
    "#    dense = Dense(128, activation='relu')(flatten)\n",
    "#    preds = Dense(num_labels, activation='softmax', name='char_cnn_predictions')(dense)\n",
    "\n",
    "#    model = Model(char_input, preds)\n",
    "#    model.compile(loss='sparse_categorical_crossentropy',\n",
    "#                  optimizer='rmsprop',\n",
    "#                  metrics=['acc'])\n",
    "#    return model\n",
    "\n",
    "#char_cnn_model = create_char_cnn_model(len(char_to_idx), max_sequence_len, len(emojis))\n",
    "#char_cnn_model.summary()"
   ]
  },
  {
   "cell_type": "code",
   "execution_count": 53,
   "metadata": {},
   "outputs": [],
   "source": [
    "#early = keras.callbacks.EarlyStopping(monitor='loss',\n",
    "#                              min_delta=0.03,\n",
    "#                              patience=2,\n",
    "#                              verbose=1, mode='auto')\n",
    "\n",
    "#checkpoint = keras.callbacks.ModelCheckpoint(filepath='emoji_cnn.h5',\n",
    "#                                             monitor='val_acc',\n",
    "#                                             save_best_only = True)\n",
    "\n",
    "#tensorboard = keras.callbacks.TensorBoard(log_dir='tensorboard_log',\n",
    "#                                         histogram_freq=1,\n",
    "#                                         embeddings_freq=1)\n",
    "\n",
    "#BATCH_SIZE = 512\n",
    "#char_cnn_model.fit_generator(\n",
    "#    data_generator(train_tweets, batch_size=BATCH_SIZE),\n",
    "#    validation_data = data_generator(dev_tweets, batch_size=BATCH_SIZE),\n",
    "#    validation_steps=int(dev_tweets.shape[0]/BATCH_SIZE),\n",
    "#    epochs=5,\n",
    "#    steps_per_epoch=len(train_tweets) / BATCH_SIZE,\n",
    "#    verbose=1, # was: verbose=2\n",
    "#    callbacks=[early, checkpoint]\n",
    "#)"
   ]
  },
  {
   "cell_type": "code",
   "execution_count": 54,
   "metadata": {},
   "outputs": [],
   "source": [
    "#pd.options.display.max_colwidth = 128\n",
    "#inspect_tweets = dev_tweets.sample(100)\n",
    "#predicted = char_cnn_model.predict_generator(data_generator(inspect_tweets, batch_size=None), steps=1)\n",
    "#show = pd.DataFrame({\n",
    "#    'text': inspect_tweets['text'],\n",
    "#    'true': inspect_tweets['emoji'],\n",
    "#    'pred': [emojis[np.argmax(x)] for x in predicted],\n",
    "#})\n",
    "#show = show[['text', 'true', 'pred']]\n",
    "#show.head(10)"
   ]
  },
  {
   "cell_type": "markdown",
   "metadata": {},
   "source": [
    "# Simple neural network - single Dense layer\n",
    "\n",
    "Benchmark performance with the simplest neural network we can get"
   ]
  },
  {
   "cell_type": "markdown",
   "metadata": {},
   "source": [
    "Let's divide up the train/dev/test sets so we're not relying on a generator"
   ]
  },
  {
   "cell_type": "code",
   "execution_count": 55,
   "metadata": {
    "collapsed": true
   },
   "outputs": [],
   "source": [
    "x_train = train_tweets[\"text\"]\n",
    "y_train = np.asarray(train_tweets[\"emoji\"])\n",
    "x_dev = dev_tweets[\"text\"]\n",
    "y_dev = np.asarray(dev_tweets[\"emoji\"])\n",
    "x_test = test_tweets[\"text\"]\n",
    "y_test = np.asarray(test_tweets[\"emoji\"])\n",
    "\n",
    "all_emojis = np.concatenate((y_train, y_dev, y_test), axis=0)\n",
    "\n",
    "emoji_to_idx = {em: idx for idx, em in enumerate(emojis)}\n",
    "#emojis[:10]\n",
    "\n",
    "all_emojis_idx = np.zeros(all_emojis.shape[0])\n",
    "\n",
    "for i in range (all_emojis.shape[0]):\n",
    "    all_emojis_idx[i] = emoji_to_idx[all_emojis[i]]    \n",
    "\n",
    "all_emojis_one_hot = to_categorical (all_emojis_idx)\n",
    "    \n",
    "y_train_idx = all_emojis_one_hot[0:10000,:]\n",
    "y_dev_idx = all_emojis_one_hot[10000:20000,:]\n",
    "y_test_idx = all_emojis_one_hot[20000:30000,:]\n",
    "\n",
    "\n",
    "# Temp!\n",
    "#y_train_idx = all_emojis_one_hot[0:100000,:]\n",
    "#y_dev_idx = all_emojis_one_hot[100000:110000,:]\n",
    "#y_test_idx = all_emojis_one_hot[110000:120000,:]"
   ]
  },
  {
   "cell_type": "code",
   "execution_count": 56,
   "metadata": {},
   "outputs": [],
   "source": [
    "# y_train_idx[0:10]"
   ]
  },
  {
   "cell_type": "markdown",
   "metadata": {},
   "source": [
    "Now let's start by one-hot encoding the text samples"
   ]
  },
  {
   "cell_type": "code",
   "execution_count": 57,
   "metadata": {
    "collapsed": true
   },
   "outputs": [],
   "source": [
    "tokenizer = Tokenizer(num_words = 1000)\n",
    "tokenizer.fit_on_texts (x_train)\n",
    "\n",
    "#x_train_sequences = tokenizer.texts_to_sequences(x_train)\n",
    "#x_dev_sequences = tokenizer.texts_to_sequences(x_dev)\n",
    "#x_test_sequences = tokenizer.texts_to_sequences(x_test)\n",
    "\n",
    "x_train_one_hot = tokenizer.texts_to_matrix(x_train, mode='binary')\n",
    "x_dev_one_hot = tokenizer.texts_to_matrix(x_dev, mode='binary')\n",
    "x_test_one_hot = tokenizer.texts_to_matrix(x_test, mode='binary')\n",
    "\n",
    "\n",
    "\n",
    "\n",
    "# remember to pad sequences"
   ]
  },
  {
   "cell_type": "code",
   "execution_count": 58,
   "metadata": {},
   "outputs": [
    {
     "data": {
      "text/plain": [
       "(10000, 1000)"
      ]
     },
     "execution_count": 58,
     "metadata": {},
     "output_type": "execute_result"
    }
   ],
   "source": [
    "x_train_one_hot.shape"
   ]
  },
  {
   "cell_type": "code",
   "execution_count": 59,
   "metadata": {},
   "outputs": [
    {
     "data": {
      "text/plain": [
       "(10000, 72)"
      ]
     },
     "execution_count": 59,
     "metadata": {},
     "output_type": "execute_result"
    }
   ],
   "source": [
    "y_train_idx.shape"
   ]
  },
  {
   "cell_type": "markdown",
   "metadata": {},
   "source": [
    "# A linear classifier\n",
    "\n",
    "As a performance baseline for more complex models, it's instructive to see how well we can do with just a linear classifier with no hidden layer. With 64 hidden units trained on 10,000 training examples, we're able to get up to about 38% accuracy on the validation set. A lower learning rate slows down the learning (although it's still very fast) but doesn't appear to do any better in terms of final accuracy before the model starts overfitting. "
   ]
  },
  {
   "cell_type": "code",
   "execution_count": 60,
   "metadata": {},
   "outputs": [
    {
     "data": {
      "text/plain": [
       "(10000, 72)"
      ]
     },
     "execution_count": 60,
     "metadata": {},
     "output_type": "execute_result"
    }
   ],
   "source": [
    "y_dev_idx.shape"
   ]
  },
  {
   "cell_type": "code",
   "execution_count": 61,
   "metadata": {},
   "outputs": [
    {
     "name": "stdout",
     "output_type": "stream",
     "text": [
      "Train on 10000 samples, validate on 10000 samples\n",
      "Epoch 1/20\n",
      " - 1s - loss: 3.8701 - acc: 0.2371 - val_loss: 3.6482 - val_acc: 0.2786\n",
      "Epoch 2/20\n",
      " - 0s - loss: 3.3552 - acc: 0.3150 - val_loss: 3.4394 - val_acc: 0.3044\n",
      "Epoch 3/20\n",
      " - 0s - loss: 3.0830 - acc: 0.3386 - val_loss: 3.3187 - val_acc: 0.3179\n",
      "Epoch 4/20\n",
      " - 0s - loss: 2.8727 - acc: 0.3661 - val_loss: 3.2288 - val_acc: 0.3286\n",
      "Epoch 5/20\n",
      " - 0s - loss: 2.6924 - acc: 0.3920 - val_loss: 3.1575 - val_acc: 0.3351\n",
      "Epoch 6/20\n",
      " - 0s - loss: 2.5358 - acc: 0.4111 - val_loss: 3.1014 - val_acc: 0.3453\n",
      "Epoch 7/20\n",
      " - 0s - loss: 2.3970 - acc: 0.4370 - val_loss: 3.0584 - val_acc: 0.3478\n",
      "Epoch 8/20\n",
      " - 0s - loss: 2.2745 - acc: 0.4555 - val_loss: 3.0258 - val_acc: 0.3608\n",
      "Epoch 9/20\n",
      " - 0s - loss: 2.1653 - acc: 0.4766 - val_loss: 3.0010 - val_acc: 0.3656\n",
      "Epoch 10/20\n",
      " - 0s - loss: 2.0679 - acc: 0.4955 - val_loss: 2.9832 - val_acc: 0.3676\n",
      "Epoch 11/20\n",
      " - 0s - loss: 1.9811 - acc: 0.5140 - val_loss: 2.9719 - val_acc: 0.3673\n",
      "Epoch 12/20\n",
      " - 0s - loss: 1.9030 - acc: 0.5273 - val_loss: 2.9661 - val_acc: 0.3681\n",
      "Epoch 13/20\n",
      " - 0s - loss: 1.8332 - acc: 0.5415 - val_loss: 2.9647 - val_acc: 0.3707\n",
      "Epoch 14/20\n",
      " - 0s - loss: 1.7703 - acc: 0.5561 - val_loss: 2.9682 - val_acc: 0.3715\n",
      "Epoch 15/20\n",
      " - 0s - loss: 1.7138 - acc: 0.5659 - val_loss: 2.9748 - val_acc: 0.3714\n",
      "Epoch 16/20\n",
      " - 0s - loss: 1.6624 - acc: 0.5739 - val_loss: 2.9840 - val_acc: 0.3713\n",
      "Epoch 17/20\n",
      " - 0s - loss: 1.6161 - acc: 0.5868 - val_loss: 2.9973 - val_acc: 0.3711\n",
      "Epoch 18/20\n",
      " - 0s - loss: 1.5741 - acc: 0.5950 - val_loss: 3.0116 - val_acc: 0.3700\n",
      "Epoch 19/20\n",
      " - 0s - loss: 1.5355 - acc: 0.6035 - val_loss: 3.0269 - val_acc: 0.3704\n",
      "Epoch 20/20\n",
      " - 0s - loss: 1.5004 - acc: 0.6102 - val_loss: 3.0458 - val_acc: 0.3716\n"
     ]
    }
   ],
   "source": [
    "output_size = y_dev_idx.shape[1] # around 64 units for 10,000 tweets\n",
    "\n",
    "model = Sequential()\n",
    "model.add(Dense(output_size, activation='softmax', input_shape=(1000,))) \n",
    "model.compile(optimizer=optimizers.RMSprop(lr = 0.005),\n",
    "              loss='categorical_crossentropy',\n",
    "              metrics=['accuracy'])\n",
    "\n",
    "history = model.fit (x_train_one_hot, y_train_idx,\n",
    "                    epochs = 20,\n",
    "                    batch_size = 512,\n",
    "                    validation_data = (x_dev_one_hot, y_dev_idx),\n",
    "                    verbose=2)"
   ]
  },
  {
   "cell_type": "code",
   "execution_count": 62,
   "metadata": {
    "collapsed": true
   },
   "outputs": [],
   "source": [
    "import matplotlib.pyplot as plt\n",
    "\n",
    "def plot_train_history(history): \n",
    "\n",
    "    acc = history.history['acc']\n",
    "    val_acc = history.history['val_acc']\n",
    "    loss = history.history['loss']\n",
    "    val_loss = history.history['val_loss']\n",
    "\n",
    "    epochs = range(1, len(acc) + 1)\n",
    "\n",
    "    plt.plot (epochs, acc, 'bo', label='Training acc')\n",
    "    plt.plot (epochs, val_acc, 'b', label='Validation acc')\n",
    "    plt.title ('Training and validation accuracy')\n",
    "    plt.legend()\n",
    "\n",
    "    plt.figure()\n",
    "\n",
    "    plt.plot(epochs, loss, 'bo', label = 'Training loss')\n",
    "    plt.plot(epochs, val_loss, 'b', label = 'Validation loss')\n",
    "    plt.title('Training and validation loss')\n",
    "    plt.legend()\n",
    "\n",
    "    plt.show()"
   ]
  },
  {
   "cell_type": "code",
   "execution_count": 63,
   "metadata": {},
   "outputs": [
    {
     "name": "stdout",
     "output_type": "stream",
     "text": [
      "best validation accuracy:  0.3716\n"
     ]
    },
    {
     "data": {
      "image/png": "[encoded data removed]",
      "text/plain": [
       "<Figure size 432x288 with 1 Axes>"
      ]
     },
     "metadata": {},
     "output_type": "display_data"
    },
    {
     "data": {
      "image/png": "[encoded data removed]",
      "text/plain": [
       "<Figure size 432x288 with 1 Axes>"
      ]
     },
     "metadata": {},
     "output_type": "display_data"
    }
   ],
   "source": [
    "print (\"best validation accuracy: \", max(history.history['val_acc']))\n",
    "plot_train_history(history)"
   ]
  },
  {
   "cell_type": "markdown",
   "metadata": {},
   "source": [
    "# Shallow neural network\n",
    "A simple shallow neural network with a layer of hidden units\n",
    "\n",
    "128 hidden units gets us up to 39% accuracy"
   ]
  },
  {
   "cell_type": "code",
   "execution_count": 64,
   "metadata": {},
   "outputs": [
    {
     "name": "stdout",
     "output_type": "stream",
     "text": [
      "Train on 10000 samples, validate on 10000 samples\n",
      "Epoch 1/10\n",
      "10000/10000 [==============================] - 1s 86us/step - loss: 4.0160 - acc: 0.2220 - val_loss: 3.8034 - val_acc: 0.2583\n",
      "Epoch 2/10\n",
      "10000/10000 [==============================] - 0s 45us/step - loss: 3.6105 - acc: 0.2677 - val_loss: 3.5791 - val_acc: 0.2778\n",
      "Epoch 3/10\n",
      "10000/10000 [==============================] - 0s 46us/step - loss: 3.4034 - acc: 0.2955 - val_loss: 3.4516 - val_acc: 0.3044\n",
      "Epoch 4/10\n",
      "10000/10000 [==============================] - 0s 41us/step - loss: 3.2381 - acc: 0.3267 - val_loss: 3.3351 - val_acc: 0.3190\n",
      "Epoch 5/10\n",
      "10000/10000 [==============================] - 0s 46us/step - loss: 3.0869 - acc: 0.3495 - val_loss: 3.2315 - val_acc: 0.3307\n",
      "Epoch 6/10\n",
      "10000/10000 [==============================] - 0s 47us/step - loss: 2.9463 - acc: 0.3667 - val_loss: 3.1374 - val_acc: 0.3389\n",
      "Epoch 7/10\n",
      "10000/10000 [==============================] - 0s 47us/step - loss: 2.8191 - acc: 0.3817 - val_loss: 3.0579 - val_acc: 0.3500\n",
      "Epoch 8/10\n",
      "10000/10000 [==============================] - 0s 49us/step - loss: 2.7077 - acc: 0.3922 - val_loss: 2.9935 - val_acc: 0.3515\n",
      "Epoch 9/10\n",
      "10000/10000 [==============================] - 0s 48us/step - loss: 2.6106 - acc: 0.4012 - val_loss: 2.9421 - val_acc: 0.3550\n",
      "Epoch 10/10\n",
      "10000/10000 [==============================] - 0s 45us/step - loss: 2.5263 - acc: 0.4133 - val_loss: 2.9040 - val_acc: 0.3595\n"
     ]
    },
    {
     "data": {
      "image/png": "[encoded data removed]",
      "text/plain": [
       "<Figure size 432x288 with 1 Axes>"
      ]
     },
     "metadata": {},
     "output_type": "display_data"
    },
    {
     "data": {
      "image/png": "[encoded data removed]",
      "text/plain": [
       "<Figure size 432x288 with 1 Axes>"
      ]
     },
     "metadata": {},
     "output_type": "display_data"
    },
    {
     "name": "stdout",
     "output_type": "stream",
     "text": [
      "best validation accuracy:  0.3595000002384186\n"
     ]
    }
   ],
   "source": [
    "n_output_classes = y_dev_idx.shape[1]\n",
    "\n",
    "model = Sequential()\n",
    "model.add(Dense(128, activation='relu', input_shape=(1000,)))\n",
    "model.add(Dense(n_output_classes, activation = 'softmax'))\n",
    "model.compile(optimizer = 'rmsprop',\n",
    "              loss='categorical_crossentropy',\n",
    "              metrics=['accuracy'])\n",
    "\n",
    "history = model.fit (x_train_one_hot, y_train_idx,\n",
    "                    epochs = 10,\n",
    "                    batch_size = 512,\n",
    "                    verbose=1,\n",
    "                    validation_data = (x_dev_one_hot, y_dev_idx))\n",
    "\n",
    "plot_train_history(history)\n",
    "print (\"best validation accuracy: \", max(history.history['val_acc']))"
   ]
  },
  {
   "cell_type": "markdown",
   "metadata": {},
   "source": [
    "# Two layers of hidden units\n",
    "A slight improvement over one layer of hidden units (<1%)"
   ]
  },
  {
   "cell_type": "code",
   "execution_count": 65,
   "metadata": {},
   "outputs": [
    {
     "name": "stdout",
     "output_type": "stream",
     "text": [
      "Train on 10000 samples, validate on 10000 samples\n",
      "Epoch 1/20\n",
      "10000/10000 [==============================] - 1s 125us/step - loss: 4.1550 - acc: 0.1835 - val_loss: 3.8672 - val_acc: 0.2626\n",
      "Epoch 2/20\n",
      "10000/10000 [==============================] - 1s 77us/step - loss: 3.6252 - acc: 0.2850 - val_loss: 3.5774 - val_acc: 0.3019\n",
      "Epoch 3/20\n",
      "10000/10000 [==============================] - 1s 77us/step - loss: 3.3096 - acc: 0.3382 - val_loss: 3.4011 - val_acc: 0.3238\n",
      "Epoch 4/20\n",
      "10000/10000 [==============================] - 1s 78us/step - loss: 3.0979 - acc: 0.3690 - val_loss: 3.2835 - val_acc: 0.3331\n",
      "Epoch 5/20\n",
      "10000/10000 [==============================] - 1s 79us/step - loss: 2.9419 - acc: 0.3879 - val_loss: 3.2092 - val_acc: 0.3401\n",
      "Epoch 6/20\n",
      "10000/10000 [==============================] - 1s 76us/step - loss: 2.8261 - acc: 0.4048 - val_loss: 3.1701 - val_acc: 0.3466\n",
      "Epoch 7/20\n",
      "10000/10000 [==============================] - 1s 78us/step - loss: 2.7218 - acc: 0.4219 - val_loss: 3.1180 - val_acc: 0.3542\n",
      "Epoch 8/20\n",
      "10000/10000 [==============================] - 1s 76us/step - loss: 2.6351 - acc: 0.4399 - val_loss: 3.0975 - val_acc: 0.3500\n",
      "Epoch 9/20\n",
      "10000/10000 [==============================] - 1s 76us/step - loss: 2.5568 - acc: 0.4561 - val_loss: 3.0738 - val_acc: 0.3608\n",
      "Epoch 10/20\n",
      "10000/10000 [==============================] - 1s 78us/step - loss: 2.4857 - acc: 0.4698 - val_loss: 3.0608 - val_acc: 0.3653\n",
      "Epoch 11/20\n",
      "10000/10000 [==============================] - 1s 78us/step - loss: 2.4218 - acc: 0.4792 - val_loss: 3.0510 - val_acc: 0.3719\n",
      "Epoch 12/20\n",
      "10000/10000 [==============================] - 1s 79us/step - loss: 2.3552 - acc: 0.4931 - val_loss: 3.0796 - val_acc: 0.3565\n",
      "Epoch 13/20\n",
      "10000/10000 [==============================] - 1s 80us/step - loss: 2.3057 - acc: 0.5077 - val_loss: 3.0443 - val_acc: 0.3730\n",
      "Epoch 14/20\n",
      "10000/10000 [==============================] - 1s 80us/step - loss: 2.2519 - acc: 0.5160 - val_loss: 3.0624 - val_acc: 0.3744\n",
      "Epoch 15/20\n",
      "10000/10000 [==============================] - 1s 77us/step - loss: 2.2045 - acc: 0.5259 - val_loss: 3.0662 - val_acc: 0.3728\n",
      "Epoch 16/20\n",
      "10000/10000 [==============================] - 1s 77us/step - loss: 2.1554 - acc: 0.5385 - val_loss: 3.0822 - val_acc: 0.3593\n",
      "Epoch 17/20\n",
      "10000/10000 [==============================] - 1s 78us/step - loss: 2.1119 - acc: 0.5499 - val_loss: 3.0638 - val_acc: 0.3822\n",
      "Epoch 18/20\n",
      "10000/10000 [==============================] - 1s 81us/step - loss: 2.0713 - acc: 0.5576 - val_loss: 3.0708 - val_acc: 0.3831\n",
      "Epoch 19/20\n",
      "10000/10000 [==============================] - 1s 79us/step - loss: 2.0310 - acc: 0.5688 - val_loss: 3.1057 - val_acc: 0.3803\n",
      "Epoch 20/20\n",
      "10000/10000 [==============================] - 1s 80us/step - loss: 1.9889 - acc: 0.5756 - val_loss: 3.1094 - val_acc: 0.3722\n"
     ]
    },
    {
     "data": {
      "image/png": "[encoded data removed]",
      "text/plain": [
       "<Figure size 432x288 with 1 Axes>"
      ]
     },
     "metadata": {},
     "output_type": "display_data"
    },
    {
     "data": {
      "image/png": "[encoded data removed]",
      "text/plain": [
       "<Figure size 432x288 with 1 Axes>"
      ]
     },
     "metadata": {},
     "output_type": "display_data"
    },
    {
     "name": "stdout",
     "output_type": "stream",
     "text": [
      "best validation accuracy:  0.3830999997138977\n"
     ]
    }
   ],
   "source": [
    "n_output_classes = y_dev_idx.shape[1]\n",
    "\n",
    "model = Sequential()\n",
    "model.add(Dense(300, activation='relu', input_shape=(1000,)))\n",
    "model.add(Dense(128, activation='relu', \n",
    "                kernel_regularizer = regularizers.l2(0.0025)))\n",
    "model.add(Dense(n_output_classes, activation = 'softmax'))\n",
    "model.compile(optimizer = 'rmsprop',\n",
    "              loss='categorical_crossentropy',\n",
    "              metrics=['accuracy'])\n",
    "\n",
    "history = model.fit (x_train_one_hot, y_train_idx,\n",
    "                    epochs = 20,\n",
    "                    batch_size = 512,\n",
    "                    verbose=1,\n",
    "                    validation_data = (x_dev_one_hot, y_dev_idx))\n",
    "\n",
    "plot_train_history(history)\n",
    "print (\"best validation accuracy: \", max(history.history['val_acc']))"
   ]
  },
  {
   "cell_type": "markdown",
   "metadata": {},
   "source": [
    "## Two layer network with dropout and regularization\n",
    "\n",
    "Takes longer to train than the network with neither. Some improvements in accuracy but it's a bit marginal."
   ]
  },
  {
   "cell_type": "code",
   "execution_count": 66,
   "metadata": {},
   "outputs": [
    {
     "name": "stdout",
     "output_type": "stream",
     "text": [
      "Train on 10000 samples, validate on 10000 samples\n",
      "Epoch 1/20\n",
      "10000/10000 [==============================] - 2s 155us/step - loss: 4.1840 - acc: 0.1693 - val_loss: 3.9021 - val_acc: 0.1981\n",
      "Epoch 2/20\n",
      "10000/10000 [==============================] - 1s 90us/step - loss: 3.7801 - acc: 0.2431 - val_loss: 3.6576 - val_acc: 0.2692\n",
      "Epoch 3/20\n",
      "10000/10000 [==============================] - 1s 82us/step - loss: 3.5358 - acc: 0.2771 - val_loss: 3.4836 - val_acc: 0.2998\n",
      "Epoch 4/20\n",
      "10000/10000 [==============================] - 1s 87us/step - loss: 3.3546 - acc: 0.3049 - val_loss: 3.3658 - val_acc: 0.3158\n",
      "Epoch 5/20\n",
      "10000/10000 [==============================] - 1s 82us/step - loss: 3.2246 - acc: 0.3277 - val_loss: 3.2810 - val_acc: 0.3259\n",
      "Epoch 6/20\n",
      "10000/10000 [==============================] - 1s 86us/step - loss: 3.1203 - acc: 0.3461 - val_loss: 3.2223 - val_acc: 0.3282\n",
      "Epoch 7/20\n",
      "10000/10000 [==============================] - 1s 84us/step - loss: 3.0263 - acc: 0.3617 - val_loss: 3.1710 - val_acc: 0.3407\n",
      "Epoch 8/20\n",
      "10000/10000 [==============================] - 1s 84us/step - loss: 2.9424 - acc: 0.3743 - val_loss: 3.1425 - val_acc: 0.3385\n",
      "Epoch 9/20\n",
      "10000/10000 [==============================] - 1s 82us/step - loss: 2.8807 - acc: 0.3882 - val_loss: 3.1039 - val_acc: 0.3467\n",
      "Epoch 10/20\n",
      "10000/10000 [==============================] - 1s 84us/step - loss: 2.8131 - acc: 0.3948 - val_loss: 3.0781 - val_acc: 0.3449\n",
      "Epoch 11/20\n",
      "10000/10000 [==============================] - 1s 83us/step - loss: 2.7623 - acc: 0.4028 - val_loss: 3.0555 - val_acc: 0.3510\n",
      "Epoch 12/20\n",
      "10000/10000 [==============================] - 1s 85us/step - loss: 2.7153 - acc: 0.4125 - val_loss: 3.0361 - val_acc: 0.3492\n",
      "Epoch 13/20\n",
      "10000/10000 [==============================] - 1s 82us/step - loss: 2.6607 - acc: 0.4186 - val_loss: 3.0186 - val_acc: 0.3545\n",
      "Epoch 14/20\n",
      "10000/10000 [==============================] - 1s 89us/step - loss: 2.6206 - acc: 0.4281 - val_loss: 3.0035 - val_acc: 0.3583\n",
      "Epoch 15/20\n",
      "10000/10000 [==============================] - 1s 84us/step - loss: 2.5775 - acc: 0.4355 - val_loss: 2.9979 - val_acc: 0.3658\n",
      "Epoch 16/20\n",
      "10000/10000 [==============================] - 1s 85us/step - loss: 2.5447 - acc: 0.4369 - val_loss: 2.9911 - val_acc: 0.3632\n",
      "Epoch 17/20\n",
      "10000/10000 [==============================] - 1s 87us/step - loss: 2.4966 - acc: 0.4494 - val_loss: 2.9793 - val_acc: 0.3782\n",
      "Epoch 18/20\n",
      "10000/10000 [==============================] - 1s 88us/step - loss: 2.4691 - acc: 0.4550 - val_loss: 2.9702 - val_acc: 0.3686\n",
      "Epoch 19/20\n",
      "10000/10000 [==============================] - 1s 90us/step - loss: 2.4284 - acc: 0.4636 - val_loss: 2.9695 - val_acc: 0.3784\n",
      "Epoch 20/20\n",
      "10000/10000 [==============================] - 1s 96us/step - loss: 2.4089 - acc: 0.4718 - val_loss: 2.9691 - val_acc: 0.3718\n"
     ]
    },
    {
     "data": {
      "image/png": "[encoded data removed]",
      "text/plain": [
       "<Figure size 432x288 with 1 Axes>"
      ]
     },
     "metadata": {},
     "output_type": "display_data"
    },
    {
     "data": {
      "image/png": "[encoded data removed]",
      "text/plain": [
       "<Figure size 432x288 with 1 Axes>"
      ]
     },
     "metadata": {},
     "output_type": "display_data"
    }
   ],
   "source": [
    "n_output_classes = y_dev_idx.shape[1]\n",
    "\n",
    "model = Sequential()\n",
    "model.add(Dense(300, activation='relu', input_shape=(1000,)))\n",
    "model.add(Dropout(0.4))\n",
    "model.add(Dense(128, activation='relu',\n",
    "                kernel_regularizer = regularizers.l2(0.002)))\n",
    "model.add(Dropout(0.4))\n",
    "model.add(Dense(n_output_classes, activation = 'softmax'))\n",
    "model.compile(optimizer = 'rmsprop',\n",
    "              loss='categorical_crossentropy',\n",
    "              metrics=['accuracy'])\n",
    "\n",
    "history = model.fit (x_train_one_hot, y_train_idx,\n",
    "                    epochs = 20,\n",
    "                    batch_size = 512,\n",
    "                    verbose=1,\n",
    "                    validation_data = (x_dev_one_hot, y_dev_idx))\n",
    "\n",
    "plot_train_history(history)"
   ]
  },
  {
   "cell_type": "code",
   "execution_count": 41,
   "metadata": {},
   "outputs": [
    {
     "name": "stdout",
     "output_type": "stream",
     "text": [
      "best validation accuracy:  0.37530000014305115\n"
     ]
    }
   ],
   "source": [
    "print (\"best validation accuracy: \", max(history.history['val_acc']))"
   ]
  },
  {
   "cell_type": "markdown",
   "metadata": {},
   "source": [
    "# Embedding Layer\n",
    "\n",
    "First of all, let's try just an embedding layer, into a classifier"
   ]
  },
  {
   "cell_type": "code",
   "execution_count": 73,
   "metadata": {},
   "outputs": [
    {
     "data": {
      "text/plain": [
       "'RT @mydear_bangtan: [VID] 181023 - Foi adicionada a letra “D” no outdoor misterioso do #BTS em Hollywood.\\nFormando: BTS AND... \\n\\n ILOVEPAR…'"
      ]
     },
     "execution_count": 73,
     "metadata": {},
     "output_type": "execute_result"
    }
   ],
   "source": [
    "x_train[0]"
   ]
  },
  {
   "cell_type": "code",
   "execution_count": 100,
   "metadata": {},
   "outputs": [],
   "source": [
    "# Tokenize the tweets into lists of words\n",
    "\n",
    "maxlen = 20\n",
    "\n",
    "def convert_to_sequences(tweet_text, tokenizer, maxlen=20):\n",
    "    tweet_sequence = np.asarray(tokenizer.texts_to_sequences(tweet_text))\n",
    "    padded = pad_sequences (tweet_sequence, maxlen=maxlen)\n",
    "    return (padded)\n",
    "\n",
    "x_train_sequences = convert_to_sequences(x_train, tokenizer, maxlen=20)\n",
    "x_dev_sequences = convert_to_sequences(x_dev, tokenizer, maxlen=20)\n",
    "x_test_sequences = convert_to_sequences(x_test, tokenizer, maxlen=20)"
   ]
  },
  {
   "cell_type": "code",
   "execution_count": 102,
   "metadata": {},
   "outputs": [],
   "source": [
    "n_output_classes = y_dev_idx.shape[1]\n",
    "\n",
    "def simple_embedding_model(n_output_classes, max_sequence_length = 20):\n",
    "\n",
    "    model = Sequential()\n",
    "\n",
    "    # 8-dimensional embedding layer for 1,000 words\n",
    "    model.add(Embedding(1000, 8, input_length = max_sequence_length), name=\"embedding\") \n",
    "\n",
    "    # flattens 3D tensor of embeddings into 2D tensor of shape (samples, maxlen * 8)\n",
    "    model.add(Flatten()) \n",
    "\n",
    "    model.add(Dense(n_output_classes, activation = 'softmax'))\n",
    "    model.compile(optimizer = 'rmsprop',\n",
    "                  loss='categorical_crossentropy',\n",
    "                  metrics=['accuracy'])\n",
    "\n",
    "    return (model)"
   ]
  },
  {
   "cell_type": "code",
   "execution_count": 107,
   "metadata": {},
   "outputs": [
    {
     "name": "stdout",
     "output_type": "stream",
     "text": [
      "Train on 10000 samples, validate on 10000 samples\n",
      "Epoch 1/40\n",
      "10000/10000 [==============================] - 1s 73us/step - loss: 4.1913 - acc: 0.1699 - val_loss: 4.1123 - val_acc: 0.2051\n",
      "Epoch 2/40\n",
      "10000/10000 [==============================] - 0s 24us/step - loss: 4.0272 - acc: 0.2045 - val_loss: 3.9486 - val_acc: 0.2064\n",
      "Epoch 3/40\n",
      "10000/10000 [==============================] - 0s 24us/step - loss: 3.8612 - acc: 0.2050 - val_loss: 3.8022 - val_acc: 0.2061\n",
      "Epoch 4/40\n",
      "10000/10000 [==============================] - 0s 23us/step - loss: 3.7292 - acc: 0.2043 - val_loss: 3.7045 - val_acc: 0.2082\n",
      "Epoch 5/40\n",
      "10000/10000 [==============================] - 0s 22us/step - loss: 3.6487 - acc: 0.2028 - val_loss: 3.6537 - val_acc: 0.2055\n",
      "Epoch 6/40\n",
      "10000/10000 [==============================] - 0s 22us/step - loss: 3.6031 - acc: 0.2012 - val_loss: 3.6243 - val_acc: 0.2074\n",
      "Epoch 7/40\n",
      "10000/10000 [==============================] - 0s 21us/step - loss: 3.5668 - acc: 0.2040 - val_loss: 3.5980 - val_acc: 0.2076\n",
      "Epoch 8/40\n",
      "10000/10000 [==============================] - 0s 21us/step - loss: 3.5299 - acc: 0.2052 - val_loss: 3.5706 - val_acc: 0.2086\n",
      "Epoch 9/40\n",
      "10000/10000 [==============================] - 0s 21us/step - loss: 3.4917 - acc: 0.2085 - val_loss: 3.5430 - val_acc: 0.2094\n",
      "Epoch 10/40\n",
      "10000/10000 [==============================] - 0s 22us/step - loss: 3.4524 - acc: 0.2112 - val_loss: 3.5155 - val_acc: 0.2126\n",
      "Epoch 11/40\n",
      "10000/10000 [==============================] - 0s 22us/step - loss: 3.4122 - acc: 0.2157 - val_loss: 3.4863 - val_acc: 0.2170\n",
      "Epoch 12/40\n",
      "10000/10000 [==============================] - 0s 21us/step - loss: 3.3713 - acc: 0.2462 - val_loss: 3.4568 - val_acc: 0.2586\n",
      "Epoch 13/40\n",
      "10000/10000 [==============================] - 0s 22us/step - loss: 3.3310 - acc: 0.2648 - val_loss: 3.4285 - val_acc: 0.2689\n",
      "Epoch 14/40\n",
      "10000/10000 [==============================] - 0s 21us/step - loss: 3.2914 - acc: 0.2793 - val_loss: 3.4008 - val_acc: 0.2778\n",
      "Epoch 15/40\n",
      "10000/10000 [==============================] - 0s 19us/step - loss: 3.2521 - acc: 0.2867 - val_loss: 3.3740 - val_acc: 0.2803\n",
      "Epoch 16/40\n",
      "10000/10000 [==============================] - 0s 23us/step - loss: 3.2137 - acc: 0.2929 - val_loss: 3.3487 - val_acc: 0.2812\n",
      "Epoch 17/40\n",
      "10000/10000 [==============================] - 0s 20us/step - loss: 3.1767 - acc: 0.2988 - val_loss: 3.3236 - val_acc: 0.2892\n",
      "Epoch 18/40\n",
      "10000/10000 [==============================] - 0s 21us/step - loss: 3.1411 - acc: 0.3064 - val_loss: 3.3005 - val_acc: 0.2939\n",
      "Epoch 19/40\n",
      "10000/10000 [==============================] - 0s 25us/step - loss: 3.1066 - acc: 0.3130 - val_loss: 3.2787 - val_acc: 0.2978\n",
      "Epoch 20/40\n",
      "10000/10000 [==============================] - 0s 25us/step - loss: 3.0737 - acc: 0.3209 - val_loss: 3.2576 - val_acc: 0.3033\n",
      "Epoch 21/40\n",
      "10000/10000 [==============================] - 0s 23us/step - loss: 3.0420 - acc: 0.3255 - val_loss: 3.2383 - val_acc: 0.3048\n",
      "Epoch 22/40\n",
      "10000/10000 [==============================] - 0s 22us/step - loss: 3.0115 - acc: 0.3310 - val_loss: 3.2192 - val_acc: 0.3073\n",
      "Epoch 23/40\n",
      "10000/10000 [==============================] - 0s 22us/step - loss: 2.9819 - acc: 0.3349 - val_loss: 3.2017 - val_acc: 0.3085\n",
      "Epoch 24/40\n",
      "10000/10000 [==============================] - 0s 23us/step - loss: 2.9538 - acc: 0.3372 - val_loss: 3.1859 - val_acc: 0.3101\n",
      "Epoch 25/40\n",
      "10000/10000 [==============================] - 0s 26us/step - loss: 2.9264 - acc: 0.3418 - val_loss: 3.1699 - val_acc: 0.3120\n",
      "Epoch 26/40\n",
      "10000/10000 [==============================] - 0s 24us/step - loss: 2.9000 - acc: 0.3448 - val_loss: 3.1557 - val_acc: 0.3162\n",
      "Epoch 27/40\n",
      "10000/10000 [==============================] - 0s 21us/step - loss: 2.8747 - acc: 0.3485 - val_loss: 3.1421 - val_acc: 0.3193\n",
      "Epoch 28/40\n",
      "10000/10000 [==============================] - 0s 21us/step - loss: 2.8503 - acc: 0.3522 - val_loss: 3.1296 - val_acc: 0.3214\n",
      "Epoch 29/40\n",
      "10000/10000 [==============================] - 0s 22us/step - loss: 2.8265 - acc: 0.3557 - val_loss: 3.1177 - val_acc: 0.3239\n",
      "Epoch 30/40\n",
      "10000/10000 [==============================] - 0s 23us/step - loss: 2.8033 - acc: 0.3604 - val_loss: 3.1067 - val_acc: 0.3241\n",
      "Epoch 31/40\n",
      "10000/10000 [==============================] - 0s 20us/step - loss: 2.7810 - acc: 0.3640 - val_loss: 3.0972 - val_acc: 0.3249\n",
      "Epoch 32/40\n",
      "10000/10000 [==============================] - 0s 24us/step - loss: 2.7591 - acc: 0.3671 - val_loss: 3.0867 - val_acc: 0.3262\n",
      "Epoch 33/40\n",
      "10000/10000 [==============================] - 0s 24us/step - loss: 2.7382 - acc: 0.3717 - val_loss: 3.0768 - val_acc: 0.3260\n",
      "Epoch 34/40\n",
      "10000/10000 [==============================] - 0s 25us/step - loss: 2.7174 - acc: 0.3756 - val_loss: 3.0682 - val_acc: 0.3316\n",
      "Epoch 35/40\n",
      "10000/10000 [==============================] - 0s 21us/step - loss: 2.6979 - acc: 0.3805 - val_loss: 3.0607 - val_acc: 0.3320\n",
      "Epoch 36/40\n",
      "10000/10000 [==============================] - 0s 22us/step - loss: 2.6788 - acc: 0.3828 - val_loss: 3.0542 - val_acc: 0.3355\n",
      "Epoch 37/40\n",
      "10000/10000 [==============================] - 0s 22us/step - loss: 2.6601 - acc: 0.3858 - val_loss: 3.0478 - val_acc: 0.3349\n",
      "Epoch 38/40\n",
      "10000/10000 [==============================] - 0s 20us/step - loss: 2.6416 - acc: 0.3883 - val_loss: 3.0419 - val_acc: 0.3345\n",
      "Epoch 39/40\n",
      "10000/10000 [==============================] - 0s 20us/step - loss: 2.6241 - acc: 0.3907 - val_loss: 3.0361 - val_acc: 0.3337\n",
      "Epoch 40/40\n",
      "10000/10000 [==============================] - 0s 22us/step - loss: 2.6068 - acc: 0.3941 - val_loss: 3.0308 - val_acc: 0.3341\n"
     ]
    },
    {
     "data": {
      "image/png": "[encoded data removed]",
      "text/plain": [
       "<Figure size 432x288 with 1 Axes>"
      ]
     },
     "metadata": {},
     "output_type": "display_data"
    },
    {
     "data": {
      "image/png": "[encoded data removed]",
      "text/plain": [
       "<Figure size 432x288 with 1 Axes>"
      ]
     },
     "metadata": {},
     "output_type": "display_data"
    }
   ],
   "source": [
    "model = simple_embedding_model(n_output_classes, maxlen)    \n",
    "\n",
    "early = keras.callbacks.EarlyStopping(monitor='val_acc',\n",
    "                              min_delta=0.03,\n",
    "                              patience=2,\n",
    "                              verbose=1, mode='auto')\n",
    "\n",
    "checkpoint = keras.callbacks.ModelCheckpoint(filepath='emoji_embedding.h5',\n",
    "                                             monitor='val_acc',\n",
    "                                             save_best_only = True)\n",
    "\n",
    "#tensorboard = keras.callbacks.TensorBoard(log_dir='tensorboard_log',\n",
    "#                                          #write_grads=1,\n",
    "#                                          #histogram_freq=1,\n",
    "#                                          embeddings_freq=1,\n",
    "#                                          embeddings_data=,\n",
    "#                                          embedding_layer_names='embedding')\n",
    "\n",
    "history = model.fit (x_train_sequences, y_train_idx,\n",
    "                     validation_data = (x_dev_sequences, y_dev_idx),\n",
    "                     epochs = 40,\n",
    "                     batch_size = 512,\n",
    "                     verbose=1)\n",
    "                     #callbacks=[early, checkpoint, tensorboard])\n",
    "\n",
    "plot_train_history(history)"
   ]
  },
  {
   "cell_type": "code",
   "execution_count": null,
   "metadata": {
    "collapsed": true
   },
   "outputs": [],
   "source": []
  }
 ],
 "metadata": {
  "kernelspec": {
   "display_name": "Python 3",
   "language": "python",
   "name": "python3"
  },
  "language_info": {
   "codemirror_mode": {
    "name": "ipython",
    "version": 3
   },
   "file_extension": ".py",
   "mimetype": "text/x-python",
   "name": "python",
   "nbconvert_exporter": "python",
   "pygments_lexer": "ipython3",
   "version": "3.6.3"
  }
 },
 "nbformat": 4,
 "nbformat_minor": 2
}
