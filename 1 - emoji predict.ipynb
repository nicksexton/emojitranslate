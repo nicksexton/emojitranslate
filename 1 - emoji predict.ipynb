{
 "cells": [
  {
   "cell_type": "markdown",
   "metadata": {},
   "source": [
    "# Emojitranslate project"
   ]
  },
  {
   "cell_type": "markdown",
   "metadata": {},
   "source": [
    "## Part one - learning to predict emojis from tweets"
   ]
  },
  {
   "cell_type": "markdown",
   "metadata": {},
   "source": [
    "The following code adapted from the Osinga deep learning cookbook - using the Twitter API to sample EN language tweets that contain exactly one emoji"
   ]
  },
  {
   "cell_type": "code",
   "execution_count": 197,
   "metadata": {},
   "outputs": [],
   "source": [
    "import random\n",
    "import twitter\n",
    "import emoji\n",
    "# import itertools\n",
    "import pandas as pd\n",
    "from itertools import chain\n",
    "from keras.preprocessing.sequence import pad_sequences\n",
    "import numpy as np\n",
    "#from sklearn.model_selection import train_test_split\n",
    "from keras import Sequential, optimizers, regularizers\n",
    "from keras.preprocessing.text import Tokenizer\n",
    "from keras.preprocessing.sequence import pad_sequences\n",
    "from keras.preprocessing.text import one_hot\n",
    "from keras.utils import to_categorical\n",
    "import keras.callbacks\n",
    "from keras.backend import clear_session\n",
    "#import json\n",
    "\n",
    "import os\n",
    "# import nb_utils\n",
    "from keras.layers import Input, Conv1D, MaxPooling1D, Flatten, Dense, Dropout, LSTM, Embedding, GlobalMaxPooling1D#, Merge \n",
    "from keras.models import Model\n",
    "from keras.layers.merge import Concatenate, Average\n",
    "\n",
    "# from gensim.models import Word2Vec"
   ]
  },
  {
   "cell_type": "code",
   "execution_count": 199,
   "metadata": {},
   "outputs": [
    {
     "data": {
      "text/plain": [
       "😂        42833\n",
       "😭        17562\n",
       "❤        14082\n",
       "emoji     9948\n",
       "😍         9582\n",
       "🔥         9035\n",
       "🤣         5987\n",
       "🤔         4664\n",
       "🙏         4591\n",
       "😩         4435\n",
       "💕         4408\n",
       "😊         4169\n",
       "🖤         4103\n",
       "👀         3726\n",
       "✨         3593\n",
       "💜         3573\n",
       "👏         3471\n",
       "🙄         3324\n",
       "💀         3130\n",
       "🎉         3038\n",
       "🙌         2863\n",
       "😏         2796\n",
       "😘         2729\n",
       "💯         2625\n",
       "💙         2533\n",
       "👍         2459\n",
       "😔         2439\n",
       "😎         2311\n",
       "😉         2294\n",
       "♥         2245\n",
       "         ...  \n",
       "🚇            1\n",
       "🀄            1\n",
       "🖲            1\n",
       "📤            1\n",
       "🛋            1\n",
       "🏨            1\n",
       "↕            1\n",
       "🔕            1\n",
       "⛎            1\n",
       "📪            1\n",
       "⚱            1\n",
       "🕍            1\n",
       "➿            1\n",
       "👷            1\n",
       "💹            1\n",
       "🚛            1\n",
       "🕕            1\n",
       "🕠            1\n",
       "⏸            1\n",
       "🛤            1\n",
       "🗜            1\n",
       "🤵            1\n",
       "➗            1\n",
       "💇            1\n",
       "🚈            1\n",
       "🚾            1\n",
       "🚟            1\n",
       "🗄            1\n",
       "🔚            1\n",
       "🏬            1\n",
       "Name: emoji, Length: 1068, dtype: int64"
      ]
     },
     "execution_count": 199,
     "metadata": {},
     "output_type": "execute_result"
    }
   ],
   "source": [
    "all_tweets = pd.read_csv('data/emojis_homemade.csv')\n",
    "all_tweets['emoji'].value_counts()"
   ]
  },
  {
   "cell_type": "code",
   "execution_count": 200,
   "metadata": {},
   "outputs": [
    {
     "data": {
      "text/plain": [
       "(343693, 3)"
      ]
     },
     "execution_count": 200,
     "metadata": {},
     "output_type": "execute_result"
    }
   ],
   "source": [
    "all_tweets.shape"
   ]
  },
  {
   "cell_type": "code",
   "execution_count": 201,
   "metadata": {},
   "outputs": [
    {
     "data": {
      "text/plain": [
       "<bound method NDFrame.head of         Unnamed: 0                                               text emoji\n",
       "0              0.0  RT @mydear_bangtan: [VID] 181023 - Foi adicion...     ©\n",
       "1              1.0  RT @WuYiFan_KrisBar: 181023 Kris Wu Studio upd...     💫\n",
       "2              2.0  RT @TrendsPrabhas: Now you are watching Indian...     😎\n",
       "3              3.0                                    dats for keeps      💛\n",
       "4              4.0  RT @xruiztru: WHO ARMS THE SAUDIS?\\n\\n  🇺🇸US 5...     🏳\n",
       "5              5.0  RT @xxxfreaknasty2: interracial couple go at i...     🌝\n",
       "6              6.0               @Eric_Deshaun Holy shit no I think.      😩\n",
       "7              7.0     RT @fanmutuals: army, follow who retweet this      👑\n",
       "8              8.0  RT @_Simplykpop: Simply K-Pop harddrive dump\\n...     🤩\n",
       "9              9.0  Happy birthday nellie @thelittlegend, hope you...     ❤\n",
       "10            10.0  RT @montparnasty: \"I have passed through fire\"...     💕\n",
       "11            11.0  RT @Jason_Mckeown: Look how empty Valley Parad...     😟\n",
       "12            12.0  RT @hellohonne: Incredible to be involved in t...     😱\n",
       "13            13.0  RT @btsvotingteam: Too much feels \\n\\n#BTS #MP...     😢\n",
       "14            14.0  RT @premierleague: #PL TOP SCORERS \\n\\n7 - @ha...     🔥\n",
       "15            15.0  [DEPASCAL] RUSSEL HOODIE BLUE\\n https://t.co/C...     🔗\n",
       "16            16.0  The joys of having a make up artist as your be...     😂\n",
       "17            17.0  RT @EXOGlobal: [!] #TEMPO_KAI is currently tre...     🎊\n",
       "18            18.0     RT @fanmutuals: army, follow who retweet this      👑\n",
       "19            19.0       @slicksean Someone didn’t read the article.      🙄\n",
       "20            20.0  RT @mefeater: Happy 23rd Birthday to Duckie Th...     💕\n",
       "21            21.0  RT @followprojecten: follow everyone who retwe...     💓\n",
       "22            22.0  RT @hellohonne: Incredible to be involved in t...     😱\n",
       "23            23.0  RT @abusedmember: ⚀Re-enter the red cube⚀\\n\\n*...     🏁\n",
       "24            24.0  WOW @Just_Ceeks let me know when I can come pl...     🙃\n",
       "25            25.0  RT @MarkLand0802: markno～\\n#NCT #Mark #MarkLee...     🤟\n",
       "26            26.0  RT @SAPTechEd: Don't forget! The #SAPTechEd ne...     🍻\n",
       "27            27.0  RT @YuH8TM3:  \\nYou have all decided to push y...     🤔\n",
       "28            28.0                    Somebody stop simone biles omg      🔥\n",
       "29            29.0              @mrfairyvideo @__jim_in Wth i see...      😨\n",
       "...            ...                                                ...   ...\n",
       "343663         7.0  RT @ivenum11: like this tweet for a chance for...     💙\n",
       "343664         8.0  RT @bbcdoctorwho: #DoctorWho made in Wales 󠁧󠁢󠁷...     🏴\n",
       "343665         9.0  @siopaoo04 HAPPY BIRTHDAY TO YOU  oi ingat ka ...     😘\n",
       "343666        10.0          @_christymarie_ loool where is this from      😂\n",
       "343667        11.0  @mefeater Her weight has nothing to deal with ...     ♥\n",
       "343668        12.0  RT @CosmicPillar: 3 year-old kids \\n#백현 #찬열 #엑...     😂\n",
       "343669        13.0  RT @erbmjha: 1000 RTs and @zoo_bear will tweet...     🙏\n",
       "343670        14.0  RT @Ashskz: Chan: Today, I'm not Chan. I'm Chr...     😂\n",
       "343671        15.0  RT @TheMedicalVids: Miracle of life, cesarean ...     💓\n",
       "343672        16.0  @redrocky28 And more to come mate - love givin...     👏\n",
       "343673        17.0  RT @Ilcapitano94: Schoolboy stay getting misun...     😂\n",
       "343674        18.0  @Jack_Septic_Eye Its a gorgeous place and I'm ...     🏴\n",
       "343675        19.0  RT @kimyoungwonpics: The kid moved away from y...     😂\n",
       "343676        20.0                      @trulythatboss Thank u, next      🖤\n",
       "343677        21.0  RT @realpreityzinta: Smiling happy faces  @Var...     😍\n",
       "343678        22.0  RT @3flip3loop: Will Yuzuru Hanyu break the “r...     ✌\n",
       "343679        23.0                         I miss the old happy me..      🙄\n",
       "343680        24.0                        You should text? We'll see      👀\n",
       "343681        25.0  RT @akaebube: NEWS UPDATE\\n\\nLIFELESS FC has b...     🏆\n",
       "343682        26.0  RT @surruhcuda: LOOK AT THE FUCKING BABY  http...     😂\n",
       "343683        27.0  RT @EXOGlobal: [!] 181104 Did you know Sharing...     🤩\n",
       "343684        28.0                                           uv plz.      😔\n",
       "343685        29.0              For ALL ages  https://t.co/Lk6MW6mCUf     💫\n",
       "343686        30.0  I wanted to buy him in soccer manager 2018 but...     😂\n",
       "343687        31.0  RT @adewalepresh: Acting surprised when you ge...     😏\n",
       "343688        32.0  RT @ArianaGrande: no drags.... no shade..... j...     🖤\n",
       "343689        33.0  RT @analyticsEXO:  Spotify TOP200 global:\\n\\nT...     🌍\n",
       "343690        34.0  @mazzimonicaXXX @manfuryxxx Look @TishaDravenX...     ❤\n",
       "343691        35.0  OMG YEA SOMEONE SENT THIS TO ME BEFOREE  and e...     🤣\n",
       "343692        36.0  RT @queenzai17: A sweet guy from canada Name S...     ❤\n",
       "\n",
       "[343693 rows x 3 columns]>"
      ]
     },
     "execution_count": 201,
     "metadata": {},
     "output_type": "execute_result"
    }
   ],
   "source": [
    "all_tweets.head"
   ]
  },
  {
   "cell_type": "code",
   "execution_count": 202,
   "metadata": {},
   "outputs": [
    {
     "data": {
      "text/plain": [
       "😂        42833\n",
       "😭        17562\n",
       "❤        14082\n",
       "emoji     9948\n",
       "😍         9582\n",
       "🔥         9035\n",
       "🤣         5987\n",
       "🤔         4664\n",
       "🙏         4591\n",
       "😩         4435\n",
       "💕         4408\n",
       "😊         4169\n",
       "🖤         4103\n",
       "👀         3726\n",
       "✨         3593\n",
       "💜         3573\n",
       "👏         3471\n",
       "🙄         3324\n",
       "💀         3130\n",
       "🎉         3038\n",
       "🙌         2863\n",
       "😏         2796\n",
       "😘         2729\n",
       "💯         2625\n",
       "💙         2533\n",
       "👍         2459\n",
       "😔         2439\n",
       "😎         2311\n",
       "😉         2294\n",
       "♥         2245\n",
       "         ...  \n",
       "😢         1632\n",
       "😤         1563\n",
       "☺         1521\n",
       "©         1490\n",
       "🤗         1478\n",
       "🤧         1474\n",
       "😒         1432\n",
       "💥         1421\n",
       "✌         1405\n",
       "😌         1351\n",
       "💗         1338\n",
       "😫         1335\n",
       "💔         1324\n",
       "😈         1299\n",
       "🙂         1283\n",
       "☹         1283\n",
       "👉         1281\n",
       "🤝         1276\n",
       "🎶         1260\n",
       "🤩         1219\n",
       "💚         1190\n",
       "😆         1185\n",
       "➡         1106\n",
       "😋         1096\n",
       "💞         1065\n",
       "▶         1051\n",
       "💓         1049\n",
       "✅         1018\n",
       "👑         1003\n",
       "😡         1002\n",
       "Name: emoji, Length: 75, dtype: int64"
      ]
     },
     "execution_count": 202,
     "metadata": {},
     "output_type": "execute_result"
    }
   ],
   "source": [
    "tweets = all_tweets.groupby('emoji').filter(lambda c:len(c) > 1000)\n",
    "tweets['emoji'].value_counts()"
   ]
  },
  {
   "cell_type": "code",
   "execution_count": 203,
   "metadata": {},
   "outputs": [
    {
     "data": {
      "text/plain": [
       "0.16992030212990475"
      ]
     },
     "execution_count": 203,
     "metadata": {},
     "output_type": "execute_result"
    }
   ],
   "source": [
    "tweets['emoji'].value_counts()[0]/sum(tweets['emoji'].value_counts())"
   ]
  },
  {
   "cell_type": "code",
   "execution_count": 204,
   "metadata": {},
   "outputs": [
    {
     "data": {
      "text/plain": [
       "'RT @DingDongLive: LMAO  @TexasEDMFamily\\n@FreakyDeakyFam\\nGrab my hard/hybrid trap mix&gt;&gt;&gt;&gt;&gt;&gt;&gt;&gt; https://t.co/34rcxAVbgk https://t.co/ArQeh23L…'"
      ]
     },
     "execution_count": 204,
     "metadata": {},
     "output_type": "execute_result"
    }
   ],
   "source": [
    "max(tweets['text'], key=lambda t:len(t))"
   ]
  },
  {
   "cell_type": "code",
   "execution_count": 205,
   "metadata": {},
   "outputs": [
    {
     "data": {
      "text/plain": [
       "['emoji', '©', '‼', '▶', '☹', '☺', '♥', '✅', '✌', '✨']"
      ]
     },
     "execution_count": 205,
     "metadata": {},
     "output_type": "execute_result"
    }
   ],
   "source": [
    "chars = list(sorted(set(chain(*tweets['text']))))\n",
    "char_to_idx = {ch: idx for idx, ch in enumerate(chars)}\n",
    "max_sequence_len = max(len(x) for x in tweets['text'])\n",
    "\n",
    "emojis = list(sorted(set(tweets['emoji'])))\n",
    "emoji_to_idx = {em: idx for idx, em in enumerate(emojis)}\n",
    "emojis[:10]\n",
    "\n",
    "#train_tweets, test_tweets = train_test_split(tweets, test_size=0.1)"
   ]
  },
  {
   "cell_type": "markdown",
   "metadata": {},
   "source": [
    "Currently we've collected quite a lot of tweet data, so to speed up the prototyping of the model we're going to create a train/dev/test datasets of 10,000 tweets each."
   ]
  },
  {
   "cell_type": "code",
   "execution_count": 206,
   "metadata": {
    "collapsed": true
   },
   "outputs": [],
   "source": [
    "#train_tweets = tweets[0:10000]\n",
    "#dev_tweets = tweets[10000:20000]\n",
    "#test_tweets = tweets[20000:30000]\n",
    "\n",
    "\n",
    "# !! Temp! Try on much bigger dataset\n",
    "train_tweets = tweets[0:100000] # 100000 tweets\n",
    "dev_tweets = tweets[100000:110000]\n",
    "test_tweets = tweets[110000:120000]\n",
    "\n"
   ]
  },
  {
   "cell_type": "code",
   "execution_count": 207,
   "metadata": {},
   "outputs": [],
   "source": [
    "#def data_generator(tweets, batch_size):\n",
    "#    while True:\n",
    "#        if batch_size is None:\n",
    "#            batch = tweets\n",
    "#            batch_size = batch.shape[0]\n",
    "#        else:\n",
    "#            batch = tweets.sample(batch_size)\n",
    "#        X = np.zeros((batch_size, max_sequence_len, len(chars)))\n",
    "#        y = np.zeros((batch_size,))\n",
    "#        for row_idx, (_, row) in enumerate(batch.iterrows()):\n",
    "#            y[row_idx] = emoji_to_idx[row['emoji']]\n",
    "#            for ch_idx, ch in enumerate(row['text']):\n",
    "#                X[row_idx, ch_idx, char_to_idx[ch]] = 1\n",
    "#        yield X, y\n",
    "#\n",
    "#next(data_generator(tweets, 10))"
   ]
  },
  {
   "cell_type": "code",
   "execution_count": 208,
   "metadata": {},
   "outputs": [],
   "source": [
    "#def create_char_cnn_model(num_chars, max_sequence_len, num_labels):\n",
    "#    char_input = Input(shape=(max_sequence_len, num_chars), name='char_cnn_input')\n",
    "#    \n",
    "#    conv_1x = Conv1D(128, 6, activation='relu', padding='valid')(char_input)\n",
    "#    max_pool_1x = MaxPooling1D(4)(conv_1x)\n",
    "#    conv_2x = Conv1D(256, 6, activation='relu', padding='valid')(max_pool_1x)\n",
    "#    max_pool_2x = MaxPooling1D(4)(conv_2x)\n",
    "\n",
    "#    flatten = Flatten()(max_pool_2x)\n",
    "#    dense = Dense(128, activation='relu')(flatten)\n",
    "#    preds = Dense(num_labels, activation='softmax', name='char_cnn_predictions')(dense)\n",
    "\n",
    "#    model = Model(char_input, preds)\n",
    "#    model.compile(loss='sparse_categorical_crossentropy',\n",
    "#                  optimizer='rmsprop',\n",
    "#                  metrics=['acc'])\n",
    "#    return model\n",
    "\n",
    "#char_cnn_model = create_char_cnn_model(len(char_to_idx), max_sequence_len, len(emojis))\n",
    "#char_cnn_model.summary()"
   ]
  },
  {
   "cell_type": "code",
   "execution_count": 209,
   "metadata": {},
   "outputs": [],
   "source": [
    "#early = keras.callbacks.EarlyStopping(monitor='loss',\n",
    "#                              min_delta=0.03,\n",
    "#                              patience=2,\n",
    "#                              verbose=1, mode='auto')\n",
    "\n",
    "#checkpoint = keras.callbacks.ModelCheckpoint(filepath='emoji_cnn.h5',\n",
    "#                                             monitor='val_acc',\n",
    "#                                             save_best_only = True)\n",
    "\n",
    "#tensorboard = keras.callbacks.TensorBoard(log_dir='tensorboard_log',\n",
    "#                                         histogram_freq=1,\n",
    "#                                         embeddings_freq=1)\n",
    "\n",
    "#BATCH_SIZE = 512\n",
    "#char_cnn_model.fit_generator(\n",
    "#    data_generator(train_tweets, batch_size=BATCH_SIZE),\n",
    "#    validation_data = data_generator(dev_tweets, batch_size=BATCH_SIZE),\n",
    "#    validation_steps=int(dev_tweets.shape[0]/BATCH_SIZE),\n",
    "#    epochs=5,\n",
    "#    steps_per_epoch=len(train_tweets) / BATCH_SIZE,\n",
    "#    verbose=1, # was: verbose=2\n",
    "#    callbacks=[early, checkpoint]\n",
    "#)"
   ]
  },
  {
   "cell_type": "code",
   "execution_count": 210,
   "metadata": {},
   "outputs": [],
   "source": [
    "#pd.options.display.max_colwidth = 128\n",
    "#inspect_tweets = dev_tweets.sample(100)\n",
    "#predicted = char_cnn_model.predict_generator(data_generator(inspect_tweets, batch_size=None), steps=1)\n",
    "#show = pd.DataFrame({\n",
    "#    'text': inspect_tweets['text'],\n",
    "#    'true': inspect_tweets['emoji'],\n",
    "#    'pred': [emojis[np.argmax(x)] for x in predicted],\n",
    "#})\n",
    "#show = show[['text', 'true', 'pred']]\n",
    "#show.head(10)"
   ]
  },
  {
   "cell_type": "markdown",
   "metadata": {},
   "source": [
    "# Simple neural network - single Dense layer\n",
    "\n",
    "Benchmark performance with the simplest neural network we can get"
   ]
  },
  {
   "cell_type": "markdown",
   "metadata": {},
   "source": [
    "Let's divide up the train/dev/test sets so we're not relying on a generator"
   ]
  },
  {
   "cell_type": "code",
   "execution_count": 211,
   "metadata": {
    "collapsed": true
   },
   "outputs": [],
   "source": [
    "x_train = train_tweets[\"text\"]\n",
    "y_train = np.asarray(train_tweets[\"emoji\"])\n",
    "x_dev = dev_tweets[\"text\"]\n",
    "y_dev = np.asarray(dev_tweets[\"emoji\"])\n",
    "x_test = test_tweets[\"text\"]\n",
    "y_test = np.asarray(test_tweets[\"emoji\"])\n",
    "\n",
    "all_emojis = np.concatenate((y_train, y_dev, y_test), axis=0)\n",
    "\n",
    "emoji_to_idx = {em: idx for idx, em in enumerate(emojis)}\n",
    "#emojis[:10]\n",
    "\n",
    "all_emojis_idx = np.zeros(all_emojis.shape[0])\n",
    "\n",
    "for i in range (all_emojis.shape[0]):\n",
    "    all_emojis_idx[i] = emoji_to_idx[all_emojis[i]]    \n",
    "\n",
    "all_emojis_one_hot = to_categorical (all_emojis_idx)\n",
    "    \n",
    "#y_train_idx = all_emojis_one_hot[0:10000,:]\n",
    "#y_dev_idx = all_emojis_one_hot[10000:20000,:]\n",
    "#y_test_idx = all_emojis_one_hot[20000:30000,:]\n",
    "\n",
    "\n",
    "# Temp!\n",
    "y_train_idx = all_emojis_one_hot[0:100000,:]\n",
    "y_dev_idx = all_emojis_one_hot[100000:110000,:]\n",
    "y_test_idx = all_emojis_one_hot[110000:120000,:]"
   ]
  },
  {
   "cell_type": "code",
   "execution_count": 212,
   "metadata": {},
   "outputs": [],
   "source": [
    "# y_train_idx[0:10]"
   ]
  },
  {
   "cell_type": "markdown",
   "metadata": {},
   "source": [
    "Now let's start by one-hot encoding the text samples"
   ]
  },
  {
   "cell_type": "code",
   "execution_count": 213,
   "metadata": {
    "collapsed": true
   },
   "outputs": [],
   "source": [
    "tokenizer = Tokenizer(num_words = 1000)\n",
    "tokenizer.fit_on_texts (x_train)\n",
    "\n",
    "#x_train_sequences = tokenizer.texts_to_sequences(x_train)\n",
    "#x_dev_sequences = tokenizer.texts_to_sequences(x_dev)\n",
    "#x_test_sequences = tokenizer.texts_to_sequences(x_test)\n",
    "\n",
    "x_train_one_hot = tokenizer.texts_to_matrix(x_train, mode='binary')\n",
    "x_dev_one_hot = tokenizer.texts_to_matrix(x_dev, mode='binary')\n",
    "x_test_one_hot = tokenizer.texts_to_matrix(x_test, mode='binary')\n",
    "\n",
    "\n",
    "\n",
    "\n",
    "# remember to pad sequences"
   ]
  },
  {
   "cell_type": "code",
   "execution_count": 214,
   "metadata": {},
   "outputs": [
    {
     "data": {
      "text/plain": [
       "(100000, 1000)"
      ]
     },
     "execution_count": 214,
     "metadata": {},
     "output_type": "execute_result"
    }
   ],
   "source": [
    "x_train_one_hot.shape"
   ]
  },
  {
   "cell_type": "code",
   "execution_count": 215,
   "metadata": {},
   "outputs": [
    {
     "data": {
      "text/plain": [
       "(100000, 75)"
      ]
     },
     "execution_count": 215,
     "metadata": {},
     "output_type": "execute_result"
    }
   ],
   "source": [
    "y_train_idx.shape"
   ]
  },
  {
   "cell_type": "markdown",
   "metadata": {},
   "source": [
    "# A linear classifier\n",
    "\n",
    "As a performance baseline for more complex models, it's instructive to see how well we can do with just a linear classifier with no hidden layer. With 64 hidden units trained on 10,000 training examples, we're able to get up to about 38% accuracy on the validation set. A lower learning rate slows down the learning (although it's still very fast) but doesn't appear to do any better in terms of final accuracy before the model starts overfitting. "
   ]
  },
  {
   "cell_type": "code",
   "execution_count": 216,
   "metadata": {},
   "outputs": [
    {
     "data": {
      "text/plain": [
       "(10000, 75)"
      ]
     },
     "execution_count": 216,
     "metadata": {},
     "output_type": "execute_result"
    }
   ],
   "source": [
    "y_dev_idx.shape"
   ]
  },
  {
   "cell_type": "code",
   "execution_count": 217,
   "metadata": {},
   "outputs": [
    {
     "name": "stdout",
     "output_type": "stream",
     "text": [
      "Train on 100000 samples, validate on 10000 samples\n",
      "Epoch 1/20\n",
      " - 2s - loss: 3.2147 - acc: 0.3228 - val_loss: 3.0603 - val_acc: 0.3197\n",
      "Epoch 2/20\n",
      " - 2s - loss: 2.5776 - acc: 0.4074 - val_loss: 2.8783 - val_acc: 0.3443\n",
      "Epoch 3/20\n",
      " - 2s - loss: 2.3761 - acc: 0.4329 - val_loss: 2.8584 - val_acc: 0.3533\n",
      "Epoch 4/20\n",
      " - 2s - loss: 2.2911 - acc: 0.4473 - val_loss: 2.8844 - val_acc: 0.3542\n",
      "Epoch 5/20\n",
      " - 2s - loss: 2.2461 - acc: 0.4528 - val_loss: 2.9201 - val_acc: 0.3506\n",
      "Epoch 6/20\n",
      " - 2s - loss: 2.2202 - acc: 0.4567 - val_loss: 2.9628 - val_acc: 0.3522\n",
      "Epoch 7/20\n",
      " - 2s - loss: 2.2041 - acc: 0.4600 - val_loss: 3.0060 - val_acc: 0.3526\n",
      "Epoch 8/20\n",
      " - 2s - loss: 2.1942 - acc: 0.4633 - val_loss: 3.0506 - val_acc: 0.3523\n",
      "Epoch 9/20\n",
      " - 2s - loss: 2.1873 - acc: 0.4649 - val_loss: 3.0880 - val_acc: 0.3511\n",
      "Epoch 10/20\n",
      " - 2s - loss: 2.1832 - acc: 0.4666 - val_loss: 3.1307 - val_acc: 0.3503\n",
      "Epoch 11/20\n",
      " - 2s - loss: 2.1803 - acc: 0.4679 - val_loss: 3.1657 - val_acc: 0.3495\n",
      "Epoch 12/20\n",
      " - 2s - loss: 2.1782 - acc: 0.4684 - val_loss: 3.2033 - val_acc: 0.3513\n",
      "Epoch 13/20\n",
      " - 2s - loss: 2.1780 - acc: 0.4693 - val_loss: 3.2379 - val_acc: 0.3533\n",
      "Epoch 14/20\n",
      " - 2s - loss: 2.1778 - acc: 0.4703 - val_loss: 3.2720 - val_acc: 0.3533\n",
      "Epoch 15/20\n",
      " - 2s - loss: 2.1775 - acc: 0.4711 - val_loss: 3.3005 - val_acc: 0.3480\n",
      "Epoch 16/20\n",
      " - 2s - loss: 2.1782 - acc: 0.4714 - val_loss: 3.3271 - val_acc: 0.3520\n",
      "Epoch 17/20\n",
      " - 2s - loss: 2.1790 - acc: 0.4728 - val_loss: 3.3587 - val_acc: 0.3460\n",
      "Epoch 18/20\n",
      " - 2s - loss: 2.1791 - acc: 0.4726 - val_loss: 3.3838 - val_acc: 0.3452\n",
      "Epoch 19/20\n",
      " - 2s - loss: 2.1807 - acc: 0.4731 - val_loss: 3.4095 - val_acc: 0.3450\n",
      "Epoch 20/20\n",
      " - 2s - loss: 2.1814 - acc: 0.4738 - val_loss: 3.4329 - val_acc: 0.3473\n"
     ]
    }
   ],
   "source": [
    "output_size = y_dev_idx.shape[1] # around 64 units for 10,000 tweets\n",
    "\n",
    "model = Sequential()\n",
    "model.add(Dense(output_size, activation='softmax', input_shape=(1000,))) \n",
    "model.compile(optimizer=optimizers.RMSprop(lr = 0.005),\n",
    "              loss='categorical_crossentropy',\n",
    "              metrics=['accuracy'])\n",
    "\n",
    "history = model.fit (x_train_one_hot, y_train_idx,\n",
    "                    epochs = 20,\n",
    "                    batch_size = 512,\n",
    "                    validation_data = (x_dev_one_hot, y_dev_idx),\n",
    "                    verbose=2)"
   ]
  },
  {
   "cell_type": "code",
   "execution_count": 218,
   "metadata": {
    "collapsed": true
   },
   "outputs": [],
   "source": [
    "import matplotlib.pyplot as plt\n",
    "\n",
    "def plot_train_history(history): \n",
    "\n",
    "    acc = history.history['acc']\n",
    "    val_acc = history.history['val_acc']\n",
    "    loss = history.history['loss']\n",
    "    val_loss = history.history['val_loss']\n",
    "\n",
    "    epochs = range(1, len(acc) + 1)\n",
    "\n",
    "    plt.plot (epochs, acc, 'bo', label='Training acc')\n",
    "    plt.plot (epochs, val_acc, 'b', label='Validation acc')\n",
    "    plt.title ('Training and validation accuracy')\n",
    "    plt.legend()\n",
    "\n",
    "    plt.figure()\n",
    "\n",
    "    plt.plot(epochs, loss, 'bo', label = 'Training loss')\n",
    "    plt.plot(epochs, val_loss, 'b', label = 'Validation loss')\n",
    "    plt.title('Training and validation loss')\n",
    "    plt.legend()\n",
    "\n",
    "    plt.show()"
   ]
  },
  {
   "cell_type": "code",
   "execution_count": 219,
   "metadata": {},
   "outputs": [
    {
     "name": "stdout",
     "output_type": "stream",
     "text": [
      "best validation accuracy:  0.35420000028610227\n"
     ]
    },
    {
     "data": {
      "image/png": "[encoded data removed]",
      "text/plain": [
       "<Figure size 432x288 with 1 Axes>"
      ]
     },
     "metadata": {},
     "output_type": "display_data"
    },
    {
     "data": {
      "image/png": "[encoded data removed]",
      "text/plain": [
       "<Figure size 432x288 with 1 Axes>"
      ]
     },
     "metadata": {},
     "output_type": "display_data"
    }
   ],
   "source": [
    "print (\"best validation accuracy: \", max(history.history['val_acc']))\n",
    "plot_train_history(history)"
   ]
  },
  {
   "cell_type": "markdown",
   "metadata": {},
   "source": [
    "# Shallow neural network\n",
    "A simple shallow neural network with a layer of hidden units\n",
    "\n",
    "128 hidden units gets us up to 39% accuracy"
   ]
  },
  {
   "cell_type": "code",
   "execution_count": 64,
   "metadata": {},
   "outputs": [
    {
     "name": "stdout",
     "output_type": "stream",
     "text": [
      "Train on 10000 samples, validate on 10000 samples\n",
      "Epoch 1/10\n",
      "10000/10000 [==============================] - 1s 86us/step - loss: 4.0160 - acc: 0.2220 - val_loss: 3.8034 - val_acc: 0.2583\n",
      "Epoch 2/10\n",
      "10000/10000 [==============================] - 0s 45us/step - loss: 3.6105 - acc: 0.2677 - val_loss: 3.5791 - val_acc: 0.2778\n",
      "Epoch 3/10\n",
      "10000/10000 [==============================] - 0s 46us/step - loss: 3.4034 - acc: 0.2955 - val_loss: 3.4516 - val_acc: 0.3044\n",
      "Epoch 4/10\n",
      "10000/10000 [==============================] - 0s 41us/step - loss: 3.2381 - acc: 0.3267 - val_loss: 3.3351 - val_acc: 0.3190\n",
      "Epoch 5/10\n",
      "10000/10000 [==============================] - 0s 46us/step - loss: 3.0869 - acc: 0.3495 - val_loss: 3.2315 - val_acc: 0.3307\n",
      "Epoch 6/10\n",
      "10000/10000 [==============================] - 0s 47us/step - loss: 2.9463 - acc: 0.3667 - val_loss: 3.1374 - val_acc: 0.3389\n",
      "Epoch 7/10\n",
      "10000/10000 [==============================] - 0s 47us/step - loss: 2.8191 - acc: 0.3817 - val_loss: 3.0579 - val_acc: 0.3500\n",
      "Epoch 8/10\n",
      "10000/10000 [==============================] - 0s 49us/step - loss: 2.7077 - acc: 0.3922 - val_loss: 2.9935 - val_acc: 0.3515\n",
      "Epoch 9/10\n",
      "10000/10000 [==============================] - 0s 48us/step - loss: 2.6106 - acc: 0.4012 - val_loss: 2.9421 - val_acc: 0.3550\n",
      "Epoch 10/10\n",
      "10000/10000 [==============================] - 0s 45us/step - loss: 2.5263 - acc: 0.4133 - val_loss: 2.9040 - val_acc: 0.3595\n"
     ]
    },
    {
     "data": {
      "image/png": "[encoded data removed]",
      "text/plain": [
       "<Figure size 432x288 with 1 Axes>"
      ]
     },
     "metadata": {},
     "output_type": "display_data"
    },
    {
     "data": {
      "image/png": "[encoded data removed]",
      "text/plain": [
       "<Figure size 432x288 with 1 Axes>"
      ]
     },
     "metadata": {},
     "output_type": "display_data"
    },
    {
     "name": "stdout",
     "output_type": "stream",
     "text": [
      "best validation accuracy:  0.3595000002384186\n"
     ]
    }
   ],
   "source": [
    "n_output_classes = y_dev_idx.shape[1]\n",
    "\n",
    "model = Sequential()\n",
    "model.add(Dense(128, activation='relu', input_shape=(1000,)))\n",
    "model.add(Dense(n_output_classes, activation = 'softmax'))\n",
    "model.compile(optimizer = 'rmsprop',\n",
    "              loss='categorical_crossentropy',\n",
    "              metrics=['accuracy'])\n",
    "\n",
    "history = model.fit (x_train_one_hot, y_train_idx,\n",
    "                    epochs = 10,\n",
    "                    batch_size = 512,\n",
    "                    verbose=1,\n",
    "                    validation_data = (x_dev_one_hot, y_dev_idx))\n",
    "\n",
    "plot_train_history(history)\n",
    "print (\"best validation accuracy: \", max(history.history['val_acc']))"
   ]
  },
  {
   "cell_type": "markdown",
   "metadata": {},
   "source": [
    "# Two layers of hidden units\n",
    "A slight improvement over one layer of hidden units (<1%)"
   ]
  },
  {
   "cell_type": "code",
   "execution_count": 65,
   "metadata": {},
   "outputs": [
    {
     "name": "stdout",
     "output_type": "stream",
     "text": [
      "Train on 10000 samples, validate on 10000 samples\n",
      "Epoch 1/20\n",
      "10000/10000 [==============================] - 1s 125us/step - loss: 4.1550 - acc: 0.1835 - val_loss: 3.8672 - val_acc: 0.2626\n",
      "Epoch 2/20\n",
      "10000/10000 [==============================] - 1s 77us/step - loss: 3.6252 - acc: 0.2850 - val_loss: 3.5774 - val_acc: 0.3019\n",
      "Epoch 3/20\n",
      "10000/10000 [==============================] - 1s 77us/step - loss: 3.3096 - acc: 0.3382 - val_loss: 3.4011 - val_acc: 0.3238\n",
      "Epoch 4/20\n",
      "10000/10000 [==============================] - 1s 78us/step - loss: 3.0979 - acc: 0.3690 - val_loss: 3.2835 - val_acc: 0.3331\n",
      "Epoch 5/20\n",
      "10000/10000 [==============================] - 1s 79us/step - loss: 2.9419 - acc: 0.3879 - val_loss: 3.2092 - val_acc: 0.3401\n",
      "Epoch 6/20\n",
      "10000/10000 [==============================] - 1s 76us/step - loss: 2.8261 - acc: 0.4048 - val_loss: 3.1701 - val_acc: 0.3466\n",
      "Epoch 7/20\n",
      "10000/10000 [==============================] - 1s 78us/step - loss: 2.7218 - acc: 0.4219 - val_loss: 3.1180 - val_acc: 0.3542\n",
      "Epoch 8/20\n",
      "10000/10000 [==============================] - 1s 76us/step - loss: 2.6351 - acc: 0.4399 - val_loss: 3.0975 - val_acc: 0.3500\n",
      "Epoch 9/20\n",
      "10000/10000 [==============================] - 1s 76us/step - loss: 2.5568 - acc: 0.4561 - val_loss: 3.0738 - val_acc: 0.3608\n",
      "Epoch 10/20\n",
      "10000/10000 [==============================] - 1s 78us/step - loss: 2.4857 - acc: 0.4698 - val_loss: 3.0608 - val_acc: 0.3653\n",
      "Epoch 11/20\n",
      "10000/10000 [==============================] - 1s 78us/step - loss: 2.4218 - acc: 0.4792 - val_loss: 3.0510 - val_acc: 0.3719\n",
      "Epoch 12/20\n",
      "10000/10000 [==============================] - 1s 79us/step - loss: 2.3552 - acc: 0.4931 - val_loss: 3.0796 - val_acc: 0.3565\n",
      "Epoch 13/20\n",
      "10000/10000 [==============================] - 1s 80us/step - loss: 2.3057 - acc: 0.5077 - val_loss: 3.0443 - val_acc: 0.3730\n",
      "Epoch 14/20\n",
      "10000/10000 [==============================] - 1s 80us/step - loss: 2.2519 - acc: 0.5160 - val_loss: 3.0624 - val_acc: 0.3744\n",
      "Epoch 15/20\n",
      "10000/10000 [==============================] - 1s 77us/step - loss: 2.2045 - acc: 0.5259 - val_loss: 3.0662 - val_acc: 0.3728\n",
      "Epoch 16/20\n",
      "10000/10000 [==============================] - 1s 77us/step - loss: 2.1554 - acc: 0.5385 - val_loss: 3.0822 - val_acc: 0.3593\n",
      "Epoch 17/20\n",
      "10000/10000 [==============================] - 1s 78us/step - loss: 2.1119 - acc: 0.5499 - val_loss: 3.0638 - val_acc: 0.3822\n",
      "Epoch 18/20\n",
      "10000/10000 [==============================] - 1s 81us/step - loss: 2.0713 - acc: 0.5576 - val_loss: 3.0708 - val_acc: 0.3831\n",
      "Epoch 19/20\n",
      "10000/10000 [==============================] - 1s 79us/step - loss: 2.0310 - acc: 0.5688 - val_loss: 3.1057 - val_acc: 0.3803\n",
      "Epoch 20/20\n",
      "10000/10000 [==============================] - 1s 80us/step - loss: 1.9889 - acc: 0.5756 - val_loss: 3.1094 - val_acc: 0.3722\n"
     ]
    },
    {
     "data": {
      "image/png": "[encoded data removed]",
      "text/plain": [
       "<Figure size 432x288 with 1 Axes>"
      ]
     },
     "metadata": {},
     "output_type": "display_data"
    },
    {
     "data": {
      "image/png": "[encoded data removed]",
      "text/plain": [
       "<Figure size 432x288 with 1 Axes>"
      ]
     },
     "metadata": {},
     "output_type": "display_data"
    },
    {
     "name": "stdout",
     "output_type": "stream",
     "text": [
      "best validation accuracy:  0.3830999997138977\n"
     ]
    }
   ],
   "source": [
    "n_output_classes = y_dev_idx.shape[1]\n",
    "\n",
    "model = Sequential()\n",
    "model.add(Dense(300, activation='relu', input_shape=(1000,)))\n",
    "model.add(Dense(128, activation='relu', \n",
    "                kernel_regularizer = regularizers.l2(0.0025)))\n",
    "model.add(Dense(n_output_classes, activation = 'softmax'))\n",
    "model.compile(optimizer = 'rmsprop',\n",
    "              loss='categorical_crossentropy',\n",
    "              metrics=['accuracy'])\n",
    "\n",
    "history = model.fit (x_train_one_hot, y_train_idx,\n",
    "                    epochs = 20,\n",
    "                    batch_size = 512,\n",
    "                    verbose=1,\n",
    "                    validation_data = (x_dev_one_hot, y_dev_idx))\n",
    "\n",
    "plot_train_history(history)\n",
    "print (\"best validation accuracy: \", max(history.history['val_acc']))"
   ]
  },
  {
   "cell_type": "markdown",
   "metadata": {},
   "source": [
    "## Two layer network with dropout and regularization\n",
    "\n",
    "Takes longer to train than the network with neither. Some improvements in accuracy but it's a bit marginal."
   ]
  },
  {
   "cell_type": "code",
   "execution_count": 66,
   "metadata": {},
   "outputs": [
    {
     "name": "stdout",
     "output_type": "stream",
     "text": [
      "Train on 10000 samples, validate on 10000 samples\n",
      "Epoch 1/20\n",
      "10000/10000 [==============================] - 2s 155us/step - loss: 4.1840 - acc: 0.1693 - val_loss: 3.9021 - val_acc: 0.1981\n",
      "Epoch 2/20\n",
      "10000/10000 [==============================] - 1s 90us/step - loss: 3.7801 - acc: 0.2431 - val_loss: 3.6576 - val_acc: 0.2692\n",
      "Epoch 3/20\n",
      "10000/10000 [==============================] - 1s 82us/step - loss: 3.5358 - acc: 0.2771 - val_loss: 3.4836 - val_acc: 0.2998\n",
      "Epoch 4/20\n",
      "10000/10000 [==============================] - 1s 87us/step - loss: 3.3546 - acc: 0.3049 - val_loss: 3.3658 - val_acc: 0.3158\n",
      "Epoch 5/20\n",
      "10000/10000 [==============================] - 1s 82us/step - loss: 3.2246 - acc: 0.3277 - val_loss: 3.2810 - val_acc: 0.3259\n",
      "Epoch 6/20\n",
      "10000/10000 [==============================] - 1s 86us/step - loss: 3.1203 - acc: 0.3461 - val_loss: 3.2223 - val_acc: 0.3282\n",
      "Epoch 7/20\n",
      "10000/10000 [==============================] - 1s 84us/step - loss: 3.0263 - acc: 0.3617 - val_loss: 3.1710 - val_acc: 0.3407\n",
      "Epoch 8/20\n",
      "10000/10000 [==============================] - 1s 84us/step - loss: 2.9424 - acc: 0.3743 - val_loss: 3.1425 - val_acc: 0.3385\n",
      "Epoch 9/20\n",
      "10000/10000 [==============================] - 1s 82us/step - loss: 2.8807 - acc: 0.3882 - val_loss: 3.1039 - val_acc: 0.3467\n",
      "Epoch 10/20\n",
      "10000/10000 [==============================] - 1s 84us/step - loss: 2.8131 - acc: 0.3948 - val_loss: 3.0781 - val_acc: 0.3449\n",
      "Epoch 11/20\n",
      "10000/10000 [==============================] - 1s 83us/step - loss: 2.7623 - acc: 0.4028 - val_loss: 3.0555 - val_acc: 0.3510\n",
      "Epoch 12/20\n",
      "10000/10000 [==============================] - 1s 85us/step - loss: 2.7153 - acc: 0.4125 - val_loss: 3.0361 - val_acc: 0.3492\n",
      "Epoch 13/20\n",
      "10000/10000 [==============================] - 1s 82us/step - loss: 2.6607 - acc: 0.4186 - val_loss: 3.0186 - val_acc: 0.3545\n",
      "Epoch 14/20\n",
      "10000/10000 [==============================] - 1s 89us/step - loss: 2.6206 - acc: 0.4281 - val_loss: 3.0035 - val_acc: 0.3583\n",
      "Epoch 15/20\n",
      "10000/10000 [==============================] - 1s 84us/step - loss: 2.5775 - acc: 0.4355 - val_loss: 2.9979 - val_acc: 0.3658\n",
      "Epoch 16/20\n",
      "10000/10000 [==============================] - 1s 85us/step - loss: 2.5447 - acc: 0.4369 - val_loss: 2.9911 - val_acc: 0.3632\n",
      "Epoch 17/20\n",
      "10000/10000 [==============================] - 1s 87us/step - loss: 2.4966 - acc: 0.4494 - val_loss: 2.9793 - val_acc: 0.3782\n",
      "Epoch 18/20\n",
      "10000/10000 [==============================] - 1s 88us/step - loss: 2.4691 - acc: 0.4550 - val_loss: 2.9702 - val_acc: 0.3686\n",
      "Epoch 19/20\n",
      "10000/10000 [==============================] - 1s 90us/step - loss: 2.4284 - acc: 0.4636 - val_loss: 2.9695 - val_acc: 0.3784\n",
      "Epoch 20/20\n",
      "10000/10000 [==============================] - 1s 96us/step - loss: 2.4089 - acc: 0.4718 - val_loss: 2.9691 - val_acc: 0.3718\n"
     ]
    },
    {
     "data": {
      "image/png": "[encoded data removed]",
      "text/plain": [
       "<Figure size 432x288 with 1 Axes>"
      ]
     },
     "metadata": {},
     "output_type": "display_data"
    },
    {
     "data": {
      "image/png": "[encoded data removed]",
      "text/plain": [
       "<Figure size 432x288 with 1 Axes>"
      ]
     },
     "metadata": {},
     "output_type": "display_data"
    }
   ],
   "source": [
    "n_output_classes = y_dev_idx.shape[1]\n",
    "\n",
    "model = Sequential()\n",
    "model.add(Dense(300, activation='relu', input_shape=(1000,)))\n",
    "model.add(Dropout(0.4))\n",
    "model.add(Dense(128, activation='relu',\n",
    "                kernel_regularizer = regularizers.l2(0.002)))\n",
    "model.add(Dropout(0.4))\n",
    "model.add(Dense(n_output_classes, activation = 'softmax'))\n",
    "model.compile(optimizer = 'rmsprop',\n",
    "              loss='categorical_crossentropy',\n",
    "              metrics=['accuracy'])\n",
    "\n",
    "history = model.fit (x_train_one_hot, y_train_idx,\n",
    "                    epochs = 20,\n",
    "                    batch_size = 512,\n",
    "                    verbose=1,\n",
    "                    validation_data = (x_dev_one_hot, y_dev_idx))\n",
    "\n",
    "plot_train_history(history)"
   ]
  },
  {
   "cell_type": "code",
   "execution_count": 41,
   "metadata": {},
   "outputs": [
    {
     "name": "stdout",
     "output_type": "stream",
     "text": [
      "best validation accuracy:  0.37530000014305115\n"
     ]
    }
   ],
   "source": [
    "print (\"best validation accuracy: \", max(history.history['val_acc']))"
   ]
  },
  {
   "cell_type": "markdown",
   "metadata": {},
   "source": [
    "# Embedding Layer\n",
    "\n",
    "First of all, let's try just an embedding layer, into a classifier"
   ]
  },
  {
   "cell_type": "code",
   "execution_count": 220,
   "metadata": {},
   "outputs": [
    {
     "data": {
      "text/plain": [
       "'RT @mydear_bangtan: [VID] 181023 - Foi adicionada a letra “D” no outdoor misterioso do #BTS em Hollywood.\\nFormando: BTS AND... \\n\\n ILOVEPAR…'"
      ]
     },
     "execution_count": 220,
     "metadata": {},
     "output_type": "execute_result"
    }
   ],
   "source": [
    "x_train[0]"
   ]
  },
  {
   "cell_type": "code",
   "execution_count": 222,
   "metadata": {},
   "outputs": [],
   "source": [
    "# Tokenize the tweets into lists of words\n",
    "\n",
    "maxlen = 25\n",
    "\n",
    "def convert_to_sequences(tweet_text, tokenizer, maxlen=20):\n",
    "    tweet_sequence = np.asarray(tokenizer.texts_to_sequences(tweet_text))\n",
    "    padded = pad_sequences (tweet_sequence, maxlen=maxlen)\n",
    "    return (padded)\n",
    "\n",
    "x_train_sequences = convert_to_sequences(x_train, tokenizer, maxlen=maxlen)\n",
    "x_dev_sequences = convert_to_sequences(x_dev, tokenizer, maxlen=maxlen)\n",
    "x_test_sequences = convert_to_sequences(x_test, tokenizer, maxlen=maxlen)"
   ]
  },
  {
   "cell_type": "code",
   "execution_count": 223,
   "metadata": {},
   "outputs": [],
   "source": [
    "n_output_classes = y_dev_idx.shape[1]\n",
    "\n",
    "def simple_embedding_model(n_output_classes, n_embedding_dims = 16, max_sequence_length = 20):\n",
    "\n",
    "    model = Sequential()\n",
    "\n",
    "    # 8-dimensional embedding layer for 1,000 words\n",
    "    model.add(Embedding(1000, n_embedding_dims, input_length = max_sequence_length, name=\"embedding\")) \n",
    "\n",
    "    # flattens 3D tensor of embeddings into 2D tensor of shape (samples, maxlen * 8)\n",
    "    model.add(Flatten()) \n",
    "\n",
    "    model.add(Dense(n_output_classes, activation = 'softmax'))\n",
    "    model.compile(optimizer = 'rmsprop',\n",
    "                  loss='categorical_crossentropy',\n",
    "                  metrics=['accuracy'])\n",
    "\n",
    "    return (model)"
   ]
  },
  {
   "cell_type": "code",
   "execution_count": 225,
   "metadata": {},
   "outputs": [
    {
     "name": "stdout",
     "output_type": "stream",
     "text": [
      "Train on 100000 samples, validate on 10000 samples\n",
      "Epoch 1/20\n",
      "100000/100000 [==============================] - 3s 33us/step - loss: 3.4108 - acc: 0.2556 - val_loss: 3.2592 - val_acc: 0.2766\n",
      "Epoch 2/20\n",
      "100000/100000 [==============================] - 3s 31us/step - loss: 2.8833 - acc: 0.3504 - val_loss: 3.0170 - val_acc: 0.3169\n",
      "Epoch 3/20\n",
      "100000/100000 [==============================] - 3s 31us/step - loss: 2.6516 - acc: 0.3913 - val_loss: 2.9157 - val_acc: 0.3311\n",
      "Epoch 4/20\n",
      "100000/100000 [==============================] - 3s 30us/step - loss: 2.5175 - acc: 0.4152 - val_loss: 2.8580 - val_acc: 0.3404\n",
      "Epoch 5/20\n",
      "100000/100000 [==============================] - 3s 30us/step - loss: 2.4208 - acc: 0.4315 - val_loss: 2.8219 - val_acc: 0.3472\n",
      "Epoch 6/20\n",
      "100000/100000 [==============================] - 3s 30us/step - loss: 2.3435 - acc: 0.4457 - val_loss: 2.8020 - val_acc: 0.3521\n",
      "Epoch 7/20\n",
      "100000/100000 [==============================] - 3s 30us/step - loss: 2.2787 - acc: 0.4582 - val_loss: 2.7884 - val_acc: 0.3587\n",
      "Epoch 8/20\n",
      "100000/100000 [==============================] - 3s 30us/step - loss: 2.2223 - acc: 0.4696 - val_loss: 2.7909 - val_acc: 0.3618\n",
      "Epoch 9/20\n",
      "100000/100000 [==============================] - 3s 31us/step - loss: 2.1721 - acc: 0.4795 - val_loss: 2.7810 - val_acc: 0.3632\n",
      "Epoch 10/20\n",
      "100000/100000 [==============================] - 3s 30us/step - loss: 2.1264 - acc: 0.4880 - val_loss: 2.7842 - val_acc: 0.3640\n",
      "Epoch 00010: early stopping\n"
     ]
    },
    {
     "data": {
      "image/png": "[encoded data removed]",
      "text/plain": [
       "<Figure size 432x288 with 1 Axes>"
      ]
     },
     "metadata": {},
     "output_type": "display_data"
    },
    {
     "data": {
      "image/png": "[encoded data removed]",
      "text/plain": [
       "<Figure size 432x288 with 1 Axes>"
      ]
     },
     "metadata": {},
     "output_type": "display_data"
    }
   ],
   "source": [
    "clear_session()\n",
    "\n",
    "model = simple_embedding_model(n_output_classes, \n",
    "                               n_embedding_dims = 64, \n",
    "                               max_sequence_length = maxlen)    \n",
    "\n",
    "early = keras.callbacks.EarlyStopping(monitor='val_acc',\n",
    "                              min_delta=0.03,\n",
    "                              patience=5,\n",
    "                              verbose=1, mode='auto')\n",
    "\n",
    "checkpoint = keras.callbacks.ModelCheckpoint(filepath='emoji_embedding.h5',\n",
    "                                             monitor='val_acc',\n",
    "                                             save_best_only = True)\n",
    "\n",
    "tensorboard = keras.callbacks.TensorBoard(log_dir='tensorboard_log',\n",
    "                                          #write_grads=1,\n",
    "                                          #histogram_freq=1,\n",
    "                                          embeddings_freq=1,\n",
    "                                          embeddings_data='embedding') ## ?? How to implement this\n",
    "\n",
    "history = model.fit (x_train_sequences, y_train_idx,\n",
    "                     validation_data = (x_dev_sequences, y_dev_idx),\n",
    "                     epochs = 20,\n",
    "                     batch_size = 512,\n",
    "                     verbose=1,\n",
    "                     callbacks=[early])\n",
    "\n",
    "plot_train_history(history)"
   ]
  },
  {
   "cell_type": "code",
   "execution_count": 226,
   "metadata": {},
   "outputs": [
    {
     "name": "stdout",
     "output_type": "stream",
     "text": [
      "best validation accuracy:  0.36399999985694886\n"
     ]
    }
   ],
   "source": [
    "print (\"best validation accuracy: \", max(history.history['val_acc']))"
   ]
  },
  {
   "cell_type": "code",
   "execution_count": 231,
   "metadata": {
    "collapsed": true
   },
   "outputs": [],
   "source": [
    "def deeper_embedding_model(n_output_classes, \n",
    "                           n_embedding_dims = 16, \n",
    "                           max_sequence_length = 20, \n",
    "                           dense1_size = 16, \n",
    "                           dropout1_rate = 0.2,\n",
    "                           dense2_size = 16,\n",
    "                           dropout2_rate = 0.2,\n",
    "                           lambd = 0.0):\n",
    "\n",
    "    model = Sequential()\n",
    "\n",
    "    # 8-dimensional embedding layer for 1,000 words\n",
    "    model.add(Embedding(1000, n_embedding_dims, input_length = max_sequence_length, name=\"embedding\")) \n",
    "\n",
    "    # flattens 3D tensor of embeddings into 2D tensor of shape (samples, maxlen * 8)\n",
    "    model.add(Flatten()) \n",
    "    \n",
    "    model.add(Dense(dense1_size, activation='relu'))\n",
    "    model.add(Dropout(dropout1_rate))\n",
    "    model.add(Dense(dense2_size, activation='relu',\n",
    "                    kernel_regularizer = regularizers.l2(lambd)))\n",
    "    model.add(Dropout(dropout2_rate))\n",
    "    model.add(Dense(n_output_classes, activation = 'softmax'))\n",
    "    model.compile(optimizer = 'rmsprop',\n",
    "                  loss='categorical_crossentropy',\n",
    "                  metrics=['accuracy'])\n",
    "\n",
    "    return (model)"
   ]
  },
  {
   "cell_type": "code",
   "execution_count": 232,
   "metadata": {},
   "outputs": [
    {
     "name": "stdout",
     "output_type": "stream",
     "text": [
      "Train on 100000 samples, validate on 10000 samples\n",
      "Epoch 1/50\n",
      " 58880/100000 [================>.............] - ETA: 1s - loss: 3.9522 - acc: 0.1543"
     ]
    },
    {
     "ename": "KeyboardInterrupt",
     "evalue": "",
     "output_type": "error",
     "traceback": [
      "\u001b[0;31m---------------------------------------------------------------------------\u001b[0m",
      "\u001b[0;31mKeyboardInterrupt\u001b[0m                         Traceback (most recent call last)",
      "\u001b[0;32m<ipython-input-232-1147f31e4ae1>\u001b[0m in \u001b[0;36m<module>\u001b[0;34m()\u001b[0m\n\u001b[1;32m     16\u001b[0m                      \u001b[0mbatch_size\u001b[0m \u001b[0;34m=\u001b[0m \u001b[0;36m512\u001b[0m\u001b[0;34m,\u001b[0m\u001b[0;34m\u001b[0m\u001b[0m\n\u001b[1;32m     17\u001b[0m                      \u001b[0mverbose\u001b[0m\u001b[0;34m=\u001b[0m\u001b[0;36m1\u001b[0m\u001b[0;34m,\u001b[0m\u001b[0;34m\u001b[0m\u001b[0m\n\u001b[0;32m---> 18\u001b[0;31m                      callbacks=[early])\n\u001b[0m\u001b[1;32m     19\u001b[0m \u001b[0;34m\u001b[0m\u001b[0m\n\u001b[1;32m     20\u001b[0m \u001b[0mplot_train_history\u001b[0m\u001b[0;34m(\u001b[0m\u001b[0mhistory\u001b[0m\u001b[0;34m)\u001b[0m\u001b[0;34m\u001b[0m\u001b[0m\n",
      "\u001b[0;32m~/anaconda3/lib/python3.6/site-packages/keras/engine/training.py\u001b[0m in \u001b[0;36mfit\u001b[0;34m(self, x, y, batch_size, epochs, verbose, callbacks, validation_split, validation_data, shuffle, class_weight, sample_weight, initial_epoch, steps_per_epoch, validation_steps, **kwargs)\u001b[0m\n\u001b[1;32m   1037\u001b[0m                                         \u001b[0minitial_epoch\u001b[0m\u001b[0;34m=\u001b[0m\u001b[0minitial_epoch\u001b[0m\u001b[0;34m,\u001b[0m\u001b[0;34m\u001b[0m\u001b[0m\n\u001b[1;32m   1038\u001b[0m                                         \u001b[0msteps_per_epoch\u001b[0m\u001b[0;34m=\u001b[0m\u001b[0msteps_per_epoch\u001b[0m\u001b[0;34m,\u001b[0m\u001b[0;34m\u001b[0m\u001b[0m\n\u001b[0;32m-> 1039\u001b[0;31m                                         validation_steps=validation_steps)\n\u001b[0m\u001b[1;32m   1040\u001b[0m \u001b[0;34m\u001b[0m\u001b[0m\n\u001b[1;32m   1041\u001b[0m     def evaluate(self, x=None, y=None,\n",
      "\u001b[0;32m~/anaconda3/lib/python3.6/site-packages/keras/engine/training_arrays.py\u001b[0m in \u001b[0;36mfit_loop\u001b[0;34m(model, f, ins, out_labels, batch_size, epochs, verbose, callbacks, val_f, val_ins, shuffle, callback_metrics, initial_epoch, steps_per_epoch, validation_steps)\u001b[0m\n\u001b[1;32m    197\u001b[0m                     \u001b[0mins_batch\u001b[0m\u001b[0;34m[\u001b[0m\u001b[0mi\u001b[0m\u001b[0;34m]\u001b[0m \u001b[0;34m=\u001b[0m \u001b[0mins_batch\u001b[0m\u001b[0;34m[\u001b[0m\u001b[0mi\u001b[0m\u001b[0;34m]\u001b[0m\u001b[0;34m.\u001b[0m\u001b[0mtoarray\u001b[0m\u001b[0;34m(\u001b[0m\u001b[0;34m)\u001b[0m\u001b[0;34m\u001b[0m\u001b[0m\n\u001b[1;32m    198\u001b[0m \u001b[0;34m\u001b[0m\u001b[0m\n\u001b[0;32m--> 199\u001b[0;31m                 \u001b[0mouts\u001b[0m \u001b[0;34m=\u001b[0m \u001b[0mf\u001b[0m\u001b[0;34m(\u001b[0m\u001b[0mins_batch\u001b[0m\u001b[0;34m)\u001b[0m\u001b[0;34m\u001b[0m\u001b[0m\n\u001b[0m\u001b[1;32m    200\u001b[0m                 \u001b[0mouts\u001b[0m \u001b[0;34m=\u001b[0m \u001b[0mto_list\u001b[0m\u001b[0;34m(\u001b[0m\u001b[0mouts\u001b[0m\u001b[0;34m)\u001b[0m\u001b[0;34m\u001b[0m\u001b[0m\n\u001b[1;32m    201\u001b[0m                 \u001b[0;32mfor\u001b[0m \u001b[0ml\u001b[0m\u001b[0;34m,\u001b[0m \u001b[0mo\u001b[0m \u001b[0;32min\u001b[0m \u001b[0mzip\u001b[0m\u001b[0;34m(\u001b[0m\u001b[0mout_labels\u001b[0m\u001b[0;34m,\u001b[0m \u001b[0mouts\u001b[0m\u001b[0;34m)\u001b[0m\u001b[0;34m:\u001b[0m\u001b[0;34m\u001b[0m\u001b[0m\n",
      "\u001b[0;32m~/anaconda3/lib/python3.6/site-packages/keras/backend/tensorflow_backend.py\u001b[0m in \u001b[0;36m__call__\u001b[0;34m(self, inputs)\u001b[0m\n\u001b[1;32m   2713\u001b[0m                 \u001b[0;32mreturn\u001b[0m \u001b[0mself\u001b[0m\u001b[0;34m.\u001b[0m\u001b[0m_legacy_call\u001b[0m\u001b[0;34m(\u001b[0m\u001b[0minputs\u001b[0m\u001b[0;34m)\u001b[0m\u001b[0;34m\u001b[0m\u001b[0m\n\u001b[1;32m   2714\u001b[0m \u001b[0;34m\u001b[0m\u001b[0m\n\u001b[0;32m-> 2715\u001b[0;31m             \u001b[0;32mreturn\u001b[0m \u001b[0mself\u001b[0m\u001b[0;34m.\u001b[0m\u001b[0m_call\u001b[0m\u001b[0;34m(\u001b[0m\u001b[0minputs\u001b[0m\u001b[0;34m)\u001b[0m\u001b[0;34m\u001b[0m\u001b[0m\n\u001b[0m\u001b[1;32m   2716\u001b[0m         \u001b[0;32melse\u001b[0m\u001b[0;34m:\u001b[0m\u001b[0;34m\u001b[0m\u001b[0m\n\u001b[1;32m   2717\u001b[0m             \u001b[0;32mif\u001b[0m \u001b[0mpy_any\u001b[0m\u001b[0;34m(\u001b[0m\u001b[0mis_tensor\u001b[0m\u001b[0;34m(\u001b[0m\u001b[0mx\u001b[0m\u001b[0;34m)\u001b[0m \u001b[0;32mfor\u001b[0m \u001b[0mx\u001b[0m \u001b[0;32min\u001b[0m \u001b[0minputs\u001b[0m\u001b[0;34m)\u001b[0m\u001b[0;34m:\u001b[0m\u001b[0;34m\u001b[0m\u001b[0m\n",
      "\u001b[0;32m~/anaconda3/lib/python3.6/site-packages/keras/backend/tensorflow_backend.py\u001b[0m in \u001b[0;36m_call\u001b[0;34m(self, inputs)\u001b[0m\n\u001b[1;32m   2673\u001b[0m             \u001b[0mfetched\u001b[0m \u001b[0;34m=\u001b[0m \u001b[0mself\u001b[0m\u001b[0;34m.\u001b[0m\u001b[0m_callable_fn\u001b[0m\u001b[0;34m(\u001b[0m\u001b[0;34m*\u001b[0m\u001b[0marray_vals\u001b[0m\u001b[0;34m,\u001b[0m \u001b[0mrun_metadata\u001b[0m\u001b[0;34m=\u001b[0m\u001b[0mself\u001b[0m\u001b[0;34m.\u001b[0m\u001b[0mrun_metadata\u001b[0m\u001b[0;34m)\u001b[0m\u001b[0;34m\u001b[0m\u001b[0m\n\u001b[1;32m   2674\u001b[0m         \u001b[0;32melse\u001b[0m\u001b[0;34m:\u001b[0m\u001b[0;34m\u001b[0m\u001b[0m\n\u001b[0;32m-> 2675\u001b[0;31m             \u001b[0mfetched\u001b[0m \u001b[0;34m=\u001b[0m \u001b[0mself\u001b[0m\u001b[0;34m.\u001b[0m\u001b[0m_callable_fn\u001b[0m\u001b[0;34m(\u001b[0m\u001b[0;34m*\u001b[0m\u001b[0marray_vals\u001b[0m\u001b[0;34m)\u001b[0m\u001b[0;34m\u001b[0m\u001b[0m\n\u001b[0m\u001b[1;32m   2676\u001b[0m         \u001b[0;32mreturn\u001b[0m \u001b[0mfetched\u001b[0m\u001b[0;34m[\u001b[0m\u001b[0;34m:\u001b[0m\u001b[0mlen\u001b[0m\u001b[0;34m(\u001b[0m\u001b[0mself\u001b[0m\u001b[0;34m.\u001b[0m\u001b[0moutputs\u001b[0m\u001b[0;34m)\u001b[0m\u001b[0;34m]\u001b[0m\u001b[0;34m\u001b[0m\u001b[0m\n\u001b[1;32m   2677\u001b[0m \u001b[0;34m\u001b[0m\u001b[0m\n",
      "\u001b[0;32m~/anaconda3/lib/python3.6/site-packages/tensorflow/python/client/session.py\u001b[0m in \u001b[0;36m__call__\u001b[0;34m(self, *args, **kwargs)\u001b[0m\n\u001b[1;32m   1397\u001b[0m           ret = tf_session.TF_SessionRunCallable(\n\u001b[1;32m   1398\u001b[0m               \u001b[0mself\u001b[0m\u001b[0;34m.\u001b[0m\u001b[0m_session\u001b[0m\u001b[0;34m.\u001b[0m\u001b[0m_session\u001b[0m\u001b[0;34m,\u001b[0m \u001b[0mself\u001b[0m\u001b[0;34m.\u001b[0m\u001b[0m_handle\u001b[0m\u001b[0;34m,\u001b[0m \u001b[0margs\u001b[0m\u001b[0;34m,\u001b[0m \u001b[0mstatus\u001b[0m\u001b[0;34m,\u001b[0m\u001b[0;34m\u001b[0m\u001b[0m\n\u001b[0;32m-> 1399\u001b[0;31m               run_metadata_ptr)\n\u001b[0m\u001b[1;32m   1400\u001b[0m         \u001b[0;32mif\u001b[0m \u001b[0mrun_metadata\u001b[0m\u001b[0;34m:\u001b[0m\u001b[0;34m\u001b[0m\u001b[0m\n\u001b[1;32m   1401\u001b[0m           \u001b[0mproto_data\u001b[0m \u001b[0;34m=\u001b[0m \u001b[0mtf_session\u001b[0m\u001b[0;34m.\u001b[0m\u001b[0mTF_GetBuffer\u001b[0m\u001b[0;34m(\u001b[0m\u001b[0mrun_metadata_ptr\u001b[0m\u001b[0;34m)\u001b[0m\u001b[0;34m\u001b[0m\u001b[0m\n",
      "\u001b[0;31mKeyboardInterrupt\u001b[0m: "
     ]
    }
   ],
   "source": [
    "clear_session()\n",
    "\n",
    "model = deeper_embedding_model(n_output_classes, \n",
    "                               n_embedding_dims = 28, \n",
    "                               max_sequence_length = maxlen,\n",
    "                               lambd = 0.0006)    \n",
    "\n",
    "early = keras.callbacks.EarlyStopping(monitor='val_acc',\n",
    "                              min_delta=0.03,\n",
    "                              patience=15,\n",
    "                              verbose=1, mode='auto')\n",
    "\n",
    "history = model.fit (x_train_sequences, y_train_idx,\n",
    "                     validation_data = (x_dev_sequences, y_dev_idx),\n",
    "                     epochs = 50,\n",
    "                     batch_size = 512,\n",
    "                     verbose=1,\n",
    "                     callbacks=[early])\n",
    "\n",
    "plot_train_history(history)\n",
    "print (\"best validation accuracy: \", max(history.history['val_acc']))"
   ]
  },
  {
   "cell_type": "markdown",
   "metadata": {},
   "source": [
    "Conclusions:\n",
    "The embedding->shallow NN model struggles to get above 31% accuracy. Actually best results obtained when number of embedding dimensions is small: ~3-4. "
   ]
  },
  {
   "cell_type": "markdown",
   "metadata": {},
   "source": [
    "## Tuning parameters for a much bigger (100,000) tweet training dataset"
   ]
  },
  {
   "cell_type": "code",
   "execution_count": 236,
   "metadata": {},
   "outputs": [
    {
     "name": "stdout",
     "output_type": "stream",
     "text": [
      "Train on 100000 samples, validate on 10000 samples\n",
      "Epoch 1/50\n",
      "100000/100000 [==============================] - 3s 33us/step - loss: 3.7852 - acc: 0.1787 - val_loss: 3.5356 - val_acc: 0.2210\n",
      "Epoch 2/50\n",
      "100000/100000 [==============================] - 3s 28us/step - loss: 3.3841 - acc: 0.2538 - val_loss: 3.3355 - val_acc: 0.2620\n",
      "Epoch 3/50\n",
      "100000/100000 [==============================] - 3s 30us/step - loss: 3.2157 - acc: 0.2828 - val_loss: 3.2408 - val_acc: 0.2713\n",
      "Epoch 4/50\n",
      "100000/100000 [==============================] - 3s 29us/step - loss: 3.1123 - acc: 0.2975 - val_loss: 3.1824 - val_acc: 0.2751\n",
      "Epoch 5/50\n",
      "100000/100000 [==============================] - 3s 28us/step - loss: 3.0397 - acc: 0.3080 - val_loss: 3.1535 - val_acc: 0.2776\n",
      "Epoch 6/50\n",
      "100000/100000 [==============================] - 3s 29us/step - loss: 2.9806 - acc: 0.3168 - val_loss: 3.1140 - val_acc: 0.2897\n",
      "Epoch 7/50\n",
      "100000/100000 [==============================] - 3s 30us/step - loss: 2.9331 - acc: 0.3271 - val_loss: 3.0812 - val_acc: 0.2971\n",
      "Epoch 8/50\n",
      "100000/100000 [==============================] - 3s 28us/step - loss: 2.8888 - acc: 0.3339 - val_loss: 3.0776 - val_acc: 0.2988\n",
      "Epoch 9/50\n",
      "100000/100000 [==============================] - 3s 29us/step - loss: 2.8541 - acc: 0.3392 - val_loss: 3.0549 - val_acc: 0.3039\n",
      "Epoch 10/50\n",
      "100000/100000 [==============================] - 3s 29us/step - loss: 2.8205 - acc: 0.3456 - val_loss: 3.0376 - val_acc: 0.3057\n",
      "Epoch 11/50\n",
      "100000/100000 [==============================] - 3s 29us/step - loss: 2.7945 - acc: 0.3504 - val_loss: 3.0334 - val_acc: 0.3087\n",
      "Epoch 12/50\n",
      "100000/100000 [==============================] - 3s 29us/step - loss: 2.7734 - acc: 0.3529 - val_loss: 3.0270 - val_acc: 0.3096\n",
      "Epoch 13/50\n",
      "100000/100000 [==============================] - 3s 30us/step - loss: 2.7512 - acc: 0.3574 - val_loss: 3.0280 - val_acc: 0.3093\n",
      "Epoch 14/50\n",
      "100000/100000 [==============================] - 3s 29us/step - loss: 2.7303 - acc: 0.3602 - val_loss: 3.0296 - val_acc: 0.3115\n",
      "Epoch 15/50\n",
      "100000/100000 [==============================] - 3s 29us/step - loss: 2.7127 - acc: 0.3641 - val_loss: 3.0304 - val_acc: 0.3133\n",
      "Epoch 16/50\n",
      "100000/100000 [==============================] - 3s 29us/step - loss: 2.6963 - acc: 0.3673 - val_loss: 3.0313 - val_acc: 0.3144\n",
      "Epoch 17/50\n",
      "100000/100000 [==============================] - 3s 31us/step - loss: 2.6815 - acc: 0.3703 - val_loss: 3.0311 - val_acc: 0.3180\n",
      "Epoch 18/50\n",
      "100000/100000 [==============================] - 3s 29us/step - loss: 2.6685 - acc: 0.3720 - val_loss: 3.0314 - val_acc: 0.3199\n",
      "Epoch 19/50\n",
      "100000/100000 [==============================] - 3s 29us/step - loss: 2.6590 - acc: 0.3728 - val_loss: 3.0335 - val_acc: 0.3192\n",
      "Epoch 20/50\n",
      "100000/100000 [==============================] - 3s 29us/step - loss: 2.6466 - acc: 0.3785 - val_loss: 3.0269 - val_acc: 0.3203\n",
      "Epoch 21/50\n",
      "100000/100000 [==============================] - 3s 30us/step - loss: 2.6345 - acc: 0.3785 - val_loss: 3.0456 - val_acc: 0.3191\n",
      "Epoch 22/50\n",
      "100000/100000 [==============================] - 3s 30us/step - loss: 2.6247 - acc: 0.3805 - val_loss: 3.0450 - val_acc: 0.3184\n",
      "Epoch 23/50\n",
      "100000/100000 [==============================] - 3s 29us/step - loss: 2.6151 - acc: 0.3811 - val_loss: 3.0437 - val_acc: 0.3229\n",
      "Epoch 24/50\n",
      "100000/100000 [==============================] - 3s 29us/step - loss: 2.6057 - acc: 0.3852 - val_loss: 3.0453 - val_acc: 0.3204\n",
      "Epoch 25/50\n",
      "100000/100000 [==============================] - 3s 29us/step - loss: 2.5979 - acc: 0.3869 - val_loss: 3.0606 - val_acc: 0.3226\n",
      "Epoch 26/50\n",
      "100000/100000 [==============================] - 3s 30us/step - loss: 2.5926 - acc: 0.3882 - val_loss: 3.0584 - val_acc: 0.3265\n",
      "Epoch 27/50\n",
      "100000/100000 [==============================] - 3s 31us/step - loss: 2.5786 - acc: 0.3900 - val_loss: 3.0583 - val_acc: 0.3275\n",
      "Epoch 28/50\n",
      "100000/100000 [==============================] - 3s 30us/step - loss: 2.5743 - acc: 0.3911 - val_loss: 3.0617 - val_acc: 0.3266\n",
      "Epoch 29/50\n",
      "100000/100000 [==============================] - 3s 31us/step - loss: 2.5636 - acc: 0.3947 - val_loss: 3.0766 - val_acc: 0.3269\n",
      "Epoch 30/50\n",
      "100000/100000 [==============================] - 3s 31us/step - loss: 2.5622 - acc: 0.3933 - val_loss: 3.0700 - val_acc: 0.3284\n",
      "Epoch 31/50\n",
      "100000/100000 [==============================] - 3s 31us/step - loss: 2.5561 - acc: 0.3949 - val_loss: 3.0731 - val_acc: 0.3288\n",
      "Epoch 32/50\n",
      "100000/100000 [==============================] - 3s 30us/step - loss: 2.5483 - acc: 0.3958 - val_loss: 3.0763 - val_acc: 0.3304\n",
      "Epoch 33/50\n",
      "100000/100000 [==============================] - 3s 30us/step - loss: 2.5444 - acc: 0.3968 - val_loss: 3.0860 - val_acc: 0.3290\n",
      "Epoch 34/50\n",
      "100000/100000 [==============================] - 3s 29us/step - loss: 2.5365 - acc: 0.3977 - val_loss: 3.0854 - val_acc: 0.3301\n",
      "Epoch 35/50\n",
      "100000/100000 [==============================] - 3s 30us/step - loss: 2.5297 - acc: 0.3983 - val_loss: 3.0948 - val_acc: 0.3294\n",
      "Epoch 36/50\n",
      "100000/100000 [==============================] - 3s 31us/step - loss: 2.5255 - acc: 0.3999 - val_loss: 3.0913 - val_acc: 0.3277\n",
      "Epoch 37/50\n",
      "100000/100000 [==============================] - 3s 31us/step - loss: 2.5200 - acc: 0.4009 - val_loss: 3.1077 - val_acc: 0.3288\n",
      "Epoch 38/50\n",
      "100000/100000 [==============================] - 3s 30us/step - loss: 2.5185 - acc: 0.4012 - val_loss: 3.1157 - val_acc: 0.3288\n",
      "Epoch 39/50\n",
      "100000/100000 [==============================] - 3s 32us/step - loss: 2.5096 - acc: 0.4044 - val_loss: 3.1219 - val_acc: 0.3294\n",
      "Epoch 40/50\n",
      "100000/100000 [==============================] - 3s 31us/step - loss: 2.5069 - acc: 0.4047 - val_loss: 3.1192 - val_acc: 0.3307\n",
      "Epoch 41/50\n",
      "100000/100000 [==============================] - 3s 29us/step - loss: 2.5036 - acc: 0.4044 - val_loss: 3.1105 - val_acc: 0.3281\n",
      "Epoch 42/50\n",
      "100000/100000 [==============================] - 3s 30us/step - loss: 2.5008 - acc: 0.4051 - val_loss: 3.1379 - val_acc: 0.3279\n",
      "Epoch 43/50\n",
      "100000/100000 [==============================] - 3s 29us/step - loss: 2.4949 - acc: 0.4050 - val_loss: 3.1369 - val_acc: 0.3288\n",
      "Epoch 44/50\n",
      "100000/100000 [==============================] - 3s 29us/step - loss: 2.4920 - acc: 0.4052 - val_loss: 3.1292 - val_acc: 0.3324\n",
      "Epoch 45/50\n",
      "100000/100000 [==============================] - 3s 30us/step - loss: 2.4864 - acc: 0.4067 - val_loss: 3.1388 - val_acc: 0.3305\n",
      "Epoch 46/50\n",
      "100000/100000 [==============================] - 3s 30us/step - loss: 2.4840 - acc: 0.4074 - val_loss: 3.1532 - val_acc: 0.3326\n",
      "Epoch 47/50\n",
      "100000/100000 [==============================] - 3s 29us/step - loss: 2.4802 - acc: 0.4078 - val_loss: 3.1409 - val_acc: 0.3315\n",
      "Epoch 48/50\n",
      "100000/100000 [==============================] - 3s 29us/step - loss: 2.4788 - acc: 0.4085 - val_loss: 3.1286 - val_acc: 0.3301\n",
      "Epoch 49/50\n",
      "100000/100000 [==============================] - 3s 30us/step - loss: 2.4753 - acc: 0.4092 - val_loss: 3.1754 - val_acc: 0.3295\n",
      "Epoch 50/50\n",
      "100000/100000 [==============================] - 3s 30us/step - loss: 2.4710 - acc: 0.4100 - val_loss: 3.1639 - val_acc: 0.3318\n"
     ]
    },
    {
     "data": {
      "image/png": "[encoded data removed]",
      "text/plain": [
       "<Figure size 432x288 with 1 Axes>"
      ]
     },
     "metadata": {},
     "output_type": "display_data"
    },
    {
     "data": {
      "image/png": "[encoded data removed]",
      "text/plain": [
       "<Figure size 432x288 with 1 Axes>"
      ]
     },
     "metadata": {},
     "output_type": "display_data"
    },
    {
     "name": "stdout",
     "output_type": "stream",
     "text": [
      "best validation accuracy:  0.3325999997138977\n"
     ]
    }
   ],
   "source": [
    "clear_session()\n",
    "\n",
    "model = deeper_embedding_model(n_output_classes, \n",
    "                               n_embedding_dims = 28,          # 28\n",
    "                               max_sequence_length = maxlen,\n",
    "                               dense1_size = 24,               # 24\n",
    "                               dropout1_rate = 0.25,           # 0.2\n",
    "                               dense2_size = 24,               # 24\n",
    "                               dropout2_rate = 0.25,           # 0.2\n",
    "                               lambd = 0.00085)                # 0.0008\n",
    "\n",
    "                           \n",
    "early = keras.callbacks.EarlyStopping(monitor='val_acc',\n",
    "                              min_delta=0.03,\n",
    "                              patience=30,\n",
    "                              verbose=1, mode='auto')\n",
    "\n",
    "history = model.fit (x_train_sequences, y_train_idx,\n",
    "                     validation_data = (x_dev_sequences, y_dev_idx),\n",
    "                     epochs = 50,\n",
    "                     batch_size = 512,\n",
    "                     verbose=1,\n",
    "                     callbacks=[early])\n",
    "\n",
    "plot_train_history(history)\n",
    "print (\"best validation accuracy: \", max(history.history['val_acc']))"
   ]
  },
  {
   "cell_type": "code",
   "execution_count": null,
   "metadata": {
    "collapsed": true
   },
   "outputs": [],
   "source": []
  }
 ],
 "metadata": {
  "kernelspec": {
   "display_name": "Python 3",
   "language": "python",
   "name": "python3"
  },
  "language_info": {
   "codemirror_mode": {
    "name": "ipython",
    "version": 3
   },
   "file_extension": ".py",
   "mimetype": "text/x-python",
   "name": "python",
   "nbconvert_exporter": "python",
   "pygments_lexer": "ipython3",
   "version": "3.6.3"
  }
 },
 "nbformat": 4,
 "nbformat_minor": 2
}
